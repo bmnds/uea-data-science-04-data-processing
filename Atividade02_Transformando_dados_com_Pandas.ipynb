{
  "nbformat": 4,
  "nbformat_minor": 0,
  "metadata": {
    "colab": {
      "name": "Atividade02-Transformando_dados_com_Pandas.ipynb",
      "provenance": [],
      "collapsed_sections": [
        "Yq5-Zy464zjt",
        "TE7L3NCQ5RVN"
      ],
      "toc_visible": true,
      "include_colab_link": true
    },
    "kernelspec": {
      "name": "python3",
      "display_name": "Python 3"
    }
  },
  "cells": [
    {
      "cell_type": "markdown",
      "metadata": {
        "id": "view-in-github",
        "colab_type": "text"
      },
      "source": [
        "<a href=\"https://colab.research.google.com/github/bmnds/uea-data-science-04-data-processing/blob/main/Atividade02_Transformando_dados_com_Pandas.ipynb\" target=\"_parent\"><img src=\"https://colab.research.google.com/assets/colab-badge.svg\" alt=\"Open In Colab\"/></a>"
      ]
    },
    {
      "cell_type": "code",
      "metadata": {
        "colab": {
          "base_uri": "https://localhost:8080/"
        },
        "id": "kPrtEkq6L93x",
        "outputId": "a13431fa-6a30-4dbf-d8c2-7808d83e3c62"
      },
      "source": [
        "import pandas as pd\n",
        "import numpy as np\n",
        "\n",
        "from google.colab import drive\n",
        "drive.mount('/content/drive')"
      ],
      "execution_count": null,
      "outputs": [
        {
          "output_type": "stream",
          "text": [
            "Drive already mounted at /content/drive; to attempt to forcibly remount, call drive.mount(\"/content/drive\", force_remount=True).\n"
          ],
          "name": "stdout"
        }
      ]
    },
    {
      "cell_type": "markdown",
      "metadata": {
        "id": "Yq5-Zy464zjt"
      },
      "source": [
        "# JUNÇÃO E CLASSIFICAÇÃO\n",
        "*   Ler os dados de diferentes tabelas;\n",
        "*   Extrair variável de interesse;\n",
        "*   Aplicar transformações.\n",
        "\n"
      ]
    },
    {
      "cell_type": "code",
      "metadata": {
        "colab": {
          "base_uri": "https://localhost:8080/",
          "height": 234
        },
        "id": "mw2mCwPGNnat",
        "outputId": "8400dde0-aca3-4c68-e858-61ba19f3f06a"
      },
      "source": [
        "dt_pop = pd.read_csv('/content/drive/MyDrive/UEA_POS_CD/modulo4/trabalho1/brazil_population_2019.csv',error_bad_lines=False)\n",
        "dt_pop.head() "
      ],
      "execution_count": null,
      "outputs": [
        {
          "output_type": "stream",
          "text": [
            "b'Skipping line 1282: expected 8 fields, saw 9\\nSkipping line 1283: expected 8 fields, saw 9\\nSkipping line 1293: expected 8 fields, saw 9\\nSkipping line 1294: expected 8 fields, saw 9\\nSkipping line 1300: expected 8 fields, saw 9\\nSkipping line 1308: expected 8 fields, saw 9\\nSkipping line 1309: expected 8 fields, saw 9\\nSkipping line 1314: expected 8 fields, saw 9\\nSkipping line 1319: expected 8 fields, saw 9\\nSkipping line 1320: expected 8 fields, saw 9\\nSkipping line 1321: expected 8 fields, saw 9\\nSkipping line 1323: expected 8 fields, saw 9\\n'\n"
          ],
          "name": "stderr"
        },
        {
          "output_type": "execute_result",
          "data": {
            "text/html": [
              "<div>\n",
              "<style scoped>\n",
              "    .dataframe tbody tr th:only-of-type {\n",
              "        vertical-align: middle;\n",
              "    }\n",
              "\n",
              "    .dataframe tbody tr th {\n",
              "        vertical-align: top;\n",
              "    }\n",
              "\n",
              "    .dataframe thead th {\n",
              "        text-align: right;\n",
              "    }\n",
              "</style>\n",
              "<table border=\"1\" class=\"dataframe\">\n",
              "  <thead>\n",
              "    <tr style=\"text-align: right;\">\n",
              "      <th></th>\n",
              "      <th>region</th>\n",
              "      <th>state</th>\n",
              "      <th>city</th>\n",
              "      <th>state_code</th>\n",
              "      <th>city_code</th>\n",
              "      <th>health_region_code</th>\n",
              "      <th>health_region</th>\n",
              "      <th>population</th>\n",
              "    </tr>\n",
              "  </thead>\n",
              "  <tbody>\n",
              "    <tr>\n",
              "      <th>0</th>\n",
              "      <td>Centro-Oeste</td>\n",
              "      <td>Mato Grosso do Sul</td>\n",
              "      <td>Alcinópolis</td>\n",
              "      <td>50</td>\n",
              "      <td>500025</td>\n",
              "      <td>50001</td>\n",
              "      <td>Campo Grande</td>\n",
              "      <td>5343</td>\n",
              "    </tr>\n",
              "    <tr>\n",
              "      <th>1</th>\n",
              "      <td>Centro-Oeste</td>\n",
              "      <td>Mato Grosso do Sul</td>\n",
              "      <td>Amambai</td>\n",
              "      <td>50</td>\n",
              "      <td>500060</td>\n",
              "      <td>50003</td>\n",
              "      <td>Dourados</td>\n",
              "      <td>39396</td>\n",
              "    </tr>\n",
              "    <tr>\n",
              "      <th>2</th>\n",
              "      <td>Centro-Oeste</td>\n",
              "      <td>Mato Grosso do Sul</td>\n",
              "      <td>Bataguassu</td>\n",
              "      <td>50</td>\n",
              "      <td>500190</td>\n",
              "      <td>50004</td>\n",
              "      <td>Três Lagoas</td>\n",
              "      <td>23024</td>\n",
              "    </tr>\n",
              "    <tr>\n",
              "      <th>3</th>\n",
              "      <td>Centro-Oeste</td>\n",
              "      <td>Mato Grosso do Sul</td>\n",
              "      <td>Batayporã</td>\n",
              "      <td>50</td>\n",
              "      <td>500200</td>\n",
              "      <td>50003</td>\n",
              "      <td>Dourados</td>\n",
              "      <td>11329</td>\n",
              "    </tr>\n",
              "    <tr>\n",
              "      <th>4</th>\n",
              "      <td>Centro-Oeste</td>\n",
              "      <td>Mato Grosso do Sul</td>\n",
              "      <td>Bela Vista</td>\n",
              "      <td>50</td>\n",
              "      <td>500210</td>\n",
              "      <td>50001</td>\n",
              "      <td>Campo Grande</td>\n",
              "      <td>24629</td>\n",
              "    </tr>\n",
              "  </tbody>\n",
              "</table>\n",
              "</div>"
            ],
            "text/plain": [
              "         region               state  ... health_region  population\n",
              "0  Centro-Oeste  Mato Grosso do Sul  ...  Campo Grande        5343\n",
              "1  Centro-Oeste  Mato Grosso do Sul  ...      Dourados       39396\n",
              "2  Centro-Oeste  Mato Grosso do Sul  ...   Três Lagoas       23024\n",
              "3  Centro-Oeste  Mato Grosso do Sul  ...      Dourados       11329\n",
              "4  Centro-Oeste  Mato Grosso do Sul  ...  Campo Grande       24629\n",
              "\n",
              "[5 rows x 8 columns]"
            ]
          },
          "metadata": {
            "tags": []
          },
          "execution_count": 9
        }
      ]
    },
    {
      "cell_type": "code",
      "metadata": {
        "colab": {
          "base_uri": "https://localhost:8080/"
        },
        "id": "w4jH6lOoO5VY",
        "outputId": "685c54d6-aef9-479d-f6ba-ca71b324dd90"
      },
      "source": [
        "regions = np.unique(dt_pop['region'])\n",
        "regions"
      ],
      "execution_count": null,
      "outputs": [
        {
          "output_type": "execute_result",
          "data": {
            "text/plain": [
              "array(['Centro-Oeste', 'Nordeste', 'Norte', 'Sudeste', 'Sul'],\n",
              "      dtype=object)"
            ]
          },
          "metadata": {
            "tags": []
          },
          "execution_count": 10
        }
      ]
    },
    {
      "cell_type": "code",
      "metadata": {
        "colab": {
          "base_uri": "https://localhost:8080/",
          "height": 197
        },
        "id": "kuwpvryyRWuD",
        "outputId": "d39af39d-c09e-4afe-8351-34aaebc616b6"
      },
      "source": [
        "all_regions_pop = [ dt_pop['population'].loc[dt_pop[\"region\"]== region].sum() for region in regions ]\n",
        "all_regions_pop\n",
        "\n",
        "regions_pop = [('Centro-Oeste',all_regions_pop[0]),('Nordeste',all_regions_pop[1]),\\\n",
        "                      ('Norte',all_regions_pop[2]),('Sudeste',all_regions_pop[3]),\\\n",
        "                      ('Sul',all_regions_pop[4])]\n",
        "\n",
        "regions_population = pd.DataFrame.from_dict(dict(regions_pop),orient='index',columns=['population'])\n",
        "regions_population"
      ],
      "execution_count": null,
      "outputs": [
        {
          "output_type": "execute_result",
          "data": {
            "text/html": [
              "<div>\n",
              "<style scoped>\n",
              "    .dataframe tbody tr th:only-of-type {\n",
              "        vertical-align: middle;\n",
              "    }\n",
              "\n",
              "    .dataframe tbody tr th {\n",
              "        vertical-align: top;\n",
              "    }\n",
              "\n",
              "    .dataframe thead th {\n",
              "        text-align: right;\n",
              "    }\n",
              "</style>\n",
              "<table border=\"1\" class=\"dataframe\">\n",
              "  <thead>\n",
              "    <tr style=\"text-align: right;\">\n",
              "      <th></th>\n",
              "      <th>population</th>\n",
              "    </tr>\n",
              "  </thead>\n",
              "  <tbody>\n",
              "    <tr>\n",
              "      <th>Centro-Oeste</th>\n",
              "      <td>13085364</td>\n",
              "    </tr>\n",
              "    <tr>\n",
              "      <th>Nordeste</th>\n",
              "      <td>48946190</td>\n",
              "    </tr>\n",
              "    <tr>\n",
              "      <th>Norte</th>\n",
              "      <td>14752784</td>\n",
              "    </tr>\n",
              "    <tr>\n",
              "      <th>Sudeste</th>\n",
              "      <td>80421777</td>\n",
              "    </tr>\n",
              "    <tr>\n",
              "      <th>Sul</th>\n",
              "      <td>24522343</td>\n",
              "    </tr>\n",
              "  </tbody>\n",
              "</table>\n",
              "</div>"
            ],
            "text/plain": [
              "              population\n",
              "Centro-Oeste    13085364\n",
              "Nordeste        48946190\n",
              "Norte           14752784\n",
              "Sudeste         80421777\n",
              "Sul             24522343"
            ]
          },
          "metadata": {
            "tags": []
          },
          "execution_count": 11
        }
      ]
    },
    {
      "cell_type": "code",
      "metadata": {
        "colab": {
          "base_uri": "https://localhost:8080/",
          "height": 197
        },
        "id": "OAoltXdp8mko",
        "outputId": "575e7c9f-1232-412d-a088-981591d3cf89"
      },
      "source": [
        "dt_cases = pd.read_csv('/content/drive/MyDrive/UEA_POS_CD/modulo4/trabalho1/brazil_covid19.csv',error_bad_lines=False)\n",
        "dt_cases.head() "
      ],
      "execution_count": null,
      "outputs": [
        {
          "output_type": "execute_result",
          "data": {
            "text/html": [
              "<div>\n",
              "<style scoped>\n",
              "    .dataframe tbody tr th:only-of-type {\n",
              "        vertical-align: middle;\n",
              "    }\n",
              "\n",
              "    .dataframe tbody tr th {\n",
              "        vertical-align: top;\n",
              "    }\n",
              "\n",
              "    .dataframe thead th {\n",
              "        text-align: right;\n",
              "    }\n",
              "</style>\n",
              "<table border=\"1\" class=\"dataframe\">\n",
              "  <thead>\n",
              "    <tr style=\"text-align: right;\">\n",
              "      <th></th>\n",
              "      <th>date</th>\n",
              "      <th>region</th>\n",
              "      <th>state</th>\n",
              "      <th>cases</th>\n",
              "      <th>deaths</th>\n",
              "    </tr>\n",
              "  </thead>\n",
              "  <tbody>\n",
              "    <tr>\n",
              "      <th>0</th>\n",
              "      <td>2020-02-25</td>\n",
              "      <td>Centro-Oeste</td>\n",
              "      <td>DF</td>\n",
              "      <td>0</td>\n",
              "      <td>0</td>\n",
              "    </tr>\n",
              "    <tr>\n",
              "      <th>1</th>\n",
              "      <td>2020-02-25</td>\n",
              "      <td>Centro-Oeste</td>\n",
              "      <td>GO</td>\n",
              "      <td>0</td>\n",
              "      <td>0</td>\n",
              "    </tr>\n",
              "    <tr>\n",
              "      <th>2</th>\n",
              "      <td>2020-02-25</td>\n",
              "      <td>Centro-Oeste</td>\n",
              "      <td>MS</td>\n",
              "      <td>0</td>\n",
              "      <td>0</td>\n",
              "    </tr>\n",
              "    <tr>\n",
              "      <th>3</th>\n",
              "      <td>2020-02-25</td>\n",
              "      <td>Centro-Oeste</td>\n",
              "      <td>MT</td>\n",
              "      <td>0</td>\n",
              "      <td>0</td>\n",
              "    </tr>\n",
              "    <tr>\n",
              "      <th>4</th>\n",
              "      <td>2020-02-25</td>\n",
              "      <td>Nordeste</td>\n",
              "      <td>AL</td>\n",
              "      <td>0</td>\n",
              "      <td>0</td>\n",
              "    </tr>\n",
              "  </tbody>\n",
              "</table>\n",
              "</div>"
            ],
            "text/plain": [
              "         date        region state  cases  deaths\n",
              "0  2020-02-25  Centro-Oeste    DF      0       0\n",
              "1  2020-02-25  Centro-Oeste    GO      0       0\n",
              "2  2020-02-25  Centro-Oeste    MS      0       0\n",
              "3  2020-02-25  Centro-Oeste    MT      0       0\n",
              "4  2020-02-25      Nordeste    AL      0       0"
            ]
          },
          "metadata": {
            "tags": []
          },
          "execution_count": 12
        }
      ]
    },
    {
      "cell_type": "code",
      "metadata": {
        "colab": {
          "base_uri": "https://localhost:8080/",
          "height": 197
        },
        "id": "5DkGYOAIBRT_",
        "outputId": "5b2f2d46-8071-48e5-ea71-4f9a0d1556e9"
      },
      "source": [
        "\"\"\"\n",
        "Encontrando total de óbitos por região\n",
        "\"\"\"\n",
        "all_regions_deaths = [ dt_cases['deaths'].loc[dt_cases[\"region\"]== region].sum() for region in regions ]\n",
        "all_regions_deaths\n",
        "\n",
        "regions_deaths = [('Centro-Oeste',all_regions_deaths[0]),('Nordeste',all_regions_deaths[1]),\\\n",
        "                      ('Norte',all_regions_deaths[2]),('Sudeste',all_regions_deaths[3]),\\\n",
        "                      ('Sul',all_regions_deaths[4])]\n",
        "\n",
        "regions_deaths = pd.DataFrame.from_dict(dict(regions_deaths),orient='index',columns=['deaths'])\n",
        "regions_deaths"
      ],
      "execution_count": null,
      "outputs": [
        {
          "output_type": "execute_result",
          "data": {
            "text/html": [
              "<div>\n",
              "<style scoped>\n",
              "    .dataframe tbody tr th:only-of-type {\n",
              "        vertical-align: middle;\n",
              "    }\n",
              "\n",
              "    .dataframe tbody tr th {\n",
              "        vertical-align: top;\n",
              "    }\n",
              "\n",
              "    .dataframe thead th {\n",
              "        text-align: right;\n",
              "    }\n",
              "</style>\n",
              "<table border=\"1\" class=\"dataframe\">\n",
              "  <thead>\n",
              "    <tr style=\"text-align: right;\">\n",
              "      <th></th>\n",
              "      <th>deaths</th>\n",
              "    </tr>\n",
              "  </thead>\n",
              "  <tbody>\n",
              "    <tr>\n",
              "      <th>Centro-Oeste</th>\n",
              "      <td>1518353</td>\n",
              "    </tr>\n",
              "    <tr>\n",
              "      <th>Nordeste</th>\n",
              "      <td>5812513</td>\n",
              "    </tr>\n",
              "    <tr>\n",
              "      <th>Norte</th>\n",
              "      <td>2386633</td>\n",
              "    </tr>\n",
              "    <tr>\n",
              "      <th>Sudeste</th>\n",
              "      <td>9326839</td>\n",
              "    </tr>\n",
              "    <tr>\n",
              "      <th>Sul</th>\n",
              "      <td>1464191</td>\n",
              "    </tr>\n",
              "  </tbody>\n",
              "</table>\n",
              "</div>"
            ],
            "text/plain": [
              "               deaths\n",
              "Centro-Oeste  1518353\n",
              "Nordeste      5812513\n",
              "Norte         2386633\n",
              "Sudeste       9326839\n",
              "Sul           1464191"
            ]
          },
          "metadata": {
            "tags": []
          },
          "execution_count": 13
        }
      ]
    },
    {
      "cell_type": "code",
      "metadata": {
        "colab": {
          "base_uri": "https://localhost:8080/",
          "height": 197
        },
        "id": "CF8SM9BsHrhp",
        "outputId": "7c19d215-a3bf-4438-b115-0615197d2b95"
      },
      "source": [
        "\"\"\"\n",
        "Encontrando total de casos por região\n",
        "\"\"\"\n",
        "\n",
        "all_regions_cases = [ dt_cases['cases'].loc[dt_cases[\"region\"]== region].sum() for region in regions ]\n",
        "\n",
        "regions_cases = [('Centro-Oeste',all_regions_cases[0]),('Nordeste',all_regions_cases[1]),\\\n",
        "                      ('Norte',all_regions_cases[2]),('Sudeste',all_regions_cases[3]),\\\n",
        "                      ('Sul',all_regions_cases[4])]\n",
        "\n",
        "regions_cases = pd.DataFrame.from_dict(dict(regions_cases),orient='index',columns=['cases'])\n",
        "regions_cases"
      ],
      "execution_count": null,
      "outputs": [
        {
          "output_type": "execute_result",
          "data": {
            "text/html": [
              "<div>\n",
              "<style scoped>\n",
              "    .dataframe tbody tr th:only-of-type {\n",
              "        vertical-align: middle;\n",
              "    }\n",
              "\n",
              "    .dataframe tbody tr th {\n",
              "        vertical-align: top;\n",
              "    }\n",
              "\n",
              "    .dataframe thead th {\n",
              "        text-align: right;\n",
              "    }\n",
              "</style>\n",
              "<table border=\"1\" class=\"dataframe\">\n",
              "  <thead>\n",
              "    <tr style=\"text-align: right;\">\n",
              "      <th></th>\n",
              "      <th>cases</th>\n",
              "    </tr>\n",
              "  </thead>\n",
              "  <tbody>\n",
              "    <tr>\n",
              "      <th>Centro-Oeste</th>\n",
              "      <td>71590231</td>\n",
              "    </tr>\n",
              "    <tr>\n",
              "      <th>Nordeste</th>\n",
              "      <td>184449738</td>\n",
              "    </tr>\n",
              "    <tr>\n",
              "      <th>Norte</th>\n",
              "      <td>89017773</td>\n",
              "    </tr>\n",
              "    <tr>\n",
              "      <th>Sudeste</th>\n",
              "      <td>224057624</td>\n",
              "    </tr>\n",
              "    <tr>\n",
              "      <th>Sul</th>\n",
              "      <td>72207079</td>\n",
              "    </tr>\n",
              "  </tbody>\n",
              "</table>\n",
              "</div>"
            ],
            "text/plain": [
              "                  cases\n",
              "Centro-Oeste   71590231\n",
              "Nordeste      184449738\n",
              "Norte          89017773\n",
              "Sudeste       224057624\n",
              "Sul            72207079"
            ]
          },
          "metadata": {
            "tags": []
          },
          "execution_count": 14
        }
      ]
    },
    {
      "cell_type": "markdown",
      "metadata": {
        "id": "gEJ2zw5EO02f"
      },
      "source": [
        "## JUNÇÃO"
      ]
    },
    {
      "cell_type": "markdown",
      "metadata": {
        "id": "4iMKSID6PSHp"
      },
      "source": [
        "> Realiza-se a junção do arquivo *brazil_population_2019.csv*, contendo a informação populacional com *brazil_covid19.csv*, a qual informa o número de casos e óbitos, a fim de posteriormente aplicar classificação."
      ]
    },
    {
      "cell_type": "code",
      "metadata": {
        "colab": {
          "base_uri": "https://localhost:8080/",
          "height": 197
        },
        "id": "9_ej_zXPBf_1",
        "outputId": "afee51a7-f565-4725-cd63-9fd854579e9f"
      },
      "source": [
        "dt = pd.concat([regions_population,regions_cases],axis=1)\n",
        "dt = pd.concat([dt,regions_deaths],axis=1)\n",
        "dt"
      ],
      "execution_count": null,
      "outputs": [
        {
          "output_type": "execute_result",
          "data": {
            "text/html": [
              "<div>\n",
              "<style scoped>\n",
              "    .dataframe tbody tr th:only-of-type {\n",
              "        vertical-align: middle;\n",
              "    }\n",
              "\n",
              "    .dataframe tbody tr th {\n",
              "        vertical-align: top;\n",
              "    }\n",
              "\n",
              "    .dataframe thead th {\n",
              "        text-align: right;\n",
              "    }\n",
              "</style>\n",
              "<table border=\"1\" class=\"dataframe\">\n",
              "  <thead>\n",
              "    <tr style=\"text-align: right;\">\n",
              "      <th></th>\n",
              "      <th>population</th>\n",
              "      <th>cases</th>\n",
              "      <th>deaths</th>\n",
              "    </tr>\n",
              "  </thead>\n",
              "  <tbody>\n",
              "    <tr>\n",
              "      <th>Centro-Oeste</th>\n",
              "      <td>13085364</td>\n",
              "      <td>71590231</td>\n",
              "      <td>1518353</td>\n",
              "    </tr>\n",
              "    <tr>\n",
              "      <th>Nordeste</th>\n",
              "      <td>48946190</td>\n",
              "      <td>184449738</td>\n",
              "      <td>5812513</td>\n",
              "    </tr>\n",
              "    <tr>\n",
              "      <th>Norte</th>\n",
              "      <td>14752784</td>\n",
              "      <td>89017773</td>\n",
              "      <td>2386633</td>\n",
              "    </tr>\n",
              "    <tr>\n",
              "      <th>Sudeste</th>\n",
              "      <td>80421777</td>\n",
              "      <td>224057624</td>\n",
              "      <td>9326839</td>\n",
              "    </tr>\n",
              "    <tr>\n",
              "      <th>Sul</th>\n",
              "      <td>24522343</td>\n",
              "      <td>72207079</td>\n",
              "      <td>1464191</td>\n",
              "    </tr>\n",
              "  </tbody>\n",
              "</table>\n",
              "</div>"
            ],
            "text/plain": [
              "              population      cases   deaths\n",
              "Centro-Oeste    13085364   71590231  1518353\n",
              "Nordeste        48946190  184449738  5812513\n",
              "Norte           14752784   89017773  2386633\n",
              "Sudeste         80421777  224057624  9326839\n",
              "Sul             24522343   72207079  1464191"
            ]
          },
          "metadata": {
            "tags": []
          },
          "execution_count": 15
        }
      ]
    },
    {
      "cell_type": "markdown",
      "metadata": {
        "id": "Wx9Xn4F1HbYY"
      },
      "source": [
        "## CLASSIFICAÇÃO"
      ]
    },
    {
      "cell_type": "markdown",
      "metadata": {
        "id": "yr09PUI9BImN"
      },
      "source": [
        "* Classificar porcentagem de óbitos por região.\n",
        "* Classificar porcentagem de casos de cura.\n",
        "* > Obs.: A data compreende o periodo de 2020-02-25 a 2020-11-25\n"
      ]
    },
    {
      "cell_type": "markdown",
      "metadata": {
        "id": "e4-GG0UUJUoP"
      },
      "source": [
        "* A coluna ***deaths_percent*** representa a porcentagem de óbitos da população.\n",
        "* A coluna *safe_cases* representa a porcentagem de casos detectados e curados."
      ]
    },
    {
      "cell_type": "code",
      "metadata": {
        "colab": {
          "base_uri": "https://localhost:8080/",
          "height": 197
        },
        "id": "urxw6NrtOmn5",
        "outputId": "c50362cd-3204-4afc-d3ed-bbb69159dad2"
      },
      "source": [
        "\"\"\"\n",
        "Ordenando por porcentagem de óbitos\n",
        "\"\"\"\n",
        "\n",
        "dt['deaths_percent'] = (dt['deaths']/dt['population'])*100\n",
        "dt['safe_cases'] = ((dt['cases']-dt['deaths'])/dt['cases'])*100\n",
        "dt.sort_values('deaths_percent',ascending=False)"
      ],
      "execution_count": null,
      "outputs": [
        {
          "output_type": "execute_result",
          "data": {
            "text/html": [
              "<div>\n",
              "<style scoped>\n",
              "    .dataframe tbody tr th:only-of-type {\n",
              "        vertical-align: middle;\n",
              "    }\n",
              "\n",
              "    .dataframe tbody tr th {\n",
              "        vertical-align: top;\n",
              "    }\n",
              "\n",
              "    .dataframe thead th {\n",
              "        text-align: right;\n",
              "    }\n",
              "</style>\n",
              "<table border=\"1\" class=\"dataframe\">\n",
              "  <thead>\n",
              "    <tr style=\"text-align: right;\">\n",
              "      <th></th>\n",
              "      <th>population</th>\n",
              "      <th>cases</th>\n",
              "      <th>deaths</th>\n",
              "      <th>deaths_percent</th>\n",
              "      <th>safe_cases</th>\n",
              "    </tr>\n",
              "  </thead>\n",
              "  <tbody>\n",
              "    <tr>\n",
              "      <th>Norte</th>\n",
              "      <td>14752784</td>\n",
              "      <td>89017773</td>\n",
              "      <td>2386633</td>\n",
              "      <td>16.177509</td>\n",
              "      <td>97.318925</td>\n",
              "    </tr>\n",
              "    <tr>\n",
              "      <th>Nordeste</th>\n",
              "      <td>48946190</td>\n",
              "      <td>184449738</td>\n",
              "      <td>5812513</td>\n",
              "      <td>11.875312</td>\n",
              "      <td>96.848728</td>\n",
              "    </tr>\n",
              "    <tr>\n",
              "      <th>Centro-Oeste</th>\n",
              "      <td>13085364</td>\n",
              "      <td>71590231</td>\n",
              "      <td>1518353</td>\n",
              "      <td>11.603445</td>\n",
              "      <td>97.879106</td>\n",
              "    </tr>\n",
              "    <tr>\n",
              "      <th>Sudeste</th>\n",
              "      <td>80421777</td>\n",
              "      <td>224057624</td>\n",
              "      <td>9326839</td>\n",
              "      <td>11.597405</td>\n",
              "      <td>95.837303</td>\n",
              "    </tr>\n",
              "    <tr>\n",
              "      <th>Sul</th>\n",
              "      <td>24522343</td>\n",
              "      <td>72207079</td>\n",
              "      <td>1464191</td>\n",
              "      <td>5.970845</td>\n",
              "      <td>97.972233</td>\n",
              "    </tr>\n",
              "  </tbody>\n",
              "</table>\n",
              "</div>"
            ],
            "text/plain": [
              "              population      cases   deaths  deaths_percent  safe_cases\n",
              "Norte           14752784   89017773  2386633       16.177509   97.318925\n",
              "Nordeste        48946190  184449738  5812513       11.875312   96.848728\n",
              "Centro-Oeste    13085364   71590231  1518353       11.603445   97.879106\n",
              "Sudeste         80421777  224057624  9326839       11.597405   95.837303\n",
              "Sul             24522343   72207079  1464191        5.970845   97.972233"
            ]
          },
          "metadata": {
            "tags": []
          },
          "execution_count": 16
        }
      ]
    },
    {
      "cell_type": "code",
      "metadata": {
        "colab": {
          "base_uri": "https://localhost:8080/",
          "height": 197
        },
        "id": "GRRd_CXeG0MH",
        "outputId": "6ef1397e-d719-4524-a7aa-0edaa02daa3c"
      },
      "source": [
        "\"\"\"\n",
        "Ordenando por casos detectados e curados.\n",
        "\"\"\"\n",
        "dt.sort_values('safe_cases',ascending=False)"
      ],
      "execution_count": null,
      "outputs": [
        {
          "output_type": "execute_result",
          "data": {
            "text/html": [
              "<div>\n",
              "<style scoped>\n",
              "    .dataframe tbody tr th:only-of-type {\n",
              "        vertical-align: middle;\n",
              "    }\n",
              "\n",
              "    .dataframe tbody tr th {\n",
              "        vertical-align: top;\n",
              "    }\n",
              "\n",
              "    .dataframe thead th {\n",
              "        text-align: right;\n",
              "    }\n",
              "</style>\n",
              "<table border=\"1\" class=\"dataframe\">\n",
              "  <thead>\n",
              "    <tr style=\"text-align: right;\">\n",
              "      <th></th>\n",
              "      <th>population</th>\n",
              "      <th>cases</th>\n",
              "      <th>deaths</th>\n",
              "      <th>deaths_percent</th>\n",
              "      <th>safe_cases</th>\n",
              "    </tr>\n",
              "  </thead>\n",
              "  <tbody>\n",
              "    <tr>\n",
              "      <th>Sul</th>\n",
              "      <td>24522343</td>\n",
              "      <td>72207079</td>\n",
              "      <td>1464191</td>\n",
              "      <td>5.970845</td>\n",
              "      <td>97.972233</td>\n",
              "    </tr>\n",
              "    <tr>\n",
              "      <th>Centro-Oeste</th>\n",
              "      <td>13085364</td>\n",
              "      <td>71590231</td>\n",
              "      <td>1518353</td>\n",
              "      <td>11.603445</td>\n",
              "      <td>97.879106</td>\n",
              "    </tr>\n",
              "    <tr>\n",
              "      <th>Norte</th>\n",
              "      <td>14752784</td>\n",
              "      <td>89017773</td>\n",
              "      <td>2386633</td>\n",
              "      <td>16.177509</td>\n",
              "      <td>97.318925</td>\n",
              "    </tr>\n",
              "    <tr>\n",
              "      <th>Nordeste</th>\n",
              "      <td>48946190</td>\n",
              "      <td>184449738</td>\n",
              "      <td>5812513</td>\n",
              "      <td>11.875312</td>\n",
              "      <td>96.848728</td>\n",
              "    </tr>\n",
              "    <tr>\n",
              "      <th>Sudeste</th>\n",
              "      <td>80421777</td>\n",
              "      <td>224057624</td>\n",
              "      <td>9326839</td>\n",
              "      <td>11.597405</td>\n",
              "      <td>95.837303</td>\n",
              "    </tr>\n",
              "  </tbody>\n",
              "</table>\n",
              "</div>"
            ],
            "text/plain": [
              "              population      cases   deaths  deaths_percent  safe_cases\n",
              "Sul             24522343   72207079  1464191        5.970845   97.972233\n",
              "Centro-Oeste    13085364   71590231  1518353       11.603445   97.879106\n",
              "Norte           14752784   89017773  2386633       16.177509   97.318925\n",
              "Nordeste        48946190  184449738  5812513       11.875312   96.848728\n",
              "Sudeste         80421777  224057624  9326839       11.597405   95.837303"
            ]
          },
          "metadata": {
            "tags": []
          },
          "execution_count": 17
        }
      ]
    },
    {
      "cell_type": "markdown",
      "metadata": {
        "id": "TE7L3NCQ5RVN"
      },
      "source": [
        "# OPERAÇÃO DE LINHA E AGREGAÇÃO"
      ]
    },
    {
      "cell_type": "code",
      "metadata": {
        "colab": {
          "base_uri": "https://localhost:8080/"
        },
        "id": "B5eTtozG5UuP",
        "outputId": "85f99e5d-1720-4a49-fc19-9810371e344e"
      },
      "source": [
        "import pandas as pd\n",
        "!curl -o brazil_covid19.tar.gz -s -OL 'https://drive.google.com/uc?export=download&id=1gsOhZkvDKCiEwtjwJbcyyXdbhjyOIukn'\n",
        "!tar -zxvf brazil_covid19.tar.gz\n",
        "!rm brazil_covid19.tar.gz"
      ],
      "execution_count": null,
      "outputs": [
        {
          "output_type": "stream",
          "text": [
            "brazil_covid19/\n",
            "brazil_covid19/brazil_covid19_cities.csv\n",
            "brazil_covid19/brazil_population_2019.xlsx\n"
          ],
          "name": "stdout"
        }
      ]
    },
    {
      "cell_type": "code",
      "metadata": {
        "colab": {
          "base_uri": "https://localhost:8080/"
        },
        "id": "r9L1SFeq5Z13",
        "outputId": "a9cb668e-b34c-495c-a747-c99972fc9605"
      },
      "source": [
        "df_cities = pd.read_csv('brazil_covid19/brazil_covid19_cities.csv')\n",
        "df_cities.info()"
      ],
      "execution_count": null,
      "outputs": [
        {
          "output_type": "stream",
          "text": [
            "<class 'pandas.core.frame.DataFrame'>\n",
            "RangeIndex: 1359080 entries, 0 to 1359079\n",
            "Data columns (total 6 columns):\n",
            " #   Column  Non-Null Count    Dtype  \n",
            "---  ------  --------------    -----  \n",
            " 0   date    1359080 non-null  object \n",
            " 1   state   1359080 non-null  object \n",
            " 2   name    1359080 non-null  object \n",
            " 3   code    1359080 non-null  float64\n",
            " 4   cases   1359080 non-null  int64  \n",
            " 5   deaths  1359080 non-null  int64  \n",
            "dtypes: float64(1), int64(2), object(3)\n",
            "memory usage: 62.2+ MB\n"
          ],
          "name": "stdout"
        }
      ]
    },
    {
      "cell_type": "code",
      "metadata": {
        "id": "RA6wyfmX5t78"
      },
      "source": [
        "df_cities.date = pd.to_datetime(df_cities.date)"
      ],
      "execution_count": null,
      "outputs": []
    },
    {
      "cell_type": "code",
      "metadata": {
        "colab": {
          "base_uri": "https://localhost:8080/"
        },
        "id": "PHq1dmO0ZPio",
        "outputId": "cfb5ccaa-68e5-4c4f-9c9c-cffa9563af81"
      },
      "source": [
        "df_cities.date"
      ],
      "execution_count": null,
      "outputs": [
        {
          "output_type": "execute_result",
          "data": {
            "text/plain": [
              "0         2020-03-27\n",
              "1         2020-03-27\n",
              "2         2020-03-27\n",
              "3         2020-03-27\n",
              "4         2020-03-27\n",
              "             ...    \n",
              "1359075   2020-11-25\n",
              "1359076   2020-11-25\n",
              "1359077   2020-11-25\n",
              "1359078   2020-11-25\n",
              "1359079   2020-11-25\n",
              "Name: date, Length: 1359080, dtype: datetime64[ns]"
            ]
          },
          "metadata": {
            "tags": []
          },
          "execution_count": 21
        }
      ]
    },
    {
      "cell_type": "code",
      "metadata": {
        "colab": {
          "base_uri": "https://localhost:8080/",
          "height": 407
        },
        "id": "SaoxYO7GcBWS",
        "outputId": "92c65624-54bb-45b5-8306-5c9e0f872d1d"
      },
      "source": [
        "# Agrupamento por data e estado, mostrando o somatório casos e mortes\n",
        "df_states = df_cities.groupby(['date','state'])[['cases','deaths']].sum().reset_index()\n",
        "df_states"
      ],
      "execution_count": null,
      "outputs": [
        {
          "output_type": "execute_result",
          "data": {
            "text/html": [
              "<div>\n",
              "<style scoped>\n",
              "    .dataframe tbody tr th:only-of-type {\n",
              "        vertical-align: middle;\n",
              "    }\n",
              "\n",
              "    .dataframe tbody tr th {\n",
              "        vertical-align: top;\n",
              "    }\n",
              "\n",
              "    .dataframe thead th {\n",
              "        text-align: right;\n",
              "    }\n",
              "</style>\n",
              "<table border=\"1\" class=\"dataframe\">\n",
              "  <thead>\n",
              "    <tr style=\"text-align: right;\">\n",
              "      <th></th>\n",
              "      <th>date</th>\n",
              "      <th>state</th>\n",
              "      <th>cases</th>\n",
              "      <th>deaths</th>\n",
              "    </tr>\n",
              "  </thead>\n",
              "  <tbody>\n",
              "    <tr>\n",
              "      <th>0</th>\n",
              "      <td>2020-03-27</td>\n",
              "      <td>AC</td>\n",
              "      <td>0</td>\n",
              "      <td>0</td>\n",
              "    </tr>\n",
              "    <tr>\n",
              "      <th>1</th>\n",
              "      <td>2020-03-27</td>\n",
              "      <td>AL</td>\n",
              "      <td>0</td>\n",
              "      <td>0</td>\n",
              "    </tr>\n",
              "    <tr>\n",
              "      <th>2</th>\n",
              "      <td>2020-03-27</td>\n",
              "      <td>AM</td>\n",
              "      <td>0</td>\n",
              "      <td>0</td>\n",
              "    </tr>\n",
              "    <tr>\n",
              "      <th>3</th>\n",
              "      <td>2020-03-27</td>\n",
              "      <td>AP</td>\n",
              "      <td>0</td>\n",
              "      <td>0</td>\n",
              "    </tr>\n",
              "    <tr>\n",
              "      <th>4</th>\n",
              "      <td>2020-03-27</td>\n",
              "      <td>BA</td>\n",
              "      <td>0</td>\n",
              "      <td>0</td>\n",
              "    </tr>\n",
              "    <tr>\n",
              "      <th>...</th>\n",
              "      <td>...</td>\n",
              "      <td>...</td>\n",
              "      <td>...</td>\n",
              "      <td>...</td>\n",
              "    </tr>\n",
              "    <tr>\n",
              "      <th>6583</th>\n",
              "      <td>2020-11-25</td>\n",
              "      <td>RS</td>\n",
              "      <td>306335</td>\n",
              "      <td>6639</td>\n",
              "    </tr>\n",
              "    <tr>\n",
              "      <th>6584</th>\n",
              "      <td>2020-11-25</td>\n",
              "      <td>SC</td>\n",
              "      <td>328894</td>\n",
              "      <td>3561</td>\n",
              "    </tr>\n",
              "    <tr>\n",
              "      <th>6585</th>\n",
              "      <td>2020-11-25</td>\n",
              "      <td>SE</td>\n",
              "      <td>88100</td>\n",
              "      <td>2288</td>\n",
              "    </tr>\n",
              "    <tr>\n",
              "      <th>6586</th>\n",
              "      <td>2020-11-25</td>\n",
              "      <td>SP</td>\n",
              "      <td>1224544</td>\n",
              "      <td>41601</td>\n",
              "    </tr>\n",
              "    <tr>\n",
              "      <th>6587</th>\n",
              "      <td>2020-11-25</td>\n",
              "      <td>TO</td>\n",
              "      <td>80218</td>\n",
              "      <td>1153</td>\n",
              "    </tr>\n",
              "  </tbody>\n",
              "</table>\n",
              "<p>6588 rows × 4 columns</p>\n",
              "</div>"
            ],
            "text/plain": [
              "           date state    cases  deaths\n",
              "0    2020-03-27    AC        0       0\n",
              "1    2020-03-27    AL        0       0\n",
              "2    2020-03-27    AM        0       0\n",
              "3    2020-03-27    AP        0       0\n",
              "4    2020-03-27    BA        0       0\n",
              "...         ...   ...      ...     ...\n",
              "6583 2020-11-25    RS   306335    6639\n",
              "6584 2020-11-25    SC   328894    3561\n",
              "6585 2020-11-25    SE    88100    2288\n",
              "6586 2020-11-25    SP  1224544   41601\n",
              "6587 2020-11-25    TO    80218    1153\n",
              "\n",
              "[6588 rows x 4 columns]"
            ]
          },
          "metadata": {
            "tags": []
          },
          "execution_count": 22
        }
      ]
    },
    {
      "cell_type": "code",
      "metadata": {
        "id": "yyvVIf9LZ8Wt"
      },
      "source": [
        "# Porporção de mortes por casos\n",
        "df_states['proporcao'] = df_states.apply(lambda row: 0 if row['cases'] == 0 else 100*row['deaths']/row['cases'], axis=1)"
      ],
      "execution_count": null,
      "outputs": []
    },
    {
      "cell_type": "code",
      "metadata": {
        "colab": {
          "base_uri": "https://localhost:8080/",
          "height": 857
        },
        "id": "ZAm9mwype3fk",
        "outputId": "05faf7ba-12cf-4a28-9163-a20860fe1b18"
      },
      "source": [
        "df_states[df_states['date'].eq(df_states.date.max())].sort_values('proporcao',ascending = False)"
      ],
      "execution_count": null,
      "outputs": [
        {
          "output_type": "execute_result",
          "data": {
            "text/html": [
              "<div>\n",
              "<style scoped>\n",
              "    .dataframe tbody tr th:only-of-type {\n",
              "        vertical-align: middle;\n",
              "    }\n",
              "\n",
              "    .dataframe tbody tr th {\n",
              "        vertical-align: top;\n",
              "    }\n",
              "\n",
              "    .dataframe thead th {\n",
              "        text-align: right;\n",
              "    }\n",
              "</style>\n",
              "<table border=\"1\" class=\"dataframe\">\n",
              "  <thead>\n",
              "    <tr style=\"text-align: right;\">\n",
              "      <th></th>\n",
              "      <th>date</th>\n",
              "      <th>state</th>\n",
              "      <th>cases</th>\n",
              "      <th>deaths</th>\n",
              "      <th>proporcao</th>\n",
              "    </tr>\n",
              "  </thead>\n",
              "  <tbody>\n",
              "    <tr>\n",
              "      <th>6579</th>\n",
              "      <td>2020-11-25</td>\n",
              "      <td>RJ</td>\n",
              "      <td>343995</td>\n",
              "      <td>22256</td>\n",
              "      <td>6.469861</td>\n",
              "    </tr>\n",
              "    <tr>\n",
              "      <th>6576</th>\n",
              "      <td>2020-11-25</td>\n",
              "      <td>PE</td>\n",
              "      <td>178086</td>\n",
              "      <td>8971</td>\n",
              "      <td>5.037454</td>\n",
              "    </tr>\n",
              "    <tr>\n",
              "      <th>6586</th>\n",
              "      <td>2020-11-25</td>\n",
              "      <td>SP</td>\n",
              "      <td>1224544</td>\n",
              "      <td>41601</td>\n",
              "      <td>3.397265</td>\n",
              "    </tr>\n",
              "    <tr>\n",
              "      <th>6566</th>\n",
              "      <td>2020-11-25</td>\n",
              "      <td>CE</td>\n",
              "      <td>290887</td>\n",
              "      <td>9530</td>\n",
              "      <td>3.276186</td>\n",
              "    </tr>\n",
              "    <tr>\n",
              "      <th>6580</th>\n",
              "      <td>2020-11-25</td>\n",
              "      <td>RN</td>\n",
              "      <td>88064</td>\n",
              "      <td>2665</td>\n",
              "      <td>3.026208</td>\n",
              "    </tr>\n",
              "    <tr>\n",
              "      <th>6563</th>\n",
              "      <td>2020-11-25</td>\n",
              "      <td>AM</td>\n",
              "      <td>175298</td>\n",
              "      <td>4826</td>\n",
              "      <td>2.753026</td>\n",
              "    </tr>\n",
              "    <tr>\n",
              "      <th>6573</th>\n",
              "      <td>2020-11-25</td>\n",
              "      <td>MT</td>\n",
              "      <td>156128</td>\n",
              "      <td>4055</td>\n",
              "      <td>2.597228</td>\n",
              "    </tr>\n",
              "    <tr>\n",
              "      <th>6585</th>\n",
              "      <td>2020-11-25</td>\n",
              "      <td>SE</td>\n",
              "      <td>88100</td>\n",
              "      <td>2288</td>\n",
              "      <td>2.597049</td>\n",
              "    </tr>\n",
              "    <tr>\n",
              "      <th>6574</th>\n",
              "      <td>2020-11-25</td>\n",
              "      <td>PA</td>\n",
              "      <td>267700</td>\n",
              "      <td>6880</td>\n",
              "      <td>2.570041</td>\n",
              "    </tr>\n",
              "    <tr>\n",
              "      <th>6562</th>\n",
              "      <td>2020-11-25</td>\n",
              "      <td>AL</td>\n",
              "      <td>93907</td>\n",
              "      <td>2318</td>\n",
              "      <td>2.468400</td>\n",
              "    </tr>\n",
              "    <tr>\n",
              "      <th>6571</th>\n",
              "      <td>2020-11-25</td>\n",
              "      <td>MG</td>\n",
              "      <td>400706</td>\n",
              "      <td>9774</td>\n",
              "      <td>2.439195</td>\n",
              "    </tr>\n",
              "    <tr>\n",
              "      <th>6568</th>\n",
              "      <td>2020-11-25</td>\n",
              "      <td>ES</td>\n",
              "      <td>181246</td>\n",
              "      <td>4145</td>\n",
              "      <td>2.286947</td>\n",
              "    </tr>\n",
              "    <tr>\n",
              "      <th>6569</th>\n",
              "      <td>2020-11-25</td>\n",
              "      <td>GO</td>\n",
              "      <td>275794</td>\n",
              "      <td>6288</td>\n",
              "      <td>2.279963</td>\n",
              "    </tr>\n",
              "    <tr>\n",
              "      <th>6575</th>\n",
              "      <td>2020-11-25</td>\n",
              "      <td>PB</td>\n",
              "      <td>143615</td>\n",
              "      <td>3268</td>\n",
              "      <td>2.275528</td>\n",
              "    </tr>\n",
              "    <tr>\n",
              "      <th>6578</th>\n",
              "      <td>2020-11-25</td>\n",
              "      <td>PR</td>\n",
              "      <td>262235</td>\n",
              "      <td>5925</td>\n",
              "      <td>2.259424</td>\n",
              "    </tr>\n",
              "    <tr>\n",
              "      <th>6570</th>\n",
              "      <td>2020-11-25</td>\n",
              "      <td>MA</td>\n",
              "      <td>192129</td>\n",
              "      <td>4256</td>\n",
              "      <td>2.215178</td>\n",
              "    </tr>\n",
              "    <tr>\n",
              "      <th>6583</th>\n",
              "      <td>2020-11-25</td>\n",
              "      <td>RS</td>\n",
              "      <td>306335</td>\n",
              "      <td>6639</td>\n",
              "      <td>2.167235</td>\n",
              "    </tr>\n",
              "    <tr>\n",
              "      <th>6565</th>\n",
              "      <td>2020-11-25</td>\n",
              "      <td>BA</td>\n",
              "      <td>385173</td>\n",
              "      <td>8108</td>\n",
              "      <td>2.105028</td>\n",
              "    </tr>\n",
              "    <tr>\n",
              "      <th>6577</th>\n",
              "      <td>2020-11-25</td>\n",
              "      <td>PI</td>\n",
              "      <td>124076</td>\n",
              "      <td>2596</td>\n",
              "      <td>2.092266</td>\n",
              "    </tr>\n",
              "    <tr>\n",
              "      <th>6561</th>\n",
              "      <td>2020-11-25</td>\n",
              "      <td>AC</td>\n",
              "      <td>35188</td>\n",
              "      <td>721</td>\n",
              "      <td>2.048994</td>\n",
              "    </tr>\n",
              "    <tr>\n",
              "      <th>6581</th>\n",
              "      <td>2020-11-25</td>\n",
              "      <td>RO</td>\n",
              "      <td>78470</td>\n",
              "      <td>1534</td>\n",
              "      <td>1.954887</td>\n",
              "    </tr>\n",
              "    <tr>\n",
              "      <th>6572</th>\n",
              "      <td>2020-11-25</td>\n",
              "      <td>MS</td>\n",
              "      <td>94652</td>\n",
              "      <td>1742</td>\n",
              "      <td>1.840426</td>\n",
              "    </tr>\n",
              "    <tr>\n",
              "      <th>6567</th>\n",
              "      <td>2020-11-25</td>\n",
              "      <td>DF</td>\n",
              "      <td>225873</td>\n",
              "      <td>3906</td>\n",
              "      <td>1.729290</td>\n",
              "    </tr>\n",
              "    <tr>\n",
              "      <th>6587</th>\n",
              "      <td>2020-11-25</td>\n",
              "      <td>TO</td>\n",
              "      <td>80218</td>\n",
              "      <td>1153</td>\n",
              "      <td>1.437333</td>\n",
              "    </tr>\n",
              "    <tr>\n",
              "      <th>6564</th>\n",
              "      <td>2020-11-25</td>\n",
              "      <td>AP</td>\n",
              "      <td>57698</td>\n",
              "      <td>799</td>\n",
              "      <td>1.384797</td>\n",
              "    </tr>\n",
              "    <tr>\n",
              "      <th>6582</th>\n",
              "      <td>2020-11-25</td>\n",
              "      <td>RR</td>\n",
              "      <td>60739</td>\n",
              "      <td>717</td>\n",
              "      <td>1.180461</td>\n",
              "    </tr>\n",
              "    <tr>\n",
              "      <th>6584</th>\n",
              "      <td>2020-11-25</td>\n",
              "      <td>SC</td>\n",
              "      <td>328894</td>\n",
              "      <td>3561</td>\n",
              "      <td>1.082720</td>\n",
              "    </tr>\n",
              "  </tbody>\n",
              "</table>\n",
              "</div>"
            ],
            "text/plain": [
              "           date state    cases  deaths  proporcao\n",
              "6579 2020-11-25    RJ   343995   22256   6.469861\n",
              "6576 2020-11-25    PE   178086    8971   5.037454\n",
              "6586 2020-11-25    SP  1224544   41601   3.397265\n",
              "6566 2020-11-25    CE   290887    9530   3.276186\n",
              "6580 2020-11-25    RN    88064    2665   3.026208\n",
              "6563 2020-11-25    AM   175298    4826   2.753026\n",
              "6573 2020-11-25    MT   156128    4055   2.597228\n",
              "6585 2020-11-25    SE    88100    2288   2.597049\n",
              "6574 2020-11-25    PA   267700    6880   2.570041\n",
              "6562 2020-11-25    AL    93907    2318   2.468400\n",
              "6571 2020-11-25    MG   400706    9774   2.439195\n",
              "6568 2020-11-25    ES   181246    4145   2.286947\n",
              "6569 2020-11-25    GO   275794    6288   2.279963\n",
              "6575 2020-11-25    PB   143615    3268   2.275528\n",
              "6578 2020-11-25    PR   262235    5925   2.259424\n",
              "6570 2020-11-25    MA   192129    4256   2.215178\n",
              "6583 2020-11-25    RS   306335    6639   2.167235\n",
              "6565 2020-11-25    BA   385173    8108   2.105028\n",
              "6577 2020-11-25    PI   124076    2596   2.092266\n",
              "6561 2020-11-25    AC    35188     721   2.048994\n",
              "6581 2020-11-25    RO    78470    1534   1.954887\n",
              "6572 2020-11-25    MS    94652    1742   1.840426\n",
              "6567 2020-11-25    DF   225873    3906   1.729290\n",
              "6587 2020-11-25    TO    80218    1153   1.437333\n",
              "6564 2020-11-25    AP    57698     799   1.384797\n",
              "6582 2020-11-25    RR    60739     717   1.180461\n",
              "6584 2020-11-25    SC   328894    3561   1.082720"
            ]
          },
          "metadata": {
            "tags": []
          },
          "execution_count": 24
        }
      ]
    }
  ]
}