{
  "nbformat": 4,
  "nbformat_minor": 0,
  "metadata": {
    "colab": {
      "name": "Atividade_Pratica_Aula1.ipynb",
      "provenance": [],
      "collapsed_sections": [],
      "include_colab_link": true
    },
    "kernelspec": {
      "name": "python3",
      "display_name": "Python 3"
    }
  },
  "cells": [
    {
      "cell_type": "markdown",
      "metadata": {
        "id": "view-in-github",
        "colab_type": "text"
      },
      "source": [
        "<a href=\"https://colab.research.google.com/github/bmnds/uea-data-science-04-data-processing/blob/main/Atividade_Pratica_Aula1.ipynb\" target=\"_parent\"><img src=\"https://colab.research.google.com/assets/colab-badge.svg\" alt=\"Open In Colab\"/></a>"
      ]
    },
    {
      "cell_type": "markdown",
      "metadata": {
        "id": "K5vxfPSilMJO"
      },
      "source": [
        "# Instalação e configuração do banco de dados PostgreSQL"
      ]
    },
    {
      "cell_type": "code",
      "metadata": {
        "id": "tdS1AdnR7TI0"
      },
      "source": [
        "# Pacotes necessários\n",
        "import pandas as pd\n",
        "from sqlalchemy import create_engine\n",
        "from os import environ as env"
      ],
      "execution_count": null,
      "outputs": []
    },
    {
      "cell_type": "code",
      "metadata": {
        "colab": {
          "base_uri": "https://localhost:8080/"
        },
        "id": "5KkDyzraj93i",
        "outputId": "fe10ae00-8c83-469c-d106-a0b8c27eb8b8"
      },
      "source": [
        "# Definindo as variávies de ambiente\n",
        "from os import environ as env\n",
        "\n",
        "%env DB_NAME=northwind\n",
        "%env DB_USR=postgres\n",
        "%env DB_PWD=postgres\n",
        "%env DB_HOST=localhost\n",
        "%env DB_PORT=5432"
      ],
      "execution_count": null,
      "outputs": [
        {
          "output_type": "stream",
          "text": [
            "env: DB_NAME=northwind\n",
            "env: DB_USR=postgres\n",
            "env: DB_PWD=postgres\n",
            "env: DB_HOST=localhost\n",
            "env: DB_PORT=5432\n"
          ],
          "name": "stdout"
        }
      ]
    },
    {
      "cell_type": "code",
      "metadata": {
        "id": "VYV_pDOQUJ2K",
        "colab": {
          "base_uri": "https://localhost:8080/"
        },
        "outputId": "6a32acb9-3521-45af-cbba-c03c8f960132"
      },
      "source": [
        "# Instalando e iniciando o PostgreSQL\n",
        "# PODE DEMORAR ALGUNS MINUTOS\n",
        "%%time\n",
        "!sudo apt-get -y -qq update\n",
        "!sudo apt-get -y -qq install postgresql\n",
        "!sudo service postgresql start"
      ],
      "execution_count": null,
      "outputs": [
        {
          "output_type": "stream",
          "text": [
            "debconf: unable to initialize frontend: Dialog\n",
            "debconf: (No usable dialog-like program is installed, so the dialog based frontend cannot be used. at /usr/share/perl5/Debconf/FrontEnd/Dialog.pm line 76, <> line 11.)\n",
            "debconf: falling back to frontend: Readline\n",
            "debconf: unable to initialize frontend: Readline\n",
            "debconf: (This frontend requires a controlling tty.)\n",
            "debconf: falling back to frontend: Teletype\n",
            "dpkg-preconfigure: unable to re-open stdin: \n",
            "Selecting previously unselected package cron.\n",
            "(Reading database ... 144793 files and directories currently installed.)\n",
            "Preparing to unpack .../00-cron_3.0pl1-128.1ubuntu1_amd64.deb ...\n",
            "Unpacking cron (3.0pl1-128.1ubuntu1) ...\n",
            "Selecting previously unselected package logrotate.\n",
            "Preparing to unpack .../01-logrotate_3.11.0-0.1ubuntu1_amd64.deb ...\n",
            "Unpacking logrotate (3.11.0-0.1ubuntu1) ...\n",
            "Selecting previously unselected package netbase.\n",
            "Preparing to unpack .../02-netbase_5.4_all.deb ...\n",
            "Unpacking netbase (5.4) ...\n",
            "Preparing to unpack .../03-libpq5_10.15-0ubuntu0.18.04.1_amd64.deb ...\n",
            "Unpacking libpq5:amd64 (10.15-0ubuntu0.18.04.1) over (10.14-0ubuntu0.18.04.1) ...\n",
            "Selecting previously unselected package postgresql-client-common.\n",
            "Preparing to unpack .../04-postgresql-client-common_190ubuntu0.1_all.deb ...\n",
            "Unpacking postgresql-client-common (190ubuntu0.1) ...\n",
            "Selecting previously unselected package postgresql-client-10.\n",
            "Preparing to unpack .../05-postgresql-client-10_10.15-0ubuntu0.18.04.1_amd64.deb ...\n",
            "Unpacking postgresql-client-10 (10.15-0ubuntu0.18.04.1) ...\n",
            "Selecting previously unselected package ssl-cert.\n",
            "Preparing to unpack .../06-ssl-cert_1.0.39_all.deb ...\n",
            "Unpacking ssl-cert (1.0.39) ...\n",
            "Selecting previously unselected package postgresql-common.\n",
            "Preparing to unpack .../07-postgresql-common_190ubuntu0.1_all.deb ...\n",
            "Adding 'diversion of /usr/bin/pg_config to /usr/bin/pg_config.libpq-dev by postgresql-common'\n",
            "Unpacking postgresql-common (190ubuntu0.1) ...\n",
            "Selecting previously unselected package postgresql-10.\n",
            "Preparing to unpack .../08-postgresql-10_10.15-0ubuntu0.18.04.1_amd64.deb ...\n",
            "Unpacking postgresql-10 (10.15-0ubuntu0.18.04.1) ...\n",
            "Selecting previously unselected package postgresql.\n",
            "Preparing to unpack .../09-postgresql_10+190ubuntu0.1_all.deb ...\n",
            "Unpacking postgresql (10+190ubuntu0.1) ...\n",
            "Selecting previously unselected package sysstat.\n",
            "Preparing to unpack .../10-sysstat_11.6.1-1ubuntu0.1_amd64.deb ...\n",
            "Unpacking sysstat (11.6.1-1ubuntu0.1) ...\n",
            "Setting up sysstat (11.6.1-1ubuntu0.1) ...\n",
            "debconf: unable to initialize frontend: Dialog\n",
            "debconf: (No usable dialog-like program is installed, so the dialog based frontend cannot be used. at /usr/share/perl5/Debconf/FrontEnd/Dialog.pm line 76.)\n",
            "debconf: falling back to frontend: Readline\n",
            "\n",
            "Creating config file /etc/default/sysstat with new version\n",
            "update-alternatives: using /usr/bin/sar.sysstat to provide /usr/bin/sar (sar) in auto mode\n",
            "Created symlink /etc/systemd/system/multi-user.target.wants/sysstat.service → /lib/systemd/system/sysstat.service.\n",
            "Setting up ssl-cert (1.0.39) ...\n",
            "debconf: unable to initialize frontend: Dialog\n",
            "debconf: (No usable dialog-like program is installed, so the dialog based frontend cannot be used. at /usr/share/perl5/Debconf/FrontEnd/Dialog.pm line 76.)\n",
            "debconf: falling back to frontend: Readline\n",
            "Setting up libpq5:amd64 (10.15-0ubuntu0.18.04.1) ...\n",
            "Setting up cron (3.0pl1-128.1ubuntu1) ...\n",
            "Adding group `crontab' (GID 110) ...\n",
            "Done.\n",
            "Created symlink /etc/systemd/system/multi-user.target.wants/cron.service → /lib/systemd/system/cron.service.\n",
            "update-rc.d: warning: start and stop actions are no longer supported; falling back to defaults\n",
            "invoke-rc.d: could not determine current runlevel\n",
            "invoke-rc.d: policy-rc.d denied execution of start.\n",
            "Setting up logrotate (3.11.0-0.1ubuntu1) ...\n",
            "Setting up netbase (5.4) ...\n",
            "Setting up postgresql-client-common (190ubuntu0.1) ...\n",
            "Setting up postgresql-common (190ubuntu0.1) ...\n",
            "debconf: unable to initialize frontend: Dialog\n",
            "debconf: (No usable dialog-like program is installed, so the dialog based frontend cannot be used. at /usr/share/perl5/Debconf/FrontEnd/Dialog.pm line 76.)\n",
            "debconf: falling back to frontend: Readline\n",
            "Adding user postgres to group ssl-cert\n",
            "\n",
            "Creating config file /etc/postgresql-common/createcluster.conf with new version\n",
            "Building PostgreSQL dictionaries from installed myspell/hunspell packages...\n",
            "Removing obsolete dictionary files:\n",
            "Created symlink /etc/systemd/system/multi-user.target.wants/postgresql.service → /lib/systemd/system/postgresql.service.\n",
            "invoke-rc.d: could not determine current runlevel\n",
            "invoke-rc.d: policy-rc.d denied execution of start.\n",
            "Setting up postgresql-client-10 (10.15-0ubuntu0.18.04.1) ...\n",
            "update-alternatives: using /usr/share/postgresql/10/man/man1/psql.1.gz to provide /usr/share/man/man1/psql.1.gz (psql.1.gz) in auto mode\n",
            "Setting up postgresql-10 (10.15-0ubuntu0.18.04.1) ...\n",
            "debconf: unable to initialize frontend: Dialog\n",
            "debconf: (No usable dialog-like program is installed, so the dialog based frontend cannot be used. at /usr/share/perl5/Debconf/FrontEnd/Dialog.pm line 76.)\n",
            "debconf: falling back to frontend: Readline\n",
            "Creating new PostgreSQL cluster 10/main ...\n",
            "/usr/lib/postgresql/10/bin/initdb -D /var/lib/postgresql/10/main --auth-local peer --auth-host md5\n",
            "The files belonging to this database system will be owned by user \"postgres\".\n",
            "This user must also own the server process.\n",
            "\n",
            "The database cluster will be initialized with locale \"en_US.UTF-8\".\n",
            "The default database encoding has accordingly been set to \"UTF8\".\n",
            "The default text search configuration will be set to \"english\".\n",
            "\n",
            "Data page checksums are disabled.\n",
            "\n",
            "fixing permissions on existing directory /var/lib/postgresql/10/main ... ok\n",
            "creating subdirectories ... ok\n",
            "selecting default max_connections ... 100\n",
            "selecting default shared_buffers ... 128MB\n",
            "selecting default timezone ... Etc/UTC\n",
            "selecting dynamic shared memory implementation ... posix\n",
            "creating configuration files ... ok\n",
            "running bootstrap script ... ok\n",
            "performing post-bootstrap initialization ... ok\n",
            "syncing data to disk ... ok\n",
            "\n",
            "Success. You can now start the database server using:\n",
            "\n",
            "    /usr/lib/postgresql/10/bin/pg_ctl -D /var/lib/postgresql/10/main -l logfile start\n",
            "\n",
            "Ver Cluster Port Status Owner    Data directory              Log file\n",
            "\u001b[31m10  main    5432 down   postgres /var/lib/postgresql/10/main /var/log/postgresql/postgresql-10-main.log\u001b[0m\n",
            "update-alternatives: using /usr/share/postgresql/10/man/man1/postmaster.1.gz to provide /usr/share/man/man1/postmaster.1.gz (postmaster.1.gz) in auto mode\n",
            "invoke-rc.d: could not determine current runlevel\n",
            "invoke-rc.d: policy-rc.d denied execution of start.\n",
            "Setting up postgresql (10+190ubuntu0.1) ...\n",
            "Processing triggers for man-db (2.8.3-2ubuntu0.1) ...\n",
            "Processing triggers for libc-bin (2.27-3ubuntu1.2) ...\n",
            "/sbin/ldconfig.real: /usr/local/lib/python3.6/dist-packages/ideep4py/lib/libmkldnn.so.0 is not a symbolic link\n",
            "\n",
            "Processing triggers for systemd (237-3ubuntu10.42) ...\n",
            " * Starting PostgreSQL 10 database server\n",
            "   ...done.\n",
            "CPU times: user 110 ms, sys: 41 ms, total: 151 ms\n",
            "Wall time: 26.9 s\n"
          ],
          "name": "stdout"
        }
      ]
    },
    {
      "cell_type": "code",
      "metadata": {
        "id": "4M9bd0Zt0hhR",
        "colab": {
          "base_uri": "https://localhost:8080/"
        },
        "outputId": "01e94639-92b1-46b2-875f-86e9e6c44252"
      },
      "source": [
        "# Criando o banco de dados\n",
        "!sudo -u $DB_USR psql -U $DB_USR -c \"ALTER USER $DB_USR PASSWORD '$DB_PWD';\"\n",
        "\n",
        "!sudo -u $DB_USR psql -c \"DROP DATABASE IF EXISTS $DB_NAME;\"\n",
        "!sudo -u $DB_USR psql -c \"CREATE DATABASE $DB_NAME;\"\n",
        "\n",
        "print(f'Banco de dados criado com o nome `{env[\"DB_NAME\"]}`')"
      ],
      "execution_count": null,
      "outputs": [
        {
          "output_type": "stream",
          "text": [
            "ALTER ROLE\n",
            "NOTICE:  database \"northwind\" does not exist, skipping\n",
            "DROP DATABASE\n",
            "CREATE DATABASE\n",
            "Banco de dados criado com o nome `northwind`\n"
          ],
          "name": "stdout"
        }
      ]
    },
    {
      "cell_type": "code",
      "metadata": {
        "id": "ZcRG7Ff6wOle",
        "colab": {
          "base_uri": "https://localhost:8080/"
        },
        "outputId": "3fb4145c-9f09-451f-82c3-721dbb5dfea1"
      },
      "source": [
        "# Rodando o script para inicialização do banco de dados (DDL + DML)\n",
        "# PODE DEMORAR ALGUNS MINUTOS\n",
        "%%time\n",
        "!curl -o northwind.sql -s -OL 'https://drive.google.com/uc?export=download&id=10kOWwu6Xf8g8X8iW-p9rOu7qCTFl1KIO'\n",
        "!sudo -u $DB_USR psql -d $DB_NAME -q -f northwind.sql\n",
        "\n",
        "print(f'Arquivo `northwind.sql` baixado e executado com sucesso!')"
      ],
      "execution_count": null,
      "outputs": [
        {
          "output_type": "stream",
          "text": [
            "Arquivo `northwind.sql` baixado e executado com sucesso!\n",
            "CPU times: user 27.2 ms, sys: 11 ms, total: 38.1 ms\n",
            "Wall time: 9.06 s\n"
          ],
          "name": "stdout"
        }
      ]
    },
    {
      "cell_type": "code",
      "metadata": {
        "id": "FOTY6AMjuwHN",
        "colab": {
          "base_uri": "https://localhost:8080/"
        },
        "outputId": "4822a1c5-0152-4823-be1f-544e2b4f05d3"
      },
      "source": [
        "# Conectando com o banco de dados PostgreSQL\n",
        "db_string = f'postgresql://{env[\"DB_USR\"]}:{env[\"DB_PWD\"]}@{env[\"DB_HOST\"]}:{env[\"DB_PORT\"]}/{env[\"DB_NAME\"]}'\n",
        "db = create_engine(db_string)\n",
        "\n",
        "print(pd.read_sql_query(\"SELECT 'Olá, Postgres!' AS TESTE_DE_CONEXAO;\",con=db).head())\n",
        "print(f'Conexão com o banco de dados estabelecida com sucesso!')\n",
        "db.dispose()"
      ],
      "execution_count": null,
      "outputs": [
        {
          "output_type": "stream",
          "text": [
            "  teste_de_conexao\n",
            "0   Olá, Postgres!\n",
            "Conexão com o banco de dados estabelecida com sucesso!\n"
          ],
          "name": "stdout"
        },
        {
          "output_type": "stream",
          "text": [
            "/usr/local/lib/python3.6/dist-packages/psycopg2/__init__.py:144: UserWarning: The psycopg2 wheel package will be renamed from release 2.8; in order to keep installing from binary please use \"pip install psycopg2-binary\" instead. For details see: <http://initd.org/psycopg/docs/install.html#binary-install-from-pypi>.\n",
            "  \"\"\")\n"
          ],
          "name": "stderr"
        }
      ]
    },
    {
      "cell_type": "markdown",
      "metadata": {
        "id": "GHTiLfrTMIaF"
      },
      "source": [
        "# Consultando o banco de dados PostgreSQL"
      ]
    },
    {
      "cell_type": "code",
      "metadata": {
        "id": "xEOB0vF2UarH"
      },
      "source": [
        "# funções utilitárias\n",
        "def print_number_of_rows(df):\n",
        "  rows, cols = df.shape\n",
        "  print(f'A consulta retornou {rows} registros')"
      ],
      "execution_count": null,
      "outputs": []
    },
    {
      "cell_type": "code",
      "metadata": {
        "colab": {
          "base_uri": "https://localhost:8080/",
          "height": 349
        },
        "id": "B5j4WlLLeg6H",
        "outputId": "a43881b0-31da-443d-ac97-600aa62e9cb7"
      },
      "source": [
        "# 1. Quais os 10 produtos mais caros?\n",
        "sql = \"\"\"\n",
        "  SELECT DISTINCT products.product_name, products.unit_price \n",
        "  FROM products \n",
        "  ORDER BY products.unit_price DESC\n",
        "  LIMIT 10\n",
        "\"\"\"\n",
        "df = pd.read_sql_query(sql, con=db)\n",
        "df"
      ],
      "execution_count": null,
      "outputs": [
        {
          "output_type": "execute_result",
          "data": {
            "text/html": [
              "<div>\n",
              "<style scoped>\n",
              "    .dataframe tbody tr th:only-of-type {\n",
              "        vertical-align: middle;\n",
              "    }\n",
              "\n",
              "    .dataframe tbody tr th {\n",
              "        vertical-align: top;\n",
              "    }\n",
              "\n",
              "    .dataframe thead th {\n",
              "        text-align: right;\n",
              "    }\n",
              "</style>\n",
              "<table border=\"1\" class=\"dataframe\">\n",
              "  <thead>\n",
              "    <tr style=\"text-align: right;\">\n",
              "      <th></th>\n",
              "      <th>product_name</th>\n",
              "      <th>unit_price</th>\n",
              "    </tr>\n",
              "  </thead>\n",
              "  <tbody>\n",
              "    <tr>\n",
              "      <th>0</th>\n",
              "      <td>Côte de Blaye</td>\n",
              "      <td>263.50</td>\n",
              "    </tr>\n",
              "    <tr>\n",
              "      <th>1</th>\n",
              "      <td>Thüringer Rostbratwurst</td>\n",
              "      <td>123.79</td>\n",
              "    </tr>\n",
              "    <tr>\n",
              "      <th>2</th>\n",
              "      <td>Mishi Kobe Niku</td>\n",
              "      <td>97.00</td>\n",
              "    </tr>\n",
              "    <tr>\n",
              "      <th>3</th>\n",
              "      <td>Sir Rodney's Marmalade</td>\n",
              "      <td>81.00</td>\n",
              "    </tr>\n",
              "    <tr>\n",
              "      <th>4</th>\n",
              "      <td>Carnarvon Tigers</td>\n",
              "      <td>62.50</td>\n",
              "    </tr>\n",
              "    <tr>\n",
              "      <th>5</th>\n",
              "      <td>Raclette Courdavault</td>\n",
              "      <td>55.00</td>\n",
              "    </tr>\n",
              "    <tr>\n",
              "      <th>6</th>\n",
              "      <td>Manjimup Dried Apples</td>\n",
              "      <td>53.00</td>\n",
              "    </tr>\n",
              "    <tr>\n",
              "      <th>7</th>\n",
              "      <td>Tarte au sucre</td>\n",
              "      <td>49.30</td>\n",
              "    </tr>\n",
              "    <tr>\n",
              "      <th>8</th>\n",
              "      <td>Ipoh Coffee</td>\n",
              "      <td>46.00</td>\n",
              "    </tr>\n",
              "    <tr>\n",
              "      <th>9</th>\n",
              "      <td>Rössle Sauerkraut</td>\n",
              "      <td>45.60</td>\n",
              "    </tr>\n",
              "  </tbody>\n",
              "</table>\n",
              "</div>"
            ],
            "text/plain": [
              "              product_name  unit_price\n",
              "0            Côte de Blaye      263.50\n",
              "1  Thüringer Rostbratwurst      123.79\n",
              "2          Mishi Kobe Niku       97.00\n",
              "3   Sir Rodney's Marmalade       81.00\n",
              "4         Carnarvon Tigers       62.50\n",
              "5     Raclette Courdavault       55.00\n",
              "6    Manjimup Dried Apples       53.00\n",
              "7           Tarte au sucre       49.30\n",
              "8              Ipoh Coffee       46.00\n",
              "9        Rössle Sauerkraut       45.60"
            ]
          },
          "metadata": {
            "tags": []
          },
          "execution_count": 8
        }
      ]
    },
    {
      "cell_type": "code",
      "metadata": {
        "id": "7OhTIA3AJhR9",
        "colab": {
          "base_uri": "https://localhost:8080/",
          "height": 216
        },
        "outputId": "f1410f0f-8c0a-471c-e0f9-99addb39f9cc"
      },
      "source": [
        "# 2. Quais clientes fizeram pedidos no último trimestre do ano de 1996?\n",
        "sql = \"\"\"\n",
        "  SELECT DISTINCT customers.customer_id, customers.company_name, customers.city, customers.country\n",
        "  FROM customers \n",
        "  RIGHT JOIN orders \n",
        "    ON customers.customer_id = orders.customer_id\n",
        "  WHERE orders.order_date BETWEEN date'1996-10-01' AND date'1996-12-31';\n",
        "\"\"\"\n",
        "\n",
        "df = pd.read_sql_query(sql, con=db)\n",
        "print_number_of_rows(df)\n",
        "df.head()"
      ],
      "execution_count": null,
      "outputs": [
        {
          "output_type": "stream",
          "text": [
            "A consulta retornou 45 registros\n"
          ],
          "name": "stdout"
        },
        {
          "output_type": "execute_result",
          "data": {
            "text/html": [
              "<div>\n",
              "<style scoped>\n",
              "    .dataframe tbody tr th:only-of-type {\n",
              "        vertical-align: middle;\n",
              "    }\n",
              "\n",
              "    .dataframe tbody tr th {\n",
              "        vertical-align: top;\n",
              "    }\n",
              "\n",
              "    .dataframe thead th {\n",
              "        text-align: right;\n",
              "    }\n",
              "</style>\n",
              "<table border=\"1\" class=\"dataframe\">\n",
              "  <thead>\n",
              "    <tr style=\"text-align: right;\">\n",
              "      <th></th>\n",
              "      <th>customer_id</th>\n",
              "      <th>company_name</th>\n",
              "      <th>city</th>\n",
              "      <th>country</th>\n",
              "    </tr>\n",
              "  </thead>\n",
              "  <tbody>\n",
              "    <tr>\n",
              "      <th>0</th>\n",
              "      <td>ANTON</td>\n",
              "      <td>Antonio Moreno Taquería</td>\n",
              "      <td>México D.F.</td>\n",
              "      <td>Mexico</td>\n",
              "    </tr>\n",
              "    <tr>\n",
              "      <th>1</th>\n",
              "      <td>AROUT</td>\n",
              "      <td>Around the Horn</td>\n",
              "      <td>London</td>\n",
              "      <td>UK</td>\n",
              "    </tr>\n",
              "    <tr>\n",
              "      <th>2</th>\n",
              "      <td>BERGS</td>\n",
              "      <td>Berglunds snabbköp</td>\n",
              "      <td>Luleå</td>\n",
              "      <td>Sweden</td>\n",
              "    </tr>\n",
              "    <tr>\n",
              "      <th>3</th>\n",
              "      <td>BLONP</td>\n",
              "      <td>Blondesddsl père et fils</td>\n",
              "      <td>Strasbourg</td>\n",
              "      <td>France</td>\n",
              "    </tr>\n",
              "    <tr>\n",
              "      <th>4</th>\n",
              "      <td>BOLID</td>\n",
              "      <td>Bólido Comidas preparadas</td>\n",
              "      <td>Madrid</td>\n",
              "      <td>Spain</td>\n",
              "    </tr>\n",
              "  </tbody>\n",
              "</table>\n",
              "</div>"
            ],
            "text/plain": [
              "  customer_id               company_name         city country\n",
              "0       ANTON    Antonio Moreno Taquería  México D.F.  Mexico\n",
              "1       AROUT            Around the Horn       London      UK\n",
              "2       BERGS         Berglunds snabbköp        Luleå  Sweden\n",
              "3       BLONP   Blondesddsl père et fils   Strasbourg  France\n",
              "4       BOLID  Bólido Comidas preparadas       Madrid   Spain"
            ]
          },
          "metadata": {
            "tags": []
          },
          "execution_count": 9
        }
      ]
    },
    {
      "cell_type": "code",
      "metadata": {
        "id": "2P35siApQLV7",
        "colab": {
          "base_uri": "https://localhost:8080/",
          "height": 216
        },
        "outputId": "d02fd8cb-3064-404c-aafd-5878742fef16"
      },
      "source": [
        "# 3. Cálculo do subtotal para cada produto incluído no pedido\n",
        "sql = \"\"\"\n",
        "  SELECT DISTINCT \n",
        "      order_details.order_id, \n",
        "      order_details.product_id,\n",
        "      products.product_name, \n",
        "      order_details.unit_price, \n",
        "      order_details.quantity,\n",
        "      order_details.discount, \n",
        "      round(CAST(unit_price * quantity * (1-discount) AS NUMERIC),2) AS product_subtotal\n",
        "  FROM products \n",
        "  NATURAL JOIN order_details\n",
        "  ORDER BY order_details.order_id;\n",
        "\"\"\"\n",
        "\n",
        "df = pd.read_sql_query(sql, con=db)\n",
        "print_number_of_rows(df)\n",
        "df.head()"
      ],
      "execution_count": null,
      "outputs": [
        {
          "output_type": "stream",
          "text": [
            "A consulta retornou 1493 registros\n"
          ],
          "name": "stdout"
        },
        {
          "output_type": "execute_result",
          "data": {
            "text/html": [
              "<div>\n",
              "<style scoped>\n",
              "    .dataframe tbody tr th:only-of-type {\n",
              "        vertical-align: middle;\n",
              "    }\n",
              "\n",
              "    .dataframe tbody tr th {\n",
              "        vertical-align: top;\n",
              "    }\n",
              "\n",
              "    .dataframe thead th {\n",
              "        text-align: right;\n",
              "    }\n",
              "</style>\n",
              "<table border=\"1\" class=\"dataframe\">\n",
              "  <thead>\n",
              "    <tr style=\"text-align: right;\">\n",
              "      <th></th>\n",
              "      <th>order_id</th>\n",
              "      <th>product_id</th>\n",
              "      <th>product_name</th>\n",
              "      <th>unit_price</th>\n",
              "      <th>quantity</th>\n",
              "      <th>discount</th>\n",
              "      <th>product_subtotal</th>\n",
              "    </tr>\n",
              "  </thead>\n",
              "  <tbody>\n",
              "    <tr>\n",
              "      <th>0</th>\n",
              "      <td>10248</td>\n",
              "      <td>72</td>\n",
              "      <td>Mozzarella di Giovanni</td>\n",
              "      <td>34.8</td>\n",
              "      <td>5</td>\n",
              "      <td>0.0</td>\n",
              "      <td>174.0</td>\n",
              "    </tr>\n",
              "    <tr>\n",
              "      <th>1</th>\n",
              "      <td>10498</td>\n",
              "      <td>24</td>\n",
              "      <td>Guaraná Fantástica</td>\n",
              "      <td>4.5</td>\n",
              "      <td>14</td>\n",
              "      <td>0.0</td>\n",
              "      <td>63.0</td>\n",
              "    </tr>\n",
              "    <tr>\n",
              "      <th>2</th>\n",
              "      <td>10498</td>\n",
              "      <td>40</td>\n",
              "      <td>Boston Crab Meat</td>\n",
              "      <td>18.4</td>\n",
              "      <td>5</td>\n",
              "      <td>0.0</td>\n",
              "      <td>92.0</td>\n",
              "    </tr>\n",
              "    <tr>\n",
              "      <th>3</th>\n",
              "      <td>10498</td>\n",
              "      <td>42</td>\n",
              "      <td>Singaporean Hokkien Fried Mee</td>\n",
              "      <td>14.0</td>\n",
              "      <td>30</td>\n",
              "      <td>0.0</td>\n",
              "      <td>420.0</td>\n",
              "    </tr>\n",
              "    <tr>\n",
              "      <th>4</th>\n",
              "      <td>10499</td>\n",
              "      <td>28</td>\n",
              "      <td>Rössle Sauerkraut</td>\n",
              "      <td>45.6</td>\n",
              "      <td>20</td>\n",
              "      <td>0.0</td>\n",
              "      <td>912.0</td>\n",
              "    </tr>\n",
              "  </tbody>\n",
              "</table>\n",
              "</div>"
            ],
            "text/plain": [
              "   order_id  product_id  ... discount  product_subtotal\n",
              "0     10248          72  ...      0.0             174.0\n",
              "1     10498          24  ...      0.0              63.0\n",
              "2     10498          40  ...      0.0              92.0\n",
              "3     10498          42  ...      0.0             420.0\n",
              "4     10499          28  ...      0.0             912.0\n",
              "\n",
              "[5 rows x 7 columns]"
            ]
          },
          "metadata": {
            "tags": []
          },
          "execution_count": 10
        }
      ]
    },
    {
      "cell_type": "code",
      "metadata": {
        "id": "N3z2K3NOS5nl",
        "colab": {
          "base_uri": "https://localhost:8080/",
          "height": 216
        },
        "outputId": "dad740a2-e630-411a-fe69-ecc0f72bb4bd"
      },
      "source": [
        "# 4. Produtos com preço abaixo do valor médio\n",
        "\n",
        "sql = \"\"\"\n",
        "  SELECT products.product_name, products.unit_price\n",
        "  FROM products\n",
        "  WHERE products.unit_price < (SELECT AVG(unit_price) FROM products)\n",
        "  ORDER BY products.unit_price DESC\n",
        "\"\"\"\n",
        "\n",
        "df = pd.read_sql_query(sql, con=db)\n",
        "print_number_of_rows(df)\n",
        "df.head()"
      ],
      "execution_count": null,
      "outputs": [
        {
          "output_type": "stream",
          "text": [
            "A consulta retornou 52 registros\n"
          ],
          "name": "stdout"
        },
        {
          "output_type": "execute_result",
          "data": {
            "text/html": [
              "<div>\n",
              "<style scoped>\n",
              "    .dataframe tbody tr th:only-of-type {\n",
              "        vertical-align: middle;\n",
              "    }\n",
              "\n",
              "    .dataframe tbody tr th {\n",
              "        vertical-align: top;\n",
              "    }\n",
              "\n",
              "    .dataframe thead th {\n",
              "        text-align: right;\n",
              "    }\n",
              "</style>\n",
              "<table border=\"1\" class=\"dataframe\">\n",
              "  <thead>\n",
              "    <tr style=\"text-align: right;\">\n",
              "      <th></th>\n",
              "      <th>product_name</th>\n",
              "      <th>unit_price</th>\n",
              "    </tr>\n",
              "  </thead>\n",
              "  <tbody>\n",
              "    <tr>\n",
              "      <th>0</th>\n",
              "      <td>Sirop d'érable</td>\n",
              "      <td>28.50</td>\n",
              "    </tr>\n",
              "    <tr>\n",
              "      <th>1</th>\n",
              "      <td>Gravad lax</td>\n",
              "      <td>26.00</td>\n",
              "    </tr>\n",
              "    <tr>\n",
              "      <th>2</th>\n",
              "      <td>Nord-Ost Matjeshering</td>\n",
              "      <td>25.89</td>\n",
              "    </tr>\n",
              "    <tr>\n",
              "      <th>3</th>\n",
              "      <td>Grandma's Boysenberry Spread</td>\n",
              "      <td>25.00</td>\n",
              "    </tr>\n",
              "    <tr>\n",
              "      <th>4</th>\n",
              "      <td>Pâté chinois</td>\n",
              "      <td>24.00</td>\n",
              "    </tr>\n",
              "  </tbody>\n",
              "</table>\n",
              "</div>"
            ],
            "text/plain": [
              "                   product_name  unit_price\n",
              "0                Sirop d'érable       28.50\n",
              "1                    Gravad lax       26.00\n",
              "2         Nord-Ost Matjeshering       25.89\n",
              "3  Grandma's Boysenberry Spread       25.00\n",
              "4                  Pâté chinois       24.00"
            ]
          },
          "metadata": {
            "tags": []
          },
          "execution_count": 11
        }
      ]
    },
    {
      "cell_type": "code",
      "metadata": {
        "id": "OEfjYLQFUHbq",
        "colab": {
          "base_uri": "https://localhost:8080/",
          "height": 216
        },
        "outputId": "d4bf2b6c-9086-4c00-9dc7-387a0f8c623f"
      },
      "source": [
        "# 5. Cálculo do valor total do pedido\n",
        "sql = \"\"\"\n",
        "  SELECT order_id, sum(round(CAST(unit_price * quantity * (1-discount) AS NUMERIC),2)) AS order_total\n",
        "  FROM order_details\n",
        "  GROUP BY order_id\n",
        "\"\"\"\n",
        "\n",
        "df = pd.read_sql_query(sql, con=db)\n",
        "print_number_of_rows(df)\n",
        "df.head()"
      ],
      "execution_count": null,
      "outputs": [
        {
          "output_type": "stream",
          "text": [
            "A consulta retornou 830 registros\n"
          ],
          "name": "stdout"
        },
        {
          "output_type": "execute_result",
          "data": {
            "text/html": [
              "<div>\n",
              "<style scoped>\n",
              "    .dataframe tbody tr th:only-of-type {\n",
              "        vertical-align: middle;\n",
              "    }\n",
              "\n",
              "    .dataframe tbody tr th {\n",
              "        vertical-align: top;\n",
              "    }\n",
              "\n",
              "    .dataframe thead th {\n",
              "        text-align: right;\n",
              "    }\n",
              "</style>\n",
              "<table border=\"1\" class=\"dataframe\">\n",
              "  <thead>\n",
              "    <tr style=\"text-align: right;\">\n",
              "      <th></th>\n",
              "      <th>order_id</th>\n",
              "      <th>order_total</th>\n",
              "    </tr>\n",
              "  </thead>\n",
              "  <tbody>\n",
              "    <tr>\n",
              "      <th>0</th>\n",
              "      <td>11038</td>\n",
              "      <td>732.60</td>\n",
              "    </tr>\n",
              "    <tr>\n",
              "      <th>1</th>\n",
              "      <td>10782</td>\n",
              "      <td>12.50</td>\n",
              "    </tr>\n",
              "    <tr>\n",
              "      <th>2</th>\n",
              "      <td>10725</td>\n",
              "      <td>287.80</td>\n",
              "    </tr>\n",
              "    <tr>\n",
              "      <th>3</th>\n",
              "      <td>10423</td>\n",
              "      <td>1020.00</td>\n",
              "    </tr>\n",
              "    <tr>\n",
              "      <th>4</th>\n",
              "      <td>10518</td>\n",
              "      <td>4150.05</td>\n",
              "    </tr>\n",
              "  </tbody>\n",
              "</table>\n",
              "</div>"
            ],
            "text/plain": [
              "   order_id  order_total\n",
              "0     11038       732.60\n",
              "1     10782        12.50\n",
              "2     10725       287.80\n",
              "3     10423      1020.00\n",
              "4     10518      4150.05"
            ]
          },
          "metadata": {
            "tags": []
          },
          "execution_count": 12
        }
      ]
    },
    {
      "cell_type": "code",
      "metadata": {
        "id": "1-mr2O3XVMM7"
      },
      "source": [
        "# 6. Vendas por ano (trabalho em equipe)"
      ],
      "execution_count": null,
      "outputs": []
    },
    {
      "cell_type": "code",
      "metadata": {
        "id": "0aOYFseeVOVQ"
      },
      "source": [
        "# 7. Produtos vendidos em 1995 (trabalho em equipe)"
      ],
      "execution_count": null,
      "outputs": []
    },
    {
      "cell_type": "code",
      "metadata": {
        "id": "PJwDlJ_ZVTT3"
      },
      "source": [
        "# 8. Vendas por Categoria (trabalho em equipe)"
      ],
      "execution_count": null,
      "outputs": []
    }
  ]
}