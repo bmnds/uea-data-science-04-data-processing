{
  "nbformat": 4,
  "nbformat_minor": 0,
  "metadata": {
    "colab": {
      "name": "[Atividade02]-Notebook_ETL_Pandas.ipynb",
      "provenance": [],
      "collapsed_sections": [
        "Yq5-Zy464zjt",
        "TE7L3NCQ5RVN"
      ],
      "include_colab_link": true
    },
    "kernelspec": {
      "name": "python3",
      "display_name": "Python 3"
    }
  },
  "cells": [
    {
      "cell_type": "markdown",
      "metadata": {
        "id": "view-in-github",
        "colab_type": "text"
      },
      "source": [
        "<a href=\"https://colab.research.google.com/github/bmnds/uea-data-science-04-data-processing/blob/main/%5BAtividade02%5D_Notebook_ETL_Pandas.ipynb\" target=\"_parent\"><img src=\"https://colab.research.google.com/assets/colab-badge.svg\" alt=\"Open In Colab\"/></a>"
      ]
    },
    {
      "cell_type": "code",
      "metadata": {
        "id": "Gk8tworSnopG"
      },
      "source": [
        "# Importando libs necessárias\n",
        "import pandas as pd\n",
        "import numpy as np"
      ],
      "execution_count": 1,
      "outputs": []
    },
    {
      "cell_type": "code",
      "metadata": {
        "colab": {
          "base_uri": "https://localhost:8080/"
        },
        "id": "kPrtEkq6L93x",
        "outputId": "27f06d39-f1b0-4829-c592-74109fe291ab"
      },
      "source": [
        "# Baixando datasets para análise\n",
        "!curl -o brazil_covid19.tar.gz -s -OL 'https://drive.google.com/uc?export=download&id=1gsOhZkvDKCiEwtjwJbcyyXdbhjyOIukn'\n",
        "!tar -zxvf brazil_covid19.tar.gz\n",
        "!rm brazil_covid19.tar.gz"
      ],
      "execution_count": 2,
      "outputs": [
        {
          "output_type": "stream",
          "text": [
            "brazil_covid19/\n",
            "brazil_covid19/brazil_cities_coordinates.csv\n",
            "brazil_covid19/brazil_covid19.csv\n",
            "brazil_covid19/brazil_covid19_cities.csv\n",
            "brazil_covid19/brazil_covid19_macro.csv\n",
            "brazil_covid19/brazil_population_2019.xlsx\n"
          ],
          "name": "stdout"
        }
      ]
    },
    {
      "cell_type": "markdown",
      "metadata": {
        "id": "Yq5-Zy464zjt"
      },
      "source": [
        "# JUNÇÃO E CLASSIFICAÇÃO\n",
        "*   Ler os dados de diferentes tabelas;\n",
        "*   Extrair variável de interesse;\n",
        "*   Aplicar transformações.\n",
        "\n"
      ]
    },
    {
      "cell_type": "code",
      "metadata": {
        "colab": {
          "base_uri": "https://localhost:8080/",
          "height": 198
        },
        "id": "LfWaDWvkoCkh",
        "outputId": "b3598532-d226-4ef3-fb16-f9ef0020b4c6"
      },
      "source": [
        "df_pop = pd.read_excel('brazil_covid19/brazil_population_2019.xlsx')\n",
        "df_pop.sample(5) "
      ],
      "execution_count": 3,
      "outputs": [
        {
          "output_type": "execute_result",
          "data": {
            "text/html": [
              "<div>\n",
              "<style scoped>\n",
              "    .dataframe tbody tr th:only-of-type {\n",
              "        vertical-align: middle;\n",
              "    }\n",
              "\n",
              "    .dataframe tbody tr th {\n",
              "        vertical-align: top;\n",
              "    }\n",
              "\n",
              "    .dataframe thead th {\n",
              "        text-align: right;\n",
              "    }\n",
              "</style>\n",
              "<table border=\"1\" class=\"dataframe\">\n",
              "  <thead>\n",
              "    <tr style=\"text-align: right;\">\n",
              "      <th></th>\n",
              "      <th>region</th>\n",
              "      <th>state</th>\n",
              "      <th>city</th>\n",
              "      <th>state_code</th>\n",
              "      <th>city_code</th>\n",
              "      <th>health_region_code</th>\n",
              "      <th>health_region</th>\n",
              "      <th>population</th>\n",
              "    </tr>\n",
              "  </thead>\n",
              "  <tbody>\n",
              "    <tr>\n",
              "      <th>986</th>\n",
              "      <td>Nordeste</td>\n",
              "      <td>Alagoas</td>\n",
              "      <td>Taquarana</td>\n",
              "      <td>27</td>\n",
              "      <td>270910</td>\n",
              "      <td>27007</td>\n",
              "      <td>7ª Região de Saúde</td>\n",
              "      <td>19980</td>\n",
              "    </tr>\n",
              "    <tr>\n",
              "      <th>2379</th>\n",
              "      <td>Sul</td>\n",
              "      <td>Paraná</td>\n",
              "      <td>Campo Bonito</td>\n",
              "      <td>41</td>\n",
              "      <td>410405</td>\n",
              "      <td>41010</td>\n",
              "      <td>10ª RS Cascavel</td>\n",
              "      <td>3833</td>\n",
              "    </tr>\n",
              "    <tr>\n",
              "      <th>851</th>\n",
              "      <td>Nordeste</td>\n",
              "      <td>Pernambuco</td>\n",
              "      <td>Lagoa do Carro</td>\n",
              "      <td>26</td>\n",
              "      <td>260845</td>\n",
              "      <td>26006</td>\n",
              "      <td>Limoeiro</td>\n",
              "      <td>18071</td>\n",
              "    </tr>\n",
              "    <tr>\n",
              "      <th>214</th>\n",
              "      <td>Nordeste</td>\n",
              "      <td>Maranhão</td>\n",
              "      <td>Guimarães</td>\n",
              "      <td>21</td>\n",
              "      <td>210490</td>\n",
              "      <td>21011</td>\n",
              "      <td>Pinheiro</td>\n",
              "      <td>12030</td>\n",
              "    </tr>\n",
              "    <tr>\n",
              "      <th>1500</th>\n",
              "      <td>Norte</td>\n",
              "      <td>Tocantins</td>\n",
              "      <td>Augustinópolis</td>\n",
              "      <td>17</td>\n",
              "      <td>170255</td>\n",
              "      <td>17002</td>\n",
              "      <td>Bico do Papagaio</td>\n",
              "      <td>18412</td>\n",
              "    </tr>\n",
              "  </tbody>\n",
              "</table>\n",
              "</div>"
            ],
            "text/plain": [
              "        region       state  ...       health_region  population\n",
              "986   Nordeste     Alagoas  ...  7ª Região de Saúde       19980\n",
              "2379       Sul      Paraná  ...     10ª RS Cascavel        3833\n",
              "851   Nordeste  Pernambuco  ...            Limoeiro       18071\n",
              "214   Nordeste    Maranhão  ...            Pinheiro       12030\n",
              "1500     Norte   Tocantins  ...    Bico do Papagaio       18412\n",
              "\n",
              "[5 rows x 8 columns]"
            ]
          },
          "metadata": {
            "tags": []
          },
          "execution_count": 3
        }
      ]
    },
    {
      "cell_type": "code",
      "metadata": {
        "colab": {
          "base_uri": "https://localhost:8080/"
        },
        "id": "NSgystPuqWQW",
        "outputId": "babcf6ad-04af-4944-bbf0-af6b96eb9b23"
      },
      "source": [
        "df_pop.info()"
      ],
      "execution_count": 4,
      "outputs": [
        {
          "output_type": "stream",
          "text": [
            "<class 'pandas.core.frame.DataFrame'>\n",
            "RangeIndex: 2865 entries, 0 to 2864\n",
            "Data columns (total 8 columns):\n",
            " #   Column              Non-Null Count  Dtype \n",
            "---  ------              --------------  ----- \n",
            " 0   region              2865 non-null   object\n",
            " 1   state               2865 non-null   object\n",
            " 2   city                2865 non-null   object\n",
            " 3   state_code          2865 non-null   int64 \n",
            " 4   city_code           2865 non-null   int64 \n",
            " 5   health_region_code  2865 non-null   int64 \n",
            " 6   health_region       2865 non-null   object\n",
            " 7   population          2865 non-null   int64 \n",
            "dtypes: int64(4), object(4)\n",
            "memory usage: 179.2+ KB\n"
          ],
          "name": "stdout"
        }
      ]
    },
    {
      "cell_type": "code",
      "metadata": {
        "colab": {
          "base_uri": "https://localhost:8080/"
        },
        "id": "w4jH6lOoO5VY",
        "outputId": "55c80b78-7b1a-4e4b-f546-e0b5c6a0ff12"
      },
      "source": [
        "regions = np.unique(df_pop['region'])\n",
        "regions"
      ],
      "execution_count": 5,
      "outputs": [
        {
          "output_type": "execute_result",
          "data": {
            "text/plain": [
              "array(['Centro-Oeste', 'Nordeste', 'Norte', 'Sudeste', 'Sul'],\n",
              "      dtype=object)"
            ]
          },
          "metadata": {
            "tags": []
          },
          "execution_count": 5
        }
      ]
    },
    {
      "cell_type": "code",
      "metadata": {
        "colab": {
          "base_uri": "https://localhost:8080/",
          "height": 198
        },
        "id": "kuwpvryyRWuD",
        "outputId": "54ae2245-7415-4fd2-e5ca-9058ede5e3d3"
      },
      "source": [
        "all_regions_pop = [ df_pop['population'].loc[df_pop['region'] == region].sum() for region in regions ]\n",
        "all_regions_pop\n",
        "\n",
        "regions_pop = [('Centro-Oeste',all_regions_pop[0]),('Nordeste',all_regions_pop[1]),\\\n",
        "                      ('Norte',all_regions_pop[2]),('Sudeste',all_regions_pop[3]),\\\n",
        "                      ('Sul',all_regions_pop[4])]\n",
        "\n",
        "regions_population = pd.DataFrame.from_dict(dict(regions_pop),orient='index',columns=['population'])\n",
        "regions_population"
      ],
      "execution_count": 6,
      "outputs": [
        {
          "output_type": "execute_result",
          "data": {
            "text/html": [
              "<div>\n",
              "<style scoped>\n",
              "    .dataframe tbody tr th:only-of-type {\n",
              "        vertical-align: middle;\n",
              "    }\n",
              "\n",
              "    .dataframe tbody tr th {\n",
              "        vertical-align: top;\n",
              "    }\n",
              "\n",
              "    .dataframe thead th {\n",
              "        text-align: right;\n",
              "    }\n",
              "</style>\n",
              "<table border=\"1\" class=\"dataframe\">\n",
              "  <thead>\n",
              "    <tr style=\"text-align: right;\">\n",
              "      <th></th>\n",
              "      <th>population</th>\n",
              "    </tr>\n",
              "  </thead>\n",
              "  <tbody>\n",
              "    <tr>\n",
              "      <th>Centro-Oeste</th>\n",
              "      <td>13085364</td>\n",
              "    </tr>\n",
              "    <tr>\n",
              "      <th>Nordeste</th>\n",
              "      <td>48946190</td>\n",
              "    </tr>\n",
              "    <tr>\n",
              "      <th>Norte</th>\n",
              "      <td>17328833</td>\n",
              "    </tr>\n",
              "    <tr>\n",
              "      <th>Sudeste</th>\n",
              "      <td>80421777</td>\n",
              "    </tr>\n",
              "    <tr>\n",
              "      <th>Sul</th>\n",
              "      <td>24522343</td>\n",
              "    </tr>\n",
              "  </tbody>\n",
              "</table>\n",
              "</div>"
            ],
            "text/plain": [
              "              population\n",
              "Centro-Oeste    13085364\n",
              "Nordeste        48946190\n",
              "Norte           17328833\n",
              "Sudeste         80421777\n",
              "Sul             24522343"
            ]
          },
          "metadata": {
            "tags": []
          },
          "execution_count": 6
        }
      ]
    },
    {
      "cell_type": "code",
      "metadata": {
        "colab": {
          "base_uri": "https://localhost:8080/",
          "height": 198
        },
        "id": "OAoltXdp8mko",
        "outputId": "63ae02d1-6df3-4455-e41c-0eb05e41d21e"
      },
      "source": [
        "df_cases = pd.read_csv('brazil_covid19/brazil_covid19.csv',error_bad_lines=False)\n",
        "df_cases.sample(5)"
      ],
      "execution_count": 7,
      "outputs": [
        {
          "output_type": "execute_result",
          "data": {
            "text/html": [
              "<div>\n",
              "<style scoped>\n",
              "    .dataframe tbody tr th:only-of-type {\n",
              "        vertical-align: middle;\n",
              "    }\n",
              "\n",
              "    .dataframe tbody tr th {\n",
              "        vertical-align: top;\n",
              "    }\n",
              "\n",
              "    .dataframe thead th {\n",
              "        text-align: right;\n",
              "    }\n",
              "</style>\n",
              "<table border=\"1\" class=\"dataframe\">\n",
              "  <thead>\n",
              "    <tr style=\"text-align: right;\">\n",
              "      <th></th>\n",
              "      <th>date</th>\n",
              "      <th>region</th>\n",
              "      <th>state</th>\n",
              "      <th>cases</th>\n",
              "      <th>deaths</th>\n",
              "    </tr>\n",
              "  </thead>\n",
              "  <tbody>\n",
              "    <tr>\n",
              "      <th>3614</th>\n",
              "      <td>2020-07-07</td>\n",
              "      <td>Sudeste</td>\n",
              "      <td>SP</td>\n",
              "      <td>332708</td>\n",
              "      <td>16475</td>\n",
              "    </tr>\n",
              "    <tr>\n",
              "      <th>4019</th>\n",
              "      <td>2020-07-22</td>\n",
              "      <td>Sudeste</td>\n",
              "      <td>SP</td>\n",
              "      <td>439446</td>\n",
              "      <td>20532</td>\n",
              "    </tr>\n",
              "    <tr>\n",
              "      <th>6028</th>\n",
              "      <td>2020-10-05</td>\n",
              "      <td>Nordeste</td>\n",
              "      <td>MA</td>\n",
              "      <td>175753</td>\n",
              "      <td>3807</td>\n",
              "    </tr>\n",
              "    <tr>\n",
              "      <th>4286</th>\n",
              "      <td>2020-08-01</td>\n",
              "      <td>Sudeste</td>\n",
              "      <td>ES</td>\n",
              "      <td>83814</td>\n",
              "      <td>2566</td>\n",
              "    </tr>\n",
              "    <tr>\n",
              "      <th>4768</th>\n",
              "      <td>2020-08-19</td>\n",
              "      <td>Norte</td>\n",
              "      <td>PA</td>\n",
              "      <td>182231</td>\n",
              "      <td>6015</td>\n",
              "    </tr>\n",
              "  </tbody>\n",
              "</table>\n",
              "</div>"
            ],
            "text/plain": [
              "            date    region state   cases  deaths\n",
              "3614  2020-07-07   Sudeste    SP  332708   16475\n",
              "4019  2020-07-22   Sudeste    SP  439446   20532\n",
              "6028  2020-10-05  Nordeste    MA  175753    3807\n",
              "4286  2020-08-01   Sudeste    ES   83814    2566\n",
              "4768  2020-08-19     Norte    PA  182231    6015"
            ]
          },
          "metadata": {
            "tags": []
          },
          "execution_count": 7
        }
      ]
    },
    {
      "cell_type": "code",
      "metadata": {
        "colab": {
          "base_uri": "https://localhost:8080/",
          "height": 198
        },
        "id": "5DkGYOAIBRT_",
        "outputId": "221f318e-a286-470f-a741-389b942be513"
      },
      "source": [
        "\"\"\"\n",
        "Encontrando total de óbitos por região\n",
        "\"\"\"\n",
        "all_regions_deaths = [ df_cases['deaths'].loc[df_cases[\"region\"]== region].sum() for region in regions ]\n",
        "all_regions_deaths\n",
        "\n",
        "regions_deaths = [('Centro-Oeste',all_regions_deaths[0]),('Nordeste',all_regions_deaths[1]),\\\n",
        "                      ('Norte',all_regions_deaths[2]),('Sudeste',all_regions_deaths[3]),\\\n",
        "                      ('Sul',all_regions_deaths[4])]\n",
        "\n",
        "regions_deaths = pd.DataFrame.from_dict(dict(regions_deaths),orient='index',columns=['deaths'])\n",
        "regions_deaths"
      ],
      "execution_count": 8,
      "outputs": [
        {
          "output_type": "execute_result",
          "data": {
            "text/html": [
              "<div>\n",
              "<style scoped>\n",
              "    .dataframe tbody tr th:only-of-type {\n",
              "        vertical-align: middle;\n",
              "    }\n",
              "\n",
              "    .dataframe tbody tr th {\n",
              "        vertical-align: top;\n",
              "    }\n",
              "\n",
              "    .dataframe thead th {\n",
              "        text-align: right;\n",
              "    }\n",
              "</style>\n",
              "<table border=\"1\" class=\"dataframe\">\n",
              "  <thead>\n",
              "    <tr style=\"text-align: right;\">\n",
              "      <th></th>\n",
              "      <th>deaths</th>\n",
              "    </tr>\n",
              "  </thead>\n",
              "  <tbody>\n",
              "    <tr>\n",
              "      <th>Centro-Oeste</th>\n",
              "      <td>1518353</td>\n",
              "    </tr>\n",
              "    <tr>\n",
              "      <th>Nordeste</th>\n",
              "      <td>5812513</td>\n",
              "    </tr>\n",
              "    <tr>\n",
              "      <th>Norte</th>\n",
              "      <td>2386633</td>\n",
              "    </tr>\n",
              "    <tr>\n",
              "      <th>Sudeste</th>\n",
              "      <td>9326839</td>\n",
              "    </tr>\n",
              "    <tr>\n",
              "      <th>Sul</th>\n",
              "      <td>1464191</td>\n",
              "    </tr>\n",
              "  </tbody>\n",
              "</table>\n",
              "</div>"
            ],
            "text/plain": [
              "               deaths\n",
              "Centro-Oeste  1518353\n",
              "Nordeste      5812513\n",
              "Norte         2386633\n",
              "Sudeste       9326839\n",
              "Sul           1464191"
            ]
          },
          "metadata": {
            "tags": []
          },
          "execution_count": 8
        }
      ]
    },
    {
      "cell_type": "code",
      "metadata": {
        "colab": {
          "base_uri": "https://localhost:8080/",
          "height": 198
        },
        "id": "CF8SM9BsHrhp",
        "outputId": "7ca9bf4e-cbb2-454b-9f80-4526b1aa4fd4"
      },
      "source": [
        "\"\"\"\n",
        "Encontrando total de casos por região\n",
        "\"\"\"\n",
        "\n",
        "all_regions_cases = [ df_cases['cases'].loc[df_cases[\"region\"]== region].sum() for region in regions ]\n",
        "\n",
        "regions_cases = [('Centro-Oeste',all_regions_cases[0]),('Nordeste',all_regions_cases[1]),\\\n",
        "                      ('Norte',all_regions_cases[2]),('Sudeste',all_regions_cases[3]),\\\n",
        "                      ('Sul',all_regions_cases[4])]\n",
        "\n",
        "regions_cases = pd.DataFrame.from_dict(dict(regions_cases),orient='index',columns=['cases'])\n",
        "regions_cases"
      ],
      "execution_count": 9,
      "outputs": [
        {
          "output_type": "execute_result",
          "data": {
            "text/html": [
              "<div>\n",
              "<style scoped>\n",
              "    .dataframe tbody tr th:only-of-type {\n",
              "        vertical-align: middle;\n",
              "    }\n",
              "\n",
              "    .dataframe tbody tr th {\n",
              "        vertical-align: top;\n",
              "    }\n",
              "\n",
              "    .dataframe thead th {\n",
              "        text-align: right;\n",
              "    }\n",
              "</style>\n",
              "<table border=\"1\" class=\"dataframe\">\n",
              "  <thead>\n",
              "    <tr style=\"text-align: right;\">\n",
              "      <th></th>\n",
              "      <th>cases</th>\n",
              "    </tr>\n",
              "  </thead>\n",
              "  <tbody>\n",
              "    <tr>\n",
              "      <th>Centro-Oeste</th>\n",
              "      <td>71590231</td>\n",
              "    </tr>\n",
              "    <tr>\n",
              "      <th>Nordeste</th>\n",
              "      <td>184449738</td>\n",
              "    </tr>\n",
              "    <tr>\n",
              "      <th>Norte</th>\n",
              "      <td>89017773</td>\n",
              "    </tr>\n",
              "    <tr>\n",
              "      <th>Sudeste</th>\n",
              "      <td>224057624</td>\n",
              "    </tr>\n",
              "    <tr>\n",
              "      <th>Sul</th>\n",
              "      <td>72207079</td>\n",
              "    </tr>\n",
              "  </tbody>\n",
              "</table>\n",
              "</div>"
            ],
            "text/plain": [
              "                  cases\n",
              "Centro-Oeste   71590231\n",
              "Nordeste      184449738\n",
              "Norte          89017773\n",
              "Sudeste       224057624\n",
              "Sul            72207079"
            ]
          },
          "metadata": {
            "tags": []
          },
          "execution_count": 9
        }
      ]
    },
    {
      "cell_type": "markdown",
      "metadata": {
        "id": "gEJ2zw5EO02f"
      },
      "source": [
        "## JUNÇÃO"
      ]
    },
    {
      "cell_type": "markdown",
      "metadata": {
        "id": "4iMKSID6PSHp"
      },
      "source": [
        "> Realiza-se a junção do arquivo *brazil_population_2019.csv*, contendo a informação populacional com *brazil_covid19.csv*, a qual informa o número de casos e óbitos, a fim de posteriormente aplicar classificação."
      ]
    },
    {
      "cell_type": "code",
      "metadata": {
        "colab": {
          "base_uri": "https://localhost:8080/",
          "height": 198
        },
        "id": "9_ej_zXPBf_1",
        "outputId": "df5a8a42-090d-42cb-8725-7b1be501650b"
      },
      "source": [
        "df = pd.concat([regions_population,regions_cases],axis=1)\n",
        "df = pd.concat([df,regions_deaths],axis=1)\n",
        "df"
      ],
      "execution_count": 10,
      "outputs": [
        {
          "output_type": "execute_result",
          "data": {
            "text/html": [
              "<div>\n",
              "<style scoped>\n",
              "    .dataframe tbody tr th:only-of-type {\n",
              "        vertical-align: middle;\n",
              "    }\n",
              "\n",
              "    .dataframe tbody tr th {\n",
              "        vertical-align: top;\n",
              "    }\n",
              "\n",
              "    .dataframe thead th {\n",
              "        text-align: right;\n",
              "    }\n",
              "</style>\n",
              "<table border=\"1\" class=\"dataframe\">\n",
              "  <thead>\n",
              "    <tr style=\"text-align: right;\">\n",
              "      <th></th>\n",
              "      <th>population</th>\n",
              "      <th>cases</th>\n",
              "      <th>deaths</th>\n",
              "    </tr>\n",
              "  </thead>\n",
              "  <tbody>\n",
              "    <tr>\n",
              "      <th>Centro-Oeste</th>\n",
              "      <td>13085364</td>\n",
              "      <td>71590231</td>\n",
              "      <td>1518353</td>\n",
              "    </tr>\n",
              "    <tr>\n",
              "      <th>Nordeste</th>\n",
              "      <td>48946190</td>\n",
              "      <td>184449738</td>\n",
              "      <td>5812513</td>\n",
              "    </tr>\n",
              "    <tr>\n",
              "      <th>Norte</th>\n",
              "      <td>17328833</td>\n",
              "      <td>89017773</td>\n",
              "      <td>2386633</td>\n",
              "    </tr>\n",
              "    <tr>\n",
              "      <th>Sudeste</th>\n",
              "      <td>80421777</td>\n",
              "      <td>224057624</td>\n",
              "      <td>9326839</td>\n",
              "    </tr>\n",
              "    <tr>\n",
              "      <th>Sul</th>\n",
              "      <td>24522343</td>\n",
              "      <td>72207079</td>\n",
              "      <td>1464191</td>\n",
              "    </tr>\n",
              "  </tbody>\n",
              "</table>\n",
              "</div>"
            ],
            "text/plain": [
              "              population      cases   deaths\n",
              "Centro-Oeste    13085364   71590231  1518353\n",
              "Nordeste        48946190  184449738  5812513\n",
              "Norte           17328833   89017773  2386633\n",
              "Sudeste         80421777  224057624  9326839\n",
              "Sul             24522343   72207079  1464191"
            ]
          },
          "metadata": {
            "tags": []
          },
          "execution_count": 10
        }
      ]
    },
    {
      "cell_type": "markdown",
      "metadata": {
        "id": "Wx9Xn4F1HbYY"
      },
      "source": [
        "## CLASSIFICAÇÃO"
      ]
    },
    {
      "cell_type": "markdown",
      "metadata": {
        "id": "yr09PUI9BImN"
      },
      "source": [
        "* Classificar porcentagem de óbitos por região.\n",
        "* Classificar porcentagem de casos de cura.\n",
        "* Obs.: Dados referentes ao período de **27/03** a **25/11** de 2020\n"
      ]
    },
    {
      "cell_type": "markdown",
      "metadata": {
        "id": "e4-GG0UUJUoP"
      },
      "source": [
        "* A coluna ***deaths_percent*** representa a porcentagem de óbitos da população.\n",
        "* A coluna *safe_cases* representa a porcentagem de casos detectados e curados."
      ]
    },
    {
      "cell_type": "code",
      "metadata": {
        "colab": {
          "base_uri": "https://localhost:8080/",
          "height": 198
        },
        "id": "urxw6NrtOmn5",
        "outputId": "cbf74972-46ff-41ff-c2a0-97fcb3706363"
      },
      "source": [
        "\"\"\"\n",
        "Ordenando por porcentagem de óbitos\n",
        "\"\"\"\n",
        "\n",
        "df['deaths_percent'] = (df['deaths']/df['population'])*100\n",
        "df['safe_cases'] = ((df['cases']-df['deaths'])/df['cases'])*100\n",
        "df.sort_values('deaths_percent',ascending=False)"
      ],
      "execution_count": 11,
      "outputs": [
        {
          "output_type": "execute_result",
          "data": {
            "text/html": [
              "<div>\n",
              "<style scoped>\n",
              "    .dataframe tbody tr th:only-of-type {\n",
              "        vertical-align: middle;\n",
              "    }\n",
              "\n",
              "    .dataframe tbody tr th {\n",
              "        vertical-align: top;\n",
              "    }\n",
              "\n",
              "    .dataframe thead th {\n",
              "        text-align: right;\n",
              "    }\n",
              "</style>\n",
              "<table border=\"1\" class=\"dataframe\">\n",
              "  <thead>\n",
              "    <tr style=\"text-align: right;\">\n",
              "      <th></th>\n",
              "      <th>population</th>\n",
              "      <th>cases</th>\n",
              "      <th>deaths</th>\n",
              "      <th>deaths_percent</th>\n",
              "      <th>safe_cases</th>\n",
              "    </tr>\n",
              "  </thead>\n",
              "  <tbody>\n",
              "    <tr>\n",
              "      <th>Norte</th>\n",
              "      <td>17328833</td>\n",
              "      <td>89017773</td>\n",
              "      <td>2386633</td>\n",
              "      <td>13.772612</td>\n",
              "      <td>97.318925</td>\n",
              "    </tr>\n",
              "    <tr>\n",
              "      <th>Nordeste</th>\n",
              "      <td>48946190</td>\n",
              "      <td>184449738</td>\n",
              "      <td>5812513</td>\n",
              "      <td>11.875312</td>\n",
              "      <td>96.848728</td>\n",
              "    </tr>\n",
              "    <tr>\n",
              "      <th>Centro-Oeste</th>\n",
              "      <td>13085364</td>\n",
              "      <td>71590231</td>\n",
              "      <td>1518353</td>\n",
              "      <td>11.603445</td>\n",
              "      <td>97.879106</td>\n",
              "    </tr>\n",
              "    <tr>\n",
              "      <th>Sudeste</th>\n",
              "      <td>80421777</td>\n",
              "      <td>224057624</td>\n",
              "      <td>9326839</td>\n",
              "      <td>11.597405</td>\n",
              "      <td>95.837303</td>\n",
              "    </tr>\n",
              "    <tr>\n",
              "      <th>Sul</th>\n",
              "      <td>24522343</td>\n",
              "      <td>72207079</td>\n",
              "      <td>1464191</td>\n",
              "      <td>5.970845</td>\n",
              "      <td>97.972233</td>\n",
              "    </tr>\n",
              "  </tbody>\n",
              "</table>\n",
              "</div>"
            ],
            "text/plain": [
              "              population      cases   deaths  deaths_percent  safe_cases\n",
              "Norte           17328833   89017773  2386633       13.772612   97.318925\n",
              "Nordeste        48946190  184449738  5812513       11.875312   96.848728\n",
              "Centro-Oeste    13085364   71590231  1518353       11.603445   97.879106\n",
              "Sudeste         80421777  224057624  9326839       11.597405   95.837303\n",
              "Sul             24522343   72207079  1464191        5.970845   97.972233"
            ]
          },
          "metadata": {
            "tags": []
          },
          "execution_count": 11
        }
      ]
    },
    {
      "cell_type": "code",
      "metadata": {
        "colab": {
          "base_uri": "https://localhost:8080/",
          "height": 198
        },
        "id": "GRRd_CXeG0MH",
        "outputId": "e78ea1e6-c78c-4669-c898-2c08013f15b4"
      },
      "source": [
        "\"\"\"\n",
        "Ordenando por casos detectados e curados.\n",
        "\"\"\"\n",
        "df.sort_values('safe_cases',ascending=False)"
      ],
      "execution_count": 12,
      "outputs": [
        {
          "output_type": "execute_result",
          "data": {
            "text/html": [
              "<div>\n",
              "<style scoped>\n",
              "    .dataframe tbody tr th:only-of-type {\n",
              "        vertical-align: middle;\n",
              "    }\n",
              "\n",
              "    .dataframe tbody tr th {\n",
              "        vertical-align: top;\n",
              "    }\n",
              "\n",
              "    .dataframe thead th {\n",
              "        text-align: right;\n",
              "    }\n",
              "</style>\n",
              "<table border=\"1\" class=\"dataframe\">\n",
              "  <thead>\n",
              "    <tr style=\"text-align: right;\">\n",
              "      <th></th>\n",
              "      <th>population</th>\n",
              "      <th>cases</th>\n",
              "      <th>deaths</th>\n",
              "      <th>deaths_percent</th>\n",
              "      <th>safe_cases</th>\n",
              "    </tr>\n",
              "  </thead>\n",
              "  <tbody>\n",
              "    <tr>\n",
              "      <th>Sul</th>\n",
              "      <td>24522343</td>\n",
              "      <td>72207079</td>\n",
              "      <td>1464191</td>\n",
              "      <td>5.970845</td>\n",
              "      <td>97.972233</td>\n",
              "    </tr>\n",
              "    <tr>\n",
              "      <th>Centro-Oeste</th>\n",
              "      <td>13085364</td>\n",
              "      <td>71590231</td>\n",
              "      <td>1518353</td>\n",
              "      <td>11.603445</td>\n",
              "      <td>97.879106</td>\n",
              "    </tr>\n",
              "    <tr>\n",
              "      <th>Norte</th>\n",
              "      <td>17328833</td>\n",
              "      <td>89017773</td>\n",
              "      <td>2386633</td>\n",
              "      <td>13.772612</td>\n",
              "      <td>97.318925</td>\n",
              "    </tr>\n",
              "    <tr>\n",
              "      <th>Nordeste</th>\n",
              "      <td>48946190</td>\n",
              "      <td>184449738</td>\n",
              "      <td>5812513</td>\n",
              "      <td>11.875312</td>\n",
              "      <td>96.848728</td>\n",
              "    </tr>\n",
              "    <tr>\n",
              "      <th>Sudeste</th>\n",
              "      <td>80421777</td>\n",
              "      <td>224057624</td>\n",
              "      <td>9326839</td>\n",
              "      <td>11.597405</td>\n",
              "      <td>95.837303</td>\n",
              "    </tr>\n",
              "  </tbody>\n",
              "</table>\n",
              "</div>"
            ],
            "text/plain": [
              "              population      cases   deaths  deaths_percent  safe_cases\n",
              "Sul             24522343   72207079  1464191        5.970845   97.972233\n",
              "Centro-Oeste    13085364   71590231  1518353       11.603445   97.879106\n",
              "Norte           17328833   89017773  2386633       13.772612   97.318925\n",
              "Nordeste        48946190  184449738  5812513       11.875312   96.848728\n",
              "Sudeste         80421777  224057624  9326839       11.597405   95.837303"
            ]
          },
          "metadata": {
            "tags": []
          },
          "execution_count": 12
        }
      ]
    },
    {
      "cell_type": "markdown",
      "metadata": {
        "id": "TE7L3NCQ5RVN"
      },
      "source": [
        "# OPERAÇÃO DE LINHA E AGREGAÇÃO"
      ]
    },
    {
      "cell_type": "markdown",
      "metadata": {
        "id": "xvej_v26t_52"
      },
      "source": [
        "Para a análise de operações de linha e agregação, utilizaremos o dataset **brazil_covid19_cities.csv** que contém a quantidade acumulada de casos confirmados e de óbitos por covid19, dia a dia, para cada município do Brasil"
      ]
    },
    {
      "cell_type": "code",
      "metadata": {
        "colab": {
          "base_uri": "https://localhost:8080/",
          "height": 198
        },
        "id": "r9L1SFeq5Z13",
        "outputId": "8a8731b7-f0d8-49e6-f14f-382bc8a15c43"
      },
      "source": [
        "df_cities = pd.read_csv('brazil_covid19/brazil_covid19_cities.csv')\n",
        "df_cities.sample(5)"
      ],
      "execution_count": 13,
      "outputs": [
        {
          "output_type": "execute_result",
          "data": {
            "text/html": [
              "<div>\n",
              "<style scoped>\n",
              "    .dataframe tbody tr th:only-of-type {\n",
              "        vertical-align: middle;\n",
              "    }\n",
              "\n",
              "    .dataframe tbody tr th {\n",
              "        vertical-align: top;\n",
              "    }\n",
              "\n",
              "    .dataframe thead th {\n",
              "        text-align: right;\n",
              "    }\n",
              "</style>\n",
              "<table border=\"1\" class=\"dataframe\">\n",
              "  <thead>\n",
              "    <tr style=\"text-align: right;\">\n",
              "      <th></th>\n",
              "      <th>date</th>\n",
              "      <th>state</th>\n",
              "      <th>name</th>\n",
              "      <th>code</th>\n",
              "      <th>cases</th>\n",
              "      <th>deaths</th>\n",
              "    </tr>\n",
              "  </thead>\n",
              "  <tbody>\n",
              "    <tr>\n",
              "      <th>328664</th>\n",
              "      <td>2020-05-25</td>\n",
              "      <td>AL</td>\n",
              "      <td>Cajueiro</td>\n",
              "      <td>270130.0</td>\n",
              "      <td>7</td>\n",
              "      <td>1</td>\n",
              "    </tr>\n",
              "    <tr>\n",
              "      <th>250163</th>\n",
              "      <td>2020-05-10</td>\n",
              "      <td>SP</td>\n",
              "      <td>Lagoinha</td>\n",
              "      <td>352630.0</td>\n",
              "      <td>0</td>\n",
              "      <td>0</td>\n",
              "    </tr>\n",
              "    <tr>\n",
              "      <th>145121</th>\n",
              "      <td>2020-04-22</td>\n",
              "      <td>BA</td>\n",
              "      <td>Cocos</td>\n",
              "      <td>290810.0</td>\n",
              "      <td>0</td>\n",
              "      <td>0</td>\n",
              "    </tr>\n",
              "    <tr>\n",
              "      <th>1299793</th>\n",
              "      <td>2020-11-15</td>\n",
              "      <td>MG</td>\n",
              "      <td>Rio Acima</td>\n",
              "      <td>315480.0</td>\n",
              "      <td>287</td>\n",
              "      <td>4</td>\n",
              "    </tr>\n",
              "    <tr>\n",
              "      <th>991917</th>\n",
              "      <td>2020-09-21</td>\n",
              "      <td>BA</td>\n",
              "      <td>Miguel Calmon</td>\n",
              "      <td>292120.0</td>\n",
              "      <td>83</td>\n",
              "      <td>4</td>\n",
              "    </tr>\n",
              "  </tbody>\n",
              "</table>\n",
              "</div>"
            ],
            "text/plain": [
              "               date state           name      code  cases  deaths\n",
              "328664   2020-05-25    AL       Cajueiro  270130.0      7       1\n",
              "250163   2020-05-10    SP       Lagoinha  352630.0      0       0\n",
              "145121   2020-04-22    BA          Cocos  290810.0      0       0\n",
              "1299793  2020-11-15    MG      Rio Acima  315480.0    287       4\n",
              "991917   2020-09-21    BA  Miguel Calmon  292120.0     83       4"
            ]
          },
          "metadata": {
            "tags": []
          },
          "execution_count": 13
        }
      ]
    },
    {
      "cell_type": "markdown",
      "metadata": {
        "id": "6NRPJcGwxntr"
      },
      "source": [
        "1. *Operação de linha*: Converteremos os valores da coluna **date** para o tipo **datetime**;\n",
        "2. *Agregação*: Calcularemos o somatório de casos confirmados e de óbitos **por data e estado**;\n",
        "3. *Operação de linha*: Criaremos uma nova coluna que representará a taxa de óbitos em relação à quantidade de casos confirmados;\n",
        "4. *Classificação*: Verificaremos quais são os 5 estados com maior taxa de óbitos na última data da nossa amostragem, em 25 de novembro de 2020\n",
        "* OBS: optamos por analisar a nível de Estado ao invés de Cidade para reduzir o volume de dados processados"
      ]
    },
    {
      "cell_type": "markdown",
      "metadata": {
        "id": "mih6tnsQzyUg"
      },
      "source": [
        "### Operação de linha"
      ]
    },
    {
      "cell_type": "code",
      "metadata": {
        "id": "RA6wyfmX5t78",
        "colab": {
          "base_uri": "https://localhost:8080/"
        },
        "outputId": "f938b9f3-8aec-4b83-c027-2707efcfe558"
      },
      "source": [
        "# 1. Operação de linha: Converteremos os valores da coluna date para o tipo datetime;\n",
        "df_cities.date = pd.to_datetime(df_cities.date)\n",
        "print(f'Tipos de dados após a operação:')\n",
        "df_cities.dtypes"
      ],
      "execution_count": 14,
      "outputs": [
        {
          "output_type": "stream",
          "text": [
            "Tipos de dados após a operação:\n"
          ],
          "name": "stdout"
        },
        {
          "output_type": "execute_result",
          "data": {
            "text/plain": [
              "date      datetime64[ns]\n",
              "state             object\n",
              "name              object\n",
              "code             float64\n",
              "cases              int64\n",
              "deaths             int64\n",
              "dtype: object"
            ]
          },
          "metadata": {
            "tags": []
          },
          "execution_count": 14
        }
      ]
    },
    {
      "cell_type": "markdown",
      "metadata": {
        "id": "S4aB_er-v60F"
      },
      "source": [
        "Podemos constatar que os dados são referentes ao período de  **25/02** a **25/11** de 2020"
      ]
    },
    {
      "cell_type": "code",
      "metadata": {
        "colab": {
          "base_uri": "https://localhost:8080/"
        },
        "id": "y2gRlnnevrDN",
        "outputId": "edcbcb23-6908-4bfe-cf24-cf7f183039e8"
      },
      "source": [
        "df_cities.date.describe(datetime_is_numeric=True)"
      ],
      "execution_count": 15,
      "outputs": [
        {
          "output_type": "execute_result",
          "data": {
            "text/plain": [
              "count                          1359080\n",
              "mean     2020-07-26 11:59:59.999321856\n",
              "min                2020-03-27 00:00:00\n",
              "25%                2020-05-26 18:00:00\n",
              "50%                2020-07-26 12:00:00\n",
              "75%                2020-09-25 06:00:00\n",
              "max                2020-11-25 00:00:00\n",
              "Name: date, dtype: object"
            ]
          },
          "metadata": {
            "tags": []
          },
          "execution_count": 15
        }
      ]
    },
    {
      "cell_type": "markdown",
      "metadata": {
        "id": "iuvAKG6Wz3bZ"
      },
      "source": [
        "### Agregação"
      ]
    },
    {
      "cell_type": "code",
      "metadata": {
        "colab": {
          "base_uri": "https://localhost:8080/",
          "height": 198
        },
        "id": "SaoxYO7GcBWS",
        "outputId": "1666cd5a-b3a6-4777-f136-8f1892090521"
      },
      "source": [
        "# 2. Agregação: Calcularemos o somatório de casos confirmados e de óbitos por data e estado;\n",
        "df_states = df_cities.groupby(['date','state'])[['cases','deaths']].sum().reset_index()\n",
        "df_states.sample(5)"
      ],
      "execution_count": 16,
      "outputs": [
        {
          "output_type": "execute_result",
          "data": {
            "text/html": [
              "<div>\n",
              "<style scoped>\n",
              "    .dataframe tbody tr th:only-of-type {\n",
              "        vertical-align: middle;\n",
              "    }\n",
              "\n",
              "    .dataframe tbody tr th {\n",
              "        vertical-align: top;\n",
              "    }\n",
              "\n",
              "    .dataframe thead th {\n",
              "        text-align: right;\n",
              "    }\n",
              "</style>\n",
              "<table border=\"1\" class=\"dataframe\">\n",
              "  <thead>\n",
              "    <tr style=\"text-align: right;\">\n",
              "      <th></th>\n",
              "      <th>date</th>\n",
              "      <th>state</th>\n",
              "      <th>cases</th>\n",
              "      <th>deaths</th>\n",
              "    </tr>\n",
              "  </thead>\n",
              "  <tbody>\n",
              "    <tr>\n",
              "      <th>1081</th>\n",
              "      <td>2020-05-06</td>\n",
              "      <td>AL</td>\n",
              "      <td>1692</td>\n",
              "      <td>87</td>\n",
              "    </tr>\n",
              "    <tr>\n",
              "      <th>4633</th>\n",
              "      <td>2020-09-14</td>\n",
              "      <td>PI</td>\n",
              "      <td>86538</td>\n",
              "      <td>1973</td>\n",
              "    </tr>\n",
              "    <tr>\n",
              "      <th>5416</th>\n",
              "      <td>2020-10-13</td>\n",
              "      <td>PI</td>\n",
              "      <td>102813</td>\n",
              "      <td>2237</td>\n",
              "    </tr>\n",
              "    <tr>\n",
              "      <th>5445</th>\n",
              "      <td>2020-10-14</td>\n",
              "      <td>RJ</td>\n",
              "      <td>285205</td>\n",
              "      <td>19440</td>\n",
              "    </tr>\n",
              "    <tr>\n",
              "      <th>1541</th>\n",
              "      <td>2020-05-23</td>\n",
              "      <td>AM</td>\n",
              "      <td>28802</td>\n",
              "      <td>1744</td>\n",
              "    </tr>\n",
              "  </tbody>\n",
              "</table>\n",
              "</div>"
            ],
            "text/plain": [
              "           date state   cases  deaths\n",
              "1081 2020-05-06    AL    1692      87\n",
              "4633 2020-09-14    PI   86538    1973\n",
              "5416 2020-10-13    PI  102813    2237\n",
              "5445 2020-10-14    RJ  285205   19440\n",
              "1541 2020-05-23    AM   28802    1744"
            ]
          },
          "metadata": {
            "tags": []
          },
          "execution_count": 16
        }
      ]
    },
    {
      "cell_type": "markdown",
      "metadata": {
        "id": "yxxCVkXPz8lw"
      },
      "source": [
        "### Análise"
      ]
    },
    {
      "cell_type": "code",
      "metadata": {
        "id": "yyvVIf9LZ8Wt"
      },
      "source": [
        "# 3. Operação de linha: Criaremos uma nova coluna que representará a taxa de óbitos em relação à quantidade de casos confirmados;\n",
        "df_states['taxa_obitos'] = df_states.apply(\n",
        "    lambda row: 0 if row['cases'] == 0 else 100*row['deaths']/row['cases'], \n",
        "    axis=1)"
      ],
      "execution_count": 17,
      "outputs": []
    },
    {
      "cell_type": "code",
      "metadata": {
        "colab": {
          "base_uri": "https://localhost:8080/",
          "height": 198
        },
        "id": "ZAm9mwype3fk",
        "outputId": "0f253baf-7c85-4062-e0d7-a5f67bf53f52"
      },
      "source": [
        "# 4. Classificação: Verificaremos quais são os 5 estados com maior taxa de óbitos na última data da nossa amostragem, em 25 de novembro de 2020\n",
        "df_states[df_states['date'].eq(df_states.date.max())].sort_values('taxa_obitos',ascending = False).head(5)"
      ],
      "execution_count": 18,
      "outputs": [
        {
          "output_type": "execute_result",
          "data": {
            "text/html": [
              "<div>\n",
              "<style scoped>\n",
              "    .dataframe tbody tr th:only-of-type {\n",
              "        vertical-align: middle;\n",
              "    }\n",
              "\n",
              "    .dataframe tbody tr th {\n",
              "        vertical-align: top;\n",
              "    }\n",
              "\n",
              "    .dataframe thead th {\n",
              "        text-align: right;\n",
              "    }\n",
              "</style>\n",
              "<table border=\"1\" class=\"dataframe\">\n",
              "  <thead>\n",
              "    <tr style=\"text-align: right;\">\n",
              "      <th></th>\n",
              "      <th>date</th>\n",
              "      <th>state</th>\n",
              "      <th>cases</th>\n",
              "      <th>deaths</th>\n",
              "      <th>taxa_obitos</th>\n",
              "    </tr>\n",
              "  </thead>\n",
              "  <tbody>\n",
              "    <tr>\n",
              "      <th>6579</th>\n",
              "      <td>2020-11-25</td>\n",
              "      <td>RJ</td>\n",
              "      <td>343995</td>\n",
              "      <td>22256</td>\n",
              "      <td>6.469861</td>\n",
              "    </tr>\n",
              "    <tr>\n",
              "      <th>6576</th>\n",
              "      <td>2020-11-25</td>\n",
              "      <td>PE</td>\n",
              "      <td>178086</td>\n",
              "      <td>8971</td>\n",
              "      <td>5.037454</td>\n",
              "    </tr>\n",
              "    <tr>\n",
              "      <th>6586</th>\n",
              "      <td>2020-11-25</td>\n",
              "      <td>SP</td>\n",
              "      <td>1224544</td>\n",
              "      <td>41601</td>\n",
              "      <td>3.397265</td>\n",
              "    </tr>\n",
              "    <tr>\n",
              "      <th>6566</th>\n",
              "      <td>2020-11-25</td>\n",
              "      <td>CE</td>\n",
              "      <td>290887</td>\n",
              "      <td>9530</td>\n",
              "      <td>3.276186</td>\n",
              "    </tr>\n",
              "    <tr>\n",
              "      <th>6580</th>\n",
              "      <td>2020-11-25</td>\n",
              "      <td>RN</td>\n",
              "      <td>88064</td>\n",
              "      <td>2665</td>\n",
              "      <td>3.026208</td>\n",
              "    </tr>\n",
              "  </tbody>\n",
              "</table>\n",
              "</div>"
            ],
            "text/plain": [
              "           date state    cases  deaths  taxa_obitos\n",
              "6579 2020-11-25    RJ   343995   22256     6.469861\n",
              "6576 2020-11-25    PE   178086    8971     5.037454\n",
              "6586 2020-11-25    SP  1224544   41601     3.397265\n",
              "6566 2020-11-25    CE   290887    9530     3.276186\n",
              "6580 2020-11-25    RN    88064    2665     3.026208"
            ]
          },
          "metadata": {
            "tags": []
          },
          "execution_count": 18
        }
      ]
    }
  ]
}