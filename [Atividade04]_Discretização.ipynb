{
  "nbformat": 4,
  "nbformat_minor": 0,
  "metadata": {
    "colab": {
      "name": "[Atividade04] Discretização.ipynb",
      "provenance": [],
      "collapsed_sections": [],
      "include_colab_link": true
    },
    "kernelspec": {
      "name": "python3",
      "display_name": "Python 3"
    }
  },
  "cells": [
    {
      "cell_type": "markdown",
      "metadata": {
        "id": "view-in-github",
        "colab_type": "text"
      },
      "source": [
        "<a href=\"https://colab.research.google.com/github/bmnds/uea-data-science-04-data-processing/blob/main/%5BAtividade04%5D_Discretiza%C3%A7%C3%A3o.ipynb\" target=\"_parent\"><img src=\"https://colab.research.google.com/assets/colab-badge.svg\" alt=\"Open In Colab\"/></a>"
      ]
    },
    {
      "cell_type": "markdown",
      "metadata": {
        "id": "mrtd0UFj2SDU"
      },
      "source": [
        "# Atividade 04 - Normalização e Discretização\n",
        "\n",
        "Equipe: \n",
        "* Alberto Lins\n",
        "* Bruno Mendes"
      ]
    },
    {
      "cell_type": "code",
      "metadata": {
        "id": "l1gcge8NIZrO"
      },
      "source": [
        "# Importando as bibliotecas\n",
        "import pandas as pd\n",
        "import numpy as np\n",
        "import matplotlib.pyplot as plt"
      ],
      "execution_count": 1,
      "outputs": []
    },
    {
      "cell_type": "markdown",
      "metadata": {
        "id": "ydnbl8-IDA9A"
      },
      "source": [
        "## Dataset kc_house_data.csv"
      ]
    },
    {
      "cell_type": "code",
      "metadata": {
        "colab": {
          "base_uri": "https://localhost:8080/"
        },
        "id": "1KR0OJuQDEtf",
        "outputId": "d2e8be44-d42a-4485-8ed3-0a35f2632dd6"
      },
      "source": [
        "# Baixando os datasets\n",
        "%%time\n",
        "!curl -o datasets_aula2.tar.gz -s -OL 'https://drive.google.com/uc?export=download&id=1wu8uSaqMQ4kdJRoXUew8KoBHophG5lBk'\n",
        "!tar -zxvf datasets_aula2.tar.gz\n",
        "!rm datasets_aula2.tar.gz"
      ],
      "execution_count": 2,
      "outputs": [
        {
          "output_type": "stream",
          "text": [
            "datasets_aula2/\n",
            "datasets_aula2/countries.csv\n",
            "datasets_aula2/Customers.csv\n",
            "datasets_aula2/flags.csv\n",
            "datasets_aula2/kc_house_data.csv\n",
            "datasets_aula2/Orders.csv\n",
            "CPU times: user 14.3 ms, sys: 18.7 ms, total: 33 ms\n",
            "Wall time: 1.36 s\n"
          ],
          "name": "stdout"
        }
      ]
    },
    {
      "cell_type": "code",
      "metadata": {
        "colab": {
          "base_uri": "https://localhost:8080/",
          "height": 396
        },
        "id": "-d_5ODyrDHj9",
        "outputId": "6ba99e1a-6746-49d0-a5af-33be5badc6b5"
      },
      "source": [
        "df = pd.read_csv('datasets_aula2/kc_house_data.csv')\n",
        "print(f'{df.shape[0]} linhas e {df.shape[1]} colunas')\n",
        "df.sample(10)"
      ],
      "execution_count": 3,
      "outputs": [
        {
          "output_type": "stream",
          "text": [
            "21613 linhas e 21 colunas\n"
          ],
          "name": "stdout"
        },
        {
          "output_type": "execute_result",
          "data": {
            "text/html": [
              "<div>\n",
              "<style scoped>\n",
              "    .dataframe tbody tr th:only-of-type {\n",
              "        vertical-align: middle;\n",
              "    }\n",
              "\n",
              "    .dataframe tbody tr th {\n",
              "        vertical-align: top;\n",
              "    }\n",
              "\n",
              "    .dataframe thead th {\n",
              "        text-align: right;\n",
              "    }\n",
              "</style>\n",
              "<table border=\"1\" class=\"dataframe\">\n",
              "  <thead>\n",
              "    <tr style=\"text-align: right;\">\n",
              "      <th></th>\n",
              "      <th>id</th>\n",
              "      <th>date</th>\n",
              "      <th>price</th>\n",
              "      <th>bedrooms</th>\n",
              "      <th>bathrooms</th>\n",
              "      <th>sqft_living</th>\n",
              "      <th>sqft_lot</th>\n",
              "      <th>floors</th>\n",
              "      <th>waterfront</th>\n",
              "      <th>view</th>\n",
              "      <th>condition</th>\n",
              "      <th>grade</th>\n",
              "      <th>sqft_above</th>\n",
              "      <th>sqft_basement</th>\n",
              "      <th>yr_built</th>\n",
              "      <th>yr_renovated</th>\n",
              "      <th>zipcode</th>\n",
              "      <th>lat</th>\n",
              "      <th>long</th>\n",
              "      <th>sqft_living15</th>\n",
              "      <th>sqft_lot15</th>\n",
              "    </tr>\n",
              "  </thead>\n",
              "  <tbody>\n",
              "    <tr>\n",
              "      <th>12276</th>\n",
              "      <td>644000102</td>\n",
              "      <td>20150413T000000</td>\n",
              "      <td>650000.0</td>\n",
              "      <td>3</td>\n",
              "      <td>1.00</td>\n",
              "      <td>1520</td>\n",
              "      <td>10227</td>\n",
              "      <td>1.0</td>\n",
              "      <td>0</td>\n",
              "      <td>0</td>\n",
              "      <td>4</td>\n",
              "      <td>6</td>\n",
              "      <td>1520</td>\n",
              "      <td>0</td>\n",
              "      <td>1951</td>\n",
              "      <td>0</td>\n",
              "      <td>98004</td>\n",
              "      <td>47.5872</td>\n",
              "      <td>-122.196</td>\n",
              "      <td>2710</td>\n",
              "      <td>10912</td>\n",
              "    </tr>\n",
              "    <tr>\n",
              "      <th>16783</th>\n",
              "      <td>2767604254</td>\n",
              "      <td>20140603T000000</td>\n",
              "      <td>425000.0</td>\n",
              "      <td>2</td>\n",
              "      <td>2.50</td>\n",
              "      <td>1140</td>\n",
              "      <td>1182</td>\n",
              "      <td>3.0</td>\n",
              "      <td>0</td>\n",
              "      <td>0</td>\n",
              "      <td>3</td>\n",
              "      <td>8</td>\n",
              "      <td>1140</td>\n",
              "      <td>0</td>\n",
              "      <td>2007</td>\n",
              "      <td>0</td>\n",
              "      <td>98107</td>\n",
              "      <td>47.6713</td>\n",
              "      <td>-122.383</td>\n",
              "      <td>1290</td>\n",
              "      <td>1189</td>\n",
              "    </tr>\n",
              "    <tr>\n",
              "      <th>11659</th>\n",
              "      <td>7635801370</td>\n",
              "      <td>20140904T000000</td>\n",
              "      <td>530000.0</td>\n",
              "      <td>3</td>\n",
              "      <td>2.00</td>\n",
              "      <td>3080</td>\n",
              "      <td>17700</td>\n",
              "      <td>1.0</td>\n",
              "      <td>0</td>\n",
              "      <td>0</td>\n",
              "      <td>4</td>\n",
              "      <td>8</td>\n",
              "      <td>1740</td>\n",
              "      <td>1340</td>\n",
              "      <td>1965</td>\n",
              "      <td>0</td>\n",
              "      <td>98166</td>\n",
              "      <td>47.4695</td>\n",
              "      <td>-122.366</td>\n",
              "      <td>2100</td>\n",
              "      <td>15100</td>\n",
              "    </tr>\n",
              "    <tr>\n",
              "      <th>9662</th>\n",
              "      <td>2624039133</td>\n",
              "      <td>20140611T000000</td>\n",
              "      <td>514000.0</td>\n",
              "      <td>3</td>\n",
              "      <td>1.75</td>\n",
              "      <td>1720</td>\n",
              "      <td>5899</td>\n",
              "      <td>1.0</td>\n",
              "      <td>0</td>\n",
              "      <td>1</td>\n",
              "      <td>3</td>\n",
              "      <td>8</td>\n",
              "      <td>1220</td>\n",
              "      <td>500</td>\n",
              "      <td>1986</td>\n",
              "      <td>0</td>\n",
              "      <td>98136</td>\n",
              "      <td>47.5399</td>\n",
              "      <td>-122.385</td>\n",
              "      <td>1900</td>\n",
              "      <td>6244</td>\n",
              "    </tr>\n",
              "    <tr>\n",
              "      <th>20624</th>\n",
              "      <td>3629700030</td>\n",
              "      <td>20150223T000000</td>\n",
              "      <td>635000.0</td>\n",
              "      <td>3</td>\n",
              "      <td>3.00</td>\n",
              "      <td>2290</td>\n",
              "      <td>1407</td>\n",
              "      <td>2.5</td>\n",
              "      <td>0</td>\n",
              "      <td>0</td>\n",
              "      <td>3</td>\n",
              "      <td>8</td>\n",
              "      <td>1890</td>\n",
              "      <td>400</td>\n",
              "      <td>2014</td>\n",
              "      <td>0</td>\n",
              "      <td>98027</td>\n",
              "      <td>47.5446</td>\n",
              "      <td>-122.017</td>\n",
              "      <td>2230</td>\n",
              "      <td>1407</td>\n",
              "    </tr>\n",
              "    <tr>\n",
              "      <th>6933</th>\n",
              "      <td>7937600380</td>\n",
              "      <td>20150217T000000</td>\n",
              "      <td>435000.0</td>\n",
              "      <td>4</td>\n",
              "      <td>2.00</td>\n",
              "      <td>1960</td>\n",
              "      <td>50112</td>\n",
              "      <td>1.0</td>\n",
              "      <td>0</td>\n",
              "      <td>0</td>\n",
              "      <td>4</td>\n",
              "      <td>7</td>\n",
              "      <td>1050</td>\n",
              "      <td>910</td>\n",
              "      <td>1963</td>\n",
              "      <td>0</td>\n",
              "      <td>98058</td>\n",
              "      <td>47.4353</td>\n",
              "      <td>-122.084</td>\n",
              "      <td>2340</td>\n",
              "      <td>44967</td>\n",
              "    </tr>\n",
              "    <tr>\n",
              "      <th>6711</th>\n",
              "      <td>5652600185</td>\n",
              "      <td>20140502T000000</td>\n",
              "      <td>750000.0</td>\n",
              "      <td>3</td>\n",
              "      <td>1.75</td>\n",
              "      <td>2240</td>\n",
              "      <td>10578</td>\n",
              "      <td>2.0</td>\n",
              "      <td>0</td>\n",
              "      <td>0</td>\n",
              "      <td>5</td>\n",
              "      <td>8</td>\n",
              "      <td>1550</td>\n",
              "      <td>690</td>\n",
              "      <td>1923</td>\n",
              "      <td>0</td>\n",
              "      <td>98115</td>\n",
              "      <td>47.6954</td>\n",
              "      <td>-122.292</td>\n",
              "      <td>1570</td>\n",
              "      <td>10578</td>\n",
              "    </tr>\n",
              "    <tr>\n",
              "      <th>5277</th>\n",
              "      <td>1787600224</td>\n",
              "      <td>20150310T000000</td>\n",
              "      <td>390000.0</td>\n",
              "      <td>3</td>\n",
              "      <td>2.50</td>\n",
              "      <td>1640</td>\n",
              "      <td>6991</td>\n",
              "      <td>1.0</td>\n",
              "      <td>0</td>\n",
              "      <td>0</td>\n",
              "      <td>3</td>\n",
              "      <td>7</td>\n",
              "      <td>1110</td>\n",
              "      <td>530</td>\n",
              "      <td>1967</td>\n",
              "      <td>0</td>\n",
              "      <td>98125</td>\n",
              "      <td>47.7255</td>\n",
              "      <td>-122.327</td>\n",
              "      <td>1860</td>\n",
              "      <td>7342</td>\n",
              "    </tr>\n",
              "    <tr>\n",
              "      <th>3420</th>\n",
              "      <td>8679600100</td>\n",
              "      <td>20150130T000000</td>\n",
              "      <td>465000.0</td>\n",
              "      <td>5</td>\n",
              "      <td>1.50</td>\n",
              "      <td>1750</td>\n",
              "      <td>12491</td>\n",
              "      <td>1.0</td>\n",
              "      <td>0</td>\n",
              "      <td>0</td>\n",
              "      <td>3</td>\n",
              "      <td>6</td>\n",
              "      <td>1390</td>\n",
              "      <td>360</td>\n",
              "      <td>1961</td>\n",
              "      <td>0</td>\n",
              "      <td>98033</td>\n",
              "      <td>47.6995</td>\n",
              "      <td>-122.174</td>\n",
              "      <td>1560</td>\n",
              "      <td>12473</td>\n",
              "    </tr>\n",
              "    <tr>\n",
              "      <th>5974</th>\n",
              "      <td>2804100095</td>\n",
              "      <td>20140516T000000</td>\n",
              "      <td>724800.0</td>\n",
              "      <td>3</td>\n",
              "      <td>2.00</td>\n",
              "      <td>2050</td>\n",
              "      <td>3933</td>\n",
              "      <td>1.0</td>\n",
              "      <td>0</td>\n",
              "      <td>0</td>\n",
              "      <td>3</td>\n",
              "      <td>8</td>\n",
              "      <td>1180</td>\n",
              "      <td>870</td>\n",
              "      <td>1926</td>\n",
              "      <td>2001</td>\n",
              "      <td>98112</td>\n",
              "      <td>47.6436</td>\n",
              "      <td>-122.303</td>\n",
              "      <td>1940</td>\n",
              "      <td>4000</td>\n",
              "    </tr>\n",
              "  </tbody>\n",
              "</table>\n",
              "</div>"
            ],
            "text/plain": [
              "               id             date  ...  sqft_living15  sqft_lot15\n",
              "12276   644000102  20150413T000000  ...           2710       10912\n",
              "16783  2767604254  20140603T000000  ...           1290        1189\n",
              "11659  7635801370  20140904T000000  ...           2100       15100\n",
              "9662   2624039133  20140611T000000  ...           1900        6244\n",
              "20624  3629700030  20150223T000000  ...           2230        1407\n",
              "6933   7937600380  20150217T000000  ...           2340       44967\n",
              "6711   5652600185  20140502T000000  ...           1570       10578\n",
              "5277   1787600224  20150310T000000  ...           1860        7342\n",
              "3420   8679600100  20150130T000000  ...           1560       12473\n",
              "5974   2804100095  20140516T000000  ...           1940        4000\n",
              "\n",
              "[10 rows x 21 columns]"
            ]
          },
          "metadata": {
            "tags": []
          },
          "execution_count": 3
        }
      ]
    },
    {
      "cell_type": "markdown",
      "metadata": {
        "id": "frAHn5ZcGauJ"
      },
      "source": [
        "## Manter apenas os atributos de interesse\n",
        "* price, yr_built, yr_renovated, sqft_living, sqft_lot, sqft_lot15 e condition"
      ]
    },
    {
      "cell_type": "code",
      "metadata": {
        "colab": {
          "base_uri": "https://localhost:8080/",
          "height": 359
        },
        "id": "HgpE8yPxDuZ2",
        "outputId": "c6a0cb2d-a3fc-4e85-8a06-ab0b0e57f49e"
      },
      "source": [
        "df = df.filter(['price', 'yr_built', 'yr_renovated', \n",
        "                'sqft_living', 'sqft_lot', 'sqft_lot15', 'condition'])\n",
        "df.sample(10)"
      ],
      "execution_count": 4,
      "outputs": [
        {
          "output_type": "execute_result",
          "data": {
            "text/html": [
              "<div>\n",
              "<style scoped>\n",
              "    .dataframe tbody tr th:only-of-type {\n",
              "        vertical-align: middle;\n",
              "    }\n",
              "\n",
              "    .dataframe tbody tr th {\n",
              "        vertical-align: top;\n",
              "    }\n",
              "\n",
              "    .dataframe thead th {\n",
              "        text-align: right;\n",
              "    }\n",
              "</style>\n",
              "<table border=\"1\" class=\"dataframe\">\n",
              "  <thead>\n",
              "    <tr style=\"text-align: right;\">\n",
              "      <th></th>\n",
              "      <th>price</th>\n",
              "      <th>yr_built</th>\n",
              "      <th>yr_renovated</th>\n",
              "      <th>sqft_living</th>\n",
              "      <th>sqft_lot</th>\n",
              "      <th>sqft_lot15</th>\n",
              "      <th>condition</th>\n",
              "    </tr>\n",
              "  </thead>\n",
              "  <tbody>\n",
              "    <tr>\n",
              "      <th>2492</th>\n",
              "      <td>339950.0</td>\n",
              "      <td>1959</td>\n",
              "      <td>0</td>\n",
              "      <td>1320</td>\n",
              "      <td>11457</td>\n",
              "      <td>9800</td>\n",
              "      <td>3</td>\n",
              "    </tr>\n",
              "    <tr>\n",
              "      <th>7174</th>\n",
              "      <td>205000.0</td>\n",
              "      <td>1944</td>\n",
              "      <td>0</td>\n",
              "      <td>860</td>\n",
              "      <td>7467</td>\n",
              "      <td>7467</td>\n",
              "      <td>3</td>\n",
              "    </tr>\n",
              "    <tr>\n",
              "      <th>2154</th>\n",
              "      <td>245990.0</td>\n",
              "      <td>1942</td>\n",
              "      <td>2014</td>\n",
              "      <td>1040</td>\n",
              "      <td>8410</td>\n",
              "      <td>8410</td>\n",
              "      <td>3</td>\n",
              "    </tr>\n",
              "    <tr>\n",
              "      <th>1237</th>\n",
              "      <td>438000.0</td>\n",
              "      <td>1961</td>\n",
              "      <td>0</td>\n",
              "      <td>1650</td>\n",
              "      <td>12940</td>\n",
              "      <td>12600</td>\n",
              "      <td>4</td>\n",
              "    </tr>\n",
              "    <tr>\n",
              "      <th>12748</th>\n",
              "      <td>750000.0</td>\n",
              "      <td>1984</td>\n",
              "      <td>0</td>\n",
              "      <td>3050</td>\n",
              "      <td>7020</td>\n",
              "      <td>5900</td>\n",
              "      <td>3</td>\n",
              "    </tr>\n",
              "    <tr>\n",
              "      <th>21308</th>\n",
              "      <td>580000.0</td>\n",
              "      <td>2008</td>\n",
              "      <td>0</td>\n",
              "      <td>1460</td>\n",
              "      <td>951</td>\n",
              "      <td>1282</td>\n",
              "      <td>3</td>\n",
              "    </tr>\n",
              "    <tr>\n",
              "      <th>3285</th>\n",
              "      <td>315000.0</td>\n",
              "      <td>2000</td>\n",
              "      <td>0</td>\n",
              "      <td>580</td>\n",
              "      <td>7200</td>\n",
              "      <td>7560</td>\n",
              "      <td>3</td>\n",
              "    </tr>\n",
              "    <tr>\n",
              "      <th>79</th>\n",
              "      <td>720000.0</td>\n",
              "      <td>2002</td>\n",
              "      <td>0</td>\n",
              "      <td>3450</td>\n",
              "      <td>39683</td>\n",
              "      <td>39750</td>\n",
              "      <td>3</td>\n",
              "    </tr>\n",
              "    <tr>\n",
              "      <th>15201</th>\n",
              "      <td>542000.0</td>\n",
              "      <td>1985</td>\n",
              "      <td>0</td>\n",
              "      <td>2220</td>\n",
              "      <td>12056</td>\n",
              "      <td>12025</td>\n",
              "      <td>3</td>\n",
              "    </tr>\n",
              "    <tr>\n",
              "      <th>17197</th>\n",
              "      <td>110000.0</td>\n",
              "      <td>1945</td>\n",
              "      <td>0</td>\n",
              "      <td>1250</td>\n",
              "      <td>53143</td>\n",
              "      <td>217800</td>\n",
              "      <td>5</td>\n",
              "    </tr>\n",
              "  </tbody>\n",
              "</table>\n",
              "</div>"
            ],
            "text/plain": [
              "          price  yr_built  yr_renovated  ...  sqft_lot  sqft_lot15  condition\n",
              "2492   339950.0      1959             0  ...     11457        9800          3\n",
              "7174   205000.0      1944             0  ...      7467        7467          3\n",
              "2154   245990.0      1942          2014  ...      8410        8410          3\n",
              "1237   438000.0      1961             0  ...     12940       12600          4\n",
              "12748  750000.0      1984             0  ...      7020        5900          3\n",
              "21308  580000.0      2008             0  ...       951        1282          3\n",
              "3285   315000.0      2000             0  ...      7200        7560          3\n",
              "79     720000.0      2002             0  ...     39683       39750          3\n",
              "15201  542000.0      1985             0  ...     12056       12025          3\n",
              "17197  110000.0      1945             0  ...     53143      217800          5\n",
              "\n",
              "[10 rows x 7 columns]"
            ]
          },
          "metadata": {
            "tags": []
          },
          "execution_count": 4
        }
      ]
    },
    {
      "cell_type": "markdown",
      "metadata": {
        "id": "5kIYGjcmGj7s"
      },
      "source": [
        "## Discretizar `condition`"
      ]
    },
    {
      "cell_type": "code",
      "metadata": {
        "colab": {
          "base_uri": "https://localhost:8080/"
        },
        "id": "EfV_oVMbELlw",
        "outputId": "092d8e02-9598-486b-c9b9-4c3219760169"
      },
      "source": [
        "df.condition.value_counts()"
      ],
      "execution_count": 5,
      "outputs": [
        {
          "output_type": "execute_result",
          "data": {
            "text/plain": [
              "3    14031\n",
              "4     5679\n",
              "5     1701\n",
              "2      172\n",
              "1       30\n",
              "Name: condition, dtype: int64"
            ]
          },
          "metadata": {
            "tags": []
          },
          "execution_count": 5
        }
      ]
    },
    {
      "cell_type": "code",
      "metadata": {
        "colab": {
          "base_uri": "https://localhost:8080/"
        },
        "id": "-Elf69hTFqSU",
        "outputId": "ded2fcca-9b3f-4ff1-f4db-21424a0cb573"
      },
      "source": [
        "df['condition'] = df.apply(lambda row: 1 if row['condition'] > 3 else 0, axis=1)\n",
        "df['condition'].value_counts()"
      ],
      "execution_count": 6,
      "outputs": [
        {
          "output_type": "execute_result",
          "data": {
            "text/plain": [
              "0    14233\n",
              "1     7380\n",
              "Name: condition, dtype: int64"
            ]
          },
          "metadata": {
            "tags": []
          },
          "execution_count": 6
        }
      ]
    },
    {
      "cell_type": "markdown",
      "metadata": {
        "id": "E6-aoWYGGoUc"
      },
      "source": [
        "## Discretizar `yr_renovated`"
      ]
    },
    {
      "cell_type": "code",
      "metadata": {
        "colab": {
          "base_uri": "https://localhost:8080/"
        },
        "id": "II3G4MBEJQW3",
        "outputId": "bcf4233d-9c88-414d-e380-b41b18719481"
      },
      "source": [
        "np.sort(df.yr_renovated.unique())"
      ],
      "execution_count": 7,
      "outputs": [
        {
          "output_type": "execute_result",
          "data": {
            "text/plain": [
              "array([   0, 1934, 1940, 1944, 1945, 1946, 1948, 1950, 1951, 1953, 1954,\n",
              "       1955, 1956, 1957, 1958, 1959, 1960, 1962, 1963, 1964, 1965, 1967,\n",
              "       1968, 1969, 1970, 1971, 1972, 1973, 1974, 1975, 1976, 1977, 1978,\n",
              "       1979, 1980, 1981, 1982, 1983, 1984, 1985, 1986, 1987, 1988, 1989,\n",
              "       1990, 1991, 1992, 1993, 1994, 1995, 1996, 1997, 1998, 1999, 2000,\n",
              "       2001, 2002, 2003, 2004, 2005, 2006, 2007, 2008, 2009, 2010, 2011,\n",
              "       2012, 2013, 2014, 2015])"
            ]
          },
          "metadata": {
            "tags": []
          },
          "execution_count": 7
        }
      ]
    },
    {
      "cell_type": "code",
      "metadata": {
        "colab": {
          "base_uri": "https://localhost:8080/"
        },
        "id": "GCNpyMoDJx6t",
        "outputId": "3aefdbe3-dbd7-43ca-82e5-840d337d6f55"
      },
      "source": [
        "df['yr_renovated'] = df.apply(lambda row: 1 if row['yr_renovated'] > 0 else 0, axis=1)\n",
        "df['yr_renovated'].value_counts()"
      ],
      "execution_count": 8,
      "outputs": [
        {
          "output_type": "execute_result",
          "data": {
            "text/plain": [
              "0    20699\n",
              "1      914\n",
              "Name: yr_renovated, dtype: int64"
            ]
          },
          "metadata": {
            "tags": []
          },
          "execution_count": 8
        }
      ]
    },
    {
      "cell_type": "markdown",
      "metadata": {
        "id": "r_MMO07cGtam"
      },
      "source": [
        "## Procurar a importância de cada atributo usando três métodos.(comparar)"
      ]
    },
    {
      "cell_type": "code",
      "metadata": {
        "colab": {
          "base_uri": "https://localhost:8080/",
          "height": 359
        },
        "id": "_rLAtfxPsKvB",
        "outputId": "cd5061ed-b06c-428a-9569-83bde356f0be"
      },
      "source": [
        "df.sample(10)"
      ],
      "execution_count": 9,
      "outputs": [
        {
          "output_type": "execute_result",
          "data": {
            "text/html": [
              "<div>\n",
              "<style scoped>\n",
              "    .dataframe tbody tr th:only-of-type {\n",
              "        vertical-align: middle;\n",
              "    }\n",
              "\n",
              "    .dataframe tbody tr th {\n",
              "        vertical-align: top;\n",
              "    }\n",
              "\n",
              "    .dataframe thead th {\n",
              "        text-align: right;\n",
              "    }\n",
              "</style>\n",
              "<table border=\"1\" class=\"dataframe\">\n",
              "  <thead>\n",
              "    <tr style=\"text-align: right;\">\n",
              "      <th></th>\n",
              "      <th>price</th>\n",
              "      <th>yr_built</th>\n",
              "      <th>yr_renovated</th>\n",
              "      <th>sqft_living</th>\n",
              "      <th>sqft_lot</th>\n",
              "      <th>sqft_lot15</th>\n",
              "      <th>condition</th>\n",
              "    </tr>\n",
              "  </thead>\n",
              "  <tbody>\n",
              "    <tr>\n",
              "      <th>1617</th>\n",
              "      <td>370000.0</td>\n",
              "      <td>2006</td>\n",
              "      <td>0</td>\n",
              "      <td>1250</td>\n",
              "      <td>1655</td>\n",
              "      <td>3001</td>\n",
              "      <td>0</td>\n",
              "    </tr>\n",
              "    <tr>\n",
              "      <th>12652</th>\n",
              "      <td>370000.0</td>\n",
              "      <td>2005</td>\n",
              "      <td>0</td>\n",
              "      <td>2490</td>\n",
              "      <td>4244</td>\n",
              "      <td>4748</td>\n",
              "      <td>0</td>\n",
              "    </tr>\n",
              "    <tr>\n",
              "      <th>9570</th>\n",
              "      <td>725000.0</td>\n",
              "      <td>1990</td>\n",
              "      <td>0</td>\n",
              "      <td>3580</td>\n",
              "      <td>54450</td>\n",
              "      <td>35943</td>\n",
              "      <td>0</td>\n",
              "    </tr>\n",
              "    <tr>\n",
              "      <th>10004</th>\n",
              "      <td>462500.0</td>\n",
              "      <td>1977</td>\n",
              "      <td>0</td>\n",
              "      <td>2350</td>\n",
              "      <td>51400</td>\n",
              "      <td>51400</td>\n",
              "      <td>0</td>\n",
              "    </tr>\n",
              "    <tr>\n",
              "      <th>9351</th>\n",
              "      <td>263500.0</td>\n",
              "      <td>1977</td>\n",
              "      <td>0</td>\n",
              "      <td>2210</td>\n",
              "      <td>6375</td>\n",
              "      <td>7210</td>\n",
              "      <td>0</td>\n",
              "    </tr>\n",
              "    <tr>\n",
              "      <th>8830</th>\n",
              "      <td>490600.0</td>\n",
              "      <td>1986</td>\n",
              "      <td>0</td>\n",
              "      <td>3316</td>\n",
              "      <td>11447</td>\n",
              "      <td>11447</td>\n",
              "      <td>0</td>\n",
              "    </tr>\n",
              "    <tr>\n",
              "      <th>13728</th>\n",
              "      <td>1325000.0</td>\n",
              "      <td>1990</td>\n",
              "      <td>0</td>\n",
              "      <td>4010</td>\n",
              "      <td>37076</td>\n",
              "      <td>35326</td>\n",
              "      <td>1</td>\n",
              "    </tr>\n",
              "    <tr>\n",
              "      <th>5180</th>\n",
              "      <td>835000.0</td>\n",
              "      <td>1944</td>\n",
              "      <td>1</td>\n",
              "      <td>2520</td>\n",
              "      <td>6690</td>\n",
              "      <td>5792</td>\n",
              "      <td>1</td>\n",
              "    </tr>\n",
              "    <tr>\n",
              "      <th>17805</th>\n",
              "      <td>380000.0</td>\n",
              "      <td>1955</td>\n",
              "      <td>0</td>\n",
              "      <td>1430</td>\n",
              "      <td>11173</td>\n",
              "      <td>11659</td>\n",
              "      <td>0</td>\n",
              "    </tr>\n",
              "    <tr>\n",
              "      <th>21000</th>\n",
              "      <td>485000.0</td>\n",
              "      <td>2011</td>\n",
              "      <td>0</td>\n",
              "      <td>2430</td>\n",
              "      <td>5867</td>\n",
              "      <td>5866</td>\n",
              "      <td>0</td>\n",
              "    </tr>\n",
              "  </tbody>\n",
              "</table>\n",
              "</div>"
            ],
            "text/plain": [
              "           price  yr_built  yr_renovated  ...  sqft_lot  sqft_lot15  condition\n",
              "1617    370000.0      2006             0  ...      1655        3001          0\n",
              "12652   370000.0      2005             0  ...      4244        4748          0\n",
              "9570    725000.0      1990             0  ...     54450       35943          0\n",
              "10004   462500.0      1977             0  ...     51400       51400          0\n",
              "9351    263500.0      1977             0  ...      6375        7210          0\n",
              "8830    490600.0      1986             0  ...     11447       11447          0\n",
              "13728  1325000.0      1990             0  ...     37076       35326          1\n",
              "5180    835000.0      1944             1  ...      6690        5792          1\n",
              "17805   380000.0      1955             0  ...     11173       11659          0\n",
              "21000   485000.0      2011             0  ...      5867        5866          0\n",
              "\n",
              "[10 rows x 7 columns]"
            ]
          },
          "metadata": {
            "tags": []
          },
          "execution_count": 9
        }
      ]
    },
    {
      "cell_type": "code",
      "metadata": {
        "id": "Om9YENz4M4Hx"
      },
      "source": [
        "array_n = df.values\n",
        "X = array_n[:,0:6]\n",
        "Y = array_n[:,6]"
      ],
      "execution_count": 10,
      "outputs": []
    },
    {
      "cell_type": "code",
      "metadata": {
        "id": "Mm-k--gkLorP"
      },
      "source": [
        "from sklearn.feature_selection import SelectKBest\n",
        "from sklearn.feature_selection import f_classif, mutual_info_classif, chi2\n",
        "\n",
        "def select_features(c, fun):\n",
        "  print(f'Analyzing {c}({fun})')\n",
        "  test = c(score_func=fun, k='all')\n",
        "  fit = test.fit(X, Y)\n",
        "\n",
        "  np.set_printoptions(precision=3)\n",
        "\n",
        "  features = fit.transform(X)\n",
        "  \n",
        "  print(\"Features sorted by their scores:\")\n",
        "  print(sorted(zip(map(lambda x: round(x, 4), fit.scores_), \n",
        "                  df.columns), \n",
        "              reverse=True))\n",
        "  print('')\n",
        "  feature_importance = fit.scores_\n",
        "  feature_importance = 100.0 * (feature_importance / feature_importance.max())\n",
        "  sorted_idx = np.argsort(feature_importance)\n",
        "  pos = np.arange(sorted_idx.shape[0]) + 0.5\n",
        "  plt.subplot(1,2,2)\n",
        "  plt.barh(pos, feature_importance[sorted_idx], align='center')\n",
        "  m_name = np.array(df.columns)\n",
        "  plt.yticks(pos, m_name[sorted_idx])\n",
        "  plt.xlabel('Importância Relativa')\n",
        "  plt.show()"
      ],
      "execution_count": 11,
      "outputs": []
    },
    {
      "cell_type": "markdown",
      "metadata": {
        "id": "vzRCRMEa2ksl"
      },
      "source": [
        "O algoritmo escolhido para cálculo da importância foi o `SelectKBest`, comparando o resultado das funções `f_classif`, `mutual_info_classif` e `chi2`.\n",
        "\n",
        "Podemos notar que o `chi2` apresentou como mais relevantes aqueles atributos que possuem valores absolutos mais altos."
      ]
    },
    {
      "cell_type": "code",
      "metadata": {
        "colab": {
          "base_uri": "https://localhost:8080/",
          "height": 1000
        },
        "id": "Vhly_53rsa6H",
        "outputId": "d411a54b-6842-4c7e-f6f6-ddca63e9da7d"
      },
      "source": [
        "select_features(SelectKBest, f_classif)\n",
        "\n",
        "select_features(SelectKBest, mutual_info_classif)\n",
        "\n",
        "select_features(SelectKBest, chi2)"
      ],
      "execution_count": 12,
      "outputs": [
        {
          "output_type": "stream",
          "text": [
            "Analyzing <class 'sklearn.feature_selection._univariate_selection.SelectKBest'>(<function f_classif at 0x7f29293a4598>)\n",
            "Features sorted by their scores:\n",
            "[(3595.4398, 'yr_built'), (168.9417, 'sqft_living'), (98.733, 'yr_renovated'), (1.7163, 'sqft_lot15'), (0.3796, 'price'), (0.3424, 'sqft_lot')]\n",
            "\n"
          ],
          "name": "stdout"
        },
        {
          "output_type": "display_data",
          "data": {
            "image/png": "[encoded data removed]",
            "text/plain": [
              "<Figure size 432x288 with 1 Axes>"
            ]
          },
          "metadata": {
            "tags": [],
            "needs_background": "light"
          }
        },
        {
          "output_type": "stream",
          "text": [
            "Analyzing <class 'sklearn.feature_selection._univariate_selection.SelectKBest'>(<function mutual_info_classif at 0x7f2926b9c950>)\n",
            "Features sorted by their scores:\n",
            "[(0.1427, 'yr_built'), (0.045, 'sqft_lot15'), (0.0392, 'sqft_lot'), (0.0107, 'sqft_living'), (0.0049, 'yr_renovated'), (0.0027, 'price')]\n",
            "\n"
          ],
          "name": "stdout"
        },
        {
          "output_type": "display_data",
          "data": {
            "image/png": "[encoded data removed]",
            "text/plain": [
              "<Figure size 432x288 with 1 Axes>"
            ]
          },
          "metadata": {
            "tags": [],
            "needs_background": "light"
          }
        },
        {
          "output_type": "stream",
          "text": [
            "Analyzing <class 'sklearn.feature_selection._univariate_selection.SelectKBest'>(<function chi2 at 0x7f29293a46a8>)\n",
            "Features sorted by their scores:\n",
            "[(100204.6786, 'sqft_lot15'), (94742.4029, 'price'), (67988.4666, 'sqft_living'), (38881.7901, 'sqft_lot'), (1349.449, 'yr_built'), (94.1363, 'yr_renovated')]\n",
            "\n"
          ],
          "name": "stdout"
        },
        {
          "output_type": "display_data",
          "data": {
            "image/png": "[encoded data removed]",
            "text/plain": [
              "<Figure size 432x288 with 1 Axes>"
            ]
          },
          "metadata": {
            "tags": [],
            "needs_background": "light"
          }
        }
      ]
    },
    {
      "cell_type": "markdown",
      "metadata": {
        "id": "diiXjtA3Gu8A"
      },
      "source": [
        "## Normalizar os dados e novamente Procurar a importância de cada atributo usando três métodos. (comparar)"
      ]
    },
    {
      "cell_type": "code",
      "metadata": {
        "id": "8FZcKGDztpua"
      },
      "source": [
        "def normalize_column_values(df, column):\n",
        "  print(f'column={column}; min={df[column].min()}; max={df[column].max()}')\n",
        "  df[column] = (df[column] - df[column].min())/(df[column].max()-df[column].min())"
      ],
      "execution_count": 13,
      "outputs": []
    },
    {
      "cell_type": "code",
      "metadata": {
        "colab": {
          "base_uri": "https://localhost:8080/",
          "height": 444
        },
        "id": "pDa8YZLnRFam",
        "outputId": "9eebf3d0-fe52-4198-b402-1a8a510822c4"
      },
      "source": [
        "columns_to_normalize = ['price',\t'yr_built',\t\n",
        "                        'sqft_living',\t'sqft_lot',\t'sqft_lot15']\n",
        "for column in columns_to_normalize:\n",
        "  normalize_column_values(df, column)\n",
        "\n",
        "df.sample(10)"
      ],
      "execution_count": 14,
      "outputs": [
        {
          "output_type": "stream",
          "text": [
            "column=price; min=75000.0; max=7700000.0\n",
            "column=yr_built; min=1900; max=2015\n",
            "column=sqft_living; min=290; max=13540\n",
            "column=sqft_lot; min=520; max=1651359\n",
            "column=sqft_lot15; min=651; max=871200\n"
          ],
          "name": "stdout"
        },
        {
          "output_type": "execute_result",
          "data": {
            "text/html": [
              "<div>\n",
              "<style scoped>\n",
              "    .dataframe tbody tr th:only-of-type {\n",
              "        vertical-align: middle;\n",
              "    }\n",
              "\n",
              "    .dataframe tbody tr th {\n",
              "        vertical-align: top;\n",
              "    }\n",
              "\n",
              "    .dataframe thead th {\n",
              "        text-align: right;\n",
              "    }\n",
              "</style>\n",
              "<table border=\"1\" class=\"dataframe\">\n",
              "  <thead>\n",
              "    <tr style=\"text-align: right;\">\n",
              "      <th></th>\n",
              "      <th>price</th>\n",
              "      <th>yr_built</th>\n",
              "      <th>yr_renovated</th>\n",
              "      <th>sqft_living</th>\n",
              "      <th>sqft_lot</th>\n",
              "      <th>sqft_lot15</th>\n",
              "      <th>condition</th>\n",
              "    </tr>\n",
              "  </thead>\n",
              "  <tbody>\n",
              "    <tr>\n",
              "      <th>10852</th>\n",
              "      <td>0.066230</td>\n",
              "      <td>0.895652</td>\n",
              "      <td>0</td>\n",
              "      <td>0.122264</td>\n",
              "      <td>0.006681</td>\n",
              "      <td>0.012520</td>\n",
              "      <td>0</td>\n",
              "    </tr>\n",
              "    <tr>\n",
              "      <th>3326</th>\n",
              "      <td>0.064787</td>\n",
              "      <td>0.452174</td>\n",
              "      <td>0</td>\n",
              "      <td>0.255094</td>\n",
              "      <td>0.006096</td>\n",
              "      <td>0.015179</td>\n",
              "      <td>1</td>\n",
              "    </tr>\n",
              "    <tr>\n",
              "      <th>5021</th>\n",
              "      <td>0.032131</td>\n",
              "      <td>0.417391</td>\n",
              "      <td>0</td>\n",
              "      <td>0.049811</td>\n",
              "      <td>0.002905</td>\n",
              "      <td>0.006242</td>\n",
              "      <td>0</td>\n",
              "    </tr>\n",
              "    <tr>\n",
              "      <th>6141</th>\n",
              "      <td>0.024131</td>\n",
              "      <td>0.417391</td>\n",
              "      <td>0</td>\n",
              "      <td>0.069434</td>\n",
              "      <td>0.010218</td>\n",
              "      <td>0.015815</td>\n",
              "      <td>1</td>\n",
              "    </tr>\n",
              "    <tr>\n",
              "      <th>1135</th>\n",
              "      <td>0.045246</td>\n",
              "      <td>0.669565</td>\n",
              "      <td>0</td>\n",
              "      <td>0.200000</td>\n",
              "      <td>0.004909</td>\n",
              "      <td>0.008477</td>\n",
              "      <td>0</td>\n",
              "    </tr>\n",
              "    <tr>\n",
              "      <th>2194</th>\n",
              "      <td>0.024918</td>\n",
              "      <td>0.686957</td>\n",
              "      <td>0</td>\n",
              "      <td>0.132830</td>\n",
              "      <td>0.006057</td>\n",
              "      <td>0.010285</td>\n",
              "      <td>0</td>\n",
              "    </tr>\n",
              "    <tr>\n",
              "      <th>803</th>\n",
              "      <td>0.072131</td>\n",
              "      <td>0.930435</td>\n",
              "      <td>0</td>\n",
              "      <td>0.203774</td>\n",
              "      <td>0.008823</td>\n",
              "      <td>0.014273</td>\n",
              "      <td>0</td>\n",
              "    </tr>\n",
              "    <tr>\n",
              "      <th>4778</th>\n",
              "      <td>0.041311</td>\n",
              "      <td>0.486957</td>\n",
              "      <td>0</td>\n",
              "      <td>0.125283</td>\n",
              "      <td>0.007099</td>\n",
              "      <td>0.013037</td>\n",
              "      <td>0</td>\n",
              "    </tr>\n",
              "    <tr>\n",
              "      <th>741</th>\n",
              "      <td>0.050361</td>\n",
              "      <td>0.252174</td>\n",
              "      <td>0</td>\n",
              "      <td>0.066415</td>\n",
              "      <td>0.002645</td>\n",
              "      <td>0.005502</td>\n",
              "      <td>0</td>\n",
              "    </tr>\n",
              "    <tr>\n",
              "      <th>5240</th>\n",
              "      <td>0.126295</td>\n",
              "      <td>0.486957</td>\n",
              "      <td>0</td>\n",
              "      <td>0.208302</td>\n",
              "      <td>0.005079</td>\n",
              "      <td>0.009480</td>\n",
              "      <td>1</td>\n",
              "    </tr>\n",
              "  </tbody>\n",
              "</table>\n",
              "</div>"
            ],
            "text/plain": [
              "          price  yr_built  yr_renovated  ...  sqft_lot  sqft_lot15  condition\n",
              "10852  0.066230  0.895652             0  ...  0.006681    0.012520          0\n",
              "3326   0.064787  0.452174             0  ...  0.006096    0.015179          1\n",
              "5021   0.032131  0.417391             0  ...  0.002905    0.006242          0\n",
              "6141   0.024131  0.417391             0  ...  0.010218    0.015815          1\n",
              "1135   0.045246  0.669565             0  ...  0.004909    0.008477          0\n",
              "2194   0.024918  0.686957             0  ...  0.006057    0.010285          0\n",
              "803    0.072131  0.930435             0  ...  0.008823    0.014273          0\n",
              "4778   0.041311  0.486957             0  ...  0.007099    0.013037          0\n",
              "741    0.050361  0.252174             0  ...  0.002645    0.005502          0\n",
              "5240   0.126295  0.486957             0  ...  0.005079    0.009480          1\n",
              "\n",
              "[10 rows x 7 columns]"
            ]
          },
          "metadata": {
            "tags": []
          },
          "execution_count": 14
        }
      ]
    },
    {
      "cell_type": "markdown",
      "metadata": {
        "id": "Ogp9w2Pl3aPC"
      },
      "source": [
        "Podemos constatar que após a normalização, o atributo `yr_built` foi definido como o mais importante pelas 3 funções."
      ]
    },
    {
      "cell_type": "code",
      "metadata": {
        "colab": {
          "base_uri": "https://localhost:8080/",
          "height": 1000
        },
        "id": "wJpPu2voas25",
        "outputId": "3639371a-aec0-424e-9e21-a56759832d4c"
      },
      "source": [
        "array_n = df.values\n",
        "X = array_n[:,0:6]\n",
        "Y = array_n[:,6]\n",
        "\n",
        "select_features(SelectKBest, f_classif)\n",
        "\n",
        "select_features(SelectKBest, mutual_info_classif)\n",
        "\n",
        "select_features(SelectKBest, chi2)"
      ],
      "execution_count": 15,
      "outputs": [
        {
          "output_type": "stream",
          "text": [
            "Analyzing <class 'sklearn.feature_selection._univariate_selection.SelectKBest'>(<function f_classif at 0x7f29293a4598>)\n",
            "Features sorted by their scores:\n",
            "[(3595.4398, 'yr_built'), (168.9417, 'sqft_living'), (98.733, 'yr_renovated'), (1.7163, 'sqft_lot15'), (0.3796, 'price'), (0.3424, 'sqft_lot')]\n",
            "\n"
          ],
          "name": "stdout"
        },
        {
          "output_type": "display_data",
          "data": {
            "image/png": "[encoded data removed]",
            "text/plain": [
              "<Figure size 432x288 with 1 Axes>"
            ]
          },
          "metadata": {
            "tags": [],
            "needs_background": "light"
          }
        },
        {
          "output_type": "stream",
          "text": [
            "Analyzing <class 'sklearn.feature_selection._univariate_selection.SelectKBest'>(<function mutual_info_classif at 0x7f2926b9c950>)\n",
            "Features sorted by their scores:\n",
            "[(0.1388, 'yr_built'), (0.0464, 'sqft_lot15'), (0.0383, 'sqft_lot'), (0.0065, 'sqft_living'), (0.0056, 'yr_renovated'), (0.0012, 'price')]\n",
            "\n"
          ],
          "name": "stdout"
        },
        {
          "output_type": "display_data",
          "data": {
            "image/png": "[encoded data removed]",
            "text/plain": [
              "<Figure size 432x288 with 1 Axes>"
            ]
          },
          "metadata": {
            "tags": [],
            "needs_background": "light"
          }
        },
        {
          "output_type": "stream",
          "text": [
            "Analyzing <class 'sklearn.feature_selection._univariate_selection.SelectKBest'>(<function chi2 at 0x7f29293a46a8>)\n",
            "Features sorted by their scores:\n",
            "[(325.7291, 'yr_built'), (94.1363, 'yr_renovated'), (5.9626, 'sqft_living'), (0.1213, 'sqft_lot15'), (0.0244, 'sqft_lot'), (0.0144, 'price')]\n",
            "\n"
          ],
          "name": "stdout"
        },
        {
          "output_type": "display_data",
          "data": {
            "image/png": "[encoded data removed]",
            "text/plain": [
              "<Figure size 432x288 with 1 Axes>"
            ]
          },
          "metadata": {
            "tags": [],
            "needs_background": "light"
          }
        }
      ]
    },
    {
      "cell_type": "markdown",
      "metadata": {
        "id": "WdhsgxJCSQRE"
      },
      "source": [
        "## Discretizar os atributos e novamente Procurar a importância de cada atributo usando três métodos. (comparar)"
      ]
    },
    {
      "cell_type": "code",
      "metadata": {
        "colab": {
          "base_uri": "https://localhost:8080/",
          "height": 359
        },
        "id": "lZRrEuqWSQRE",
        "outputId": "c2326d64-971d-4f86-9cc3-b17505593dee"
      },
      "source": [
        "df.sample(10)"
      ],
      "execution_count": 16,
      "outputs": [
        {
          "output_type": "execute_result",
          "data": {
            "text/html": [
              "<div>\n",
              "<style scoped>\n",
              "    .dataframe tbody tr th:only-of-type {\n",
              "        vertical-align: middle;\n",
              "    }\n",
              "\n",
              "    .dataframe tbody tr th {\n",
              "        vertical-align: top;\n",
              "    }\n",
              "\n",
              "    .dataframe thead th {\n",
              "        text-align: right;\n",
              "    }\n",
              "</style>\n",
              "<table border=\"1\" class=\"dataframe\">\n",
              "  <thead>\n",
              "    <tr style=\"text-align: right;\">\n",
              "      <th></th>\n",
              "      <th>price</th>\n",
              "      <th>yr_built</th>\n",
              "      <th>yr_renovated</th>\n",
              "      <th>sqft_living</th>\n",
              "      <th>sqft_lot</th>\n",
              "      <th>sqft_lot15</th>\n",
              "      <th>condition</th>\n",
              "    </tr>\n",
              "  </thead>\n",
              "  <tbody>\n",
              "    <tr>\n",
              "      <th>8406</th>\n",
              "      <td>0.057049</td>\n",
              "      <td>0.469565</td>\n",
              "      <td>0</td>\n",
              "      <td>0.108679</td>\n",
              "      <td>0.003465</td>\n",
              "      <td>0.006420</td>\n",
              "      <td>0</td>\n",
              "    </tr>\n",
              "    <tr>\n",
              "      <th>5322</th>\n",
              "      <td>0.059672</td>\n",
              "      <td>0.069565</td>\n",
              "      <td>0</td>\n",
              "      <td>0.096604</td>\n",
              "      <td>0.001502</td>\n",
              "      <td>0.002698</td>\n",
              "      <td>1</td>\n",
              "    </tr>\n",
              "    <tr>\n",
              "      <th>18153</th>\n",
              "      <td>0.039082</td>\n",
              "      <td>0.513043</td>\n",
              "      <td>0</td>\n",
              "      <td>0.117736</td>\n",
              "      <td>0.005534</td>\n",
              "      <td>0.009226</td>\n",
              "      <td>0</td>\n",
              "    </tr>\n",
              "    <tr>\n",
              "      <th>9404</th>\n",
              "      <td>0.024525</td>\n",
              "      <td>0.817391</td>\n",
              "      <td>0</td>\n",
              "      <td>0.104906</td>\n",
              "      <td>0.005924</td>\n",
              "      <td>0.010566</td>\n",
              "      <td>1</td>\n",
              "    </tr>\n",
              "    <tr>\n",
              "      <th>8380</th>\n",
              "      <td>0.034098</td>\n",
              "      <td>0.947826</td>\n",
              "      <td>0</td>\n",
              "      <td>0.175094</td>\n",
              "      <td>0.002581</td>\n",
              "      <td>0.004761</td>\n",
              "      <td>0</td>\n",
              "    </tr>\n",
              "    <tr>\n",
              "      <th>14797</th>\n",
              "      <td>0.063607</td>\n",
              "      <td>0.000000</td>\n",
              "      <td>0</td>\n",
              "      <td>0.080755</td>\n",
              "      <td>0.003207</td>\n",
              "      <td>0.005931</td>\n",
              "      <td>0</td>\n",
              "    </tr>\n",
              "    <tr>\n",
              "      <th>10621</th>\n",
              "      <td>0.049115</td>\n",
              "      <td>0.773913</td>\n",
              "      <td>0</td>\n",
              "      <td>0.160000</td>\n",
              "      <td>0.033565</td>\n",
              "      <td>0.063500</td>\n",
              "      <td>0</td>\n",
              "    </tr>\n",
              "    <tr>\n",
              "      <th>10323</th>\n",
              "      <td>0.055082</td>\n",
              "      <td>0.626087</td>\n",
              "      <td>0</td>\n",
              "      <td>0.088302</td>\n",
              "      <td>0.005597</td>\n",
              "      <td>0.008925</td>\n",
              "      <td>1</td>\n",
              "    </tr>\n",
              "    <tr>\n",
              "      <th>4984</th>\n",
              "      <td>0.064918</td>\n",
              "      <td>0.860870</td>\n",
              "      <td>0</td>\n",
              "      <td>0.177358</td>\n",
              "      <td>0.006843</td>\n",
              "      <td>0.012825</td>\n",
              "      <td>0</td>\n",
              "    </tr>\n",
              "    <tr>\n",
              "      <th>19450</th>\n",
              "      <td>0.106695</td>\n",
              "      <td>0.773913</td>\n",
              "      <td>0</td>\n",
              "      <td>0.245283</td>\n",
              "      <td>0.022899</td>\n",
              "      <td>0.040520</td>\n",
              "      <td>0</td>\n",
              "    </tr>\n",
              "  </tbody>\n",
              "</table>\n",
              "</div>"
            ],
            "text/plain": [
              "          price  yr_built  yr_renovated  ...  sqft_lot  sqft_lot15  condition\n",
              "8406   0.057049  0.469565             0  ...  0.003465    0.006420          0\n",
              "5322   0.059672  0.069565             0  ...  0.001502    0.002698          1\n",
              "18153  0.039082  0.513043             0  ...  0.005534    0.009226          0\n",
              "9404   0.024525  0.817391             0  ...  0.005924    0.010566          1\n",
              "8380   0.034098  0.947826             0  ...  0.002581    0.004761          0\n",
              "14797  0.063607  0.000000             0  ...  0.003207    0.005931          0\n",
              "10621  0.049115  0.773913             0  ...  0.033565    0.063500          0\n",
              "10323  0.055082  0.626087             0  ...  0.005597    0.008925          1\n",
              "4984   0.064918  0.860870             0  ...  0.006843    0.012825          0\n",
              "19450  0.106695  0.773913             0  ...  0.022899    0.040520          0\n",
              "\n",
              "[10 rows x 7 columns]"
            ]
          },
          "metadata": {
            "tags": []
          },
          "execution_count": 16
        }
      ]
    },
    {
      "cell_type": "code",
      "metadata": {
        "colab": {
          "base_uri": "https://localhost:8080/"
        },
        "id": "aGdSWc2t6BNy",
        "outputId": "2a06e1ec-9584-4c2d-d767-b79c9e66b6e4"
      },
      "source": [
        "df.describe()['price']['50%']"
      ],
      "execution_count": 19,
      "outputs": [
        {
          "output_type": "execute_result",
          "data": {
            "text/plain": [
              "0.04918032786885246"
            ]
          },
          "metadata": {
            "tags": []
          },
          "execution_count": 19
        }
      ]
    },
    {
      "cell_type": "code",
      "metadata": {
        "id": "UIr4JriRvfOC"
      },
      "source": [
        "def discretizar_valores(df, column):\n",
        "  threshold = df.describe()[column]['50%']\n",
        "  print(f'Discretizando valores da coluna {column}:')\n",
        "  print(f'\\t1 caso seja maior que {threshold}')\n",
        "  print(f'\\t0, caso contrário')\n",
        "  df[column] = df.apply(lambda row: 1 if row[column] > threshold else 0, axis=1)\n",
        "  print(df[column].value_counts())\n",
        "  print('')\n"
      ],
      "execution_count": 24,
      "outputs": []
    },
    {
      "cell_type": "code",
      "metadata": {
        "colab": {
          "base_uri": "https://localhost:8080/"
        },
        "id": "bWgCGqFgvyDr",
        "outputId": "39eb2b5a-a0ef-4c81-e985-23237a26185c"
      },
      "source": [
        "discretizar_valores(df, 'yr_built')\n",
        "discretizar_valores(df, 'price')\n",
        "discretizar_valores(df, 'sqft_living')\n",
        "discretizar_valores(df, 'sqft_lot')\n",
        "discretizar_valores(df, 'sqft_lot15')"
      ],
      "execution_count": 25,
      "outputs": [
        {
          "output_type": "stream",
          "text": [
            "Discretizando valores da coluna yr_built:\n",
            "\t1 caso seja maior que 0.0\n",
            "\t0, caso contrário\n",
            "0    10934\n",
            "1    10679\n",
            "Name: yr_built, dtype: int64\n",
            "\n",
            "Discretizando valores da coluna price:\n",
            "\t1 caso seja maior que 0.0\n",
            "\t0, caso contrário\n",
            "0    10864\n",
            "1    10749\n",
            "Name: price, dtype: int64\n",
            "\n",
            "Discretizando valores da coluna sqft_living:\n",
            "\t1 caso seja maior que 0.0\n",
            "\t0, caso contrário\n",
            "0    10820\n",
            "1    10793\n",
            "Name: sqft_living, dtype: int64\n",
            "\n",
            "Discretizando valores da coluna sqft_lot:\n",
            "\t1 caso seja maior que 0.0\n",
            "\t0, caso contrário\n",
            "0    10807\n",
            "1    10806\n",
            "Name: sqft_lot, dtype: int64\n",
            "\n",
            "Discretizando valores da coluna sqft_lot15:\n",
            "\t1 caso seja maior que 0.0\n",
            "\t0, caso contrário\n",
            "0    10821\n",
            "1    10792\n",
            "Name: sqft_lot15, dtype: int64\n",
            "\n"
          ],
          "name": "stdout"
        }
      ]
    },
    {
      "cell_type": "markdown",
      "metadata": {
        "id": "mMG5wzSLSxEl"
      },
      "source": [
        "Observamos que a discretização sobre as variáveis já normalizadas não afetou o grau de importância dos atributos em nenhuma das funções comparadas."
      ]
    },
    {
      "cell_type": "code",
      "metadata": {
        "colab": {
          "base_uri": "https://localhost:8080/",
          "height": 1000
        },
        "id": "h2wK_dbeSQRE",
        "outputId": "708added-7d66-4ae7-8ed0-c462304992d0"
      },
      "source": [
        "array_n = df.values\n",
        "X = array_n[:,0:6]\n",
        "Y = array_n[:,6]\n",
        "\n",
        "select_features(SelectKBest, f_classif)\n",
        "\n",
        "select_features(SelectKBest, mutual_info_classif)\n",
        "\n",
        "select_features(SelectKBest, chi2)"
      ],
      "execution_count": 26,
      "outputs": [
        {
          "output_type": "stream",
          "text": [
            "Analyzing <class 'sklearn.feature_selection._univariate_selection.SelectKBest'>(<function f_classif at 0x7f29293a4598>)\n",
            "Features sorted by their scores:\n",
            "[(3531.7753, 'yr_built'), (373.5205, 'sqft_lot15'), (358.014, 'sqft_lot'), (98.733, 'yr_renovated'), (64.8949, 'sqft_living'), (0.7724, 'price')]\n",
            "\n"
          ],
          "name": "stdout"
        },
        {
          "output_type": "display_data",
          "data": {
            "image/png": "[encoded data removed]",
            "text/plain": [
              "<Figure size 432x288 with 1 Axes>"
            ]
          },
          "metadata": {
            "tags": [],
            "needs_background": "light"
          }
        },
        {
          "output_type": "stream",
          "text": [
            "Analyzing <class 'sklearn.feature_selection._univariate_selection.SelectKBest'>(<function mutual_info_classif at 0x7f2926b9c950>)\n",
            "Features sorted by their scores:\n",
            "[(0.074, 'yr_built'), (0.0117, 'sqft_lot15'), (0.0094, 'sqft_lot'), (0.0029, 'price'), (0.0012, 'yr_renovated'), (0.0, 'sqft_living')]\n",
            "\n"
          ],
          "name": "stdout"
        },
        {
          "output_type": "display_data",
          "data": {
            "image/png": "[encoded data removed]",
            "text/plain": [
              "<Figure size 432x288 with 1 Axes>"
            ]
          },
          "metadata": {
            "tags": [],
            "needs_background": "light"
          }
        },
        {
          "output_type": "stream",
          "text": [
            "Analyzing <class 'sklearn.feature_selection._univariate_selection.SelectKBest'>(<function chi2 at 0x7f29293a46a8>)\n",
            "Features sorted by their scores:\n",
            "[(1535.8858, 'yr_built'), (183.8505, 'sqft_lot15'), (176.1143, 'sqft_lot'), (94.1363, 'yr_renovated'), (32.3937, 'sqft_living'), (0.3883, 'price')]\n",
            "\n"
          ],
          "name": "stdout"
        },
        {
          "output_type": "display_data",
          "data": {
            "image/png": "[encoded data removed]",
            "text/plain": [
              "<Figure size 432x288 with 1 Axes>"
            ]
          },
          "metadata": {
            "tags": [],
            "needs_background": "light"
          }
        }
      ]
    },
    {
      "cell_type": "markdown",
      "metadata": {
        "id": "xF47FsEiGzj7"
      },
      "source": [
        "## Diminuir as dimensões do DataFrame"
      ]
    },
    {
      "cell_type": "markdown",
      "metadata": {
        "id": "2l8c_ZAgnWXQ"
      },
      "source": [
        "Para manter apenas 4 atributos de maior relevância, optamos por descartar o `price` que apresentou a menor relevância nas 3 comparações e `sqft_lot` por ter a mesma relevância de `sqft_lot15`"
      ]
    },
    {
      "cell_type": "code",
      "metadata": {
        "colab": {
          "base_uri": "https://localhost:8080/",
          "height": 359
        },
        "id": "laK5CsZShtOj",
        "outputId": "97816ad3-c2b4-45f7-cc19-4fd395d28186"
      },
      "source": [
        "df_result = df.filter(['yr_built', 'yr_renovated', 'sqft_living',\n",
        "              'sqft_lot15','condition'])\n",
        "df_result.sample(10)"
      ],
      "execution_count": 28,
      "outputs": [
        {
          "output_type": "execute_result",
          "data": {
            "text/html": [
              "<div>\n",
              "<style scoped>\n",
              "    .dataframe tbody tr th:only-of-type {\n",
              "        vertical-align: middle;\n",
              "    }\n",
              "\n",
              "    .dataframe tbody tr th {\n",
              "        vertical-align: top;\n",
              "    }\n",
              "\n",
              "    .dataframe thead th {\n",
              "        text-align: right;\n",
              "    }\n",
              "</style>\n",
              "<table border=\"1\" class=\"dataframe\">\n",
              "  <thead>\n",
              "    <tr style=\"text-align: right;\">\n",
              "      <th></th>\n",
              "      <th>yr_built</th>\n",
              "      <th>yr_renovated</th>\n",
              "      <th>sqft_living</th>\n",
              "      <th>sqft_lot15</th>\n",
              "      <th>condition</th>\n",
              "    </tr>\n",
              "  </thead>\n",
              "  <tbody>\n",
              "    <tr>\n",
              "      <th>5859</th>\n",
              "      <td>0</td>\n",
              "      <td>0</td>\n",
              "      <td>0</td>\n",
              "      <td>1</td>\n",
              "      <td>0</td>\n",
              "    </tr>\n",
              "    <tr>\n",
              "      <th>21079</th>\n",
              "      <td>0</td>\n",
              "      <td>0</td>\n",
              "      <td>0</td>\n",
              "      <td>1</td>\n",
              "      <td>1</td>\n",
              "    </tr>\n",
              "    <tr>\n",
              "      <th>7301</th>\n",
              "      <td>1</td>\n",
              "      <td>0</td>\n",
              "      <td>1</td>\n",
              "      <td>1</td>\n",
              "      <td>0</td>\n",
              "    </tr>\n",
              "    <tr>\n",
              "      <th>18659</th>\n",
              "      <td>0</td>\n",
              "      <td>0</td>\n",
              "      <td>0</td>\n",
              "      <td>0</td>\n",
              "      <td>1</td>\n",
              "    </tr>\n",
              "    <tr>\n",
              "      <th>3917</th>\n",
              "      <td>0</td>\n",
              "      <td>0</td>\n",
              "      <td>0</td>\n",
              "      <td>1</td>\n",
              "      <td>1</td>\n",
              "    </tr>\n",
              "    <tr>\n",
              "      <th>11317</th>\n",
              "      <td>0</td>\n",
              "      <td>0</td>\n",
              "      <td>0</td>\n",
              "      <td>0</td>\n",
              "      <td>0</td>\n",
              "    </tr>\n",
              "    <tr>\n",
              "      <th>6137</th>\n",
              "      <td>1</td>\n",
              "      <td>0</td>\n",
              "      <td>0</td>\n",
              "      <td>0</td>\n",
              "      <td>0</td>\n",
              "    </tr>\n",
              "    <tr>\n",
              "      <th>18211</th>\n",
              "      <td>1</td>\n",
              "      <td>0</td>\n",
              "      <td>1</td>\n",
              "      <td>1</td>\n",
              "      <td>0</td>\n",
              "    </tr>\n",
              "    <tr>\n",
              "      <th>20504</th>\n",
              "      <td>1</td>\n",
              "      <td>0</td>\n",
              "      <td>1</td>\n",
              "      <td>0</td>\n",
              "      <td>0</td>\n",
              "    </tr>\n",
              "    <tr>\n",
              "      <th>11280</th>\n",
              "      <td>0</td>\n",
              "      <td>0</td>\n",
              "      <td>1</td>\n",
              "      <td>0</td>\n",
              "      <td>1</td>\n",
              "    </tr>\n",
              "  </tbody>\n",
              "</table>\n",
              "</div>"
            ],
            "text/plain": [
              "       yr_built  yr_renovated  sqft_living  sqft_lot15  condition\n",
              "5859          0             0            0           1          0\n",
              "21079         0             0            0           1          1\n",
              "7301          1             0            1           1          0\n",
              "18659         0             0            0           0          1\n",
              "3917          0             0            0           1          1\n",
              "11317         0             0            0           0          0\n",
              "6137          1             0            0           0          0\n",
              "18211         1             0            1           1          0\n",
              "20504         1             0            1           0          0\n",
              "11280         0             0            1           0          1"
            ]
          },
          "metadata": {
            "tags": []
          },
          "execution_count": 28
        }
      ]
    },
    {
      "cell_type": "markdown",
      "metadata": {
        "id": "DOmKAnzpG1Wn"
      },
      "source": [
        "## Armazenar num novo arquivo .csv"
      ]
    },
    {
      "cell_type": "code",
      "metadata": {
        "id": "2LtRgNq_hKor"
      },
      "source": [
        "df_result.to_csv('kc_house_data_result.csv')"
      ],
      "execution_count": 29,
      "outputs": []
    }
  ]
}