{
  "nbformat": 4,
  "nbformat_minor": 0,
  "metadata": {
    "colab": {
      "name": "[Aula03] Seleção de Atributos.ipynb",
      "provenance": [],
      "collapsed_sections": [],
      "authorship_tag": "ABX9TyOTh+O2Z7nKVUikT4e4ltSF",
      "include_colab_link": true
    },
    "kernelspec": {
      "name": "python3",
      "display_name": "Python 3"
    }
  },
  "cells": [
    {
      "cell_type": "markdown",
      "metadata": {
        "id": "view-in-github",
        "colab_type": "text"
      },
      "source": [
        "<a href=\"https://colab.research.google.com/github/bmnds/uea-data-science-04-data-processing/blob/main/%5BAula03%5D_Sele%C3%A7%C3%A3o_de_Atributos.ipynb\" target=\"_parent\"><img src=\"https://colab.research.google.com/assets/colab-badge.svg\" alt=\"Open In Colab\"/></a>"
      ]
    },
    {
      "cell_type": "code",
      "metadata": {
        "id": "OG4SLjjvz97Q"
      },
      "source": [
        "# Importando as bibliotecas\n",
        "import pandas as pd\n",
        "import numpy as np\n",
        "import matplotlib.pyplot as plt\n",
        "import unicodedata as ud"
      ],
      "execution_count": 2,
      "outputs": []
    },
    {
      "cell_type": "markdown",
      "metadata": {
        "id": "q__nUQ1JTHpk"
      },
      "source": [
        "# Análise de texto"
      ]
    },
    {
      "cell_type": "code",
      "metadata": {
        "colab": {
          "base_uri": "https://localhost:8080/"
        },
        "id": "VRmbnlrk_B0F",
        "outputId": "1e406e82-fade-45b3-9366-c28ed7616de6"
      },
      "source": [
        "!pip install textdistance\n",
        "import textdistance\n",
        "import editdistance"
      ],
      "execution_count": null,
      "outputs": [
        {
          "output_type": "stream",
          "text": [
            "Collecting textdistance\n",
            "  Downloading https://files.pythonhosted.org/packages/35/71/87133323736b9b0180f600d477507318dae0abde613a54df33bfd0248614/textdistance-4.2.0-py3-none-any.whl\n",
            "Installing collected packages: textdistance\n",
            "Successfully installed textdistance-4.2.0\n"
          ],
          "name": "stdout"
        }
      ]
    },
    {
      "cell_type": "code",
      "metadata": {
        "id": "dAwfp1Ni_sza"
      },
      "source": [
        "def calculate_string_distance(str1, str2):\n",
        "  print(f'Calculating distance between `{str1}` and `{str2}`')\n",
        "\n",
        "  editdist = editdistance.eval(str1, str2)\n",
        "  print(\"Edit distance: \", editdist)\n",
        "\n",
        "  jaro = textdistance.jaro(str1, str2)\n",
        "  print(\"Jaro: \", jaro)\n",
        "\n",
        "  hamming = textdistance.hamming(str1, str2)\n",
        "  print(\"Hamming: \", hamming)\n",
        "\n",
        "  hammingDist = textdistance.hamming.distance(str1, str2)\n",
        "  print(\"Hamming distance: \", hammingDist)\n",
        "\n",
        "  hammingSim = textdistance.hamming.similarity(str1, str2)\n",
        "  print(\"Hamming similarity: \", hammingSim)\n",
        "\n",
        "  hammingNDist = textdistance.hamming.normalized_distance(str1, str2)\n",
        "  print(\"Hamming normalized distance: \", hammingNDist)\n",
        "\n",
        "  hammingNSim = textdistance.hamming.normalized_similarity(str1, str2)\n",
        "  print(\"Hamming normaliozed similarity: \", hammingNSim)\n",
        "\n",
        "  hammingDistQ = textdistance.Hamming(qval=2).distance(str1, str2)\n",
        "  print(\"Hamming distance q: \", hammingDistQ)\n",
        "  print(\"\")"
      ],
      "execution_count": null,
      "outputs": []
    },
    {
      "cell_type": "code",
      "metadata": {
        "id": "YFuZHTIPC2kK"
      },
      "source": [
        "def calculate_n_grams(str1, str2):\n",
        "  print(f'Calculating n grams for `{str1}` and `{str2}`')\n",
        "\n",
        "  jaccard = textdistance.jaccard(str1, str2)\n",
        "  print(f'Jaccard {jaccard}')\n",
        "\n",
        "  sorensen = textdistance.sorensen_dice(str1, str2)\n",
        "  print(f'Sorensen {sorensen}')\n",
        "\n",
        "  print('')"
      ],
      "execution_count": null,
      "outputs": []
    },
    {
      "cell_type": "code",
      "metadata": {
        "id": "Cu3w0fjbI_cD"
      },
      "source": [
        "def normalize_string(str):\n",
        "  return ud.normalize('NFKD', str.lower()).encode('ASCII', 'ignore')"
      ],
      "execution_count": null,
      "outputs": []
    },
    {
      "cell_type": "code",
      "metadata": {
        "colab": {
          "base_uri": "https://localhost:8080/"
        },
        "id": "dpJP5e6uAuLJ",
        "outputId": "61c15f6e-64ee-43ea-9463-15bcbd964d56"
      },
      "source": [
        "calculate_string_distance('carros', 'carros')\n",
        "calculate_string_distance('carros', 'caros')\n",
        "calculate_string_distance('carros', 'Carros')\n",
        "calculate_string_distance('carros', 'karros')\n",
        "calculate_string_distance('carros', 'carrôs')\n",
        "calculate_string_distance('fernao dias paes lemos', 'Fernão Dias Pais Lemes')\n",
        "calculate_string_distance('levá-lo-á', 'levar ele a')\n"
      ],
      "execution_count": null,
      "outputs": [
        {
          "output_type": "stream",
          "text": [
            "Calculating distance between `carros` and `carros`\n",
            "Edit distance:  0\n",
            "Jaro:  1\n",
            "Hamming:  0\n",
            "Hamming distance:  0\n",
            "Hamming similarity:  6\n",
            "Hamming normalized distance:  0.0\n",
            "Hamming normaliozed similarity:  1.0\n",
            "Hamming distance q:  0\n",
            "\n",
            "Calculating distance between `carros` and `caros`\n",
            "Edit distance:  1\n",
            "Jaro:  0.9444444444444445\n",
            "Hamming:  3\n",
            "Hamming distance:  3\n",
            "Hamming similarity:  3\n",
            "Hamming normalized distance:  0.5\n",
            "Hamming normaliozed similarity:  0.5\n",
            "Hamming distance q:  3\n",
            "\n",
            "Calculating distance between `carros` and `Carros`\n",
            "Edit distance:  1\n",
            "Jaro:  0.888888888888889\n",
            "Hamming:  1\n",
            "Hamming distance:  1\n",
            "Hamming similarity:  5\n",
            "Hamming normalized distance:  0.16666666666666666\n",
            "Hamming normaliozed similarity:  0.8333333333333334\n",
            "Hamming distance q:  1\n",
            "\n",
            "Calculating distance between `carros` and `karros`\n",
            "Edit distance:  1\n",
            "Jaro:  0.888888888888889\n",
            "Hamming:  1\n",
            "Hamming distance:  1\n",
            "Hamming similarity:  5\n",
            "Hamming normalized distance:  0.16666666666666666\n",
            "Hamming normaliozed similarity:  0.8333333333333334\n",
            "Hamming distance q:  1\n",
            "\n",
            "Calculating distance between `carros` and `carrôs`\n",
            "Edit distance:  1\n",
            "Jaro:  0.888888888888889\n",
            "Hamming:  1\n",
            "Hamming distance:  1\n",
            "Hamming similarity:  5\n",
            "Hamming normalized distance:  0.16666666666666666\n",
            "Hamming normaliozed similarity:  0.8333333333333334\n",
            "Hamming distance q:  2\n",
            "\n",
            "Calculating distance between `fernao dias paes lemos` and `Fernão Dias Pais Lemes`\n",
            "Edit distance:  7\n",
            "Jaro:  0.6931818181818182\n",
            "Hamming:  7\n",
            "Hamming distance:  7\n",
            "Hamming similarity:  15\n",
            "Hamming normalized distance:  0.3181818181818182\n",
            "Hamming normaliozed similarity:  0.6818181818181819\n",
            "Hamming distance q:  13\n",
            "\n",
            "Calculating distance between `levá-lo-á` and `levar ele a`\n",
            "Edit distance:  7\n",
            "Jaro:  0.6026936026936026\n",
            "Hamming:  8\n",
            "Hamming distance:  8\n",
            "Hamming similarity:  3\n",
            "Hamming normalized distance:  0.7272727272727273\n",
            "Hamming normaliozed similarity:  0.2727272727272727\n",
            "Hamming distance q:  8\n",
            "\n"
          ],
          "name": "stdout"
        }
      ]
    },
    {
      "cell_type": "code",
      "metadata": {
        "colab": {
          "base_uri": "https://localhost:8080/"
        },
        "id": "WpxPbsP8Dbxx",
        "outputId": "3a5a9da0-eb61-4fe6-ea09-c91ae644e656"
      },
      "source": [
        "calculate_n_grams('carros', 'carros')\n",
        "calculate_n_grams('carros', 'caros')\n",
        "calculate_n_grams('carros', 'Carros')\n",
        "calculate_n_grams('carros', 'karros')\n",
        "calculate_n_grams('carros', 'carrôs')\n",
        "calculate_n_grams('fernao dias paes lemos', 'Fernão Dias Pais Lemes')\n",
        "calculate_n_grams('levá-lo-á', 'levar ele a')"
      ],
      "execution_count": null,
      "outputs": [
        {
          "output_type": "stream",
          "text": [
            "Calculating n grams for `carros` and `carros`\n",
            "Jaccard 1\n",
            "Sorensen 1\n",
            "\n",
            "Calculating n grams for `carros` and `caros`\n",
            "Jaccard 0.8333333333333334\n",
            "Sorensen 0.9090909090909091\n",
            "\n",
            "Calculating n grams for `carros` and `Carros`\n",
            "Jaccard 0.7142857142857143\n",
            "Sorensen 0.8333333333333334\n",
            "\n",
            "Calculating n grams for `carros` and `karros`\n",
            "Jaccard 0.7142857142857143\n",
            "Sorensen 0.8333333333333334\n",
            "\n",
            "Calculating n grams for `carros` and `carrôs`\n",
            "Jaccard 0.7142857142857143\n",
            "Sorensen 0.8333333333333334\n",
            "\n",
            "Calculating n grams for `fernao dias paes lemos` and `Fernão Dias Pais Lemes`\n",
            "Jaccard 0.5714285714285714\n",
            "Sorensen 0.7272727272727273\n",
            "\n",
            "Calculating n grams for `levá-lo-á` and `levar ele a`\n",
            "Jaccard 0.25\n",
            "Sorensen 0.4\n",
            "\n"
          ],
          "name": "stdout"
        }
      ]
    },
    {
      "cell_type": "code",
      "metadata": {
        "colab": {
          "base_uri": "https://localhost:8080/"
        },
        "id": "SPf2boAkJQ71",
        "outputId": "0485d38b-fe66-463a-fdc1-e02b5b9ae645"
      },
      "source": [
        "def normalize_string(str):\n",
        "  return ud.normalize('NFKD', str.lower()).encode('ASCII', 'ignore')\n",
        "  \n",
        "str1 = 'fernao dias paes lemos'\n",
        "str2 = 'Fernão Dias Pais Leme'\n",
        "\n",
        "norm_str1 = normalize_string(str1).split()\n",
        "norm_str2 = normalize_string(str2).split()\n",
        "\n",
        "calculate_string_distance(norm_str1, norm_str2)\n",
        "calculate_n_grams(norm_str1, norm_str2)"
      ],
      "execution_count": null,
      "outputs": [
        {
          "output_type": "stream",
          "text": [
            "Calculating distance between `[b'fernao', b'dias', b'paes', b'lemos']` and `[b'fernao', b'dias', b'pais', b'leme']`\n",
            "Edit distance:  2\n",
            "Jaro:  0.6666666666666666\n",
            "Hamming:  2\n",
            "Hamming distance:  2\n",
            "Hamming similarity:  2\n",
            "Hamming normalized distance:  0.5\n",
            "Hamming normaliozed similarity:  0.5\n",
            "Hamming distance q:  2\n",
            "\n",
            "Calculating n grams for `[b'fernao', b'dias', b'paes', b'lemos']` and `[b'fernao', b'dias', b'pais', b'leme']`\n",
            "Jaccard 0.3333333333333333\n",
            "Sorensen 0.5\n",
            "\n"
          ],
          "name": "stdout"
        }
      ]
    },
    {
      "cell_type": "markdown",
      "metadata": {
        "id": "k9Wj0mhCTMTR"
      },
      "source": [
        "# Análise de importância de features\n",
        "Dataset `pima-indians-diabetes`"
      ]
    },
    {
      "cell_type": "code",
      "metadata": {
        "colab": {
          "base_uri": "https://localhost:8080/"
        },
        "id": "yXL8iWbWzI7u",
        "outputId": "79af397b-7e8c-4df8-d7da-cfa0a5b132fc"
      },
      "source": [
        "# Baixando o(s) dataset(s)\n",
        "%%time\n",
        "!curl -o 'pima-indians-diabetes.csv' -s -OL 'https://drive.google.com/uc?export=download&id=1ToYD0GPtvy2BY9f1mPeexLeWFFgCcDY3'"
      ],
      "execution_count": null,
      "outputs": [
        {
          "output_type": "stream",
          "text": [
            "CPU times: user 7.25 ms, sys: 3.85 ms, total: 11.1 ms\n",
            "Wall time: 627 ms\n"
          ],
          "name": "stdout"
        }
      ]
    },
    {
      "cell_type": "markdown",
      "metadata": {
        "id": "B-7zRcVF0ZA_"
      },
      "source": [
        "Metadados:\n",
        "\n",
        "|Coluna|Descrição|\n",
        "|---|---|\n",
        "|preg|Número de vezes que grávida|\n",
        "|plas|Concentração de glicose plasmática a 2 horas em um teste de tolerância oral à glicose|\n",
        "|pres|pressão arterial diastólica (mm Hg)|\n",
        "|skin|espessura da dobra da pele do tríceps (mm)|\n",
        "|test|insulina sérica de 2 horas (mu U / ml)|\n",
        "|mass|índice de massa corporal (peso em kg / (altura em m) ^ 2)|\n",
        "|pedi|função de pedigree de diabetes|\n",
        "|age|idade (anos)|\n",
        "|class|Classe: 1 - positivo para diabetes; 2 - negativo para diabetes|\n"
      ]
    },
    {
      "cell_type": "code",
      "metadata": {
        "colab": {
          "base_uri": "https://localhost:8080/",
          "height": 359
        },
        "id": "PphLBmTIz-6q",
        "outputId": "b1203b59-7761-4c18-afd1-041737e8ed7b"
      },
      "source": [
        "df = pd.read_csv('pima-indians-diabetes.csv')\n",
        "df.sample(10)"
      ],
      "execution_count": null,
      "outputs": [
        {
          "output_type": "execute_result",
          "data": {
            "text/html": [
              "<div>\n",
              "<style scoped>\n",
              "    .dataframe tbody tr th:only-of-type {\n",
              "        vertical-align: middle;\n",
              "    }\n",
              "\n",
              "    .dataframe tbody tr th {\n",
              "        vertical-align: top;\n",
              "    }\n",
              "\n",
              "    .dataframe thead th {\n",
              "        text-align: right;\n",
              "    }\n",
              "</style>\n",
              "<table border=\"1\" class=\"dataframe\">\n",
              "  <thead>\n",
              "    <tr style=\"text-align: right;\">\n",
              "      <th></th>\n",
              "      <th>preg</th>\n",
              "      <th>plas</th>\n",
              "      <th>pres</th>\n",
              "      <th>skin</th>\n",
              "      <th>test</th>\n",
              "      <th>mass</th>\n",
              "      <th>pedi</th>\n",
              "      <th>age</th>\n",
              "      <th>class</th>\n",
              "    </tr>\n",
              "  </thead>\n",
              "  <tbody>\n",
              "    <tr>\n",
              "      <th>194</th>\n",
              "      <td>8</td>\n",
              "      <td>85</td>\n",
              "      <td>55</td>\n",
              "      <td>20</td>\n",
              "      <td>0</td>\n",
              "      <td>24.4</td>\n",
              "      <td>0.136</td>\n",
              "      <td>42</td>\n",
              "      <td>0</td>\n",
              "    </tr>\n",
              "    <tr>\n",
              "      <th>136</th>\n",
              "      <td>0</td>\n",
              "      <td>100</td>\n",
              "      <td>70</td>\n",
              "      <td>26</td>\n",
              "      <td>50</td>\n",
              "      <td>30.8</td>\n",
              "      <td>0.597</td>\n",
              "      <td>21</td>\n",
              "      <td>0</td>\n",
              "    </tr>\n",
              "    <tr>\n",
              "      <th>505</th>\n",
              "      <td>10</td>\n",
              "      <td>75</td>\n",
              "      <td>82</td>\n",
              "      <td>0</td>\n",
              "      <td>0</td>\n",
              "      <td>33.3</td>\n",
              "      <td>0.263</td>\n",
              "      <td>38</td>\n",
              "      <td>0</td>\n",
              "    </tr>\n",
              "    <tr>\n",
              "      <th>275</th>\n",
              "      <td>2</td>\n",
              "      <td>100</td>\n",
              "      <td>70</td>\n",
              "      <td>52</td>\n",
              "      <td>57</td>\n",
              "      <td>40.5</td>\n",
              "      <td>0.677</td>\n",
              "      <td>25</td>\n",
              "      <td>0</td>\n",
              "    </tr>\n",
              "    <tr>\n",
              "      <th>752</th>\n",
              "      <td>3</td>\n",
              "      <td>108</td>\n",
              "      <td>62</td>\n",
              "      <td>24</td>\n",
              "      <td>0</td>\n",
              "      <td>26.0</td>\n",
              "      <td>0.223</td>\n",
              "      <td>25</td>\n",
              "      <td>0</td>\n",
              "    </tr>\n",
              "    <tr>\n",
              "      <th>757</th>\n",
              "      <td>0</td>\n",
              "      <td>123</td>\n",
              "      <td>72</td>\n",
              "      <td>0</td>\n",
              "      <td>0</td>\n",
              "      <td>36.3</td>\n",
              "      <td>0.258</td>\n",
              "      <td>52</td>\n",
              "      <td>1</td>\n",
              "    </tr>\n",
              "    <tr>\n",
              "      <th>539</th>\n",
              "      <td>3</td>\n",
              "      <td>129</td>\n",
              "      <td>92</td>\n",
              "      <td>49</td>\n",
              "      <td>155</td>\n",
              "      <td>36.4</td>\n",
              "      <td>0.968</td>\n",
              "      <td>32</td>\n",
              "      <td>1</td>\n",
              "    </tr>\n",
              "    <tr>\n",
              "      <th>106</th>\n",
              "      <td>1</td>\n",
              "      <td>96</td>\n",
              "      <td>122</td>\n",
              "      <td>0</td>\n",
              "      <td>0</td>\n",
              "      <td>22.4</td>\n",
              "      <td>0.207</td>\n",
              "      <td>27</td>\n",
              "      <td>0</td>\n",
              "    </tr>\n",
              "    <tr>\n",
              "      <th>383</th>\n",
              "      <td>1</td>\n",
              "      <td>90</td>\n",
              "      <td>62</td>\n",
              "      <td>18</td>\n",
              "      <td>59</td>\n",
              "      <td>25.1</td>\n",
              "      <td>1.268</td>\n",
              "      <td>25</td>\n",
              "      <td>0</td>\n",
              "    </tr>\n",
              "    <tr>\n",
              "      <th>2</th>\n",
              "      <td>8</td>\n",
              "      <td>183</td>\n",
              "      <td>64</td>\n",
              "      <td>0</td>\n",
              "      <td>0</td>\n",
              "      <td>23.3</td>\n",
              "      <td>0.672</td>\n",
              "      <td>32</td>\n",
              "      <td>1</td>\n",
              "    </tr>\n",
              "  </tbody>\n",
              "</table>\n",
              "</div>"
            ],
            "text/plain": [
              "     preg  plas  pres  skin  test  mass   pedi  age  class\n",
              "194     8    85    55    20     0  24.4  0.136   42      0\n",
              "136     0   100    70    26    50  30.8  0.597   21      0\n",
              "505    10    75    82     0     0  33.3  0.263   38      0\n",
              "275     2   100    70    52    57  40.5  0.677   25      0\n",
              "752     3   108    62    24     0  26.0  0.223   25      0\n",
              "757     0   123    72     0     0  36.3  0.258   52      1\n",
              "539     3   129    92    49   155  36.4  0.968   32      1\n",
              "106     1    96   122     0     0  22.4  0.207   27      0\n",
              "383     1    90    62    18    59  25.1  1.268   25      0\n",
              "2       8   183    64     0     0  23.3  0.672   32      1"
            ]
          },
          "metadata": {
            "tags": []
          },
          "execution_count": 5
        }
      ]
    },
    {
      "cell_type": "code",
      "metadata": {
        "id": "7YqI9QFZVa8B",
        "colab": {
          "base_uri": "https://localhost:8080/"
        },
        "outputId": "4a409fc9-66e6-4d00-cea1-84dc06ab2ee6"
      },
      "source": [
        "array_n = df.values\n",
        "X = array_n[:,0:8]\n",
        "Y = array_n[:,8]"
      ],
      "execution_count": 11,
      "outputs": [
        {
          "output_type": "execute_result",
          "data": {
            "text/plain": [
              "array([[7129300520, '20141013T000000', 3, ..., 0, 0, 3],\n",
              "       [6414100192, '20141209T000000', 3, ..., 0, 0, 3],\n",
              "       [5631500400, '20150225T000000', 2, ..., 0, 0, 3],\n",
              "       ...,\n",
              "       [1523300141, '20140623T000000', 2, ..., 0, 0, 3],\n",
              "       [291310100, '20150116T000000', 3, ..., 0, 0, 3],\n",
              "       [1523300157, '20141015T000000', 2, ..., 0, 0, 3]], dtype=object)"
            ]
          },
          "metadata": {
            "tags": []
          },
          "execution_count": 11
        }
      ]
    },
    {
      "cell_type": "code",
      "metadata": {
        "colab": {
          "base_uri": "https://localhost:8080/",
          "height": 314
        },
        "id": "kSgB0fZ3VpDS",
        "outputId": "0f3dcf0b-9bab-4f60-bd87-847edd9b71ad"
      },
      "source": [
        "from sklearn.ensemble import RandomForestRegressor\n",
        "\n",
        "# Random Forest Regressor\n",
        "rf = RandomForestRegressor()\n",
        "rf.fit(X,Y)\n",
        "print (\"Features sorted by their score:\")\n",
        "print (sorted(zip(map(lambda x: round(x, 4), \n",
        "                      rf.feature_importances_), \n",
        "                  df.columns), \n",
        "              reverse=True))\n",
        "\n",
        "feature_importance = rf.feature_importances_\n",
        "feature_importance = 100.0 * (feature_importance / feature_importance.max())\n",
        "sorted_idx = np.argsort(feature_importance)\n",
        "pos = np.arange(sorted_idx.shape[0]) + 0.5\n",
        "plt.subplot(1,2,2)\n",
        "plt.barh(pos, feature_importance[sorted_idx], align='center')\n",
        "m_name = np.array(df.columns)\n",
        "plt.yticks(pos, m_name[sorted_idx])\n",
        "plt.xlabel('Importância Relativa')\n",
        "plt.show()\n"
      ],
      "execution_count": null,
      "outputs": [
        {
          "output_type": "stream",
          "text": [
            "Features sorted by their score:\n",
            "[(0.3322, 'plas'), (0.1677, 'mass'), (0.1259, 'pedi'), (0.1173, 'age'), (0.0876, 'pres'), (0.0678, 'preg'), (0.0528, 'test'), (0.0487, 'skin')]\n"
          ],
          "name": "stdout"
        },
        {
          "output_type": "display_data",
          "data": {
            "image/png": "[encoded data removed]",
            "text/plain": [
              "<Figure size 432x288 with 1 Axes>"
            ]
          },
          "metadata": {
            "tags": [],
            "needs_background": "light"
          }
        }
      ]
    },
    {
      "cell_type": "code",
      "metadata": {
        "colab": {
          "base_uri": "https://localhost:8080/",
          "height": 314
        },
        "id": "g-GQE042VqPh",
        "outputId": "9817a565-0089-4202-edaa-e6429b5f0312"
      },
      "source": [
        "from sklearn.feature_selection import SelectKBest, chi2\n",
        "# chi2\n",
        "test = SelectKBest(score_func=chi2, k=4)\n",
        "fit = test.fit(X, Y)\n",
        "\n",
        "np.set_printoptions(precision=3)\n",
        "#print(fit.scores_)\n",
        "\n",
        "features = fit.transform(X)\n",
        "#print(features[0:5,:])\n",
        "\n",
        "print(\"Features sorted by their scores:\")\n",
        "print(sorted(zip(map(lambda x: round(x, 4), fit.scores_), \n",
        "                 df.columns), \n",
        "             reverse=True))\n",
        "\n",
        "feature_importance = fit.scores_\n",
        "feature_importance = 100.0 * (feature_importance / feature_importance.max())\n",
        "sorted_idx = np.argsort(feature_importance)\n",
        "pos = np.arange(sorted_idx.shape[0]) + 0.5\n",
        "plt.subplot(1,2,2)\n",
        "plt.barh(pos, feature_importance[sorted_idx], align='center')\n",
        "m_name = np.array(df.columns)\n",
        "plt.yticks(pos, m_name[sorted_idx])\n",
        "plt.xlabel('Importância Relativa')\n",
        "plt.show()"
      ],
      "execution_count": null,
      "outputs": [
        {
          "output_type": "stream",
          "text": [
            "Features sorted by their scores:\n",
            "[(2175.5653, 'test'), (1411.887, 'plas'), (181.3037, 'age'), (127.6693, 'mass'), (111.5197, 'preg'), (53.108, 'skin'), (17.6054, 'pres'), (5.3927, 'pedi')]\n"
          ],
          "name": "stdout"
        },
        {
          "output_type": "display_data",
          "data": {
            "image/png": "[encoded data removed]",
            "text/plain": [
              "<Figure size 432x288 with 1 Axes>"
            ]
          },
          "metadata": {
            "tags": [],
            "needs_background": "light"
          }
        }
      ]
    },
    {
      "cell_type": "code",
      "metadata": {
        "colab": {
          "base_uri": "https://localhost:8080/",
          "height": 1000
        },
        "id": "bXLzyr8MZhEx",
        "outputId": "badc3e74-9f83-4e04-9f65-103804210bd6"
      },
      "source": [
        "from sklearn.feature_selection import SelectKBest, mutual_info_classif\n",
        "# mutual_info_classif\n",
        "\n",
        "def select_kbest(k):\n",
        "  print(f'Analyzing for k={k}')\n",
        "  test = SelectKBest(score_func=mutual_info_classif, k=k)\n",
        "  fit = test.fit(X, Y)\n",
        "\n",
        "  np.set_printoptions(precision=3)\n",
        "  #print(fit.scores_)\n",
        "\n",
        "  features = fit.transform(X)\n",
        "  #print(features[0:5,:])\n",
        "\n",
        "  print(\"Features sorted by their scores:\")\n",
        "  print(sorted(zip(map(lambda x: round(x, 4), fit.scores_), \n",
        "                  df.columns), \n",
        "              reverse=True))\n",
        "  print('')\n",
        "  feature_importance = fit.scores_\n",
        "  feature_importance = 100.0 * (feature_importance / feature_importance.max())\n",
        "  sorted_idx = np.argsort(feature_importance)\n",
        "  pos = np.arange(sorted_idx.shape[0]) + 0.5\n",
        "  plt.subplot(1,2,2)\n",
        "  plt.barh(pos, feature_importance[sorted_idx], align='center')\n",
        "  m_name = np.array(df.columns)\n",
        "  plt.yticks(pos, m_name[sorted_idx])\n",
        "  plt.xlabel('Importância Relativa')\n",
        "  plt.show()\n",
        "\n",
        "select_kbest(1)\n",
        "select_kbest(2)\n",
        "select_kbest(3)\n",
        "select_kbest(4)\n",
        "select_kbest('all')\n",
        "\n"
      ],
      "execution_count": null,
      "outputs": [
        {
          "output_type": "stream",
          "text": [
            "Analyzing for k=1\n",
            "Features sorted by their scores:\n",
            "[(0.1148, 'plas'), (0.0731, 'mass'), (0.0559, 'age'), (0.0356, 'preg'), (0.0347, 'test'), (0.0165, 'pedi'), (0.0164, 'skin'), (0.0, 'pres')]\n",
            "\n"
          ],
          "name": "stdout"
        },
        {
          "output_type": "display_data",
          "data": {
            "image/png": "[encoded data removed]",
            "text/plain": [
              "<Figure size 432x288 with 1 Axes>"
            ]
          },
          "metadata": {
            "tags": [],
            "needs_background": "light"
          }
        },
        {
          "output_type": "stream",
          "text": [
            "Analyzing for k=2\n",
            "Features sorted by their scores:\n",
            "[(0.1025, 'plas'), (0.0849, 'mass'), (0.0791, 'age'), (0.0568, 'test'), (0.0535, 'preg'), (0.0077, 'pedi'), (0.0043, 'pres'), (0.0, 'skin')]\n",
            "\n"
          ],
          "name": "stdout"
        },
        {
          "output_type": "display_data",
          "data": {
            "image/png": "[encoded data removed]",
            "text/plain": [
              "<Figure size 432x288 with 1 Axes>"
            ]
          },
          "metadata": {
            "tags": [],
            "needs_background": "light"
          }
        },
        {
          "output_type": "stream",
          "text": [
            "Analyzing for k=3\n",
            "Features sorted by their scores:\n",
            "[(0.1301, 'plas'), (0.097, 'mass'), (0.0727, 'age'), (0.0456, 'skin'), (0.0232, 'preg'), (0.0231, 'test'), (0.0093, 'pedi'), (0.0, 'pres')]\n",
            "\n"
          ],
          "name": "stdout"
        },
        {
          "output_type": "display_data",
          "data": {
            "image/png": "[encoded data removed]",
            "text/plain": [
              "<Figure size 432x288 with 1 Axes>"
            ]
          },
          "metadata": {
            "tags": [],
            "needs_background": "light"
          }
        },
        {
          "output_type": "stream",
          "text": [
            "Analyzing for k=4\n",
            "Features sorted by their scores:\n",
            "[(0.1232, 'plas'), (0.0746, 'mass'), (0.0403, 'test'), (0.0381, 'age'), (0.0252, 'skin'), (0.0162, 'preg'), (0.013, 'pedi'), (0.0, 'pres')]\n",
            "\n"
          ],
          "name": "stdout"
        },
        {
          "output_type": "display_data",
          "data": {
            "image/png": "[encoded data removed]",
            "text/plain": [
              "<Figure size 432x288 with 1 Axes>"
            ]
          },
          "metadata": {
            "tags": [],
            "needs_background": "light"
          }
        },
        {
          "output_type": "stream",
          "text": [
            "Analyzing for k=all\n",
            "Features sorted by their scores:\n",
            "[(0.1104, 'plas'), (0.0939, 'mass'), (0.0518, 'age'), (0.0266, 'preg'), (0.0111, 'test'), (0.0095, 'pedi'), (0.007, 'skin'), (0.0, 'pres')]\n",
            "\n"
          ],
          "name": "stdout"
        },
        {
          "output_type": "display_data",
          "data": {
            "image/png": "[encoded data removed]",
            "text/plain": [
              "<Figure size 432x288 with 1 Axes>"
            ]
          },
          "metadata": {
            "tags": [],
            "needs_background": "light"
          }
        }
      ]
    },
    {
      "cell_type": "code",
      "metadata": {
        "colab": {
          "base_uri": "https://localhost:8080/",
          "height": 331
        },
        "id": "lpVkfN29d7D6",
        "outputId": "8e833780-d0e8-4a14-a4c2-78de963715cf"
      },
      "source": [
        "from sklearn.feature_selection import SelectFdr\n",
        "# mutual_info_classif\n",
        "\n",
        "def select_fdr(c, fun):\n",
        "  #print(f'Analyzing for alpha={a}')\n",
        "  test = c()\n",
        "  fit = test.fit(X, Y)\n",
        "\n",
        "  np.set_printoptions(precision=3)\n",
        "  #print(fit.scores_)\n",
        "\n",
        "  #features = fit.transform(X)\n",
        "  features = test.fit_transform(X, Y)\n",
        "  #print(features[0:5,:])\n",
        "  \n",
        "  print(\"Features sorted by their scores:\")\n",
        "  print(sorted(zip(map(lambda x: round(x, 4), fit.scores_), \n",
        "                  df.columns), \n",
        "              reverse=True))\n",
        "  print('')\n",
        "  feature_importance = fit.scores_\n",
        "  feature_importance = 100.0 * (feature_importance / feature_importance.max())\n",
        "  sorted_idx = np.argsort(feature_importance)\n",
        "  pos = np.arange(sorted_idx.shape[0]) + 0.5\n",
        "  plt.subplot(1,2,2)\n",
        "  plt.barh(pos, feature_importance[sorted_idx], align='center')\n",
        "  m_name = np.array(df.columns)\n",
        "  plt.yticks(pos, m_name[sorted_idx])\n",
        "  plt.xlabel('Importância Relativa')\n",
        "  plt.show()\n",
        "\n",
        "select_fdr(SelectFdr, chi2)"
      ],
      "execution_count": null,
      "outputs": [
        {
          "output_type": "stream",
          "text": [
            "Features sorted by their scores:\n",
            "[(213.1618, 'plas'), (71.7721, 'mass'), (46.1406, 'age'), (39.6702, 'preg'), (23.8713, 'pedi'), (13.2811, 'test'), (4.3044, 'skin'), (3.257, 'pres')]\n",
            "\n"
          ],
          "name": "stdout"
        },
        {
          "output_type": "display_data",
          "data": {
            "image/png": "[encoded data removed]",
            "text/plain": [
              "<Figure size 432x288 with 1 Axes>"
            ]
          },
          "metadata": {
            "tags": [],
            "needs_background": "light"
          }
        }
      ]
    }
  ]
}