{
  "nbformat": 4,
  "nbformat_minor": 0,
  "metadata": {
    "colab": {
      "name": "Notebook_ETL.ipynb",
      "provenance": [],
      "collapsed_sections": [],
      "toc_visible": true
    },
    "kernelspec": {
      "name": "python3",
      "display_name": "Python 3"
    }
  },
  "cells": [
    {
      "cell_type": "code",
      "metadata": {
        "colab": {
          "base_uri": "https://localhost:8080/"
        },
        "id": "5GbY_ebFZ7Nk",
        "outputId": "045c3155-c3dc-4ffd-a84a-4213781a7302"
      },
      "source": [
        "!pwd"
      ],
      "execution_count": 1,
      "outputs": [
        {
          "output_type": "stream",
          "text": [
            "/content\n"
          ],
          "name": "stdout"
        }
      ]
    },
    {
      "cell_type": "code",
      "metadata": {
        "id": "FdeXIfHOd8Em"
      },
      "source": [
        "# Importando libs necessárias\r\n",
        "import pandas as pd"
      ],
      "execution_count": 2,
      "outputs": []
    },
    {
      "cell_type": "markdown",
      "metadata": {
        "id": "OFT7Ks51bU_4"
      },
      "source": [
        "# Extração"
      ]
    },
    {
      "cell_type": "code",
      "metadata": {
        "colab": {
          "base_uri": "https://localhost:8080/"
        },
        "id": "g-GukjLSYLyl",
        "outputId": "6d1ac7c9-e3f0-4682-a611-c919539a4c4a"
      },
      "source": [
        "# Montar o diretório compartilhado do Google Drive\n",
        "from google.colab import drive\n",
        "drive.mount('/content/gdrive')\n",
        "%cd /content/gdrive"
      ],
      "execution_count": 3,
      "outputs": [
        {
          "output_type": "stream",
          "text": [
            "Mounted at /content/gdrive\n",
            "/content/gdrive\n"
          ],
          "name": "stdout"
        }
      ]
    },
    {
      "cell_type": "code",
      "metadata": {
        "colab": {
          "base_uri": "https://localhost:8080/"
        },
        "id": "zV98oyvcYzrs",
        "outputId": "46d509e5-b381-4bd2-a4a4-250a93ce0300"
      },
      "source": [
        "# Listar arquivos do diretório compartilhado\r\n",
        "%cd MyDrive/uea-data-science/04-data-processing/trabalho-final/datasets\r\n",
        "!ls"
      ],
      "execution_count": 4,
      "outputs": [
        {
          "output_type": "stream",
          "text": [
            "/content/gdrive/MyDrive/uea-data-science/04-data-processing/trabalho-final/datasets\n",
            "bweb_1t_AM_181120201549.zip\n",
            "bweb_2t_AM_301120201245.zip\n",
            "detalhe_votacao_secao_2020.zip\n",
            "eleitorado_local_votacao_2020.zip\n",
            "perfil_comparecimento_abstencao_2020.zip\n",
            "perfil_eleitorado_2020.zip\n",
            "perfil_eleitor_secao_2020_AM.zip\n",
            "prestacao_contas_anual_partidaria_2020.zip\n",
            "prestacao_de_contas_eleitorais_candidatos_2020.zip\n",
            "votacao_candidato_munzona_2020.zip\n",
            "votacao_secao_2020_AM.zip\n"
          ],
          "name": "stdout"
        }
      ]
    },
    {
      "cell_type": "markdown",
      "metadata": {
        "id": "Kl-tblNdbZj1"
      },
      "source": [
        "# Transformação"
      ]
    },
    {
      "cell_type": "code",
      "metadata": {
        "id": "-N9sdsb0bf2P"
      },
      "source": [
        "!mkdir /content/work #diretório temporário de trabalho\r\n",
        "!mkdir /content/datasets #diretório com os arquivos processados"
      ],
      "execution_count": 5,
      "outputs": []
    },
    {
      "cell_type": "markdown",
      "metadata": {
        "id": "1Y-o_Q0XboFX"
      },
      "source": [
        "## Dados de Boletins de Urna"
      ]
    },
    {
      "cell_type": "code",
      "metadata": {
        "colab": {
          "base_uri": "https://localhost:8080/"
        },
        "id": "ZlIPX20fYLyr",
        "outputId": "25b9118b-cc41-4a31-9fb7-3f8875bb4413"
      },
      "source": [
        "# boletins de urna do 1o turno\n",
        "!unzip -u bweb_1t_AM_181120201549.zip -d /content/work"
      ],
      "execution_count": 6,
      "outputs": [
        {
          "output_type": "stream",
          "text": [
            "Archive:  bweb_1t_AM_181120201549.zip\n",
            "  inflating: /content/work/bweb_1t_AM_181120201549.csv  \n",
            "  inflating: /content/work/leiame-boletimurnaweb.pdf  \n"
          ],
          "name": "stdout"
        }
      ]
    },
    {
      "cell_type": "code",
      "metadata": {
        "id": "wkMxUeVmRRUA"
      },
      "source": [
        "!cp /content/work/leiame-boletimurnaweb.pdf /content/datasets/leiame-boletim_urna.pdf"
      ],
      "execution_count": 116,
      "outputs": []
    },
    {
      "cell_type": "code",
      "metadata": {
        "colab": {
          "base_uri": "https://localhost:8080/",
          "height": 394
        },
        "id": "5JAwcAEcyxKn",
        "outputId": "c8c924b2-7e90-4368-8868-2fcf0e104519"
      },
      "source": [
        "df_bu_1t = pd.read_csv('/content/work/bweb_1t_AM_181120201549.csv', encoding=\"ISO-8859-1\", delimiter=';')\r\n",
        "df_bu_1t.sample(5)"
      ],
      "execution_count": 141,
      "outputs": [
        {
          "output_type": "execute_result",
          "data": {
            "text/html": [
              "<div>\n",
              "<style scoped>\n",
              "    .dataframe tbody tr th:only-of-type {\n",
              "        vertical-align: middle;\n",
              "    }\n",
              "\n",
              "    .dataframe tbody tr th {\n",
              "        vertical-align: top;\n",
              "    }\n",
              "\n",
              "    .dataframe thead th {\n",
              "        text-align: right;\n",
              "    }\n",
              "</style>\n",
              "<table border=\"1\" class=\"dataframe\">\n",
              "  <thead>\n",
              "    <tr style=\"text-align: right;\">\n",
              "      <th></th>\n",
              "      <th>DT_GERACAO</th>\n",
              "      <th>HH_GERACAO</th>\n",
              "      <th>ANO_ELEICAO</th>\n",
              "      <th>CD_TIPO_ELEICAO</th>\n",
              "      <th>NM_TIPO_ELEICAO</th>\n",
              "      <th>CD_PLEITO</th>\n",
              "      <th>DT_PLEITO</th>\n",
              "      <th>NR_TURNO</th>\n",
              "      <th>CD_ELEICAO</th>\n",
              "      <th>DS_ELEICAO</th>\n",
              "      <th>SG_UF</th>\n",
              "      <th>CD_MUNICIPIO</th>\n",
              "      <th>NM_MUNICIPIO</th>\n",
              "      <th>NR_ZONA</th>\n",
              "      <th>NR_SECAO</th>\n",
              "      <th>NR_LOCAL_VOTACAO</th>\n",
              "      <th>CD_CARGO_PERGUNTA</th>\n",
              "      <th>DS_CARGO_PERGUNTA</th>\n",
              "      <th>NR_PARTIDO</th>\n",
              "      <th>SG_PARTIDO</th>\n",
              "      <th>NM_PARTIDO</th>\n",
              "      <th>DT_BU_RECEBIDO</th>\n",
              "      <th>QT_APTOS</th>\n",
              "      <th>QT_COMPARECIMENTO</th>\n",
              "      <th>QT_ABSTENCOES</th>\n",
              "      <th>CD_TIPO_URNA</th>\n",
              "      <th>DS_TIPO_URNA</th>\n",
              "      <th>CD_TIPO_VOTAVEL</th>\n",
              "      <th>DS_TIPO_VOTAVEL</th>\n",
              "      <th>NR_VOTAVEL</th>\n",
              "      <th>NM_VOTAVEL</th>\n",
              "      <th>QT_VOTOS</th>\n",
              "      <th>NR_URNA_EFETIVADA</th>\n",
              "      <th>CD_CARGA_1_URNA_EFETIVADA</th>\n",
              "      <th>CD_CARGA_2_URNA_EFETIVADA</th>\n",
              "      <th>CD_FLASHCARD_URNA_EFETIVADA</th>\n",
              "      <th>DT_CARGA_URNA_EFETIVADA</th>\n",
              "      <th>DS_CARGO_PERGUNTA_SECAO</th>\n",
              "      <th>DS_AGREGADAS</th>\n",
              "      <th>DT_ABERTURA</th>\n",
              "      <th>DT_ENCERRAMENTO</th>\n",
              "      <th>QT_ELEITORES_BIOMETRIA_NH</th>\n",
              "      <th>DT_EMISSAO_BU</th>\n",
              "      <th>NR_JUNTA_APURADORA</th>\n",
              "      <th>NR_TURMA_APURADORA</th>\n",
              "    </tr>\n",
              "  </thead>\n",
              "  <tbody>\n",
              "    <tr>\n",
              "      <th>698815</th>\n",
              "      <td>18/11/2020</td>\n",
              "      <td>15:49:53</td>\n",
              "      <td>2020</td>\n",
              "      <td>0</td>\n",
              "      <td>Eleição Ordinária</td>\n",
              "      <td>304</td>\n",
              "      <td>15/11/2020</td>\n",
              "      <td>1</td>\n",
              "      <td>426</td>\n",
              "      <td>Eleições Municipais 2020</td>\n",
              "      <td>AM</td>\n",
              "      <td>2550</td>\n",
              "      <td>MANAUS</td>\n",
              "      <td>63</td>\n",
              "      <td>733</td>\n",
              "      <td>2070</td>\n",
              "      <td>13</td>\n",
              "      <td>Vereador</td>\n",
              "      <td>35</td>\n",
              "      <td>PMB</td>\n",
              "      <td>Partido da Mulher Brasileira</td>\n",
              "      <td>15/11/2020 20:11:57</td>\n",
              "      <td>429</td>\n",
              "      <td>345</td>\n",
              "      <td>84</td>\n",
              "      <td>1</td>\n",
              "      <td>APURADA</td>\n",
              "      <td>1</td>\n",
              "      <td>Nominal</td>\n",
              "      <td>35316</td>\n",
              "      <td>RICARDO MEDEIROS</td>\n",
              "      <td>1</td>\n",
              "      <td>1178813</td>\n",
              "      <td>687.643.852.729.776.096.</td>\n",
              "      <td>92.916</td>\n",
              "      <td>DF12C918</td>\n",
              "      <td>11/11/2020 15:36:00</td>\n",
              "      <td>13 - 733</td>\n",
              "      <td>#NULO#</td>\n",
              "      <td>15/11/2020 07:13:13</td>\n",
              "      <td>15/11/2020 17:10:13</td>\n",
              "      <td>0</td>\n",
              "      <td>15/11/2020 17:13:35</td>\n",
              "      <td>-1</td>\n",
              "      <td>-1</td>\n",
              "    </tr>\n",
              "    <tr>\n",
              "      <th>362276</th>\n",
              "      <td>18/11/2020</td>\n",
              "      <td>15:49:53</td>\n",
              "      <td>2020</td>\n",
              "      <td>0</td>\n",
              "      <td>Eleição Ordinária</td>\n",
              "      <td>304</td>\n",
              "      <td>15/11/2020</td>\n",
              "      <td>1</td>\n",
              "      <td>426</td>\n",
              "      <td>Eleições Municipais 2020</td>\n",
              "      <td>AM</td>\n",
              "      <td>98477</td>\n",
              "      <td>TABATINGA</td>\n",
              "      <td>36</td>\n",
              "      <td>39</td>\n",
              "      <td>1015</td>\n",
              "      <td>13</td>\n",
              "      <td>Vereador</td>\n",
              "      <td>55</td>\n",
              "      <td>PSD</td>\n",
              "      <td>Partido Social Democrático</td>\n",
              "      <td>15/11/2020 20:11:45</td>\n",
              "      <td>379</td>\n",
              "      <td>274</td>\n",
              "      <td>105</td>\n",
              "      <td>1</td>\n",
              "      <td>APURADA</td>\n",
              "      <td>1</td>\n",
              "      <td>Nominal</td>\n",
              "      <td>55377</td>\n",
              "      <td>CRISTHIAM MARTINS</td>\n",
              "      <td>1</td>\n",
              "      <td>1613339</td>\n",
              "      <td>458.432.656.928.829.477.</td>\n",
              "      <td>932.266</td>\n",
              "      <td>5FB7F318</td>\n",
              "      <td>07/11/2020 10:10:00</td>\n",
              "      <td>13 - 39</td>\n",
              "      <td>#NULO#</td>\n",
              "      <td>15/11/2020 07:00:00</td>\n",
              "      <td>15/11/2020 17:01:28</td>\n",
              "      <td>0</td>\n",
              "      <td>15/11/2020 17:03:51</td>\n",
              "      <td>-1</td>\n",
              "      <td>-1</td>\n",
              "    </tr>\n",
              "    <tr>\n",
              "      <th>85815</th>\n",
              "      <td>18/11/2020</td>\n",
              "      <td>15:49:53</td>\n",
              "      <td>2020</td>\n",
              "      <td>0</td>\n",
              "      <td>Eleição Ordinária</td>\n",
              "      <td>304</td>\n",
              "      <td>15/11/2020</td>\n",
              "      <td>1</td>\n",
              "      <td>426</td>\n",
              "      <td>Eleições Municipais 2020</td>\n",
              "      <td>AM</td>\n",
              "      <td>2410</td>\n",
              "      <td>ITACOATIARA</td>\n",
              "      <td>3</td>\n",
              "      <td>28</td>\n",
              "      <td>1147</td>\n",
              "      <td>13</td>\n",
              "      <td>Vereador</td>\n",
              "      <td>22</td>\n",
              "      <td>PL</td>\n",
              "      <td>Partido Liberal</td>\n",
              "      <td>15/11/2020 22:08:01</td>\n",
              "      <td>419</td>\n",
              "      <td>342</td>\n",
              "      <td>77</td>\n",
              "      <td>1</td>\n",
              "      <td>APURADA</td>\n",
              "      <td>1</td>\n",
              "      <td>Nominal</td>\n",
              "      <td>22333</td>\n",
              "      <td>RICHARDSON DO MUTIRÃO</td>\n",
              "      <td>9</td>\n",
              "      <td>1267975</td>\n",
              "      <td>430.076.458.031.231.020.</td>\n",
              "      <td>279.519</td>\n",
              "      <td>0F095EBA</td>\n",
              "      <td>07/11/2020 09:26:00</td>\n",
              "      <td>13 - 28</td>\n",
              "      <td>#NULO#</td>\n",
              "      <td>15/11/2020 07:00:00</td>\n",
              "      <td>15/11/2020 17:17:57</td>\n",
              "      <td>0</td>\n",
              "      <td>15/11/2020 17:19:17</td>\n",
              "      <td>-1</td>\n",
              "      <td>-1</td>\n",
              "    </tr>\n",
              "    <tr>\n",
              "      <th>589729</th>\n",
              "      <td>18/11/2020</td>\n",
              "      <td>15:49:53</td>\n",
              "      <td>2020</td>\n",
              "      <td>0</td>\n",
              "      <td>Eleição Ordinária</td>\n",
              "      <td>304</td>\n",
              "      <td>15/11/2020</td>\n",
              "      <td>1</td>\n",
              "      <td>426</td>\n",
              "      <td>Eleições Municipais 2020</td>\n",
              "      <td>AM</td>\n",
              "      <td>2550</td>\n",
              "      <td>MANAUS</td>\n",
              "      <td>59</td>\n",
              "      <td>708</td>\n",
              "      <td>2186</td>\n",
              "      <td>13</td>\n",
              "      <td>Vereador</td>\n",
              "      <td>10</td>\n",
              "      <td>REPUBLICANOS</td>\n",
              "      <td>REPUBLICANOS</td>\n",
              "      <td>15/11/2020 20:36:05</td>\n",
              "      <td>375</td>\n",
              "      <td>305</td>\n",
              "      <td>70</td>\n",
              "      <td>1</td>\n",
              "      <td>APURADA</td>\n",
              "      <td>1</td>\n",
              "      <td>Nominal</td>\n",
              "      <td>10123</td>\n",
              "      <td>JOÃO CARLOS</td>\n",
              "      <td>5</td>\n",
              "      <td>1788743</td>\n",
              "      <td>657.399.160.357.009.679.</td>\n",
              "      <td>434.094</td>\n",
              "      <td>C49A5F1A</td>\n",
              "      <td>12/11/2020 09:07:00</td>\n",
              "      <td>13 - 708</td>\n",
              "      <td>#NULO#</td>\n",
              "      <td>15/11/2020 07:00:00</td>\n",
              "      <td>15/11/2020 17:10:37</td>\n",
              "      <td>0</td>\n",
              "      <td>15/11/2020 17:11:54</td>\n",
              "      <td>-1</td>\n",
              "      <td>-1</td>\n",
              "    </tr>\n",
              "    <tr>\n",
              "      <th>123405</th>\n",
              "      <td>18/11/2020</td>\n",
              "      <td>15:49:53</td>\n",
              "      <td>2020</td>\n",
              "      <td>0</td>\n",
              "      <td>Eleição Ordinária</td>\n",
              "      <td>304</td>\n",
              "      <td>15/11/2020</td>\n",
              "      <td>1</td>\n",
              "      <td>426</td>\n",
              "      <td>Eleições Municipais 2020</td>\n",
              "      <td>AM</td>\n",
              "      <td>2690</td>\n",
              "      <td>PARINTINS</td>\n",
              "      <td>4</td>\n",
              "      <td>254</td>\n",
              "      <td>1902</td>\n",
              "      <td>13</td>\n",
              "      <td>Vereador</td>\n",
              "      <td>33</td>\n",
              "      <td>PMN</td>\n",
              "      <td>Partido da Mobilização Nacional</td>\n",
              "      <td>15/11/2020 20:08:25</td>\n",
              "      <td>380</td>\n",
              "      <td>307</td>\n",
              "      <td>73</td>\n",
              "      <td>1</td>\n",
              "      <td>APURADA</td>\n",
              "      <td>1</td>\n",
              "      <td>Nominal</td>\n",
              "      <td>33777</td>\n",
              "      <td>PROFESSOR MOISES</td>\n",
              "      <td>1</td>\n",
              "      <td>1268349</td>\n",
              "      <td>581.702.556.568.623.545.</td>\n",
              "      <td>745.168</td>\n",
              "      <td>DBC4AA44</td>\n",
              "      <td>07/11/2020 15:03:00</td>\n",
              "      <td>13 - 254</td>\n",
              "      <td>#NULO#</td>\n",
              "      <td>15/11/2020 07:00:00</td>\n",
              "      <td>15/11/2020 17:04:17</td>\n",
              "      <td>0</td>\n",
              "      <td>15/11/2020 17:06:46</td>\n",
              "      <td>-1</td>\n",
              "      <td>-1</td>\n",
              "    </tr>\n",
              "  </tbody>\n",
              "</table>\n",
              "</div>"
            ],
            "text/plain": [
              "        DT_GERACAO HH_GERACAO  ...  NR_JUNTA_APURADORA  NR_TURMA_APURADORA\n",
              "698815  18/11/2020   15:49:53  ...                  -1                  -1\n",
              "362276  18/11/2020   15:49:53  ...                  -1                  -1\n",
              "85815   18/11/2020   15:49:53  ...                  -1                  -1\n",
              "589729  18/11/2020   15:49:53  ...                  -1                  -1\n",
              "123405  18/11/2020   15:49:53  ...                  -1                  -1\n",
              "\n",
              "[5 rows x 45 columns]"
            ]
          },
          "metadata": {
            "tags": []
          },
          "execution_count": 141
        }
      ]
    },
    {
      "cell_type": "code",
      "metadata": {
        "colab": {
          "base_uri": "https://localhost:8080/"
        },
        "id": "lGaTHFSa6MvO",
        "outputId": "33b98af7-79a4-46b2-b620-8d7462a74eed"
      },
      "source": [
        "df_bu_1t.info()"
      ],
      "execution_count": 142,
      "outputs": [
        {
          "output_type": "stream",
          "text": [
            "<class 'pandas.core.frame.DataFrame'>\n",
            "RangeIndex: 848941 entries, 0 to 848940\n",
            "Data columns (total 45 columns):\n",
            " #   Column                       Non-Null Count   Dtype  \n",
            "---  ------                       --------------   -----  \n",
            " 0   DT_GERACAO                   848941 non-null  object \n",
            " 1   HH_GERACAO                   848941 non-null  object \n",
            " 2   ANO_ELEICAO                  848941 non-null  int64  \n",
            " 3   CD_TIPO_ELEICAO              848941 non-null  int64  \n",
            " 4   NM_TIPO_ELEICAO              848941 non-null  object \n",
            " 5   CD_PLEITO                    848941 non-null  int64  \n",
            " 6   DT_PLEITO                    848941 non-null  object \n",
            " 7   NR_TURNO                     848941 non-null  int64  \n",
            " 8   CD_ELEICAO                   848941 non-null  int64  \n",
            " 9   DS_ELEICAO                   848941 non-null  object \n",
            " 10  SG_UF                        848941 non-null  object \n",
            " 11  CD_MUNICIPIO                 848941 non-null  int64  \n",
            " 12  NM_MUNICIPIO                 848941 non-null  object \n",
            " 13  NR_ZONA                      848941 non-null  int64  \n",
            " 14  NR_SECAO                     848941 non-null  int64  \n",
            " 15  NR_LOCAL_VOTACAO             848941 non-null  int64  \n",
            " 16  CD_CARGO_PERGUNTA            848941 non-null  int64  \n",
            " 17  DS_CARGO_PERGUNTA            848941 non-null  object \n",
            " 18  NR_PARTIDO                   848941 non-null  int64  \n",
            " 19  SG_PARTIDO                   848941 non-null  object \n",
            " 20  NM_PARTIDO                   848941 non-null  object \n",
            " 21  DT_BU_RECEBIDO               848941 non-null  object \n",
            " 22  QT_APTOS                     848941 non-null  int64  \n",
            " 23  QT_COMPARECIMENTO            848941 non-null  int64  \n",
            " 24  QT_ABSTENCOES                848941 non-null  int64  \n",
            " 25  CD_TIPO_URNA                 848941 non-null  int64  \n",
            " 26  DS_TIPO_URNA                 848941 non-null  object \n",
            " 27  CD_TIPO_VOTAVEL              848941 non-null  int64  \n",
            " 28  DS_TIPO_VOTAVEL              848941 non-null  object \n",
            " 29  NR_VOTAVEL                   848941 non-null  int64  \n",
            " 30  NM_VOTAVEL                   848941 non-null  object \n",
            " 31  QT_VOTOS                     848941 non-null  int64  \n",
            " 32  NR_URNA_EFETIVADA            848941 non-null  int64  \n",
            " 33  CD_CARGA_1_URNA_EFETIVADA    848941 non-null  object \n",
            " 34  CD_CARGA_2_URNA_EFETIVADA    848941 non-null  float64\n",
            " 35  CD_FLASHCARD_URNA_EFETIVADA  848941 non-null  object \n",
            " 36  DT_CARGA_URNA_EFETIVADA      848941 non-null  object \n",
            " 37  DS_CARGO_PERGUNTA_SECAO      848941 non-null  object \n",
            " 38  DS_AGREGADAS                 848941 non-null  object \n",
            " 39  DT_ABERTURA                  848828 non-null  object \n",
            " 40  DT_ENCERRAMENTO              848828 non-null  object \n",
            " 41  QT_ELEITORES_BIOMETRIA_NH    848941 non-null  int64  \n",
            " 42  DT_EMISSAO_BU                848941 non-null  object \n",
            " 43  NR_JUNTA_APURADORA           848941 non-null  int64  \n",
            " 44  NR_TURMA_APURADORA           848941 non-null  int64  \n",
            "dtypes: float64(1), int64(22), object(22)\n",
            "memory usage: 291.5+ MB\n"
          ],
          "name": "stdout"
        }
      ]
    },
    {
      "cell_type": "code",
      "metadata": {
        "colab": {
          "base_uri": "https://localhost:8080/"
        },
        "id": "gd3lRweSzhjY",
        "outputId": "9fd387e3-647c-4fb3-a897-b6e3201be24e"
      },
      "source": [
        "df_bus_1t.DS_CARGO_PERGUNTA.unique()"
      ],
      "execution_count": 46,
      "outputs": [
        {
          "output_type": "execute_result",
          "data": {
            "text/plain": [
              "array(['Prefeito', 'Vereador'], dtype=object)"
            ]
          },
          "metadata": {
            "tags": []
          },
          "execution_count": 46
        }
      ]
    },
    {
      "cell_type": "code",
      "metadata": {
        "colab": {
          "base_uri": "https://localhost:8080/"
        },
        "id": "eSOgbMMazlVY",
        "outputId": "e024592c-4955-4496-e82a-35080e2fa868"
      },
      "source": [
        "df_bu_1t.SG_PARTIDO.value_counts()"
      ],
      "execution_count": 47,
      "outputs": [
        {
          "output_type": "execute_result",
          "data": {
            "text/plain": [
              "PSC              62642\n",
              "AVANTE           60226\n",
              "REPUBLICANOS     53694\n",
              "PL               40921\n",
              "PATRIOTA         40139\n",
              "PP               36335\n",
              "PT               34365\n",
              "PSDB             33885\n",
              "PODE             33417\n",
              "PSL              33355\n",
              "PTB              32379\n",
              "MDB              31878\n",
              "PMN              30224\n",
              "PSB              29228\n",
              "PSD              27816\n",
              "DC               26548\n",
              "CIDADANIA        26338\n",
              "PROS             26234\n",
              "PV               25449\n",
              "#NULO#           24702\n",
              "DEM              24324\n",
              "PRTB             21962\n",
              "PTC              21249\n",
              "SOLIDARIEDADE    17075\n",
              "PC do B          16626\n",
              "PDT              12287\n",
              "PMB               9386\n",
              "NOVO              7568\n",
              "PSOL              4880\n",
              "REDE              2877\n",
              "PSTU               932\n",
              "Name: SG_PARTIDO, dtype: int64"
            ]
          },
          "metadata": {
            "tags": []
          },
          "execution_count": 47
        }
      ]
    },
    {
      "cell_type": "code",
      "metadata": {
        "colab": {
          "base_uri": "https://localhost:8080/"
        },
        "id": "JpgL2tTH53GI",
        "outputId": "6c19b775-01ac-4c6e-b703-39681e156ac9"
      },
      "source": [
        "df_bu_1t.NM_MUNICIPIO.value_counts()"
      ],
      "execution_count": 48,
      "outputs": [
        {
          "output_type": "execute_result",
          "data": {
            "text/plain": [
              "MANAUS         590874\n",
              "MANACAPURU      20977\n",
              "ITACOATIARA     20787\n",
              "PARINTINS       18377\n",
              "TEFÉ            12425\n",
              "                ...  \n",
              "AMATURÁ          1116\n",
              "ANAMÃ            1092\n",
              "CANUTAMA         1033\n",
              "ITAMARATI         800\n",
              "JAPURÁ            583\n",
              "Name: NM_MUNICIPIO, Length: 62, dtype: int64"
            ]
          },
          "metadata": {
            "tags": []
          },
          "execution_count": 48
        }
      ]
    },
    {
      "cell_type": "code",
      "metadata": {
        "colab": {
          "base_uri": "https://localhost:8080/"
        },
        "id": "jxYoqib48kGC",
        "outputId": "ecc6996d-908a-43ed-8ffa-d0d591907f28"
      },
      "source": [
        "df_bu_1t.DS_TIPO_VOTAVEL.unique()"
      ],
      "execution_count": 49,
      "outputs": [
        {
          "output_type": "execute_result",
          "data": {
            "text/plain": [
              "array(['Nominal', 'Nulo', 'Branco', 'Legenda'], dtype=object)"
            ]
          },
          "metadata": {
            "tags": []
          },
          "execution_count": 49
        }
      ]
    },
    {
      "cell_type": "code",
      "metadata": {
        "colab": {
          "base_uri": "https://localhost:8080/"
        },
        "id": "mOu08RhB8uUh",
        "outputId": "ff25c458-85c8-421d-db22-e5ae1059ffb8"
      },
      "source": [
        "df_bu_1t.DS_TIPO_URNA.unique()"
      ],
      "execution_count": 50,
      "outputs": [
        {
          "output_type": "execute_result",
          "data": {
            "text/plain": [
              "array(['APURADA'], dtype=object)"
            ]
          },
          "metadata": {
            "tags": []
          },
          "execution_count": 50
        }
      ]
    },
    {
      "cell_type": "code",
      "metadata": {
        "colab": {
          "base_uri": "https://localhost:8080/"
        },
        "id": "YjmTFwNx9UUl",
        "outputId": "79ccf2c6-9021-4c7a-cec4-238b2c450a46"
      },
      "source": [
        "df_bu_1t.DS_AGREGADAS.value_counts()"
      ],
      "execution_count": 51,
      "outputs": [
        {
          "output_type": "execute_result",
          "data": {
            "text/plain": [
              "#NULO#     805387\n",
              "80            585\n",
              "73            551\n",
              "50            467\n",
              "61            423\n",
              "            ...  \n",
              "90             24\n",
              "65             19\n",
              "17 / 26        19\n",
              "32             17\n",
              "111            14\n",
              "Name: DS_AGREGADAS, Length: 294, dtype: int64"
            ]
          },
          "metadata": {
            "tags": []
          },
          "execution_count": 51
        }
      ]
    },
    {
      "cell_type": "code",
      "metadata": {
        "colab": {
          "base_uri": "https://localhost:8080/"
        },
        "id": "bNtRBVw47i_-",
        "outputId": "af0ec01d-7a32-48ec-eb66-109b5aacfaa1"
      },
      "source": [
        "df_bu_1t = df_bu_1t[df_bu_1t.NM_MUNICIPIO.eq('MANAUS')] \\\r\n",
        "                  .drop(columns=['DT_GERACAO',\t'HH_GERACAO',\t'CD_TIPO_ELEICAO', 'DT_BU_RECEBIDO',\t'CD_TIPO_URNA', 'DS_TIPO_URNA',\t\r\n",
        "                                    'CD_TIPO_VOTAVEL',\t'NR_URNA_EFETIVADA',\t'CD_CARGA_1_URNA_EFETIVADA',\t'CD_CARGA_2_URNA_EFETIVADA',\t\r\n",
        "                                    'CD_FLASHCARD_URNA_EFETIVADA',\t'DT_CARGA_URNA_EFETIVADA',\t'DS_CARGO_PERGUNTA_SECAO',\t'DS_AGREGADAS',\r\n",
        "                                    'DT_ABERTURA',\t'DT_ENCERRAMENTO',\t'QT_ELEITORES_BIOMETRIA_NH',\t'NR_JUNTA_APURADORA',\t'NR_TURMA_APURADORA'])\r\n",
        "df_bu_1t.info()"
      ],
      "execution_count": 143,
      "outputs": [
        {
          "output_type": "stream",
          "text": [
            "<class 'pandas.core.frame.DataFrame'>\n",
            "Int64Index: 590874 entries, 0 to 848940\n",
            "Data columns (total 26 columns):\n",
            " #   Column             Non-Null Count   Dtype \n",
            "---  ------             --------------   ----- \n",
            " 0   ANO_ELEICAO        590874 non-null  int64 \n",
            " 1   NM_TIPO_ELEICAO    590874 non-null  object\n",
            " 2   CD_PLEITO          590874 non-null  int64 \n",
            " 3   DT_PLEITO          590874 non-null  object\n",
            " 4   NR_TURNO           590874 non-null  int64 \n",
            " 5   CD_ELEICAO         590874 non-null  int64 \n",
            " 6   DS_ELEICAO         590874 non-null  object\n",
            " 7   SG_UF              590874 non-null  object\n",
            " 8   CD_MUNICIPIO       590874 non-null  int64 \n",
            " 9   NM_MUNICIPIO       590874 non-null  object\n",
            " 10  NR_ZONA            590874 non-null  int64 \n",
            " 11  NR_SECAO           590874 non-null  int64 \n",
            " 12  NR_LOCAL_VOTACAO   590874 non-null  int64 \n",
            " 13  CD_CARGO_PERGUNTA  590874 non-null  int64 \n",
            " 14  DS_CARGO_PERGUNTA  590874 non-null  object\n",
            " 15  NR_PARTIDO         590874 non-null  int64 \n",
            " 16  SG_PARTIDO         590874 non-null  object\n",
            " 17  NM_PARTIDO         590874 non-null  object\n",
            " 18  QT_APTOS           590874 non-null  int64 \n",
            " 19  QT_COMPARECIMENTO  590874 non-null  int64 \n",
            " 20  QT_ABSTENCOES      590874 non-null  int64 \n",
            " 21  DS_TIPO_VOTAVEL    590874 non-null  object\n",
            " 22  NR_VOTAVEL         590874 non-null  int64 \n",
            " 23  NM_VOTAVEL         590874 non-null  object\n",
            " 24  QT_VOTOS           590874 non-null  int64 \n",
            " 25  DT_EMISSAO_BU      590874 non-null  object\n",
            "dtypes: int64(15), object(11)\n",
            "memory usage: 121.7+ MB\n"
          ],
          "name": "stdout"
        }
      ]
    },
    {
      "cell_type": "markdown",
      "metadata": {
        "id": "Qn_l17w9Uueg"
      },
      "source": [
        "### Eleições"
      ]
    },
    {
      "cell_type": "code",
      "metadata": {
        "colab": {
          "base_uri": "https://localhost:8080/",
          "height": 111
        },
        "id": "gKa542xoDyH3",
        "outputId": "28d196ab-efad-493b-b3bb-e550ba0a86d0"
      },
      "source": [
        "df1 = df_bu_1t[['ANO_ELEICAO',\t'NM_TIPO_ELEICAO',\t'CD_PLEITO',\t'DT_PLEITO', 'NR_TURNO',\t'CD_ELEICAO',\t'DS_ELEICAO']] \\\r\n",
        "               .drop_duplicates()\r\n",
        "df2 = df_bu_2t[['ANO_ELEICAO',\t'NM_TIPO_ELEICAO',\t'CD_PLEITO',\t'DT_PLEITO', 'NR_TURNO',\t'CD_ELEICAO',\t'DS_ELEICAO']] \\\r\n",
        "               .drop_duplicates()\r\n",
        "df_eleicao = df1.append(df2)\r\n",
        "df_eleicao.columns = ['ano', 'tipo', 'pleito', 'data', 'turno', 'eleicao', 'descricao']\r\n",
        "df_eleicao"
      ],
      "execution_count": null,
      "outputs": [
        {
          "output_type": "execute_result",
          "data": {
            "text/html": [
              "<div>\n",
              "<style scoped>\n",
              "    .dataframe tbody tr th:only-of-type {\n",
              "        vertical-align: middle;\n",
              "    }\n",
              "\n",
              "    .dataframe tbody tr th {\n",
              "        vertical-align: top;\n",
              "    }\n",
              "\n",
              "    .dataframe thead th {\n",
              "        text-align: right;\n",
              "    }\n",
              "</style>\n",
              "<table border=\"1\" class=\"dataframe\">\n",
              "  <thead>\n",
              "    <tr style=\"text-align: right;\">\n",
              "      <th></th>\n",
              "      <th>ano</th>\n",
              "      <th>tipo</th>\n",
              "      <th>pleito</th>\n",
              "      <th>data</th>\n",
              "      <th>turno</th>\n",
              "      <th>eleicao</th>\n",
              "      <th>descricao</th>\n",
              "    </tr>\n",
              "  </thead>\n",
              "  <tbody>\n",
              "    <tr>\n",
              "      <th>0</th>\n",
              "      <td>2020</td>\n",
              "      <td>Eleição Ordinária</td>\n",
              "      <td>304</td>\n",
              "      <td>15/11/2020</td>\n",
              "      <td>1</td>\n",
              "      <td>426</td>\n",
              "      <td>Eleições Municipais 2020</td>\n",
              "    </tr>\n",
              "    <tr>\n",
              "      <th>0</th>\n",
              "      <td>2020</td>\n",
              "      <td>Eleição Ordinária</td>\n",
              "      <td>305</td>\n",
              "      <td>29/11/2020</td>\n",
              "      <td>2</td>\n",
              "      <td>427</td>\n",
              "      <td>Eleições Municipais 2020</td>\n",
              "    </tr>\n",
              "  </tbody>\n",
              "</table>\n",
              "</div>"
            ],
            "text/plain": [
              "    ano               tipo  pleito  ... turno  eleicao                 descricao\n",
              "0  2020  Eleição Ordinária     304  ...     1      426  Eleições Municipais 2020\n",
              "0  2020  Eleição Ordinária     305  ...     2      427  Eleições Municipais 2020\n",
              "\n",
              "[2 rows x 7 columns]"
            ]
          },
          "metadata": {
            "tags": []
          },
          "execution_count": 134
        }
      ]
    },
    {
      "cell_type": "code",
      "metadata": {
        "id": "P3n-XGLJH3o1"
      },
      "source": [
        "df_eleicao.to_csv('/content/datasets/eleicoes.csv')"
      ],
      "execution_count": null,
      "outputs": []
    },
    {
      "cell_type": "markdown",
      "metadata": {
        "id": "IZaemqS1VDc7"
      },
      "source": [
        "### Candidatos a Prefeito"
      ]
    },
    {
      "cell_type": "code",
      "metadata": {
        "colab": {
          "base_uri": "https://localhost:8080/",
          "height": 390
        },
        "id": "LuEhWX4qIGLb",
        "outputId": "3bb32c11-7180-4714-8729-9970291f0cf0"
      },
      "source": [
        "df_prefeitos = df_bu_1t[df_bu_1t.DS_CARGO_PERGUNTA.eq('Prefeito') & df_bu_1t.DS_TIPO_VOTAVEL.eq('Nominal')] \\\r\n",
        "                      [['CD_ELEICAO','DS_CARGO_PERGUNTA','NR_VOTAVEL','SG_PARTIDO','NM_VOTAVEL']] \\\r\n",
        "                         .drop_duplicates() \\\r\n",
        "                         .sort_values(['NR_VOTAVEL'])\r\n",
        "df_prefeitos.columns = ['eleicao',\t'cargo',\t'numero', 'partido', 'candidato']\r\n",
        "df_prefeitos"
      ],
      "execution_count": 127,
      "outputs": [
        {
          "output_type": "execute_result",
          "data": {
            "text/html": [
              "<div>\n",
              "<style scoped>\n",
              "    .dataframe tbody tr th:only-of-type {\n",
              "        vertical-align: middle;\n",
              "    }\n",
              "\n",
              "    .dataframe tbody tr th {\n",
              "        vertical-align: top;\n",
              "    }\n",
              "\n",
              "    .dataframe thead th {\n",
              "        text-align: right;\n",
              "    }\n",
              "</style>\n",
              "<table border=\"1\" class=\"dataframe\">\n",
              "  <thead>\n",
              "    <tr style=\"text-align: right;\">\n",
              "      <th></th>\n",
              "      <th>eleicao</th>\n",
              "      <th>cargo</th>\n",
              "      <th>numero</th>\n",
              "      <th>partido</th>\n",
              "      <th>candidato</th>\n",
              "    </tr>\n",
              "  </thead>\n",
              "  <tbody>\n",
              "    <tr>\n",
              "      <th>6</th>\n",
              "      <td>426</td>\n",
              "      <td>Prefeito</td>\n",
              "      <td>10</td>\n",
              "      <td>REPUBLICANOS</td>\n",
              "      <td>CAPITÃO ALBERTO NETO</td>\n",
              "    </tr>\n",
              "    <tr>\n",
              "      <th>9</th>\n",
              "      <td>426</td>\n",
              "      <td>Prefeito</td>\n",
              "      <td>13</td>\n",
              "      <td>PT</td>\n",
              "      <td>ZE RICARDO</td>\n",
              "    </tr>\n",
              "    <tr>\n",
              "      <th>209</th>\n",
              "      <td>426</td>\n",
              "      <td>Prefeito</td>\n",
              "      <td>16</td>\n",
              "      <td>PSTU</td>\n",
              "      <td>GILBERTO VASCONCELOS</td>\n",
              "    </tr>\n",
              "    <tr>\n",
              "      <th>7</th>\n",
              "      <td>426</td>\n",
              "      <td>Prefeito</td>\n",
              "      <td>19</td>\n",
              "      <td>PODE</td>\n",
              "      <td>AMAZONINO MENDES</td>\n",
              "    </tr>\n",
              "    <tr>\n",
              "      <th>5</th>\n",
              "      <td>426</td>\n",
              "      <td>Prefeito</td>\n",
              "      <td>22</td>\n",
              "      <td>PL</td>\n",
              "      <td>ALFREDO NASCIMENTO</td>\n",
              "    </tr>\n",
              "    <tr>\n",
              "      <th>0</th>\n",
              "      <td>426</td>\n",
              "      <td>Prefeito</td>\n",
              "      <td>27</td>\n",
              "      <td>DC</td>\n",
              "      <td>CHICO PRETO</td>\n",
              "    </tr>\n",
              "    <tr>\n",
              "      <th>10</th>\n",
              "      <td>426</td>\n",
              "      <td>Prefeito</td>\n",
              "      <td>30</td>\n",
              "      <td>NOVO</td>\n",
              "      <td>ROMERO REIS</td>\n",
              "    </tr>\n",
              "    <tr>\n",
              "      <th>8</th>\n",
              "      <td>426</td>\n",
              "      <td>Prefeito</td>\n",
              "      <td>51</td>\n",
              "      <td>PATRIOTA</td>\n",
              "      <td>CORONEL MENEZES</td>\n",
              "    </tr>\n",
              "    <tr>\n",
              "      <th>4</th>\n",
              "      <td>426</td>\n",
              "      <td>Prefeito</td>\n",
              "      <td>55</td>\n",
              "      <td>PSD</td>\n",
              "      <td>RICARDO NICOLAU</td>\n",
              "    </tr>\n",
              "    <tr>\n",
              "      <th>217</th>\n",
              "      <td>426</td>\n",
              "      <td>Prefeito</td>\n",
              "      <td>65</td>\n",
              "      <td>PC do B</td>\n",
              "      <td>MARCELO AMIL</td>\n",
              "    </tr>\n",
              "    <tr>\n",
              "      <th>3</th>\n",
              "      <td>426</td>\n",
              "      <td>Prefeito</td>\n",
              "      <td>70</td>\n",
              "      <td>AVANTE</td>\n",
              "      <td>DAVID ALMEIDA</td>\n",
              "    </tr>\n",
              "  </tbody>\n",
              "</table>\n",
              "</div>"
            ],
            "text/plain": [
              "     eleicao     cargo  numero       partido             candidato\n",
              "6        426  Prefeito      10  REPUBLICANOS  CAPITÃO ALBERTO NETO\n",
              "9        426  Prefeito      13            PT            ZE RICARDO\n",
              "209      426  Prefeito      16          PSTU  GILBERTO VASCONCELOS\n",
              "7        426  Prefeito      19          PODE      AMAZONINO MENDES\n",
              "5        426  Prefeito      22            PL    ALFREDO NASCIMENTO\n",
              "0        426  Prefeito      27            DC           CHICO PRETO\n",
              "10       426  Prefeito      30          NOVO           ROMERO REIS\n",
              "8        426  Prefeito      51      PATRIOTA       CORONEL MENEZES\n",
              "4        426  Prefeito      55           PSD       RICARDO NICOLAU\n",
              "217      426  Prefeito      65       PC do B          MARCELO AMIL\n",
              "3        426  Prefeito      70        AVANTE         DAVID ALMEIDA"
            ]
          },
          "metadata": {
            "tags": []
          },
          "execution_count": 127
        }
      ]
    },
    {
      "cell_type": "code",
      "metadata": {
        "id": "yVtUUxJ4LX2E"
      },
      "source": [
        "df_prefeitos.to_csv('/content/datasets/prefeitos.csv')"
      ],
      "execution_count": 128,
      "outputs": []
    },
    {
      "cell_type": "markdown",
      "metadata": {
        "id": "AQWCn09xVMry"
      },
      "source": [
        "### Resultados para Prefeito"
      ]
    },
    {
      "cell_type": "code",
      "metadata": {
        "colab": {
          "base_uri": "https://localhost:8080/",
          "height": 419
        },
        "id": "JrIvmC0rOEbV",
        "outputId": "e30e916a-9125-4e83-f7c3-465dbc8493e4"
      },
      "source": [
        "df_resultados_prefeito = df_bu_1t[df_bu_1t.DS_CARGO_PERGUNTA.eq('Prefeito')] \\\r\n",
        "    [['CD_ELEICAO',\t'NR_ZONA'\t,'NR_SECAO', 'NR_LOCAL_VOTACAO', 'DS_CARGO_PERGUNTA'\t,'NR_VOTAVEL',\t'QT_VOTOS']] \\\r\n",
        "    .sort_values(['NR_ZONA','NR_SECAO','NR_VOTAVEL'])\r\n",
        "df_resultados_prefeito.columns = ['eleicao',\t'zona',\t'secao', 'local',\t'cargo',\t'numero',\t'votos']    \r\n",
        "df_resultados_prefeito"
      ],
      "execution_count": 117,
      "outputs": [
        {
          "output_type": "execute_result",
          "data": {
            "text/html": [
              "<div>\n",
              "<style scoped>\n",
              "    .dataframe tbody tr th:only-of-type {\n",
              "        vertical-align: middle;\n",
              "    }\n",
              "\n",
              "    .dataframe tbody tr th {\n",
              "        vertical-align: top;\n",
              "    }\n",
              "\n",
              "    .dataframe thead th {\n",
              "        text-align: right;\n",
              "    }\n",
              "</style>\n",
              "<table border=\"1\" class=\"dataframe\">\n",
              "  <thead>\n",
              "    <tr style=\"text-align: right;\">\n",
              "      <th></th>\n",
              "      <th>eleicao</th>\n",
              "      <th>zona</th>\n",
              "      <th>secao</th>\n",
              "      <th>local</th>\n",
              "      <th>cargo</th>\n",
              "      <th>numero</th>\n",
              "      <th>votos</th>\n",
              "    </tr>\n",
              "  </thead>\n",
              "  <tbody>\n",
              "    <tr>\n",
              "      <th>6</th>\n",
              "      <td>426</td>\n",
              "      <td>1</td>\n",
              "      <td>640</td>\n",
              "      <td>2429</td>\n",
              "      <td>Prefeito</td>\n",
              "      <td>10</td>\n",
              "      <td>19</td>\n",
              "    </tr>\n",
              "    <tr>\n",
              "      <th>9</th>\n",
              "      <td>426</td>\n",
              "      <td>1</td>\n",
              "      <td>640</td>\n",
              "      <td>2429</td>\n",
              "      <td>Prefeito</td>\n",
              "      <td>13</td>\n",
              "      <td>49</td>\n",
              "    </tr>\n",
              "    <tr>\n",
              "      <th>7</th>\n",
              "      <td>426</td>\n",
              "      <td>1</td>\n",
              "      <td>640</td>\n",
              "      <td>2429</td>\n",
              "      <td>Prefeito</td>\n",
              "      <td>19</td>\n",
              "      <td>90</td>\n",
              "    </tr>\n",
              "    <tr>\n",
              "      <th>5</th>\n",
              "      <td>426</td>\n",
              "      <td>1</td>\n",
              "      <td>640</td>\n",
              "      <td>2429</td>\n",
              "      <td>Prefeito</td>\n",
              "      <td>22</td>\n",
              "      <td>7</td>\n",
              "    </tr>\n",
              "    <tr>\n",
              "      <th>0</th>\n",
              "      <td>426</td>\n",
              "      <td>1</td>\n",
              "      <td>640</td>\n",
              "      <td>2429</td>\n",
              "      <td>Prefeito</td>\n",
              "      <td>27</td>\n",
              "      <td>7</td>\n",
              "    </tr>\n",
              "    <tr>\n",
              "      <th>...</th>\n",
              "      <td>...</td>\n",
              "      <td>...</td>\n",
              "      <td>...</td>\n",
              "      <td>...</td>\n",
              "      <td>...</td>\n",
              "      <td>...</td>\n",
              "      <td>...</td>\n",
              "    </tr>\n",
              "    <tr>\n",
              "      <th>848806</th>\n",
              "      <td>426</td>\n",
              "      <td>70</td>\n",
              "      <td>808</td>\n",
              "      <td>1848</td>\n",
              "      <td>Prefeito</td>\n",
              "      <td>51</td>\n",
              "      <td>13</td>\n",
              "    </tr>\n",
              "    <tr>\n",
              "      <th>848799</th>\n",
              "      <td>426</td>\n",
              "      <td>70</td>\n",
              "      <td>808</td>\n",
              "      <td>1848</td>\n",
              "      <td>Prefeito</td>\n",
              "      <td>55</td>\n",
              "      <td>19</td>\n",
              "    </tr>\n",
              "    <tr>\n",
              "      <th>848804</th>\n",
              "      <td>426</td>\n",
              "      <td>70</td>\n",
              "      <td>808</td>\n",
              "      <td>1848</td>\n",
              "      <td>Prefeito</td>\n",
              "      <td>70</td>\n",
              "      <td>46</td>\n",
              "    </tr>\n",
              "    <tr>\n",
              "      <th>848796</th>\n",
              "      <td>426</td>\n",
              "      <td>70</td>\n",
              "      <td>808</td>\n",
              "      <td>1848</td>\n",
              "      <td>Prefeito</td>\n",
              "      <td>95</td>\n",
              "      <td>9</td>\n",
              "    </tr>\n",
              "    <tr>\n",
              "      <th>848795</th>\n",
              "      <td>426</td>\n",
              "      <td>70</td>\n",
              "      <td>808</td>\n",
              "      <td>1848</td>\n",
              "      <td>Prefeito</td>\n",
              "      <td>96</td>\n",
              "      <td>22</td>\n",
              "    </tr>\n",
              "  </tbody>\n",
              "</table>\n",
              "<p>39330 rows × 7 columns</p>\n",
              "</div>"
            ],
            "text/plain": [
              "        eleicao  zona  secao  local     cargo  numero  votos\n",
              "6           426     1    640   2429  Prefeito      10     19\n",
              "9           426     1    640   2429  Prefeito      13     49\n",
              "7           426     1    640   2429  Prefeito      19     90\n",
              "5           426     1    640   2429  Prefeito      22      7\n",
              "0           426     1    640   2429  Prefeito      27      7\n",
              "...         ...   ...    ...    ...       ...     ...    ...\n",
              "848806      426    70    808   1848  Prefeito      51     13\n",
              "848799      426    70    808   1848  Prefeito      55     19\n",
              "848804      426    70    808   1848  Prefeito      70     46\n",
              "848796      426    70    808   1848  Prefeito      95      9\n",
              "848795      426    70    808   1848  Prefeito      96     22\n",
              "\n",
              "[39330 rows x 7 columns]"
            ]
          },
          "metadata": {
            "tags": []
          },
          "execution_count": 117
        }
      ]
    },
    {
      "cell_type": "code",
      "metadata": {
        "colab": {
          "base_uri": "https://localhost:8080/"
        },
        "id": "9G9IMCarQRZG",
        "outputId": "769115ab-3750-4f5d-cdcb-f457cb92ef34"
      },
      "source": [
        "filename = '/content/datasets/resultados_prefeito.csv'\r\n",
        "df_resultados_prefeito.to_csv(filename)\r\n",
        "print(f'Resultado da votação para prefeito no 1o turno gravada em \\'{filename}\\'')"
      ],
      "execution_count": 118,
      "outputs": [
        {
          "output_type": "stream",
          "text": [
            "Resultado da votação para prefeito no 1o turno gravada em '/content/datasets/resultados_prefeito.csv'\n"
          ],
          "name": "stdout"
        }
      ]
    },
    {
      "cell_type": "markdown",
      "metadata": {
        "id": "Y1PvB9FzVSUX"
      },
      "source": [
        "### Candidatos a Vereador"
      ]
    },
    {
      "cell_type": "code",
      "metadata": {
        "colab": {
          "base_uri": "https://localhost:8080/",
          "height": 419
        },
        "id": "SGs3ey1uLhLP",
        "outputId": "71ce1ea5-8fbf-461c-ae4f-c6a188beeb95"
      },
      "source": [
        "df_vereadores = df_bu_1t[df_bu_1t.DS_CARGO_PERGUNTA.eq('Vereador') & df_bu_1t.DS_TIPO_VOTAVEL.eq('Nominal')] \\\r\n",
        "                        [['CD_ELEICAO','DS_CARGO_PERGUNTA','NR_VOTAVEL','SG_PARTIDO','NM_VOTAVEL']] \\\r\n",
        "                         .drop_duplicates() \\\r\n",
        "                         .sort_values(['NR_VOTAVEL'])\r\n",
        "df_vereadores.columns = ['eleicao',\t'cargo',\t'numero', 'partido', 'candidato']\r\n",
        "df_vereadores\r\n"
      ],
      "execution_count": 125,
      "outputs": [
        {
          "output_type": "execute_result",
          "data": {
            "text/html": [
              "<div>\n",
              "<style scoped>\n",
              "    .dataframe tbody tr th:only-of-type {\n",
              "        vertical-align: middle;\n",
              "    }\n",
              "\n",
              "    .dataframe tbody tr th {\n",
              "        vertical-align: top;\n",
              "    }\n",
              "\n",
              "    .dataframe thead th {\n",
              "        text-align: right;\n",
              "    }\n",
              "</style>\n",
              "<table border=\"1\" class=\"dataframe\">\n",
              "  <thead>\n",
              "    <tr style=\"text-align: right;\">\n",
              "      <th></th>\n",
              "      <th>eleicao</th>\n",
              "      <th>cargo</th>\n",
              "      <th>numero</th>\n",
              "      <th>partido</th>\n",
              "      <th>candidato</th>\n",
              "    </tr>\n",
              "  </thead>\n",
              "  <tbody>\n",
              "    <tr>\n",
              "      <th>3083</th>\n",
              "      <td>426</td>\n",
              "      <td>Vereador</td>\n",
              "      <td>10000</td>\n",
              "      <td>REPUBLICANOS</td>\n",
              "      <td>CABO COUTINHO</td>\n",
              "    </tr>\n",
              "    <tr>\n",
              "      <th>32033</th>\n",
              "      <td>426</td>\n",
              "      <td>Vereador</td>\n",
              "      <td>10007</td>\n",
              "      <td>REPUBLICANOS</td>\n",
              "      <td>SARGENTO ANA CLAUDIA</td>\n",
              "    </tr>\n",
              "    <tr>\n",
              "      <th>36326</th>\n",
              "      <td>426</td>\n",
              "      <td>Vereador</td>\n",
              "      <td>10008</td>\n",
              "      <td>REPUBLICANOS</td>\n",
              "      <td>CHAY CHANTEL</td>\n",
              "    </tr>\n",
              "    <tr>\n",
              "      <th>4547</th>\n",
              "      <td>426</td>\n",
              "      <td>Vereador</td>\n",
              "      <td>10010</td>\n",
              "      <td>REPUBLICANOS</td>\n",
              "      <td>LUCAS SALES</td>\n",
              "    </tr>\n",
              "    <tr>\n",
              "      <th>453</th>\n",
              "      <td>426</td>\n",
              "      <td>Vereador</td>\n",
              "      <td>10018</td>\n",
              "      <td>REPUBLICANOS</td>\n",
              "      <td>JOSUE DOS CAMINHONEIROS</td>\n",
              "    </tr>\n",
              "    <tr>\n",
              "      <th>...</th>\n",
              "      <td>...</td>\n",
              "      <td>...</td>\n",
              "      <td>...</td>\n",
              "      <td>...</td>\n",
              "      <td>...</td>\n",
              "    </tr>\n",
              "    <tr>\n",
              "      <th>950</th>\n",
              "      <td>426</td>\n",
              "      <td>Vereador</td>\n",
              "      <td>90800</td>\n",
              "      <td>PROS</td>\n",
              "      <td>EMERSON BOTELHO</td>\n",
              "    </tr>\n",
              "    <tr>\n",
              "      <th>10173</th>\n",
              "      <td>426</td>\n",
              "      <td>Vereador</td>\n",
              "      <td>90888</td>\n",
              "      <td>PROS</td>\n",
              "      <td>LORA DO SOCIAL</td>\n",
              "    </tr>\n",
              "    <tr>\n",
              "      <th>1335</th>\n",
              "      <td>426</td>\n",
              "      <td>Vereador</td>\n",
              "      <td>90900</td>\n",
              "      <td>PROS</td>\n",
              "      <td>ERICO BRAGA</td>\n",
              "    </tr>\n",
              "    <tr>\n",
              "      <th>1615</th>\n",
              "      <td>426</td>\n",
              "      <td>Vereador</td>\n",
              "      <td>90901</td>\n",
              "      <td>PROS</td>\n",
              "      <td>LUIZ ALBERTO</td>\n",
              "    </tr>\n",
              "    <tr>\n",
              "      <th>3751</th>\n",
              "      <td>426</td>\n",
              "      <td>Vereador</td>\n",
              "      <td>90999</td>\n",
              "      <td>PROS</td>\n",
              "      <td>CRISTINA PAIVA</td>\n",
              "    </tr>\n",
              "  </tbody>\n",
              "</table>\n",
              "<p>1374 rows × 5 columns</p>\n",
              "</div>"
            ],
            "text/plain": [
              "       eleicao     cargo  numero       partido                candidato\n",
              "3083       426  Vereador   10000  REPUBLICANOS            CABO COUTINHO\n",
              "32033      426  Vereador   10007  REPUBLICANOS     SARGENTO ANA CLAUDIA\n",
              "36326      426  Vereador   10008  REPUBLICANOS             CHAY CHANTEL\n",
              "4547       426  Vereador   10010  REPUBLICANOS              LUCAS SALES\n",
              "453        426  Vereador   10018  REPUBLICANOS  JOSUE DOS CAMINHONEIROS\n",
              "...        ...       ...     ...           ...                      ...\n",
              "950        426  Vereador   90800          PROS          EMERSON BOTELHO\n",
              "10173      426  Vereador   90888          PROS           LORA DO SOCIAL\n",
              "1335       426  Vereador   90900          PROS              ERICO BRAGA\n",
              "1615       426  Vereador   90901          PROS             LUIZ ALBERTO\n",
              "3751       426  Vereador   90999          PROS           CRISTINA PAIVA\n",
              "\n",
              "[1374 rows x 5 columns]"
            ]
          },
          "metadata": {
            "tags": []
          },
          "execution_count": 125
        }
      ]
    },
    {
      "cell_type": "code",
      "metadata": {
        "id": "HVq0gURGLqax"
      },
      "source": [
        "df_vereadores.to_csv('/content/datasets/vereadores.csv')"
      ],
      "execution_count": 126,
      "outputs": []
    },
    {
      "cell_type": "markdown",
      "metadata": {
        "id": "KAUoMOAlVgPs"
      },
      "source": [
        "### Resultados para Vereador"
      ]
    },
    {
      "cell_type": "code",
      "metadata": {
        "colab": {
          "base_uri": "https://localhost:8080/",
          "height": 419
        },
        "id": "O9dmSiFyRp6R",
        "outputId": "8f55ffed-059c-4c15-b063-65dc4a82a34f"
      },
      "source": [
        "df_resultados_vereador = df_bu_1t[df_bu_1t.DS_CARGO_PERGUNTA.eq('Vereador')] \\\r\n",
        "    [['CD_ELEICAO',\t'NR_ZONA'\t,'NR_SECAO', 'NR_LOCAL_VOTACAO', 'DS_CARGO_PERGUNTA'\t,'NR_VOTAVEL',\t'QT_VOTOS']] \\\r\n",
        "    .sort_values(['NR_ZONA','NR_SECAO','NR_VOTAVEL'])\r\n",
        "df_resultados_vereador.columns = ['eleicao',\t'zona',\t'secao', 'local',\t'cargo',\t'numero',\t'votos']    \r\n",
        "df_resultados_vereador"
      ],
      "execution_count": 119,
      "outputs": [
        {
          "output_type": "execute_result",
          "data": {
            "text/html": [
              "<div>\n",
              "<style scoped>\n",
              "    .dataframe tbody tr th:only-of-type {\n",
              "        vertical-align: middle;\n",
              "    }\n",
              "\n",
              "    .dataframe tbody tr th {\n",
              "        vertical-align: top;\n",
              "    }\n",
              "\n",
              "    .dataframe thead th {\n",
              "        text-align: right;\n",
              "    }\n",
              "</style>\n",
              "<table border=\"1\" class=\"dataframe\">\n",
              "  <thead>\n",
              "    <tr style=\"text-align: right;\">\n",
              "      <th></th>\n",
              "      <th>eleicao</th>\n",
              "      <th>zona</th>\n",
              "      <th>secao</th>\n",
              "      <th>local</th>\n",
              "      <th>cargo</th>\n",
              "      <th>numero</th>\n",
              "      <th>votos</th>\n",
              "    </tr>\n",
              "  </thead>\n",
              "  <tbody>\n",
              "    <tr>\n",
              "      <th>200</th>\n",
              "      <td>426</td>\n",
              "      <td>1</td>\n",
              "      <td>640</td>\n",
              "      <td>2429</td>\n",
              "      <td>Vereador</td>\n",
              "      <td>11</td>\n",
              "      <td>1</td>\n",
              "    </tr>\n",
              "    <tr>\n",
              "      <th>104</th>\n",
              "      <td>426</td>\n",
              "      <td>1</td>\n",
              "      <td>640</td>\n",
              "      <td>2429</td>\n",
              "      <td>Vereador</td>\n",
              "      <td>13</td>\n",
              "      <td>2</td>\n",
              "    </tr>\n",
              "    <tr>\n",
              "      <th>185</th>\n",
              "      <td>426</td>\n",
              "      <td>1</td>\n",
              "      <td>640</td>\n",
              "      <td>2429</td>\n",
              "      <td>Vereador</td>\n",
              "      <td>18</td>\n",
              "      <td>1</td>\n",
              "    </tr>\n",
              "    <tr>\n",
              "      <th>25</th>\n",
              "      <td>426</td>\n",
              "      <td>1</td>\n",
              "      <td>640</td>\n",
              "      <td>2429</td>\n",
              "      <td>Vereador</td>\n",
              "      <td>19</td>\n",
              "      <td>2</td>\n",
              "    </tr>\n",
              "    <tr>\n",
              "      <th>54</th>\n",
              "      <td>426</td>\n",
              "      <td>1</td>\n",
              "      <td>640</td>\n",
              "      <td>2429</td>\n",
              "      <td>Vereador</td>\n",
              "      <td>50</td>\n",
              "      <td>1</td>\n",
              "    </tr>\n",
              "    <tr>\n",
              "      <th>...</th>\n",
              "      <td>...</td>\n",
              "      <td>...</td>\n",
              "      <td>...</td>\n",
              "      <td>...</td>\n",
              "      <td>...</td>\n",
              "      <td>...</td>\n",
              "      <td>...</td>\n",
              "    </tr>\n",
              "    <tr>\n",
              "      <th>848823</th>\n",
              "      <td>426</td>\n",
              "      <td>70</td>\n",
              "      <td>808</td>\n",
              "      <td>1848</td>\n",
              "      <td>Vereador</td>\n",
              "      <td>77888</td>\n",
              "      <td>4</td>\n",
              "    </tr>\n",
              "    <tr>\n",
              "      <th>848898</th>\n",
              "      <td>426</td>\n",
              "      <td>70</td>\n",
              "      <td>808</td>\n",
              "      <td>1848</td>\n",
              "      <td>Vereador</td>\n",
              "      <td>90177</td>\n",
              "      <td>2</td>\n",
              "    </tr>\n",
              "    <tr>\n",
              "      <th>848832</th>\n",
              "      <td>426</td>\n",
              "      <td>70</td>\n",
              "      <td>808</td>\n",
              "      <td>1848</td>\n",
              "      <td>Vereador</td>\n",
              "      <td>90321</td>\n",
              "      <td>1</td>\n",
              "    </tr>\n",
              "    <tr>\n",
              "      <th>848830</th>\n",
              "      <td>426</td>\n",
              "      <td>70</td>\n",
              "      <td>808</td>\n",
              "      <td>1848</td>\n",
              "      <td>Vereador</td>\n",
              "      <td>90523</td>\n",
              "      <td>1</td>\n",
              "    </tr>\n",
              "    <tr>\n",
              "      <th>848887</th>\n",
              "      <td>426</td>\n",
              "      <td>70</td>\n",
              "      <td>808</td>\n",
              "      <td>1848</td>\n",
              "      <td>Vereador</td>\n",
              "      <td>90789</td>\n",
              "      <td>2</td>\n",
              "    </tr>\n",
              "  </tbody>\n",
              "</table>\n",
              "<p>551544 rows × 7 columns</p>\n",
              "</div>"
            ],
            "text/plain": [
              "        eleicao  zona  secao  local     cargo  numero  votos\n",
              "200         426     1    640   2429  Vereador      11      1\n",
              "104         426     1    640   2429  Vereador      13      2\n",
              "185         426     1    640   2429  Vereador      18      1\n",
              "25          426     1    640   2429  Vereador      19      2\n",
              "54          426     1    640   2429  Vereador      50      1\n",
              "...         ...   ...    ...    ...       ...     ...    ...\n",
              "848823      426    70    808   1848  Vereador   77888      4\n",
              "848898      426    70    808   1848  Vereador   90177      2\n",
              "848832      426    70    808   1848  Vereador   90321      1\n",
              "848830      426    70    808   1848  Vereador   90523      1\n",
              "848887      426    70    808   1848  Vereador   90789      2\n",
              "\n",
              "[551544 rows x 7 columns]"
            ]
          },
          "metadata": {
            "tags": []
          },
          "execution_count": 119
        }
      ]
    },
    {
      "cell_type": "code",
      "metadata": {
        "colab": {
          "base_uri": "https://localhost:8080/"
        },
        "id": "hKfcnkGrRp6S",
        "outputId": "5a88e302-6cb3-4d15-b49f-be8e55e7b309"
      },
      "source": [
        "filename = '/content/datasets/resultados_vereador.csv'\r\n",
        "df_resultados_vereador.to_csv(filename)\r\n",
        "print(f'Resultado da votação para Vereador no 1o turno gravada em \\'{filename}\\'')"
      ],
      "execution_count": 120,
      "outputs": [
        {
          "output_type": "stream",
          "text": [
            "Resultado da votação para Vereador no 1o turno gravada em '/content/datasets/resultados_vereador.csv'\n"
          ],
          "name": "stdout"
        }
      ]
    },
    {
      "cell_type": "markdown",
      "metadata": {
        "id": "CH6Yp4z5V4-o"
      },
      "source": [
        "### Candidatos a Prefeito (2o turno)"
      ]
    },
    {
      "cell_type": "code",
      "metadata": {
        "colab": {
          "base_uri": "https://localhost:8080/"
        },
        "id": "cOq_rmX_Ykmj",
        "outputId": "2d31ec25-dcf9-415a-eb76-03862704e00a"
      },
      "source": [
        "# boletins de urna do 2o turno\r\n",
        "!unzip -u bweb_2t_AM_301120201245.zip -d /content/work"
      ],
      "execution_count": 61,
      "outputs": [
        {
          "output_type": "stream",
          "text": [
            "Archive:  bweb_2t_AM_301120201245.zip\n",
            "  inflating: /content/work/bweb_2t_AM_301120201245.csv  \n"
          ],
          "name": "stdout"
        }
      ]
    },
    {
      "cell_type": "code",
      "metadata": {
        "colab": {
          "base_uri": "https://localhost:8080/",
          "height": 394
        },
        "id": "ng4YS5zhDdTV",
        "outputId": "7ea6c8ff-939a-43ba-8a14-de0bee75b0a6"
      },
      "source": [
        "df_bu_2t = pd.read_csv('/content/work/bweb_2t_AM_301120201245.csv', encoding=\"ISO-8859-1\", delimiter=';')\r\n",
        "df_bu_2t.sample(5)"
      ],
      "execution_count": 63,
      "outputs": [
        {
          "output_type": "execute_result",
          "data": {
            "text/html": [
              "<div>\n",
              "<style scoped>\n",
              "    .dataframe tbody tr th:only-of-type {\n",
              "        vertical-align: middle;\n",
              "    }\n",
              "\n",
              "    .dataframe tbody tr th {\n",
              "        vertical-align: top;\n",
              "    }\n",
              "\n",
              "    .dataframe thead th {\n",
              "        text-align: right;\n",
              "    }\n",
              "</style>\n",
              "<table border=\"1\" class=\"dataframe\">\n",
              "  <thead>\n",
              "    <tr style=\"text-align: right;\">\n",
              "      <th></th>\n",
              "      <th>DT_GERACAO</th>\n",
              "      <th>HH_GERACAO</th>\n",
              "      <th>ANO_ELEICAO</th>\n",
              "      <th>CD_TIPO_ELEICAO</th>\n",
              "      <th>NM_TIPO_ELEICAO</th>\n",
              "      <th>CD_PLEITO</th>\n",
              "      <th>DT_PLEITO</th>\n",
              "      <th>NR_TURNO</th>\n",
              "      <th>CD_ELEICAO</th>\n",
              "      <th>DS_ELEICAO</th>\n",
              "      <th>SG_UF</th>\n",
              "      <th>CD_MUNICIPIO</th>\n",
              "      <th>NM_MUNICIPIO</th>\n",
              "      <th>NR_ZONA</th>\n",
              "      <th>NR_SECAO</th>\n",
              "      <th>NR_LOCAL_VOTACAO</th>\n",
              "      <th>CD_CARGO_PERGUNTA</th>\n",
              "      <th>DS_CARGO_PERGUNTA</th>\n",
              "      <th>NR_PARTIDO</th>\n",
              "      <th>SG_PARTIDO</th>\n",
              "      <th>NM_PARTIDO</th>\n",
              "      <th>DT_BU_RECEBIDO</th>\n",
              "      <th>QT_APTOS</th>\n",
              "      <th>QT_COMPARECIMENTO</th>\n",
              "      <th>QT_ABSTENCOES</th>\n",
              "      <th>CD_TIPO_URNA</th>\n",
              "      <th>DS_TIPO_URNA</th>\n",
              "      <th>CD_TIPO_VOTAVEL</th>\n",
              "      <th>DS_TIPO_VOTAVEL</th>\n",
              "      <th>NR_VOTAVEL</th>\n",
              "      <th>NM_VOTAVEL</th>\n",
              "      <th>QT_VOTOS</th>\n",
              "      <th>NR_URNA_EFETIVADA</th>\n",
              "      <th>CD_CARGA_1_URNA_EFETIVADA</th>\n",
              "      <th>CD_CARGA_2_URNA_EFETIVADA</th>\n",
              "      <th>CD_FLASHCARD_URNA_EFETIVADA</th>\n",
              "      <th>DT_CARGA_URNA_EFETIVADA</th>\n",
              "      <th>DS_CARGO_PERGUNTA_SECAO</th>\n",
              "      <th>DS_AGREGADAS</th>\n",
              "      <th>DT_ABERTURA</th>\n",
              "      <th>DT_ENCERRAMENTO</th>\n",
              "      <th>QT_ELEITORES_BIOMETRIA_NH</th>\n",
              "      <th>DT_EMISSAO_BU</th>\n",
              "      <th>NR_JUNTA_APURADORA</th>\n",
              "      <th>NR_TURMA_APURADORA</th>\n",
              "    </tr>\n",
              "  </thead>\n",
              "  <tbody>\n",
              "    <tr>\n",
              "      <th>11174</th>\n",
              "      <td>30/11/2020</td>\n",
              "      <td>12:37:06</td>\n",
              "      <td>2020</td>\n",
              "      <td>0</td>\n",
              "      <td>Eleição Ordinária</td>\n",
              "      <td>305</td>\n",
              "      <td>29/11/2020</td>\n",
              "      <td>2</td>\n",
              "      <td>427</td>\n",
              "      <td>Eleições Municipais 2020</td>\n",
              "      <td>AM</td>\n",
              "      <td>2550</td>\n",
              "      <td>MANAUS</td>\n",
              "      <td>65</td>\n",
              "      <td>525</td>\n",
              "      <td>1600</td>\n",
              "      <td>11</td>\n",
              "      <td>Prefeito</td>\n",
              "      <td>70</td>\n",
              "      <td>AVANTE</td>\n",
              "      <td>AVANTE</td>\n",
              "      <td>29/11/2020 18:21:02</td>\n",
              "      <td>419</td>\n",
              "      <td>301</td>\n",
              "      <td>118</td>\n",
              "      <td>1</td>\n",
              "      <td>APURADA</td>\n",
              "      <td>1</td>\n",
              "      <td>Nominal</td>\n",
              "      <td>70</td>\n",
              "      <td>DAVID ALMEIDA</td>\n",
              "      <td>141</td>\n",
              "      <td>1179935</td>\n",
              "      <td>768.473.909.192.590.023.</td>\n",
              "      <td>106.606</td>\n",
              "      <td>171FE38F</td>\n",
              "      <td>06/11/2020 15:10:00</td>\n",
              "      <td>11 - 525</td>\n",
              "      <td>#NULO#</td>\n",
              "      <td>29/11/2020 07:00:00</td>\n",
              "      <td>29/11/2020 17:06:25</td>\n",
              "      <td>0</td>\n",
              "      <td>29/11/2020 17:08:44</td>\n",
              "      <td>-1</td>\n",
              "      <td>-1</td>\n",
              "    </tr>\n",
              "    <tr>\n",
              "      <th>12986</th>\n",
              "      <td>30/11/2020</td>\n",
              "      <td>12:37:06</td>\n",
              "      <td>2020</td>\n",
              "      <td>0</td>\n",
              "      <td>Eleição Ordinária</td>\n",
              "      <td>305</td>\n",
              "      <td>29/11/2020</td>\n",
              "      <td>2</td>\n",
              "      <td>427</td>\n",
              "      <td>Eleições Municipais 2020</td>\n",
              "      <td>AM</td>\n",
              "      <td>2550</td>\n",
              "      <td>MANAUS</td>\n",
              "      <td>70</td>\n",
              "      <td>680</td>\n",
              "      <td>1830</td>\n",
              "      <td>11</td>\n",
              "      <td>Prefeito</td>\n",
              "      <td>-1</td>\n",
              "      <td>#NULO#</td>\n",
              "      <td>#NULO#</td>\n",
              "      <td>29/11/2020 18:26:29</td>\n",
              "      <td>387</td>\n",
              "      <td>307</td>\n",
              "      <td>80</td>\n",
              "      <td>1</td>\n",
              "      <td>APURADA</td>\n",
              "      <td>2</td>\n",
              "      <td>Branco</td>\n",
              "      <td>95</td>\n",
              "      <td>Branco</td>\n",
              "      <td>11</td>\n",
              "      <td>1787786</td>\n",
              "      <td>475.596.574.721.548.879.</td>\n",
              "      <td>882.658</td>\n",
              "      <td>025E8D73</td>\n",
              "      <td>10/11/2020 14:56:00</td>\n",
              "      <td>11 - 680</td>\n",
              "      <td>#NULO#</td>\n",
              "      <td>29/11/2020 07:00:00</td>\n",
              "      <td>29/11/2020 17:03:06</td>\n",
              "      <td>0</td>\n",
              "      <td>29/11/2020 17:04:21</td>\n",
              "      <td>-1</td>\n",
              "      <td>-1</td>\n",
              "    </tr>\n",
              "    <tr>\n",
              "      <th>4643</th>\n",
              "      <td>30/11/2020</td>\n",
              "      <td>12:37:06</td>\n",
              "      <td>2020</td>\n",
              "      <td>0</td>\n",
              "      <td>Eleição Ordinária</td>\n",
              "      <td>305</td>\n",
              "      <td>29/11/2020</td>\n",
              "      <td>2</td>\n",
              "      <td>427</td>\n",
              "      <td>Eleições Municipais 2020</td>\n",
              "      <td>AM</td>\n",
              "      <td>2550</td>\n",
              "      <td>MANAUS</td>\n",
              "      <td>37</td>\n",
              "      <td>701</td>\n",
              "      <td>1899</td>\n",
              "      <td>11</td>\n",
              "      <td>Prefeito</td>\n",
              "      <td>-1</td>\n",
              "      <td>#NULO#</td>\n",
              "      <td>#NULO#</td>\n",
              "      <td>29/11/2020 18:23:40</td>\n",
              "      <td>396</td>\n",
              "      <td>283</td>\n",
              "      <td>113</td>\n",
              "      <td>1</td>\n",
              "      <td>APURADA</td>\n",
              "      <td>3</td>\n",
              "      <td>Nulo</td>\n",
              "      <td>96</td>\n",
              "      <td>Nulo</td>\n",
              "      <td>19</td>\n",
              "      <td>1788176</td>\n",
              "      <td>142.212.887.065.284.493.</td>\n",
              "      <td>670.890</td>\n",
              "      <td>F48B8A21</td>\n",
              "      <td>09/11/2020 09:37:00</td>\n",
              "      <td>11 - 701</td>\n",
              "      <td>#NULO#</td>\n",
              "      <td>29/11/2020 07:00:00</td>\n",
              "      <td>29/11/2020 17:09:57</td>\n",
              "      <td>0</td>\n",
              "      <td>29/11/2020 17:11:54</td>\n",
              "      <td>-1</td>\n",
              "      <td>-1</td>\n",
              "    </tr>\n",
              "    <tr>\n",
              "      <th>6550</th>\n",
              "      <td>30/11/2020</td>\n",
              "      <td>12:37:06</td>\n",
              "      <td>2020</td>\n",
              "      <td>0</td>\n",
              "      <td>Eleição Ordinária</td>\n",
              "      <td>305</td>\n",
              "      <td>29/11/2020</td>\n",
              "      <td>2</td>\n",
              "      <td>427</td>\n",
              "      <td>Eleições Municipais 2020</td>\n",
              "      <td>AM</td>\n",
              "      <td>2550</td>\n",
              "      <td>MANAUS</td>\n",
              "      <td>58</td>\n",
              "      <td>909</td>\n",
              "      <td>1848</td>\n",
              "      <td>11</td>\n",
              "      <td>Prefeito</td>\n",
              "      <td>-1</td>\n",
              "      <td>#NULO#</td>\n",
              "      <td>#NULO#</td>\n",
              "      <td>29/11/2020 18:07:21</td>\n",
              "      <td>425</td>\n",
              "      <td>321</td>\n",
              "      <td>104</td>\n",
              "      <td>1</td>\n",
              "      <td>APURADA</td>\n",
              "      <td>3</td>\n",
              "      <td>Nulo</td>\n",
              "      <td>96</td>\n",
              "      <td>Nulo</td>\n",
              "      <td>32</td>\n",
              "      <td>1064049</td>\n",
              "      <td>920.015.722.848.247.488.</td>\n",
              "      <td>15.540</td>\n",
              "      <td>8C500834</td>\n",
              "      <td>11/11/2020 09:34:00</td>\n",
              "      <td>11 - 909</td>\n",
              "      <td>#NULO#</td>\n",
              "      <td>29/11/2020 07:00:00</td>\n",
              "      <td>29/11/2020 17:01:01</td>\n",
              "      <td>0</td>\n",
              "      <td>29/11/2020 17:01:06</td>\n",
              "      <td>-1</td>\n",
              "      <td>-1</td>\n",
              "    </tr>\n",
              "    <tr>\n",
              "      <th>10671</th>\n",
              "      <td>30/11/2020</td>\n",
              "      <td>12:37:06</td>\n",
              "      <td>2020</td>\n",
              "      <td>0</td>\n",
              "      <td>Eleição Ordinária</td>\n",
              "      <td>305</td>\n",
              "      <td>29/11/2020</td>\n",
              "      <td>2</td>\n",
              "      <td>427</td>\n",
              "      <td>Eleições Municipais 2020</td>\n",
              "      <td>AM</td>\n",
              "      <td>2550</td>\n",
              "      <td>MANAUS</td>\n",
              "      <td>65</td>\n",
              "      <td>400</td>\n",
              "      <td>1520</td>\n",
              "      <td>11</td>\n",
              "      <td>Prefeito</td>\n",
              "      <td>-1</td>\n",
              "      <td>#NULO#</td>\n",
              "      <td>#NULO#</td>\n",
              "      <td>29/11/2020 18:22:55</td>\n",
              "      <td>398</td>\n",
              "      <td>328</td>\n",
              "      <td>70</td>\n",
              "      <td>1</td>\n",
              "      <td>APURADA</td>\n",
              "      <td>2</td>\n",
              "      <td>Branco</td>\n",
              "      <td>95</td>\n",
              "      <td>Branco</td>\n",
              "      <td>14</td>\n",
              "      <td>1789369</td>\n",
              "      <td>990.796.359.411.153.918.</td>\n",
              "      <td>318.628</td>\n",
              "      <td>0C553713</td>\n",
              "      <td>06/11/2020 14:25:00</td>\n",
              "      <td>11 - 400</td>\n",
              "      <td>#NULO#</td>\n",
              "      <td>29/11/2020 07:00:00</td>\n",
              "      <td>29/11/2020 17:08:00</td>\n",
              "      <td>0</td>\n",
              "      <td>29/11/2020 17:09:16</td>\n",
              "      <td>-1</td>\n",
              "      <td>-1</td>\n",
              "    </tr>\n",
              "  </tbody>\n",
              "</table>\n",
              "</div>"
            ],
            "text/plain": [
              "       DT_GERACAO HH_GERACAO  ...  NR_JUNTA_APURADORA  NR_TURMA_APURADORA\n",
              "11174  30/11/2020   12:37:06  ...                  -1                  -1\n",
              "12986  30/11/2020   12:37:06  ...                  -1                  -1\n",
              "4643   30/11/2020   12:37:06  ...                  -1                  -1\n",
              "6550   30/11/2020   12:37:06  ...                  -1                  -1\n",
              "10671  30/11/2020   12:37:06  ...                  -1                  -1\n",
              "\n",
              "[5 rows x 45 columns]"
            ]
          },
          "metadata": {
            "tags": []
          },
          "execution_count": 63
        }
      ]
    },
    {
      "cell_type": "code",
      "metadata": {
        "colab": {
          "base_uri": "https://localhost:8080/",
          "height": 111
        },
        "id": "pfvn_E40NwAJ",
        "outputId": "434a91a1-aafa-492d-fe69-d200aea86163"
      },
      "source": [
        "df_prefeitos_2t = df_bu_2t[df_bu_2t.DS_CARGO_PERGUNTA.eq('Prefeito') & df_bu_2t.DS_TIPO_VOTAVEL.eq('Nominal')] \\\r\n",
        "                       [['CD_ELEICAO','DS_CARGO_PERGUNTA','SG_PARTIDO','NR_VOTAVEL','NM_VOTAVEL']] \\\r\n",
        "                         .drop_duplicates() \\\r\n",
        "                         .sort_values(['NR_VOTAVEL'])\r\n",
        "df_prefeitos_2t.columns = ['eleicao',\t'cargo',\t'numero', 'partido', 'candidato']\r\n",
        "df_prefeitos_2t"
      ],
      "execution_count": null,
      "outputs": [
        {
          "output_type": "execute_result",
          "data": {
            "text/html": [
              "<div>\n",
              "<style scoped>\n",
              "    .dataframe tbody tr th:only-of-type {\n",
              "        vertical-align: middle;\n",
              "    }\n",
              "\n",
              "    .dataframe tbody tr th {\n",
              "        vertical-align: top;\n",
              "    }\n",
              "\n",
              "    .dataframe thead th {\n",
              "        text-align: right;\n",
              "    }\n",
              "</style>\n",
              "<table border=\"1\" class=\"dataframe\">\n",
              "  <thead>\n",
              "    <tr style=\"text-align: right;\">\n",
              "      <th></th>\n",
              "      <th>eleicao</th>\n",
              "      <th>cargo</th>\n",
              "      <th>numero</th>\n",
              "      <th>partido</th>\n",
              "      <th>candidato</th>\n",
              "    </tr>\n",
              "  </thead>\n",
              "  <tbody>\n",
              "    <tr>\n",
              "      <th>1</th>\n",
              "      <td>427</td>\n",
              "      <td>Prefeito</td>\n",
              "      <td>PODE</td>\n",
              "      <td>19</td>\n",
              "      <td>AMAZONINO MENDES</td>\n",
              "    </tr>\n",
              "    <tr>\n",
              "      <th>0</th>\n",
              "      <td>427</td>\n",
              "      <td>Prefeito</td>\n",
              "      <td>AVANTE</td>\n",
              "      <td>70</td>\n",
              "      <td>DAVID ALMEIDA</td>\n",
              "    </tr>\n",
              "  </tbody>\n",
              "</table>\n",
              "</div>"
            ],
            "text/plain": [
              "   eleicao     cargo  numero  partido         candidato\n",
              "1      427  Prefeito    PODE       19  AMAZONINO MENDES\n",
              "0      427  Prefeito  AVANTE       70     DAVID ALMEIDA"
            ]
          },
          "metadata": {
            "tags": []
          },
          "execution_count": 122
        }
      ]
    },
    {
      "cell_type": "code",
      "metadata": {
        "id": "BPWAoSRiNwAM",
        "colab": {
          "base_uri": "https://localhost:8080/"
        },
        "outputId": "efb1bd20-f39e-4a2d-c832-a3e88e8c3122"
      },
      "source": [
        "filename = '/content/datasets/prefeitos_2t.csv'\r\n",
        "df_resultado_prefeito.to_csv(filename)\r\n",
        "print(f'Candidatos a Prefeito (2o turno) gravados em \\'{filename}\\'')"
      ],
      "execution_count": 136,
      "outputs": [
        {
          "output_type": "stream",
          "text": [
            "Candidatos a Prefeito (2o turno) gravados em '/content/datasets/prefeitos_2t.csv'\n"
          ],
          "name": "stdout"
        }
      ]
    },
    {
      "cell_type": "markdown",
      "metadata": {
        "id": "oxgLlZtYV8kA"
      },
      "source": [
        "### Resultados para Prefeito (2o turno)"
      ]
    },
    {
      "cell_type": "code",
      "metadata": {
        "colab": {
          "base_uri": "https://localhost:8080/",
          "height": 419
        },
        "id": "RtKduUtlQ1np",
        "outputId": "c35b8e5e-09c5-41c6-ef2d-976335ae5eb7"
      },
      "source": [
        "df_resultado_prefeito = df_bu_2t[df_bu_2t.DS_CARGO_PERGUNTA.eq('Prefeito')] \\\r\n",
        "    [['CD_ELEICAO',\t'NR_ZONA'\t,'NR_SECAO', 'NR_LOCAL_VOTACAO', 'DS_CARGO_PERGUNTA'\t,'NR_VOTAVEL',\t'QT_VOTOS']] \\\r\n",
        "    .sort_values(['NR_ZONA','NR_SECAO','NR_VOTAVEL'])\r\n",
        "df_resultado_prefeito.columns = ['eleicao',\t'zona',\t'secao', 'local',\t'cargo',\t'numero',\t'votos']    \r\n",
        "df_resultado_prefeito"
      ],
      "execution_count": 114,
      "outputs": [
        {
          "output_type": "execute_result",
          "data": {
            "text/html": [
              "<div>\n",
              "<style scoped>\n",
              "    .dataframe tbody tr th:only-of-type {\n",
              "        vertical-align: middle;\n",
              "    }\n",
              "\n",
              "    .dataframe tbody tr th {\n",
              "        vertical-align: top;\n",
              "    }\n",
              "\n",
              "    .dataframe thead th {\n",
              "        text-align: right;\n",
              "    }\n",
              "</style>\n",
              "<table border=\"1\" class=\"dataframe\">\n",
              "  <thead>\n",
              "    <tr style=\"text-align: right;\">\n",
              "      <th></th>\n",
              "      <th>eleicao</th>\n",
              "      <th>zona</th>\n",
              "      <th>secao</th>\n",
              "      <th>local</th>\n",
              "      <th>cargo</th>\n",
              "      <th>numero</th>\n",
              "      <th>votos</th>\n",
              "    </tr>\n",
              "  </thead>\n",
              "  <tbody>\n",
              "    <tr>\n",
              "      <th>1</th>\n",
              "      <td>427</td>\n",
              "      <td>1</td>\n",
              "      <td>640</td>\n",
              "      <td>2429</td>\n",
              "      <td>Prefeito</td>\n",
              "      <td>19</td>\n",
              "      <td>156</td>\n",
              "    </tr>\n",
              "    <tr>\n",
              "      <th>0</th>\n",
              "      <td>427</td>\n",
              "      <td>1</td>\n",
              "      <td>640</td>\n",
              "      <td>2429</td>\n",
              "      <td>Prefeito</td>\n",
              "      <td>70</td>\n",
              "      <td>135</td>\n",
              "    </tr>\n",
              "    <tr>\n",
              "      <th>3</th>\n",
              "      <td>427</td>\n",
              "      <td>1</td>\n",
              "      <td>640</td>\n",
              "      <td>2429</td>\n",
              "      <td>Prefeito</td>\n",
              "      <td>95</td>\n",
              "      <td>10</td>\n",
              "    </tr>\n",
              "    <tr>\n",
              "      <th>2</th>\n",
              "      <td>427</td>\n",
              "      <td>1</td>\n",
              "      <td>640</td>\n",
              "      <td>2429</td>\n",
              "      <td>Prefeito</td>\n",
              "      <td>96</td>\n",
              "      <td>29</td>\n",
              "    </tr>\n",
              "    <tr>\n",
              "      <th>4</th>\n",
              "      <td>427</td>\n",
              "      <td>1</td>\n",
              "      <td>641</td>\n",
              "      <td>2089</td>\n",
              "      <td>Prefeito</td>\n",
              "      <td>19</td>\n",
              "      <td>153</td>\n",
              "    </tr>\n",
              "    <tr>\n",
              "      <th>...</th>\n",
              "      <td>...</td>\n",
              "      <td>...</td>\n",
              "      <td>...</td>\n",
              "      <td>...</td>\n",
              "      <td>...</td>\n",
              "      <td>...</td>\n",
              "      <td>...</td>\n",
              "    </tr>\n",
              "    <tr>\n",
              "      <th>13471</th>\n",
              "      <td>427</td>\n",
              "      <td>70</td>\n",
              "      <td>806</td>\n",
              "      <td>2089</td>\n",
              "      <td>Prefeito</td>\n",
              "      <td>96</td>\n",
              "      <td>16</td>\n",
              "    </tr>\n",
              "    <tr>\n",
              "      <th>13476</th>\n",
              "      <td>427</td>\n",
              "      <td>70</td>\n",
              "      <td>808</td>\n",
              "      <td>1848</td>\n",
              "      <td>Prefeito</td>\n",
              "      <td>19</td>\n",
              "      <td>68</td>\n",
              "    </tr>\n",
              "    <tr>\n",
              "      <th>13473</th>\n",
              "      <td>427</td>\n",
              "      <td>70</td>\n",
              "      <td>808</td>\n",
              "      <td>1848</td>\n",
              "      <td>Prefeito</td>\n",
              "      <td>70</td>\n",
              "      <td>122</td>\n",
              "    </tr>\n",
              "    <tr>\n",
              "      <th>13475</th>\n",
              "      <td>427</td>\n",
              "      <td>70</td>\n",
              "      <td>808</td>\n",
              "      <td>1848</td>\n",
              "      <td>Prefeito</td>\n",
              "      <td>95</td>\n",
              "      <td>11</td>\n",
              "    </tr>\n",
              "    <tr>\n",
              "      <th>13474</th>\n",
              "      <td>427</td>\n",
              "      <td>70</td>\n",
              "      <td>808</td>\n",
              "      <td>1848</td>\n",
              "      <td>Prefeito</td>\n",
              "      <td>96</td>\n",
              "      <td>14</td>\n",
              "    </tr>\n",
              "  </tbody>\n",
              "</table>\n",
              "<p>13477 rows × 7 columns</p>\n",
              "</div>"
            ],
            "text/plain": [
              "       eleicao  zona  secao  local     cargo  numero  votos\n",
              "1          427     1    640   2429  Prefeito      19    156\n",
              "0          427     1    640   2429  Prefeito      70    135\n",
              "3          427     1    640   2429  Prefeito      95     10\n",
              "2          427     1    640   2429  Prefeito      96     29\n",
              "4          427     1    641   2089  Prefeito      19    153\n",
              "...        ...   ...    ...    ...       ...     ...    ...\n",
              "13471      427    70    806   2089  Prefeito      96     16\n",
              "13476      427    70    808   1848  Prefeito      19     68\n",
              "13473      427    70    808   1848  Prefeito      70    122\n",
              "13475      427    70    808   1848  Prefeito      95     11\n",
              "13474      427    70    808   1848  Prefeito      96     14\n",
              "\n",
              "[13477 rows x 7 columns]"
            ]
          },
          "metadata": {
            "tags": []
          },
          "execution_count": 114
        }
      ]
    },
    {
      "cell_type": "code",
      "metadata": {
        "colab": {
          "base_uri": "https://localhost:8080/"
        },
        "id": "hcoOVtBcQ1nr",
        "outputId": "7a080725-4541-4deb-b9a4-8509a3d4daa9"
      },
      "source": [
        "filename = '/content/datasets/resultados_prefeito_2t.csv'\r\n",
        "df_resultado_prefeito.to_csv(filename)\r\n",
        "print(f'Resultado da votação para Prefeito (2o turno) gravado em \\'{filename}\\'')"
      ],
      "execution_count": 137,
      "outputs": [
        {
          "output_type": "stream",
          "text": [
            "Resultado da votação para Prefeito (2o turno) gravado em '/content/datasets/resultados_prefeito_2t.csv'\n"
          ],
          "name": "stdout"
        }
      ]
    },
    {
      "cell_type": "markdown",
      "metadata": {
        "id": "Ade6pKH4YNl7"
      },
      "source": [
        "### Limpeza do diretório de trabalho"
      ]
    },
    {
      "cell_type": "code",
      "metadata": {
        "id": "y5GrxzsF_PmK"
      },
      "source": [
        "# Limpeza do diretório temporário de trabalho\r\n",
        "!rm -rf /content/work/*"
      ],
      "execution_count": null,
      "outputs": []
    },
    {
      "cell_type": "markdown",
      "metadata": {
        "id": "XdgrWdy0dNpV"
      },
      "source": [
        "## Locais de votação"
      ]
    },
    {
      "cell_type": "code",
      "metadata": {
        "colab": {
          "base_uri": "https://localhost:8080/"
        },
        "id": "8T-47YHTdKhA",
        "outputId": "aa04e663-0d53-475d-c3b6-d279efe71387"
      },
      "source": [
        "# detalhes das seções\r\n",
        "!unzip -u detalhe_votacao_secao_2020.zip -d /content/work"
      ],
      "execution_count": 145,
      "outputs": [
        {
          "output_type": "stream",
          "text": [
            "Archive:  detalhe_votacao_secao_2020.zip\n",
            "  inflating: /content/work/detalhe_votacao_secao_2020_AC.csv  \n",
            "  inflating: /content/work/detalhe_votacao_secao_2020_AL.csv  \n",
            "  inflating: /content/work/detalhe_votacao_secao_2020_AM.csv  \n",
            "  inflating: /content/work/detalhe_votacao_secao_2020_AP.csv  \n",
            "  inflating: /content/work/detalhe_votacao_secao_2020_BA.csv  \n",
            "  inflating: /content/work/detalhe_votacao_secao_2020_BRASIL.csv  \n",
            "  inflating: /content/work/detalhe_votacao_secao_2020_CE.csv  \n",
            "  inflating: /content/work/detalhe_votacao_secao_2020_ES.csv  \n",
            "  inflating: /content/work/detalhe_votacao_secao_2020_GO.csv  \n",
            "  inflating: /content/work/detalhe_votacao_secao_2020_MA.csv  \n",
            "  inflating: /content/work/detalhe_votacao_secao_2020_MG.csv  \n",
            "  inflating: /content/work/detalhe_votacao_secao_2020_MS.csv  \n",
            "  inflating: /content/work/detalhe_votacao_secao_2020_MT.csv  \n",
            "  inflating: /content/work/detalhe_votacao_secao_2020_PA.csv  \n",
            "  inflating: /content/work/detalhe_votacao_secao_2020_PB.csv  \n",
            "  inflating: /content/work/detalhe_votacao_secao_2020_PE.csv  \n",
            "  inflating: /content/work/detalhe_votacao_secao_2020_PI.csv  \n",
            "  inflating: /content/work/detalhe_votacao_secao_2020_PR.csv  \n",
            "  inflating: /content/work/detalhe_votacao_secao_2020_RJ.csv  \n",
            "  inflating: /content/work/detalhe_votacao_secao_2020_RN.csv  \n",
            "  inflating: /content/work/detalhe_votacao_secao_2020_RO.csv  \n",
            "  inflating: /content/work/detalhe_votacao_secao_2020_RR.csv  \n",
            "  inflating: /content/work/detalhe_votacao_secao_2020_RS.csv  \n",
            "  inflating: /content/work/detalhe_votacao_secao_2020_SC.csv  \n",
            "  inflating: /content/work/detalhe_votacao_secao_2020_SE.csv  \n",
            "  inflating: /content/work/detalhe_votacao_secao_2020_SP.csv  \n",
            "  inflating: /content/work/detalhe_votacao_secao_2020_TO.csv  \n",
            "  inflating: /content/work/leiame.pdf  \n"
          ],
          "name": "stdout"
        }
      ]
    },
    {
      "cell_type": "code",
      "metadata": {
        "colab": {
          "base_uri": "https://localhost:8080/",
          "height": 394
        },
        "id": "rG37vVrud518",
        "outputId": "ed89d928-a865-4f9f-d1d8-ebc8d42ed48f"
      },
      "source": [
        "df_dvs = pd.read_csv('/content/work/detalhe_votacao_secao_2020_BRASIL.csv', encoding=\"ISO-8859-1\", delimiter=';')\r\n",
        "df_dvs.sample(5)"
      ],
      "execution_count": 146,
      "outputs": [
        {
          "output_type": "execute_result",
          "data": {
            "text/html": [
              "<div>\n",
              "<style scoped>\n",
              "    .dataframe tbody tr th:only-of-type {\n",
              "        vertical-align: middle;\n",
              "    }\n",
              "\n",
              "    .dataframe tbody tr th {\n",
              "        vertical-align: top;\n",
              "    }\n",
              "\n",
              "    .dataframe thead th {\n",
              "        text-align: right;\n",
              "    }\n",
              "</style>\n",
              "<table border=\"1\" class=\"dataframe\">\n",
              "  <thead>\n",
              "    <tr style=\"text-align: right;\">\n",
              "      <th></th>\n",
              "      <th>DT_GERACAO</th>\n",
              "      <th>HH_GERACAO</th>\n",
              "      <th>ANO_ELEICAO</th>\n",
              "      <th>CD_TIPO_ELEICAO</th>\n",
              "      <th>NM_TIPO_ELEICAO</th>\n",
              "      <th>NR_TURNO</th>\n",
              "      <th>CD_ELEICAO</th>\n",
              "      <th>DS_ELEICAO</th>\n",
              "      <th>DT_ELEICAO</th>\n",
              "      <th>TP_ABRANGENCIA</th>\n",
              "      <th>SG_UF</th>\n",
              "      <th>SG_UE</th>\n",
              "      <th>NM_UE</th>\n",
              "      <th>CD_MUNICIPIO</th>\n",
              "      <th>NM_MUNICIPIO</th>\n",
              "      <th>NR_ZONA</th>\n",
              "      <th>NR_SECAO</th>\n",
              "      <th>CD_CARGO</th>\n",
              "      <th>DS_CARGO</th>\n",
              "      <th>QT_APTOS</th>\n",
              "      <th>QT_COMPARECIMENTO</th>\n",
              "      <th>QT_ABSTENCOES</th>\n",
              "      <th>QT_VOTOS_NOMINAIS</th>\n",
              "      <th>QT_VOTOS_BRANCOS</th>\n",
              "      <th>QT_VOTOS_NULOS</th>\n",
              "      <th>QT_VOTOS_LEGENDA</th>\n",
              "      <th>QT_VOTOS_ANULADOS_APU_SEP</th>\n",
              "      <th>NR_LOCAL_VOTACAO</th>\n",
              "    </tr>\n",
              "  </thead>\n",
              "  <tbody>\n",
              "    <tr>\n",
              "      <th>524638</th>\n",
              "      <td>09/12/2020</td>\n",
              "      <td>15:29:43</td>\n",
              "      <td>2020</td>\n",
              "      <td>2</td>\n",
              "      <td>ELEIÇÃO ORDINÁRIA</td>\n",
              "      <td>1</td>\n",
              "      <td>426</td>\n",
              "      <td>ELEIÇÕES MUNICIPAIS 2020</td>\n",
              "      <td>15/11/2020</td>\n",
              "      <td>M</td>\n",
              "      <td>MT</td>\n",
              "      <td>91677</td>\n",
              "      <td>VÁRZEA GRANDE</td>\n",
              "      <td>91677</td>\n",
              "      <td>VÁRZEA GRANDE</td>\n",
              "      <td>49</td>\n",
              "      <td>56</td>\n",
              "      <td>11</td>\n",
              "      <td>PREFEITO</td>\n",
              "      <td>333</td>\n",
              "      <td>283</td>\n",
              "      <td>50</td>\n",
              "      <td>245</td>\n",
              "      <td>15</td>\n",
              "      <td>23</td>\n",
              "      <td>0</td>\n",
              "      <td>0</td>\n",
              "      <td>1090</td>\n",
              "    </tr>\n",
              "    <tr>\n",
              "      <th>364842</th>\n",
              "      <td>09/12/2020</td>\n",
              "      <td>15:29:43</td>\n",
              "      <td>2020</td>\n",
              "      <td>2</td>\n",
              "      <td>ELEIÇÃO ORDINÁRIA</td>\n",
              "      <td>1</td>\n",
              "      <td>426</td>\n",
              "      <td>ELEIÇÕES MUNICIPAIS 2020</td>\n",
              "      <td>15/11/2020</td>\n",
              "      <td>M</td>\n",
              "      <td>SP</td>\n",
              "      <td>64777</td>\n",
              "      <td>GUARULHOS</td>\n",
              "      <td>64777</td>\n",
              "      <td>GUARULHOS</td>\n",
              "      <td>394</td>\n",
              "      <td>522</td>\n",
              "      <td>13</td>\n",
              "      <td>VEREADOR</td>\n",
              "      <td>384</td>\n",
              "      <td>275</td>\n",
              "      <td>109</td>\n",
              "      <td>218</td>\n",
              "      <td>20</td>\n",
              "      <td>20</td>\n",
              "      <td>17</td>\n",
              "      <td>0</td>\n",
              "      <td>1600</td>\n",
              "    </tr>\n",
              "    <tr>\n",
              "      <th>396005</th>\n",
              "      <td>09/12/2020</td>\n",
              "      <td>15:29:43</td>\n",
              "      <td>2020</td>\n",
              "      <td>2</td>\n",
              "      <td>ELEIÇÃO ORDINÁRIA</td>\n",
              "      <td>1</td>\n",
              "      <td>426</td>\n",
              "      <td>ELEIÇÕES MUNICIPAIS 2020</td>\n",
              "      <td>15/11/2020</td>\n",
              "      <td>M</td>\n",
              "      <td>SP</td>\n",
              "      <td>70572</td>\n",
              "      <td>SANTO ANDRÉ</td>\n",
              "      <td>70572</td>\n",
              "      <td>SANTO ANDRÉ</td>\n",
              "      <td>264</td>\n",
              "      <td>216</td>\n",
              "      <td>11</td>\n",
              "      <td>PREFEITO</td>\n",
              "      <td>276</td>\n",
              "      <td>165</td>\n",
              "      <td>111</td>\n",
              "      <td>140</td>\n",
              "      <td>8</td>\n",
              "      <td>17</td>\n",
              "      <td>0</td>\n",
              "      <td>0</td>\n",
              "      <td>2062</td>\n",
              "    </tr>\n",
              "    <tr>\n",
              "      <th>421947</th>\n",
              "      <td>09/12/2020</td>\n",
              "      <td>15:29:43</td>\n",
              "      <td>2020</td>\n",
              "      <td>2</td>\n",
              "      <td>ELEIÇÃO ORDINÁRIA</td>\n",
              "      <td>1</td>\n",
              "      <td>426</td>\n",
              "      <td>ELEIÇÕES MUNICIPAIS 2020</td>\n",
              "      <td>15/11/2020</td>\n",
              "      <td>M</td>\n",
              "      <td>PE</td>\n",
              "      <td>25550</td>\n",
              "      <td>SANTA TEREZINHA</td>\n",
              "      <td>25550</td>\n",
              "      <td>SANTA TEREZINHA</td>\n",
              "      <td>99</td>\n",
              "      <td>67</td>\n",
              "      <td>13</td>\n",
              "      <td>VEREADOR</td>\n",
              "      <td>237</td>\n",
              "      <td>208</td>\n",
              "      <td>29</td>\n",
              "      <td>177</td>\n",
              "      <td>3</td>\n",
              "      <td>10</td>\n",
              "      <td>18</td>\n",
              "      <td>0</td>\n",
              "      <td>1015</td>\n",
              "    </tr>\n",
              "    <tr>\n",
              "      <th>796063</th>\n",
              "      <td>09/12/2020</td>\n",
              "      <td>15:29:43</td>\n",
              "      <td>2020</td>\n",
              "      <td>2</td>\n",
              "      <td>ELEIÇÃO ORDINÁRIA</td>\n",
              "      <td>1</td>\n",
              "      <td>426</td>\n",
              "      <td>ELEIÇÕES MUNICIPAIS 2020</td>\n",
              "      <td>15/11/2020</td>\n",
              "      <td>M</td>\n",
              "      <td>RJ</td>\n",
              "      <td>60011</td>\n",
              "      <td>RIO DE JANEIRO</td>\n",
              "      <td>60011</td>\n",
              "      <td>RIO DE JANEIRO</td>\n",
              "      <td>162</td>\n",
              "      <td>54</td>\n",
              "      <td>13</td>\n",
              "      <td>VEREADOR</td>\n",
              "      <td>440</td>\n",
              "      <td>280</td>\n",
              "      <td>160</td>\n",
              "      <td>193</td>\n",
              "      <td>28</td>\n",
              "      <td>43</td>\n",
              "      <td>16</td>\n",
              "      <td>0</td>\n",
              "      <td>1112</td>\n",
              "    </tr>\n",
              "  </tbody>\n",
              "</table>\n",
              "</div>"
            ],
            "text/plain": [
              "        DT_GERACAO HH_GERACAO  ...  QT_VOTOS_ANULADOS_APU_SEP  NR_LOCAL_VOTACAO\n",
              "524638  09/12/2020   15:29:43  ...                          0              1090\n",
              "364842  09/12/2020   15:29:43  ...                          0              1600\n",
              "396005  09/12/2020   15:29:43  ...                          0              2062\n",
              "421947  09/12/2020   15:29:43  ...                          0              1015\n",
              "796063  09/12/2020   15:29:43  ...                          0              1112\n",
              "\n",
              "[5 rows x 28 columns]"
            ]
          },
          "metadata": {
            "tags": []
          },
          "execution_count": 146
        }
      ]
    },
    {
      "cell_type": "code",
      "metadata": {
        "colab": {
          "base_uri": "https://localhost:8080/"
        },
        "id": "uBoVGaK-Yts4",
        "outputId": "9307ae3a-c65d-467e-81ae-b64e2d204414"
      },
      "source": [
        "df_dvs.info()"
      ],
      "execution_count": 147,
      "outputs": [
        {
          "output_type": "stream",
          "text": [
            "<class 'pandas.core.frame.DataFrame'>\n",
            "RangeIndex: 897536 entries, 0 to 897535\n",
            "Data columns (total 28 columns):\n",
            " #   Column                     Non-Null Count   Dtype \n",
            "---  ------                     --------------   ----- \n",
            " 0   DT_GERACAO                 897536 non-null  object\n",
            " 1   HH_GERACAO                 897536 non-null  object\n",
            " 2   ANO_ELEICAO                897536 non-null  int64 \n",
            " 3   CD_TIPO_ELEICAO            897536 non-null  int64 \n",
            " 4   NM_TIPO_ELEICAO            897536 non-null  object\n",
            " 5   NR_TURNO                   897536 non-null  int64 \n",
            " 6   CD_ELEICAO                 897536 non-null  int64 \n",
            " 7   DS_ELEICAO                 897536 non-null  object\n",
            " 8   DT_ELEICAO                 897536 non-null  object\n",
            " 9   TP_ABRANGENCIA             897536 non-null  object\n",
            " 10  SG_UF                      897536 non-null  object\n",
            " 11  SG_UE                      897536 non-null  int64 \n",
            " 12  NM_UE                      897536 non-null  object\n",
            " 13  CD_MUNICIPIO               897536 non-null  int64 \n",
            " 14  NM_MUNICIPIO               897536 non-null  object\n",
            " 15  NR_ZONA                    897536 non-null  int64 \n",
            " 16  NR_SECAO                   897536 non-null  int64 \n",
            " 17  CD_CARGO                   897536 non-null  int64 \n",
            " 18  DS_CARGO                   897536 non-null  object\n",
            " 19  QT_APTOS                   897536 non-null  int64 \n",
            " 20  QT_COMPARECIMENTO          897536 non-null  int64 \n",
            " 21  QT_ABSTENCOES              897536 non-null  int64 \n",
            " 22  QT_VOTOS_NOMINAIS          897536 non-null  int64 \n",
            " 23  QT_VOTOS_BRANCOS           897536 non-null  int64 \n",
            " 24  QT_VOTOS_NULOS             897536 non-null  int64 \n",
            " 25  QT_VOTOS_LEGENDA           897536 non-null  int64 \n",
            " 26  QT_VOTOS_ANULADOS_APU_SEP  897536 non-null  int64 \n",
            " 27  NR_LOCAL_VOTACAO           897536 non-null  int64 \n",
            "dtypes: int64(18), object(10)\n",
            "memory usage: 191.7+ MB\n"
          ],
          "name": "stdout"
        }
      ]
    },
    {
      "cell_type": "markdown",
      "metadata": {
        "id": "JQAcWz_cW3CO"
      },
      "source": [
        "### Seções"
      ]
    },
    {
      "cell_type": "code",
      "metadata": {
        "colab": {
          "base_uri": "https://localhost:8080/",
          "height": 419
        },
        "id": "CunamIDBW2ve",
        "outputId": "fb58125f-3e99-406e-83a4-1bab964c9a9f"
      },
      "source": [
        "df_secoes = df_dvs[df_dvs.NM_MUNICIPIO.eq('MANAUS')] \\\r\n",
        "                  [['CD_ELEICAO', 'NR_ZONA', 'NR_SECAO', 'NR_LOCAL_VOTACAO',\r\n",
        "                    'QT_APTOS',\t'QT_COMPARECIMENTO',\t'QT_ABSTENCOES']] \\\r\n",
        "                    .sort_values(['NR_ZONA', 'NR_SECAO', 'CD_ELEICAO']) \\\r\n",
        "                    .drop_duplicates()\r\n",
        "df_secoes.columns = ['eleicao', 'zona', 'secao', 'local','aptos','votos','absencoes']\r\n",
        "df_secoes"
      ],
      "execution_count": 174,
      "outputs": [
        {
          "output_type": "execute_result",
          "data": {
            "text/html": [
              "<div>\n",
              "<style scoped>\n",
              "    .dataframe tbody tr th:only-of-type {\n",
              "        vertical-align: middle;\n",
              "    }\n",
              "\n",
              "    .dataframe tbody tr th {\n",
              "        vertical-align: top;\n",
              "    }\n",
              "\n",
              "    .dataframe thead th {\n",
              "        text-align: right;\n",
              "    }\n",
              "</style>\n",
              "<table border=\"1\" class=\"dataframe\">\n",
              "  <thead>\n",
              "    <tr style=\"text-align: right;\">\n",
              "      <th></th>\n",
              "      <th>eleicao</th>\n",
              "      <th>zona</th>\n",
              "      <th>secao</th>\n",
              "      <th>local</th>\n",
              "      <th>aptos</th>\n",
              "      <th>votos</th>\n",
              "      <th>absencoes</th>\n",
              "    </tr>\n",
              "  </thead>\n",
              "  <tbody>\n",
              "    <tr>\n",
              "      <th>41373</th>\n",
              "      <td>426</td>\n",
              "      <td>1</td>\n",
              "      <td>640</td>\n",
              "      <td>2429</td>\n",
              "      <td>411</td>\n",
              "      <td>348</td>\n",
              "      <td>63</td>\n",
              "    </tr>\n",
              "    <tr>\n",
              "      <th>725917</th>\n",
              "      <td>427</td>\n",
              "      <td>1</td>\n",
              "      <td>640</td>\n",
              "      <td>2429</td>\n",
              "      <td>411</td>\n",
              "      <td>330</td>\n",
              "      <td>81</td>\n",
              "    </tr>\n",
              "    <tr>\n",
              "      <th>325496</th>\n",
              "      <td>426</td>\n",
              "      <td>1</td>\n",
              "      <td>641</td>\n",
              "      <td>2089</td>\n",
              "      <td>393</td>\n",
              "      <td>326</td>\n",
              "      <td>67</td>\n",
              "    </tr>\n",
              "    <tr>\n",
              "      <th>328669</th>\n",
              "      <td>427</td>\n",
              "      <td>1</td>\n",
              "      <td>641</td>\n",
              "      <td>2089</td>\n",
              "      <td>393</td>\n",
              "      <td>308</td>\n",
              "      <td>85</td>\n",
              "    </tr>\n",
              "    <tr>\n",
              "      <th>138660</th>\n",
              "      <td>426</td>\n",
              "      <td>1</td>\n",
              "      <td>642</td>\n",
              "      <td>2321</td>\n",
              "      <td>397</td>\n",
              "      <td>341</td>\n",
              "      <td>56</td>\n",
              "    </tr>\n",
              "    <tr>\n",
              "      <th>...</th>\n",
              "      <td>...</td>\n",
              "      <td>...</td>\n",
              "      <td>...</td>\n",
              "      <td>...</td>\n",
              "      <td>...</td>\n",
              "      <td>...</td>\n",
              "      <td>...</td>\n",
              "    </tr>\n",
              "    <tr>\n",
              "      <th>431441</th>\n",
              "      <td>427</td>\n",
              "      <td>70</td>\n",
              "      <td>805</td>\n",
              "      <td>2046</td>\n",
              "      <td>366</td>\n",
              "      <td>245</td>\n",
              "      <td>121</td>\n",
              "    </tr>\n",
              "    <tr>\n",
              "      <th>291560</th>\n",
              "      <td>426</td>\n",
              "      <td>70</td>\n",
              "      <td>806</td>\n",
              "      <td>2089</td>\n",
              "      <td>399</td>\n",
              "      <td>280</td>\n",
              "      <td>119</td>\n",
              "    </tr>\n",
              "    <tr>\n",
              "      <th>604720</th>\n",
              "      <td>427</td>\n",
              "      <td>70</td>\n",
              "      <td>806</td>\n",
              "      <td>2089</td>\n",
              "      <td>399</td>\n",
              "      <td>277</td>\n",
              "      <td>122</td>\n",
              "    </tr>\n",
              "    <tr>\n",
              "      <th>374725</th>\n",
              "      <td>426</td>\n",
              "      <td>70</td>\n",
              "      <td>808</td>\n",
              "      <td>1848</td>\n",
              "      <td>284</td>\n",
              "      <td>224</td>\n",
              "      <td>60</td>\n",
              "    </tr>\n",
              "    <tr>\n",
              "      <th>946</th>\n",
              "      <td>427</td>\n",
              "      <td>70</td>\n",
              "      <td>808</td>\n",
              "      <td>1848</td>\n",
              "      <td>284</td>\n",
              "      <td>215</td>\n",
              "      <td>69</td>\n",
              "    </tr>\n",
              "  </tbody>\n",
              "</table>\n",
              "<p>6742 rows × 7 columns</p>\n",
              "</div>"
            ],
            "text/plain": [
              "        eleicao  zona  secao  local  aptos  votos  absencoes\n",
              "41373       426     1    640   2429    411    348         63\n",
              "725917      427     1    640   2429    411    330         81\n",
              "325496      426     1    641   2089    393    326         67\n",
              "328669      427     1    641   2089    393    308         85\n",
              "138660      426     1    642   2321    397    341         56\n",
              "...         ...   ...    ...    ...    ...    ...        ...\n",
              "431441      427    70    805   2046    366    245        121\n",
              "291560      426    70    806   2089    399    280        119\n",
              "604720      427    70    806   2089    399    277        122\n",
              "374725      426    70    808   1848    284    224         60\n",
              "946         427    70    808   1848    284    215         69\n",
              "\n",
              "[6742 rows x 7 columns]"
            ]
          },
          "metadata": {
            "tags": []
          },
          "execution_count": 174
        }
      ]
    },
    {
      "cell_type": "code",
      "metadata": {
        "colab": {
          "base_uri": "https://localhost:8080/"
        },
        "id": "vSgK47leeJ7s",
        "outputId": "d08eaed6-bac2-4e74-a0f4-cca186556e3f"
      },
      "source": [
        "filename = '/content/datasets/secoes.csv'\r\n",
        "df_secoes.to_csv(filename)\r\n",
        "print(f'Seções eleitorais gravadas em \\'{filename}\\'')"
      ],
      "execution_count": 175,
      "outputs": [
        {
          "output_type": "stream",
          "text": [
            "Seções eleitorais gravadas em '/content/datasets/secoes.csv'\n"
          ],
          "name": "stdout"
        }
      ]
    },
    {
      "cell_type": "code",
      "metadata": {
        "colab": {
          "base_uri": "https://localhost:8080/",
          "height": 439
        },
        "id": "7Bp11RgUecYo",
        "outputId": "f18a995a-eeb9-4deb-850e-84d246e231af"
      },
      "source": [
        "dft_dvs = df_dvs[df_dvs.NM_MUNICIPIO.eq('MANAUS')] \\\r\n",
        "               [['CD_ELEICAO', 'NR_ZONA', 'NR_SECAO', 'NR_LOCAL_VOTACAO', 'DS_CARGO',\r\n",
        "                 'QT_APTOS', 'QT_COMPARECIMENTO', 'QT_ABSTENCOES',\r\n",
        "                 'QT_VOTOS_NOMINAIS',\t'QT_VOTOS_BRANCOS',\t'QT_VOTOS_NULOS', 'QT_VOTOS_LEGENDA']] \\\r\n",
        "                .sort_values(['CD_ELEICAO','NR_ZONA', 'NR_SECAO'])\r\n",
        "dft_dvs"
      ],
      "execution_count": 166,
      "outputs": [
        {
          "output_type": "execute_result",
          "data": {
            "text/html": [
              "<div>\n",
              "<style scoped>\n",
              "    .dataframe tbody tr th:only-of-type {\n",
              "        vertical-align: middle;\n",
              "    }\n",
              "\n",
              "    .dataframe tbody tr th {\n",
              "        vertical-align: top;\n",
              "    }\n",
              "\n",
              "    .dataframe thead th {\n",
              "        text-align: right;\n",
              "    }\n",
              "</style>\n",
              "<table border=\"1\" class=\"dataframe\">\n",
              "  <thead>\n",
              "    <tr style=\"text-align: right;\">\n",
              "      <th></th>\n",
              "      <th>CD_ELEICAO</th>\n",
              "      <th>NR_ZONA</th>\n",
              "      <th>NR_SECAO</th>\n",
              "      <th>NR_LOCAL_VOTACAO</th>\n",
              "      <th>DS_CARGO</th>\n",
              "      <th>QT_APTOS</th>\n",
              "      <th>QT_COMPARECIMENTO</th>\n",
              "      <th>QT_ABSTENCOES</th>\n",
              "      <th>QT_VOTOS_NOMINAIS</th>\n",
              "      <th>QT_VOTOS_BRANCOS</th>\n",
              "      <th>QT_VOTOS_NULOS</th>\n",
              "      <th>QT_VOTOS_LEGENDA</th>\n",
              "    </tr>\n",
              "  </thead>\n",
              "  <tbody>\n",
              "    <tr>\n",
              "      <th>41373</th>\n",
              "      <td>426</td>\n",
              "      <td>1</td>\n",
              "      <td>640</td>\n",
              "      <td>2429</td>\n",
              "      <td>PREFEITO</td>\n",
              "      <td>411</td>\n",
              "      <td>348</td>\n",
              "      <td>63</td>\n",
              "      <td>314</td>\n",
              "      <td>15</td>\n",
              "      <td>19</td>\n",
              "      <td>0</td>\n",
              "    </tr>\n",
              "    <tr>\n",
              "      <th>205055</th>\n",
              "      <td>426</td>\n",
              "      <td>1</td>\n",
              "      <td>640</td>\n",
              "      <td>2429</td>\n",
              "      <td>VEREADOR</td>\n",
              "      <td>411</td>\n",
              "      <td>348</td>\n",
              "      <td>63</td>\n",
              "      <td>302</td>\n",
              "      <td>19</td>\n",
              "      <td>16</td>\n",
              "      <td>11</td>\n",
              "    </tr>\n",
              "    <tr>\n",
              "      <th>325496</th>\n",
              "      <td>426</td>\n",
              "      <td>1</td>\n",
              "      <td>641</td>\n",
              "      <td>2089</td>\n",
              "      <td>PREFEITO</td>\n",
              "      <td>393</td>\n",
              "      <td>326</td>\n",
              "      <td>67</td>\n",
              "      <td>293</td>\n",
              "      <td>10</td>\n",
              "      <td>23</td>\n",
              "      <td>0</td>\n",
              "    </tr>\n",
              "    <tr>\n",
              "      <th>340194</th>\n",
              "      <td>426</td>\n",
              "      <td>1</td>\n",
              "      <td>641</td>\n",
              "      <td>2089</td>\n",
              "      <td>VEREADOR</td>\n",
              "      <td>393</td>\n",
              "      <td>326</td>\n",
              "      <td>67</td>\n",
              "      <td>292</td>\n",
              "      <td>11</td>\n",
              "      <td>13</td>\n",
              "      <td>10</td>\n",
              "    </tr>\n",
              "    <tr>\n",
              "      <th>138660</th>\n",
              "      <td>426</td>\n",
              "      <td>1</td>\n",
              "      <td>642</td>\n",
              "      <td>2321</td>\n",
              "      <td>VEREADOR</td>\n",
              "      <td>397</td>\n",
              "      <td>341</td>\n",
              "      <td>56</td>\n",
              "      <td>306</td>\n",
              "      <td>12</td>\n",
              "      <td>17</td>\n",
              "      <td>6</td>\n",
              "    </tr>\n",
              "    <tr>\n",
              "      <th>...</th>\n",
              "      <td>...</td>\n",
              "      <td>...</td>\n",
              "      <td>...</td>\n",
              "      <td>...</td>\n",
              "      <td>...</td>\n",
              "      <td>...</td>\n",
              "      <td>...</td>\n",
              "      <td>...</td>\n",
              "      <td>...</td>\n",
              "      <td>...</td>\n",
              "      <td>...</td>\n",
              "      <td>...</td>\n",
              "    </tr>\n",
              "    <tr>\n",
              "      <th>891487</th>\n",
              "      <td>427</td>\n",
              "      <td>70</td>\n",
              "      <td>803</td>\n",
              "      <td>2003</td>\n",
              "      <td>PREFEITO</td>\n",
              "      <td>275</td>\n",
              "      <td>188</td>\n",
              "      <td>87</td>\n",
              "      <td>170</td>\n",
              "      <td>12</td>\n",
              "      <td>6</td>\n",
              "      <td>0</td>\n",
              "    </tr>\n",
              "    <tr>\n",
              "      <th>624649</th>\n",
              "      <td>427</td>\n",
              "      <td>70</td>\n",
              "      <td>804</td>\n",
              "      <td>2038</td>\n",
              "      <td>PREFEITO</td>\n",
              "      <td>332</td>\n",
              "      <td>210</td>\n",
              "      <td>122</td>\n",
              "      <td>183</td>\n",
              "      <td>12</td>\n",
              "      <td>15</td>\n",
              "      <td>0</td>\n",
              "    </tr>\n",
              "    <tr>\n",
              "      <th>431441</th>\n",
              "      <td>427</td>\n",
              "      <td>70</td>\n",
              "      <td>805</td>\n",
              "      <td>2046</td>\n",
              "      <td>PREFEITO</td>\n",
              "      <td>366</td>\n",
              "      <td>245</td>\n",
              "      <td>121</td>\n",
              "      <td>216</td>\n",
              "      <td>13</td>\n",
              "      <td>16</td>\n",
              "      <td>0</td>\n",
              "    </tr>\n",
              "    <tr>\n",
              "      <th>604720</th>\n",
              "      <td>427</td>\n",
              "      <td>70</td>\n",
              "      <td>806</td>\n",
              "      <td>2089</td>\n",
              "      <td>PREFEITO</td>\n",
              "      <td>399</td>\n",
              "      <td>277</td>\n",
              "      <td>122</td>\n",
              "      <td>242</td>\n",
              "      <td>19</td>\n",
              "      <td>16</td>\n",
              "      <td>0</td>\n",
              "    </tr>\n",
              "    <tr>\n",
              "      <th>946</th>\n",
              "      <td>427</td>\n",
              "      <td>70</td>\n",
              "      <td>808</td>\n",
              "      <td>1848</td>\n",
              "      <td>PREFEITO</td>\n",
              "      <td>284</td>\n",
              "      <td>215</td>\n",
              "      <td>69</td>\n",
              "      <td>190</td>\n",
              "      <td>11</td>\n",
              "      <td>14</td>\n",
              "      <td>0</td>\n",
              "    </tr>\n",
              "  </tbody>\n",
              "</table>\n",
              "<p>10113 rows × 12 columns</p>\n",
              "</div>"
            ],
            "text/plain": [
              "        CD_ELEICAO  NR_ZONA  ...  QT_VOTOS_NULOS  QT_VOTOS_LEGENDA\n",
              "41373          426        1  ...              19                 0\n",
              "205055         426        1  ...              16                11\n",
              "325496         426        1  ...              23                 0\n",
              "340194         426        1  ...              13                10\n",
              "138660         426        1  ...              17                 6\n",
              "...            ...      ...  ...             ...               ...\n",
              "891487         427       70  ...               6                 0\n",
              "624649         427       70  ...              15                 0\n",
              "431441         427       70  ...              16                 0\n",
              "604720         427       70  ...              16                 0\n",
              "946            427       70  ...              14                 0\n",
              "\n",
              "[10113 rows x 12 columns]"
            ]
          },
          "metadata": {
            "tags": []
          },
          "execution_count": 166
        }
      ]
    },
    {
      "cell_type": "code",
      "metadata": {
        "id": "3qRJ5A-9dfSr"
      },
      "source": [
        "# Limpeza do diretório temporário de trabalho\r\n",
        "!rm -rf /content/work/*"
      ],
      "execution_count": 179,
      "outputs": []
    },
    {
      "cell_type": "markdown",
      "metadata": {
        "id": "rP0PKraojnAO"
      },
      "source": [
        "# Carga"
      ]
    },
    {
      "cell_type": "code",
      "metadata": {
        "colab": {
          "base_uri": "https://localhost:8080/"
        },
        "id": "j5Q0aZ3tjsut",
        "outputId": "b5d83aa6-70cd-46de-f387-2b2b89b8944c"
      },
      "source": [
        "%cd /content\r\n",
        "!tar -czvf eleicoes2020.tar.gz datasets/*"
      ],
      "execution_count": 176,
      "outputs": [
        {
          "output_type": "stream",
          "text": [
            "/content\n",
            "datasets/eleicoes.csv\n",
            "datasets/leiame-boletim_urna.pdf\n",
            "datasets/prefeitos_2t.csv\n",
            "datasets/prefeitos.csv\n",
            "datasets/resultados_prefeito_2t.csv\n",
            "datasets/resultados_prefeito.csv\n",
            "datasets/resultados_vereador.csv\n",
            "datasets/secoes.csv\n",
            "datasets/vereadores.csv\n"
          ],
          "name": "stdout"
        }
      ]
    },
    {
      "cell_type": "code",
      "metadata": {
        "id": "W7kH_5QklrbG"
      },
      "source": [
        "# sobrescreve o arquivo compartilhado: 1-1v_7xBem5VdYwFFaaNl2EKPLYaDadPa\r\n",
        "!cp eleicoes2020.tar.gz /content/gdrive/MyDrive/uea-data-science/04-data-processing/trabalho-final"
      ],
      "execution_count": 177,
      "outputs": []
    },
    {
      "cell_type": "code",
      "metadata": {
        "id": "FNDT_V1Ak8-e"
      },
      "source": [
        "# remove o diretório\r\n",
        "!rm -rf datasets"
      ],
      "execution_count": 178,
      "outputs": []
    },
    {
      "cell_type": "code",
      "metadata": {
        "colab": {
          "base_uri": "https://localhost:8080/"
        },
        "id": "4tZLXnkzleU6",
        "outputId": "2d4c4273-da57-42f5-d7ad-334ff1d7c287"
      },
      "source": [
        "!tar -zxvf eleicoes2020.tar.gz"
      ],
      "execution_count": null,
      "outputs": [
        {
          "output_type": "stream",
          "text": [
            "datasets/detalhe_votacao_secao.csv\n",
            "datasets/leiame-detalhe_votacao_secao.pdf\n"
          ],
          "name": "stdout"
        }
      ]
    }
  ]
}