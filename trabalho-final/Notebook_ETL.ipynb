{
  "nbformat": 4,
  "nbformat_minor": 0,
  "metadata": {
    "colab": {
      "name": "Notebook_ETL.ipynb",
      "provenance": [],
      "collapsed_sections": [],
      "toc_visible": true,
      "include_colab_link": true
    },
    "kernelspec": {
      "name": "python3",
      "display_name": "Python 3"
    }
  },
  "cells": [
    {
      "cell_type": "markdown",
      "metadata": {
        "id": "view-in-github",
        "colab_type": "text"
      },
      "source": [
        "<a href=\"https://colab.research.google.com/github/bmnds/uea-data-science-04-data-processing/blob/main/trabalho-final/Notebook_ETL.ipynb\" target=\"_parent\"><img src=\"https://colab.research.google.com/assets/colab-badge.svg\" alt=\"Open In Colab\"/></a>"
      ]
    },
    {
      "cell_type": "code",
      "metadata": {
        "colab": {
          "base_uri": "https://localhost:8080/"
        },
        "id": "5GbY_ebFZ7Nk",
        "outputId": "21cba326-8d71-49f6-a92d-7cc51b549556"
      },
      "source": [
        "!pwd"
      ],
      "execution_count": 90,
      "outputs": [
        {
          "output_type": "stream",
          "text": [
            "/content/gdrive/MyDrive/uea-data-science/04-data-processing/trabalho-final/datasets\n"
          ],
          "name": "stdout"
        }
      ]
    },
    {
      "cell_type": "code",
      "metadata": {
        "id": "FdeXIfHOd8Em"
      },
      "source": [
        "# Importando libs necessárias\r\n",
        "import pandas as pd"
      ],
      "execution_count": 91,
      "outputs": []
    },
    {
      "cell_type": "markdown",
      "metadata": {
        "id": "OFT7Ks51bU_4"
      },
      "source": [
        "# Extração"
      ]
    },
    {
      "cell_type": "code",
      "metadata": {
        "colab": {
          "base_uri": "https://localhost:8080/"
        },
        "id": "g-GukjLSYLyl",
        "outputId": "13b03c71-32e7-4f1a-9dbe-94fae9ff5801"
      },
      "source": [
        "# Montar o diretório compartilhado do Google Drive\n",
        "from google.colab import drive\n",
        "drive.mount('/content/gdrive')\n",
        "%cd /content/gdrive"
      ],
      "execution_count": 92,
      "outputs": [
        {
          "output_type": "stream",
          "text": [
            "Drive already mounted at /content/gdrive; to attempt to forcibly remount, call drive.mount(\"/content/gdrive\", force_remount=True).\n",
            "/content/gdrive\n"
          ],
          "name": "stdout"
        }
      ]
    },
    {
      "cell_type": "code",
      "metadata": {
        "colab": {
          "base_uri": "https://localhost:8080/"
        },
        "id": "zV98oyvcYzrs",
        "outputId": "21a30864-e285-4a6f-f0f2-359845a7d5d2"
      },
      "source": [
        "# Listar arquivos do diretório compartilhado\r\n",
        "%cd MyDrive/uea-data-science/04-data-processing/trabalho-final/datasets\r\n",
        "!ls"
      ],
      "execution_count": 93,
      "outputs": [
        {
          "output_type": "stream",
          "text": [
            "/content/gdrive/MyDrive/uea-data-science/04-data-processing/trabalho-final/datasets\n",
            "bweb_1t_AM_181120201549.zip\n",
            "bweb_2t_AM_301120201245.zip\n",
            "detalhe_votacao_secao_2020.zip\n",
            "eleitorado_local_votacao_2020.zip\n",
            "perfil_comparecimento_abstencao_2020.zip\n",
            "perfil_eleitorado_2020.zip\n",
            "perfil_eleitor_secao_2020_AM.zip\n",
            "prestacao_contas_anual_partidaria_2020.zip\n",
            "prestacao_de_contas_eleitorais_candidatos_2020.zip\n",
            "votacao_candidato_munzona_2020.zip\n",
            "votacao_secao_2020_AM.zip\n"
          ],
          "name": "stdout"
        }
      ]
    },
    {
      "cell_type": "markdown",
      "metadata": {
        "id": "Kl-tblNdbZj1"
      },
      "source": [
        "# Transformação"
      ]
    },
    {
      "cell_type": "code",
      "metadata": {
        "id": "-N9sdsb0bf2P",
        "colab": {
          "base_uri": "https://localhost:8080/"
        },
        "outputId": "7ba7fed7-2f3e-452b-b216-cf77bec9d77b"
      },
      "source": [
        "!mkdir /content/work #diretório temporário de trabalho\r\n",
        "!mkdir /content/datasets #diretório com os arquivos processados"
      ],
      "execution_count": 94,
      "outputs": [
        {
          "output_type": "stream",
          "text": [
            "mkdir: cannot create directory ‘/content/work’: File exists\n",
            "mkdir: cannot create directory ‘/content/datasets’: File exists\n"
          ],
          "name": "stdout"
        }
      ]
    },
    {
      "cell_type": "markdown",
      "metadata": {
        "id": "1Y-o_Q0XboFX"
      },
      "source": [
        "## Dados de Boletins de Urna"
      ]
    },
    {
      "cell_type": "code",
      "metadata": {
        "colab": {
          "base_uri": "https://localhost:8080/"
        },
        "id": "ZlIPX20fYLyr",
        "outputId": "c821241a-8e3f-4551-d502-3be0f8e63c61"
      },
      "source": [
        "# boletins de urna do 1o turno\n",
        "!unzip -u bweb_1t_AM_181120201549.zip -d /content/work"
      ],
      "execution_count": 95,
      "outputs": [
        {
          "output_type": "stream",
          "text": [
            "Archive:  bweb_1t_AM_181120201549.zip\n",
            "  inflating: /content/work/bweb_1t_AM_181120201549.csv  \n",
            "  inflating: /content/work/leiame-boletimurnaweb.pdf  \n"
          ],
          "name": "stdout"
        }
      ]
    },
    {
      "cell_type": "code",
      "metadata": {
        "id": "wkMxUeVmRRUA"
      },
      "source": [
        "!cp /content/work/leiame-boletimurnaweb.pdf /content/datasets/leiame-boletim_urna.pdf"
      ],
      "execution_count": 96,
      "outputs": []
    },
    {
      "cell_type": "code",
      "metadata": {
        "colab": {
          "base_uri": "https://localhost:8080/",
          "height": 394
        },
        "id": "5JAwcAEcyxKn",
        "outputId": "10045e48-fb3f-4064-f49b-cb482606bbaf"
      },
      "source": [
        "df_bu_1t = pd.read_csv('/content/work/bweb_1t_AM_181120201549.csv', encoding=\"ISO-8859-1\", delimiter=';')\r\n",
        "df_bu_1t.sample(5)"
      ],
      "execution_count": 97,
      "outputs": [
        {
          "output_type": "execute_result",
          "data": {
            "text/html": [
              "<div>\n",
              "<style scoped>\n",
              "    .dataframe tbody tr th:only-of-type {\n",
              "        vertical-align: middle;\n",
              "    }\n",
              "\n",
              "    .dataframe tbody tr th {\n",
              "        vertical-align: top;\n",
              "    }\n",
              "\n",
              "    .dataframe thead th {\n",
              "        text-align: right;\n",
              "    }\n",
              "</style>\n",
              "<table border=\"1\" class=\"dataframe\">\n",
              "  <thead>\n",
              "    <tr style=\"text-align: right;\">\n",
              "      <th></th>\n",
              "      <th>DT_GERACAO</th>\n",
              "      <th>HH_GERACAO</th>\n",
              "      <th>ANO_ELEICAO</th>\n",
              "      <th>CD_TIPO_ELEICAO</th>\n",
              "      <th>NM_TIPO_ELEICAO</th>\n",
              "      <th>CD_PLEITO</th>\n",
              "      <th>DT_PLEITO</th>\n",
              "      <th>NR_TURNO</th>\n",
              "      <th>CD_ELEICAO</th>\n",
              "      <th>DS_ELEICAO</th>\n",
              "      <th>SG_UF</th>\n",
              "      <th>CD_MUNICIPIO</th>\n",
              "      <th>NM_MUNICIPIO</th>\n",
              "      <th>NR_ZONA</th>\n",
              "      <th>NR_SECAO</th>\n",
              "      <th>NR_LOCAL_VOTACAO</th>\n",
              "      <th>CD_CARGO_PERGUNTA</th>\n",
              "      <th>DS_CARGO_PERGUNTA</th>\n",
              "      <th>NR_PARTIDO</th>\n",
              "      <th>SG_PARTIDO</th>\n",
              "      <th>NM_PARTIDO</th>\n",
              "      <th>DT_BU_RECEBIDO</th>\n",
              "      <th>QT_APTOS</th>\n",
              "      <th>QT_COMPARECIMENTO</th>\n",
              "      <th>QT_ABSTENCOES</th>\n",
              "      <th>CD_TIPO_URNA</th>\n",
              "      <th>DS_TIPO_URNA</th>\n",
              "      <th>CD_TIPO_VOTAVEL</th>\n",
              "      <th>DS_TIPO_VOTAVEL</th>\n",
              "      <th>NR_VOTAVEL</th>\n",
              "      <th>NM_VOTAVEL</th>\n",
              "      <th>QT_VOTOS</th>\n",
              "      <th>NR_URNA_EFETIVADA</th>\n",
              "      <th>CD_CARGA_1_URNA_EFETIVADA</th>\n",
              "      <th>CD_CARGA_2_URNA_EFETIVADA</th>\n",
              "      <th>CD_FLASHCARD_URNA_EFETIVADA</th>\n",
              "      <th>DT_CARGA_URNA_EFETIVADA</th>\n",
              "      <th>DS_CARGO_PERGUNTA_SECAO</th>\n",
              "      <th>DS_AGREGADAS</th>\n",
              "      <th>DT_ABERTURA</th>\n",
              "      <th>DT_ENCERRAMENTO</th>\n",
              "      <th>QT_ELEITORES_BIOMETRIA_NH</th>\n",
              "      <th>DT_EMISSAO_BU</th>\n",
              "      <th>NR_JUNTA_APURADORA</th>\n",
              "      <th>NR_TURMA_APURADORA</th>\n",
              "    </tr>\n",
              "  </thead>\n",
              "  <tbody>\n",
              "    <tr>\n",
              "      <th>610924</th>\n",
              "      <td>18/11/2020</td>\n",
              "      <td>15:49:53</td>\n",
              "      <td>2020</td>\n",
              "      <td>0</td>\n",
              "      <td>Eleição Ordinária</td>\n",
              "      <td>304</td>\n",
              "      <td>15/11/2020</td>\n",
              "      <td>1</td>\n",
              "      <td>426</td>\n",
              "      <td>Eleições Municipais 2020</td>\n",
              "      <td>AM</td>\n",
              "      <td>2550</td>\n",
              "      <td>MANAUS</td>\n",
              "      <td>62</td>\n",
              "      <td>369</td>\n",
              "      <td>1740</td>\n",
              "      <td>13</td>\n",
              "      <td>Vereador</td>\n",
              "      <td>10</td>\n",
              "      <td>REPUBLICANOS</td>\n",
              "      <td>REPUBLICANOS</td>\n",
              "      <td>15/11/2020 18:56:17</td>\n",
              "      <td>397</td>\n",
              "      <td>350</td>\n",
              "      <td>47</td>\n",
              "      <td>1</td>\n",
              "      <td>APURADA</td>\n",
              "      <td>1</td>\n",
              "      <td>Nominal</td>\n",
              "      <td>10300</td>\n",
              "      <td>FRED MOTA</td>\n",
              "      <td>1</td>\n",
              "      <td>1783585</td>\n",
              "      <td>879.551.552.820.767.341.</td>\n",
              "      <td>462.993</td>\n",
              "      <td>9E8EFA63</td>\n",
              "      <td>07/11/2020 08:55:00</td>\n",
              "      <td>13 - 369</td>\n",
              "      <td>#NULO#</td>\n",
              "      <td>15/11/2020 07:00:00</td>\n",
              "      <td>15/11/2020 17:01:53</td>\n",
              "      <td>0</td>\n",
              "      <td>15/11/2020 17:02:01</td>\n",
              "      <td>-1</td>\n",
              "      <td>-1</td>\n",
              "    </tr>\n",
              "    <tr>\n",
              "      <th>842238</th>\n",
              "      <td>18/11/2020</td>\n",
              "      <td>15:49:53</td>\n",
              "      <td>2020</td>\n",
              "      <td>0</td>\n",
              "      <td>Eleição Ordinária</td>\n",
              "      <td>304</td>\n",
              "      <td>15/11/2020</td>\n",
              "      <td>1</td>\n",
              "      <td>426</td>\n",
              "      <td>Eleições Municipais 2020</td>\n",
              "      <td>AM</td>\n",
              "      <td>2550</td>\n",
              "      <td>MANAUS</td>\n",
              "      <td>70</td>\n",
              "      <td>763</td>\n",
              "      <td>1830</td>\n",
              "      <td>13</td>\n",
              "      <td>Vereador</td>\n",
              "      <td>33</td>\n",
              "      <td>PMN</td>\n",
              "      <td>Partido da Mobilização Nacional</td>\n",
              "      <td>15/11/2020 20:48:41</td>\n",
              "      <td>387</td>\n",
              "      <td>296</td>\n",
              "      <td>91</td>\n",
              "      <td>1</td>\n",
              "      <td>APURADA</td>\n",
              "      <td>1</td>\n",
              "      <td>Nominal</td>\n",
              "      <td>33777</td>\n",
              "      <td>ROSINALDO BUAL</td>\n",
              "      <td>2</td>\n",
              "      <td>1179705</td>\n",
              "      <td>637.112.013.151.473.700.</td>\n",
              "      <td>823.337</td>\n",
              "      <td>AB6F52C9</td>\n",
              "      <td>10/11/2020 16:06:00</td>\n",
              "      <td>13 - 763</td>\n",
              "      <td>#NULO#</td>\n",
              "      <td>15/11/2020 07:00:48</td>\n",
              "      <td>15/11/2020 17:03:44</td>\n",
              "      <td>0</td>\n",
              "      <td>15/11/2020 17:05:14</td>\n",
              "      <td>-1</td>\n",
              "      <td>-1</td>\n",
              "    </tr>\n",
              "    <tr>\n",
              "      <th>288375</th>\n",
              "      <td>18/11/2020</td>\n",
              "      <td>15:49:53</td>\n",
              "      <td>2020</td>\n",
              "      <td>0</td>\n",
              "      <td>Eleição Ordinária</td>\n",
              "      <td>304</td>\n",
              "      <td>15/11/2020</td>\n",
              "      <td>1</td>\n",
              "      <td>426</td>\n",
              "      <td>Eleições Municipais 2020</td>\n",
              "      <td>AM</td>\n",
              "      <td>2550</td>\n",
              "      <td>MANAUS</td>\n",
              "      <td>31</td>\n",
              "      <td>698</td>\n",
              "      <td>2089</td>\n",
              "      <td>13</td>\n",
              "      <td>Vereador</td>\n",
              "      <td>20</td>\n",
              "      <td>PSC</td>\n",
              "      <td>Partido Social Cristão</td>\n",
              "      <td>15/11/2020 18:40:06</td>\n",
              "      <td>565</td>\n",
              "      <td>456</td>\n",
              "      <td>109</td>\n",
              "      <td>1</td>\n",
              "      <td>APURADA</td>\n",
              "      <td>1</td>\n",
              "      <td>Nominal</td>\n",
              "      <td>20999</td>\n",
              "      <td>CHIQUINHO AMARAL</td>\n",
              "      <td>3</td>\n",
              "      <td>1181181</td>\n",
              "      <td>374.569.425.465.741.193.</td>\n",
              "      <td>814.757</td>\n",
              "      <td>A9FEAB10</td>\n",
              "      <td>05/11/2020 09:05:00</td>\n",
              "      <td>13 - 698</td>\n",
              "      <td>747</td>\n",
              "      <td>15/11/2020 07:00:00</td>\n",
              "      <td>15/11/2020 17:04:45</td>\n",
              "      <td>0</td>\n",
              "      <td>15/11/2020 17:07:16</td>\n",
              "      <td>-1</td>\n",
              "      <td>-1</td>\n",
              "    </tr>\n",
              "    <tr>\n",
              "      <th>152019</th>\n",
              "      <td>18/11/2020</td>\n",
              "      <td>15:49:53</td>\n",
              "      <td>2020</td>\n",
              "      <td>0</td>\n",
              "      <td>Eleição Ordinária</td>\n",
              "      <td>304</td>\n",
              "      <td>15/11/2020</td>\n",
              "      <td>1</td>\n",
              "      <td>426</td>\n",
              "      <td>Eleições Municipais 2020</td>\n",
              "      <td>AM</td>\n",
              "      <td>2534</td>\n",
              "      <td>MANACAPURU</td>\n",
              "      <td>6</td>\n",
              "      <td>204</td>\n",
              "      <td>1511</td>\n",
              "      <td>13</td>\n",
              "      <td>Vereador</td>\n",
              "      <td>11</td>\n",
              "      <td>PP</td>\n",
              "      <td>PROGRESSISTAS</td>\n",
              "      <td>15/11/2020 20:55:17</td>\n",
              "      <td>393</td>\n",
              "      <td>339</td>\n",
              "      <td>54</td>\n",
              "      <td>1</td>\n",
              "      <td>APURADA</td>\n",
              "      <td>1</td>\n",
              "      <td>Nominal</td>\n",
              "      <td>11236</td>\n",
              "      <td>DANILO PARAÍBA</td>\n",
              "      <td>1</td>\n",
              "      <td>1789148</td>\n",
              "      <td>951.761.574.541.146.998.</td>\n",
              "      <td>92.771</td>\n",
              "      <td>46FC6683</td>\n",
              "      <td>06/11/2020 13:27:00</td>\n",
              "      <td>13 - 204</td>\n",
              "      <td>#NULO#</td>\n",
              "      <td>15/11/2020 07:00:00</td>\n",
              "      <td>15/11/2020 17:04:28</td>\n",
              "      <td>0</td>\n",
              "      <td>15/11/2020 17:06:22</td>\n",
              "      <td>-1</td>\n",
              "      <td>-1</td>\n",
              "    </tr>\n",
              "    <tr>\n",
              "      <th>215454</th>\n",
              "      <td>18/11/2020</td>\n",
              "      <td>15:49:53</td>\n",
              "      <td>2020</td>\n",
              "      <td>0</td>\n",
              "      <td>Eleição Ordinária</td>\n",
              "      <td>304</td>\n",
              "      <td>15/11/2020</td>\n",
              "      <td>1</td>\n",
              "      <td>426</td>\n",
              "      <td>Eleições Municipais 2020</td>\n",
              "      <td>AM</td>\n",
              "      <td>2356</td>\n",
              "      <td>HUMAITÁ</td>\n",
              "      <td>17</td>\n",
              "      <td>4</td>\n",
              "      <td>1023</td>\n",
              "      <td>13</td>\n",
              "      <td>Vereador</td>\n",
              "      <td>10</td>\n",
              "      <td>REPUBLICANOS</td>\n",
              "      <td>REPUBLICANOS</td>\n",
              "      <td>15/11/2020 20:46:22</td>\n",
              "      <td>365</td>\n",
              "      <td>280</td>\n",
              "      <td>85</td>\n",
              "      <td>1</td>\n",
              "      <td>APURADA</td>\n",
              "      <td>1</td>\n",
              "      <td>Nominal</td>\n",
              "      <td>10456</td>\n",
              "      <td>SOCORRO FIGUEIREDO</td>\n",
              "      <td>1</td>\n",
              "      <td>1264650</td>\n",
              "      <td>540.238.987.617.469.454.</td>\n",
              "      <td>309.862</td>\n",
              "      <td>99616BE5</td>\n",
              "      <td>06/11/2020 10:54:00</td>\n",
              "      <td>13 - 4</td>\n",
              "      <td>#NULO#</td>\n",
              "      <td>15/11/2020 07:00:00</td>\n",
              "      <td>15/11/2020 17:02:38</td>\n",
              "      <td>0</td>\n",
              "      <td>15/11/2020 17:04:15</td>\n",
              "      <td>-1</td>\n",
              "      <td>-1</td>\n",
              "    </tr>\n",
              "  </tbody>\n",
              "</table>\n",
              "</div>"
            ],
            "text/plain": [
              "        DT_GERACAO HH_GERACAO  ...  NR_JUNTA_APURADORA  NR_TURMA_APURADORA\n",
              "610924  18/11/2020   15:49:53  ...                  -1                  -1\n",
              "842238  18/11/2020   15:49:53  ...                  -1                  -1\n",
              "288375  18/11/2020   15:49:53  ...                  -1                  -1\n",
              "152019  18/11/2020   15:49:53  ...                  -1                  -1\n",
              "215454  18/11/2020   15:49:53  ...                  -1                  -1\n",
              "\n",
              "[5 rows x 45 columns]"
            ]
          },
          "metadata": {
            "tags": []
          },
          "execution_count": 97
        }
      ]
    },
    {
      "cell_type": "code",
      "metadata": {
        "colab": {
          "base_uri": "https://localhost:8080/"
        },
        "id": "lGaTHFSa6MvO",
        "outputId": "4640c121-b249-4918-8a9d-08c7911270aa"
      },
      "source": [
        "df_bu_1t.info()"
      ],
      "execution_count": 98,
      "outputs": [
        {
          "output_type": "stream",
          "text": [
            "<class 'pandas.core.frame.DataFrame'>\n",
            "RangeIndex: 848941 entries, 0 to 848940\n",
            "Data columns (total 45 columns):\n",
            " #   Column                       Non-Null Count   Dtype  \n",
            "---  ------                       --------------   -----  \n",
            " 0   DT_GERACAO                   848941 non-null  object \n",
            " 1   HH_GERACAO                   848941 non-null  object \n",
            " 2   ANO_ELEICAO                  848941 non-null  int64  \n",
            " 3   CD_TIPO_ELEICAO              848941 non-null  int64  \n",
            " 4   NM_TIPO_ELEICAO              848941 non-null  object \n",
            " 5   CD_PLEITO                    848941 non-null  int64  \n",
            " 6   DT_PLEITO                    848941 non-null  object \n",
            " 7   NR_TURNO                     848941 non-null  int64  \n",
            " 8   CD_ELEICAO                   848941 non-null  int64  \n",
            " 9   DS_ELEICAO                   848941 non-null  object \n",
            " 10  SG_UF                        848941 non-null  object \n",
            " 11  CD_MUNICIPIO                 848941 non-null  int64  \n",
            " 12  NM_MUNICIPIO                 848941 non-null  object \n",
            " 13  NR_ZONA                      848941 non-null  int64  \n",
            " 14  NR_SECAO                     848941 non-null  int64  \n",
            " 15  NR_LOCAL_VOTACAO             848941 non-null  int64  \n",
            " 16  CD_CARGO_PERGUNTA            848941 non-null  int64  \n",
            " 17  DS_CARGO_PERGUNTA            848941 non-null  object \n",
            " 18  NR_PARTIDO                   848941 non-null  int64  \n",
            " 19  SG_PARTIDO                   848941 non-null  object \n",
            " 20  NM_PARTIDO                   848941 non-null  object \n",
            " 21  DT_BU_RECEBIDO               848941 non-null  object \n",
            " 22  QT_APTOS                     848941 non-null  int64  \n",
            " 23  QT_COMPARECIMENTO            848941 non-null  int64  \n",
            " 24  QT_ABSTENCOES                848941 non-null  int64  \n",
            " 25  CD_TIPO_URNA                 848941 non-null  int64  \n",
            " 26  DS_TIPO_URNA                 848941 non-null  object \n",
            " 27  CD_TIPO_VOTAVEL              848941 non-null  int64  \n",
            " 28  DS_TIPO_VOTAVEL              848941 non-null  object \n",
            " 29  NR_VOTAVEL                   848941 non-null  int64  \n",
            " 30  NM_VOTAVEL                   848941 non-null  object \n",
            " 31  QT_VOTOS                     848941 non-null  int64  \n",
            " 32  NR_URNA_EFETIVADA            848941 non-null  int64  \n",
            " 33  CD_CARGA_1_URNA_EFETIVADA    848941 non-null  object \n",
            " 34  CD_CARGA_2_URNA_EFETIVADA    848941 non-null  float64\n",
            " 35  CD_FLASHCARD_URNA_EFETIVADA  848941 non-null  object \n",
            " 36  DT_CARGA_URNA_EFETIVADA      848941 non-null  object \n",
            " 37  DS_CARGO_PERGUNTA_SECAO      848941 non-null  object \n",
            " 38  DS_AGREGADAS                 848941 non-null  object \n",
            " 39  DT_ABERTURA                  848828 non-null  object \n",
            " 40  DT_ENCERRAMENTO              848828 non-null  object \n",
            " 41  QT_ELEITORES_BIOMETRIA_NH    848941 non-null  int64  \n",
            " 42  DT_EMISSAO_BU                848941 non-null  object \n",
            " 43  NR_JUNTA_APURADORA           848941 non-null  int64  \n",
            " 44  NR_TURMA_APURADORA           848941 non-null  int64  \n",
            "dtypes: float64(1), int64(22), object(22)\n",
            "memory usage: 291.5+ MB\n"
          ],
          "name": "stdout"
        }
      ]
    },
    {
      "cell_type": "code",
      "metadata": {
        "colab": {
          "base_uri": "https://localhost:8080/"
        },
        "id": "gd3lRweSzhjY",
        "outputId": "7dea17d1-9824-45e5-852d-a08b6838fa1c"
      },
      "source": [
        "df_bu_1t.DS_CARGO_PERGUNTA.unique()"
      ],
      "execution_count": 99,
      "outputs": [
        {
          "output_type": "execute_result",
          "data": {
            "text/plain": [
              "array(['Prefeito', 'Vereador'], dtype=object)"
            ]
          },
          "metadata": {
            "tags": []
          },
          "execution_count": 99
        }
      ]
    },
    {
      "cell_type": "code",
      "metadata": {
        "colab": {
          "base_uri": "https://localhost:8080/"
        },
        "id": "eSOgbMMazlVY",
        "outputId": "8ebcf9e9-2991-4694-d179-272f8fc0147f"
      },
      "source": [
        "df_bu_1t.SG_PARTIDO.value_counts()"
      ],
      "execution_count": 100,
      "outputs": [
        {
          "output_type": "execute_result",
          "data": {
            "text/plain": [
              "PSC              62642\n",
              "AVANTE           60226\n",
              "REPUBLICANOS     53694\n",
              "PL               40921\n",
              "PATRIOTA         40139\n",
              "PP               36335\n",
              "PT               34365\n",
              "PSDB             33885\n",
              "PODE             33417\n",
              "PSL              33355\n",
              "PTB              32379\n",
              "MDB              31878\n",
              "PMN              30224\n",
              "PSB              29228\n",
              "PSD              27816\n",
              "DC               26548\n",
              "CIDADANIA        26338\n",
              "PROS             26234\n",
              "PV               25449\n",
              "#NULO#           24702\n",
              "DEM              24324\n",
              "PRTB             21962\n",
              "PTC              21249\n",
              "SOLIDARIEDADE    17075\n",
              "PC do B          16626\n",
              "PDT              12287\n",
              "PMB               9386\n",
              "NOVO              7568\n",
              "PSOL              4880\n",
              "REDE              2877\n",
              "PSTU               932\n",
              "Name: SG_PARTIDO, dtype: int64"
            ]
          },
          "metadata": {
            "tags": []
          },
          "execution_count": 100
        }
      ]
    },
    {
      "cell_type": "code",
      "metadata": {
        "colab": {
          "base_uri": "https://localhost:8080/"
        },
        "id": "JpgL2tTH53GI",
        "outputId": "d1f4ac5b-ae03-4b96-be0b-1b365e5d0e10"
      },
      "source": [
        "df_bu_1t.NM_MUNICIPIO.value_counts()"
      ],
      "execution_count": 101,
      "outputs": [
        {
          "output_type": "execute_result",
          "data": {
            "text/plain": [
              "MANAUS         590874\n",
              "MANACAPURU      20977\n",
              "ITACOATIARA     20787\n",
              "PARINTINS       18377\n",
              "TEFÉ            12425\n",
              "                ...  \n",
              "AMATURÁ          1116\n",
              "ANAMÃ            1092\n",
              "CANUTAMA         1033\n",
              "ITAMARATI         800\n",
              "JAPURÁ            583\n",
              "Name: NM_MUNICIPIO, Length: 62, dtype: int64"
            ]
          },
          "metadata": {
            "tags": []
          },
          "execution_count": 101
        }
      ]
    },
    {
      "cell_type": "code",
      "metadata": {
        "colab": {
          "base_uri": "https://localhost:8080/"
        },
        "id": "jxYoqib48kGC",
        "outputId": "48477c06-dde7-435e-f18f-0fa7b4074151"
      },
      "source": [
        "df_bu_1t.DS_TIPO_VOTAVEL.unique()"
      ],
      "execution_count": 102,
      "outputs": [
        {
          "output_type": "execute_result",
          "data": {
            "text/plain": [
              "array(['Nominal', 'Nulo', 'Branco', 'Legenda'], dtype=object)"
            ]
          },
          "metadata": {
            "tags": []
          },
          "execution_count": 102
        }
      ]
    },
    {
      "cell_type": "code",
      "metadata": {
        "colab": {
          "base_uri": "https://localhost:8080/"
        },
        "id": "mOu08RhB8uUh",
        "outputId": "08928efc-38a5-4299-ce8b-20460f758244"
      },
      "source": [
        "df_bu_1t.DS_TIPO_URNA.unique()"
      ],
      "execution_count": 103,
      "outputs": [
        {
          "output_type": "execute_result",
          "data": {
            "text/plain": [
              "array(['APURADA'], dtype=object)"
            ]
          },
          "metadata": {
            "tags": []
          },
          "execution_count": 103
        }
      ]
    },
    {
      "cell_type": "code",
      "metadata": {
        "colab": {
          "base_uri": "https://localhost:8080/"
        },
        "id": "YjmTFwNx9UUl",
        "outputId": "8c3f446c-000a-4f28-e2d1-7d7ccec029ce"
      },
      "source": [
        "df_bu_1t.DS_AGREGADAS.value_counts()"
      ],
      "execution_count": 104,
      "outputs": [
        {
          "output_type": "execute_result",
          "data": {
            "text/plain": [
              "#NULO#     805387\n",
              "80            585\n",
              "73            551\n",
              "50            467\n",
              "61            423\n",
              "            ...  \n",
              "90             24\n",
              "17 / 26        19\n",
              "65             19\n",
              "32             17\n",
              "111            14\n",
              "Name: DS_AGREGADAS, Length: 294, dtype: int64"
            ]
          },
          "metadata": {
            "tags": []
          },
          "execution_count": 104
        }
      ]
    },
    {
      "cell_type": "code",
      "metadata": {
        "colab": {
          "base_uri": "https://localhost:8080/"
        },
        "id": "bNtRBVw47i_-",
        "outputId": "9a3e4ebc-6e4a-43c5-c75c-03b8f37a7029"
      },
      "source": [
        "df_bu_1t = df_bu_1t[df_bu_1t.NM_MUNICIPIO.eq('MANAUS')] \\\r\n",
        "                  .drop(columns=['DT_GERACAO',\t'HH_GERACAO',\t'CD_TIPO_ELEICAO', 'DT_BU_RECEBIDO',\t'CD_TIPO_URNA', 'DS_TIPO_URNA',\t\r\n",
        "                                    'CD_TIPO_VOTAVEL',\t'NR_URNA_EFETIVADA',\t'CD_CARGA_1_URNA_EFETIVADA',\t'CD_CARGA_2_URNA_EFETIVADA',\t\r\n",
        "                                    'CD_FLASHCARD_URNA_EFETIVADA',\t'DT_CARGA_URNA_EFETIVADA',\t'DS_CARGO_PERGUNTA_SECAO',\t'DS_AGREGADAS',\r\n",
        "                                    'DT_ABERTURA',\t'DT_ENCERRAMENTO',\t'QT_ELEITORES_BIOMETRIA_NH',\t'NR_JUNTA_APURADORA',\t'NR_TURMA_APURADORA'])\r\n",
        "df_bu_1t.info()"
      ],
      "execution_count": 105,
      "outputs": [
        {
          "output_type": "stream",
          "text": [
            "<class 'pandas.core.frame.DataFrame'>\n",
            "Int64Index: 590874 entries, 0 to 848940\n",
            "Data columns (total 26 columns):\n",
            " #   Column             Non-Null Count   Dtype \n",
            "---  ------             --------------   ----- \n",
            " 0   ANO_ELEICAO        590874 non-null  int64 \n",
            " 1   NM_TIPO_ELEICAO    590874 non-null  object\n",
            " 2   CD_PLEITO          590874 non-null  int64 \n",
            " 3   DT_PLEITO          590874 non-null  object\n",
            " 4   NR_TURNO           590874 non-null  int64 \n",
            " 5   CD_ELEICAO         590874 non-null  int64 \n",
            " 6   DS_ELEICAO         590874 non-null  object\n",
            " 7   SG_UF              590874 non-null  object\n",
            " 8   CD_MUNICIPIO       590874 non-null  int64 \n",
            " 9   NM_MUNICIPIO       590874 non-null  object\n",
            " 10  NR_ZONA            590874 non-null  int64 \n",
            " 11  NR_SECAO           590874 non-null  int64 \n",
            " 12  NR_LOCAL_VOTACAO   590874 non-null  int64 \n",
            " 13  CD_CARGO_PERGUNTA  590874 non-null  int64 \n",
            " 14  DS_CARGO_PERGUNTA  590874 non-null  object\n",
            " 15  NR_PARTIDO         590874 non-null  int64 \n",
            " 16  SG_PARTIDO         590874 non-null  object\n",
            " 17  NM_PARTIDO         590874 non-null  object\n",
            " 18  QT_APTOS           590874 non-null  int64 \n",
            " 19  QT_COMPARECIMENTO  590874 non-null  int64 \n",
            " 20  QT_ABSTENCOES      590874 non-null  int64 \n",
            " 21  DS_TIPO_VOTAVEL    590874 non-null  object\n",
            " 22  NR_VOTAVEL         590874 non-null  int64 \n",
            " 23  NM_VOTAVEL         590874 non-null  object\n",
            " 24  QT_VOTOS           590874 non-null  int64 \n",
            " 25  DT_EMISSAO_BU      590874 non-null  object\n",
            "dtypes: int64(15), object(11)\n",
            "memory usage: 121.7+ MB\n"
          ],
          "name": "stdout"
        }
      ]
    },
    {
      "cell_type": "markdown",
      "metadata": {
        "id": "IZaemqS1VDc7"
      },
      "source": [
        "### Candidatos a Prefeito"
      ]
    },
    {
      "cell_type": "code",
      "metadata": {
        "colab": {
          "base_uri": "https://localhost:8080/",
          "height": 390
        },
        "id": "LuEhWX4qIGLb",
        "outputId": "2eacdd36-d422-4a69-c070-7751d621a581"
      },
      "source": [
        "df_prefeitos = df_bu_1t[df_bu_1t.DS_CARGO_PERGUNTA.eq('Prefeito') & df_bu_1t.DS_TIPO_VOTAVEL.eq('Nominal')] \\\r\n",
        "                      [['CD_ELEICAO','DS_CARGO_PERGUNTA','NR_VOTAVEL','SG_PARTIDO','NM_VOTAVEL']] \\\r\n",
        "                         .drop_duplicates() \\\r\n",
        "                         .sort_values(['NR_VOTAVEL'])\r\n",
        "df_prefeitos.columns = ['eleicao',\t'cargo',\t'numero', 'partido', 'candidato']\r\n",
        "df_prefeitos"
      ],
      "execution_count": 106,
      "outputs": [
        {
          "output_type": "execute_result",
          "data": {
            "text/html": [
              "<div>\n",
              "<style scoped>\n",
              "    .dataframe tbody tr th:only-of-type {\n",
              "        vertical-align: middle;\n",
              "    }\n",
              "\n",
              "    .dataframe tbody tr th {\n",
              "        vertical-align: top;\n",
              "    }\n",
              "\n",
              "    .dataframe thead th {\n",
              "        text-align: right;\n",
              "    }\n",
              "</style>\n",
              "<table border=\"1\" class=\"dataframe\">\n",
              "  <thead>\n",
              "    <tr style=\"text-align: right;\">\n",
              "      <th></th>\n",
              "      <th>eleicao</th>\n",
              "      <th>cargo</th>\n",
              "      <th>numero</th>\n",
              "      <th>partido</th>\n",
              "      <th>candidato</th>\n",
              "    </tr>\n",
              "  </thead>\n",
              "  <tbody>\n",
              "    <tr>\n",
              "      <th>6</th>\n",
              "      <td>426</td>\n",
              "      <td>Prefeito</td>\n",
              "      <td>10</td>\n",
              "      <td>REPUBLICANOS</td>\n",
              "      <td>CAPITÃO ALBERTO NETO</td>\n",
              "    </tr>\n",
              "    <tr>\n",
              "      <th>9</th>\n",
              "      <td>426</td>\n",
              "      <td>Prefeito</td>\n",
              "      <td>13</td>\n",
              "      <td>PT</td>\n",
              "      <td>ZE RICARDO</td>\n",
              "    </tr>\n",
              "    <tr>\n",
              "      <th>209</th>\n",
              "      <td>426</td>\n",
              "      <td>Prefeito</td>\n",
              "      <td>16</td>\n",
              "      <td>PSTU</td>\n",
              "      <td>GILBERTO VASCONCELOS</td>\n",
              "    </tr>\n",
              "    <tr>\n",
              "      <th>7</th>\n",
              "      <td>426</td>\n",
              "      <td>Prefeito</td>\n",
              "      <td>19</td>\n",
              "      <td>PODE</td>\n",
              "      <td>AMAZONINO MENDES</td>\n",
              "    </tr>\n",
              "    <tr>\n",
              "      <th>5</th>\n",
              "      <td>426</td>\n",
              "      <td>Prefeito</td>\n",
              "      <td>22</td>\n",
              "      <td>PL</td>\n",
              "      <td>ALFREDO NASCIMENTO</td>\n",
              "    </tr>\n",
              "    <tr>\n",
              "      <th>0</th>\n",
              "      <td>426</td>\n",
              "      <td>Prefeito</td>\n",
              "      <td>27</td>\n",
              "      <td>DC</td>\n",
              "      <td>CHICO PRETO</td>\n",
              "    </tr>\n",
              "    <tr>\n",
              "      <th>10</th>\n",
              "      <td>426</td>\n",
              "      <td>Prefeito</td>\n",
              "      <td>30</td>\n",
              "      <td>NOVO</td>\n",
              "      <td>ROMERO REIS</td>\n",
              "    </tr>\n",
              "    <tr>\n",
              "      <th>8</th>\n",
              "      <td>426</td>\n",
              "      <td>Prefeito</td>\n",
              "      <td>51</td>\n",
              "      <td>PATRIOTA</td>\n",
              "      <td>CORONEL MENEZES</td>\n",
              "    </tr>\n",
              "    <tr>\n",
              "      <th>4</th>\n",
              "      <td>426</td>\n",
              "      <td>Prefeito</td>\n",
              "      <td>55</td>\n",
              "      <td>PSD</td>\n",
              "      <td>RICARDO NICOLAU</td>\n",
              "    </tr>\n",
              "    <tr>\n",
              "      <th>217</th>\n",
              "      <td>426</td>\n",
              "      <td>Prefeito</td>\n",
              "      <td>65</td>\n",
              "      <td>PC do B</td>\n",
              "      <td>MARCELO AMIL</td>\n",
              "    </tr>\n",
              "    <tr>\n",
              "      <th>3</th>\n",
              "      <td>426</td>\n",
              "      <td>Prefeito</td>\n",
              "      <td>70</td>\n",
              "      <td>AVANTE</td>\n",
              "      <td>DAVID ALMEIDA</td>\n",
              "    </tr>\n",
              "  </tbody>\n",
              "</table>\n",
              "</div>"
            ],
            "text/plain": [
              "     eleicao     cargo  numero       partido             candidato\n",
              "6        426  Prefeito      10  REPUBLICANOS  CAPITÃO ALBERTO NETO\n",
              "9        426  Prefeito      13            PT            ZE RICARDO\n",
              "209      426  Prefeito      16          PSTU  GILBERTO VASCONCELOS\n",
              "7        426  Prefeito      19          PODE      AMAZONINO MENDES\n",
              "5        426  Prefeito      22            PL    ALFREDO NASCIMENTO\n",
              "0        426  Prefeito      27            DC           CHICO PRETO\n",
              "10       426  Prefeito      30          NOVO           ROMERO REIS\n",
              "8        426  Prefeito      51      PATRIOTA       CORONEL MENEZES\n",
              "4        426  Prefeito      55           PSD       RICARDO NICOLAU\n",
              "217      426  Prefeito      65       PC do B          MARCELO AMIL\n",
              "3        426  Prefeito      70        AVANTE         DAVID ALMEIDA"
            ]
          },
          "metadata": {
            "tags": []
          },
          "execution_count": 106
        }
      ]
    },
    {
      "cell_type": "code",
      "metadata": {
        "id": "yVtUUxJ4LX2E"
      },
      "source": [
        "df_prefeitos.to_csv('/content/datasets/prefeitos.csv')"
      ],
      "execution_count": 107,
      "outputs": []
    },
    {
      "cell_type": "markdown",
      "metadata": {
        "id": "AQWCn09xVMry"
      },
      "source": [
        "### Resultados para Prefeito"
      ]
    },
    {
      "cell_type": "code",
      "metadata": {
        "colab": {
          "base_uri": "https://localhost:8080/",
          "height": 419
        },
        "id": "JrIvmC0rOEbV",
        "outputId": "b3a9bdf5-4e71-4106-981a-3fdb94c1c0e5"
      },
      "source": [
        "df_resultados_prefeito = df_bu_1t[df_bu_1t.DS_CARGO_PERGUNTA.eq('Prefeito')] \\\r\n",
        "    [['CD_ELEICAO',\t'NR_ZONA'\t,'NR_SECAO', 'NR_LOCAL_VOTACAO', 'DS_CARGO_PERGUNTA'\t,'NR_VOTAVEL',\t'QT_VOTOS']] \\\r\n",
        "    .sort_values(['NR_ZONA','NR_SECAO','NR_VOTAVEL'])\r\n",
        "df_resultados_prefeito.columns = ['eleicao',\t'zona',\t'secao', 'local',\t'cargo',\t'numero',\t'votos']    \r\n",
        "df_resultados_prefeito"
      ],
      "execution_count": 108,
      "outputs": [
        {
          "output_type": "execute_result",
          "data": {
            "text/html": [
              "<div>\n",
              "<style scoped>\n",
              "    .dataframe tbody tr th:only-of-type {\n",
              "        vertical-align: middle;\n",
              "    }\n",
              "\n",
              "    .dataframe tbody tr th {\n",
              "        vertical-align: top;\n",
              "    }\n",
              "\n",
              "    .dataframe thead th {\n",
              "        text-align: right;\n",
              "    }\n",
              "</style>\n",
              "<table border=\"1\" class=\"dataframe\">\n",
              "  <thead>\n",
              "    <tr style=\"text-align: right;\">\n",
              "      <th></th>\n",
              "      <th>eleicao</th>\n",
              "      <th>zona</th>\n",
              "      <th>secao</th>\n",
              "      <th>local</th>\n",
              "      <th>cargo</th>\n",
              "      <th>numero</th>\n",
              "      <th>votos</th>\n",
              "    </tr>\n",
              "  </thead>\n",
              "  <tbody>\n",
              "    <tr>\n",
              "      <th>6</th>\n",
              "      <td>426</td>\n",
              "      <td>1</td>\n",
              "      <td>640</td>\n",
              "      <td>2429</td>\n",
              "      <td>Prefeito</td>\n",
              "      <td>10</td>\n",
              "      <td>19</td>\n",
              "    </tr>\n",
              "    <tr>\n",
              "      <th>9</th>\n",
              "      <td>426</td>\n",
              "      <td>1</td>\n",
              "      <td>640</td>\n",
              "      <td>2429</td>\n",
              "      <td>Prefeito</td>\n",
              "      <td>13</td>\n",
              "      <td>49</td>\n",
              "    </tr>\n",
              "    <tr>\n",
              "      <th>7</th>\n",
              "      <td>426</td>\n",
              "      <td>1</td>\n",
              "      <td>640</td>\n",
              "      <td>2429</td>\n",
              "      <td>Prefeito</td>\n",
              "      <td>19</td>\n",
              "      <td>90</td>\n",
              "    </tr>\n",
              "    <tr>\n",
              "      <th>5</th>\n",
              "      <td>426</td>\n",
              "      <td>1</td>\n",
              "      <td>640</td>\n",
              "      <td>2429</td>\n",
              "      <td>Prefeito</td>\n",
              "      <td>22</td>\n",
              "      <td>7</td>\n",
              "    </tr>\n",
              "    <tr>\n",
              "      <th>0</th>\n",
              "      <td>426</td>\n",
              "      <td>1</td>\n",
              "      <td>640</td>\n",
              "      <td>2429</td>\n",
              "      <td>Prefeito</td>\n",
              "      <td>27</td>\n",
              "      <td>7</td>\n",
              "    </tr>\n",
              "    <tr>\n",
              "      <th>...</th>\n",
              "      <td>...</td>\n",
              "      <td>...</td>\n",
              "      <td>...</td>\n",
              "      <td>...</td>\n",
              "      <td>...</td>\n",
              "      <td>...</td>\n",
              "      <td>...</td>\n",
              "    </tr>\n",
              "    <tr>\n",
              "      <th>848806</th>\n",
              "      <td>426</td>\n",
              "      <td>70</td>\n",
              "      <td>808</td>\n",
              "      <td>1848</td>\n",
              "      <td>Prefeito</td>\n",
              "      <td>51</td>\n",
              "      <td>13</td>\n",
              "    </tr>\n",
              "    <tr>\n",
              "      <th>848799</th>\n",
              "      <td>426</td>\n",
              "      <td>70</td>\n",
              "      <td>808</td>\n",
              "      <td>1848</td>\n",
              "      <td>Prefeito</td>\n",
              "      <td>55</td>\n",
              "      <td>19</td>\n",
              "    </tr>\n",
              "    <tr>\n",
              "      <th>848804</th>\n",
              "      <td>426</td>\n",
              "      <td>70</td>\n",
              "      <td>808</td>\n",
              "      <td>1848</td>\n",
              "      <td>Prefeito</td>\n",
              "      <td>70</td>\n",
              "      <td>46</td>\n",
              "    </tr>\n",
              "    <tr>\n",
              "      <th>848796</th>\n",
              "      <td>426</td>\n",
              "      <td>70</td>\n",
              "      <td>808</td>\n",
              "      <td>1848</td>\n",
              "      <td>Prefeito</td>\n",
              "      <td>95</td>\n",
              "      <td>9</td>\n",
              "    </tr>\n",
              "    <tr>\n",
              "      <th>848795</th>\n",
              "      <td>426</td>\n",
              "      <td>70</td>\n",
              "      <td>808</td>\n",
              "      <td>1848</td>\n",
              "      <td>Prefeito</td>\n",
              "      <td>96</td>\n",
              "      <td>22</td>\n",
              "    </tr>\n",
              "  </tbody>\n",
              "</table>\n",
              "<p>39330 rows × 7 columns</p>\n",
              "</div>"
            ],
            "text/plain": [
              "        eleicao  zona  secao  local     cargo  numero  votos\n",
              "6           426     1    640   2429  Prefeito      10     19\n",
              "9           426     1    640   2429  Prefeito      13     49\n",
              "7           426     1    640   2429  Prefeito      19     90\n",
              "5           426     1    640   2429  Prefeito      22      7\n",
              "0           426     1    640   2429  Prefeito      27      7\n",
              "...         ...   ...    ...    ...       ...     ...    ...\n",
              "848806      426    70    808   1848  Prefeito      51     13\n",
              "848799      426    70    808   1848  Prefeito      55     19\n",
              "848804      426    70    808   1848  Prefeito      70     46\n",
              "848796      426    70    808   1848  Prefeito      95      9\n",
              "848795      426    70    808   1848  Prefeito      96     22\n",
              "\n",
              "[39330 rows x 7 columns]"
            ]
          },
          "metadata": {
            "tags": []
          },
          "execution_count": 108
        }
      ]
    },
    {
      "cell_type": "code",
      "metadata": {
        "colab": {
          "base_uri": "https://localhost:8080/"
        },
        "id": "9G9IMCarQRZG",
        "outputId": "0627ff00-e16b-4839-c0e6-c0bce132f9ff"
      },
      "source": [
        "filename = '/content/datasets/resultados_prefeito.csv'\r\n",
        "df_resultados_prefeito.to_csv(filename)\r\n",
        "print(f'Resultado da votação para prefeito no 1o turno gravada em \\'{filename}\\'')"
      ],
      "execution_count": 109,
      "outputs": [
        {
          "output_type": "stream",
          "text": [
            "Resultado da votação para prefeito no 1o turno gravada em '/content/datasets/resultados_prefeito.csv'\n"
          ],
          "name": "stdout"
        }
      ]
    },
    {
      "cell_type": "markdown",
      "metadata": {
        "id": "Y1PvB9FzVSUX"
      },
      "source": [
        "### Candidatos a Vereador"
      ]
    },
    {
      "cell_type": "code",
      "metadata": {
        "colab": {
          "base_uri": "https://localhost:8080/",
          "height": 419
        },
        "id": "SGs3ey1uLhLP",
        "outputId": "ee6af87d-a219-49c2-fbec-5c9677ffea22"
      },
      "source": [
        "df_vereadores = df_bu_1t[df_bu_1t.DS_CARGO_PERGUNTA.eq('Vereador') & df_bu_1t.DS_TIPO_VOTAVEL.eq('Nominal')] \\\r\n",
        "                        [['CD_ELEICAO','DS_CARGO_PERGUNTA','NR_VOTAVEL','SG_PARTIDO','NM_VOTAVEL']] \\\r\n",
        "                         .drop_duplicates() \\\r\n",
        "                         .sort_values(['NR_VOTAVEL'])\r\n",
        "df_vereadores.columns = ['eleicao',\t'cargo',\t'numero', 'partido', 'candidato']\r\n",
        "df_vereadores\r\n"
      ],
      "execution_count": 110,
      "outputs": [
        {
          "output_type": "execute_result",
          "data": {
            "text/html": [
              "<div>\n",
              "<style scoped>\n",
              "    .dataframe tbody tr th:only-of-type {\n",
              "        vertical-align: middle;\n",
              "    }\n",
              "\n",
              "    .dataframe tbody tr th {\n",
              "        vertical-align: top;\n",
              "    }\n",
              "\n",
              "    .dataframe thead th {\n",
              "        text-align: right;\n",
              "    }\n",
              "</style>\n",
              "<table border=\"1\" class=\"dataframe\">\n",
              "  <thead>\n",
              "    <tr style=\"text-align: right;\">\n",
              "      <th></th>\n",
              "      <th>eleicao</th>\n",
              "      <th>cargo</th>\n",
              "      <th>numero</th>\n",
              "      <th>partido</th>\n",
              "      <th>candidato</th>\n",
              "    </tr>\n",
              "  </thead>\n",
              "  <tbody>\n",
              "    <tr>\n",
              "      <th>3083</th>\n",
              "      <td>426</td>\n",
              "      <td>Vereador</td>\n",
              "      <td>10000</td>\n",
              "      <td>REPUBLICANOS</td>\n",
              "      <td>CABO COUTINHO</td>\n",
              "    </tr>\n",
              "    <tr>\n",
              "      <th>32033</th>\n",
              "      <td>426</td>\n",
              "      <td>Vereador</td>\n",
              "      <td>10007</td>\n",
              "      <td>REPUBLICANOS</td>\n",
              "      <td>SARGENTO ANA CLAUDIA</td>\n",
              "    </tr>\n",
              "    <tr>\n",
              "      <th>36326</th>\n",
              "      <td>426</td>\n",
              "      <td>Vereador</td>\n",
              "      <td>10008</td>\n",
              "      <td>REPUBLICANOS</td>\n",
              "      <td>CHAY CHANTEL</td>\n",
              "    </tr>\n",
              "    <tr>\n",
              "      <th>4547</th>\n",
              "      <td>426</td>\n",
              "      <td>Vereador</td>\n",
              "      <td>10010</td>\n",
              "      <td>REPUBLICANOS</td>\n",
              "      <td>LUCAS SALES</td>\n",
              "    </tr>\n",
              "    <tr>\n",
              "      <th>453</th>\n",
              "      <td>426</td>\n",
              "      <td>Vereador</td>\n",
              "      <td>10018</td>\n",
              "      <td>REPUBLICANOS</td>\n",
              "      <td>JOSUE DOS CAMINHONEIROS</td>\n",
              "    </tr>\n",
              "    <tr>\n",
              "      <th>...</th>\n",
              "      <td>...</td>\n",
              "      <td>...</td>\n",
              "      <td>...</td>\n",
              "      <td>...</td>\n",
              "      <td>...</td>\n",
              "    </tr>\n",
              "    <tr>\n",
              "      <th>950</th>\n",
              "      <td>426</td>\n",
              "      <td>Vereador</td>\n",
              "      <td>90800</td>\n",
              "      <td>PROS</td>\n",
              "      <td>EMERSON BOTELHO</td>\n",
              "    </tr>\n",
              "    <tr>\n",
              "      <th>10173</th>\n",
              "      <td>426</td>\n",
              "      <td>Vereador</td>\n",
              "      <td>90888</td>\n",
              "      <td>PROS</td>\n",
              "      <td>LORA DO SOCIAL</td>\n",
              "    </tr>\n",
              "    <tr>\n",
              "      <th>1335</th>\n",
              "      <td>426</td>\n",
              "      <td>Vereador</td>\n",
              "      <td>90900</td>\n",
              "      <td>PROS</td>\n",
              "      <td>ERICO BRAGA</td>\n",
              "    </tr>\n",
              "    <tr>\n",
              "      <th>1615</th>\n",
              "      <td>426</td>\n",
              "      <td>Vereador</td>\n",
              "      <td>90901</td>\n",
              "      <td>PROS</td>\n",
              "      <td>LUIZ ALBERTO</td>\n",
              "    </tr>\n",
              "    <tr>\n",
              "      <th>3751</th>\n",
              "      <td>426</td>\n",
              "      <td>Vereador</td>\n",
              "      <td>90999</td>\n",
              "      <td>PROS</td>\n",
              "      <td>CRISTINA PAIVA</td>\n",
              "    </tr>\n",
              "  </tbody>\n",
              "</table>\n",
              "<p>1374 rows × 5 columns</p>\n",
              "</div>"
            ],
            "text/plain": [
              "       eleicao     cargo  numero       partido                candidato\n",
              "3083       426  Vereador   10000  REPUBLICANOS            CABO COUTINHO\n",
              "32033      426  Vereador   10007  REPUBLICANOS     SARGENTO ANA CLAUDIA\n",
              "36326      426  Vereador   10008  REPUBLICANOS             CHAY CHANTEL\n",
              "4547       426  Vereador   10010  REPUBLICANOS              LUCAS SALES\n",
              "453        426  Vereador   10018  REPUBLICANOS  JOSUE DOS CAMINHONEIROS\n",
              "...        ...       ...     ...           ...                      ...\n",
              "950        426  Vereador   90800          PROS          EMERSON BOTELHO\n",
              "10173      426  Vereador   90888          PROS           LORA DO SOCIAL\n",
              "1335       426  Vereador   90900          PROS              ERICO BRAGA\n",
              "1615       426  Vereador   90901          PROS             LUIZ ALBERTO\n",
              "3751       426  Vereador   90999          PROS           CRISTINA PAIVA\n",
              "\n",
              "[1374 rows x 5 columns]"
            ]
          },
          "metadata": {
            "tags": []
          },
          "execution_count": 110
        }
      ]
    },
    {
      "cell_type": "code",
      "metadata": {
        "id": "HVq0gURGLqax"
      },
      "source": [
        "df_vereadores.to_csv('/content/datasets/vereadores.csv')"
      ],
      "execution_count": 111,
      "outputs": []
    },
    {
      "cell_type": "markdown",
      "metadata": {
        "id": "KAUoMOAlVgPs"
      },
      "source": [
        "### Resultados para Vereador"
      ]
    },
    {
      "cell_type": "code",
      "metadata": {
        "colab": {
          "base_uri": "https://localhost:8080/",
          "height": 419
        },
        "id": "O9dmSiFyRp6R",
        "outputId": "1cd86194-3c06-41b5-eb74-f659efd2e0f7"
      },
      "source": [
        "df_resultados_vereador = df_bu_1t[df_bu_1t.DS_CARGO_PERGUNTA.eq('Vereador')] \\\r\n",
        "    [['CD_ELEICAO',\t'NR_ZONA'\t,'NR_SECAO', 'NR_LOCAL_VOTACAO', 'DS_CARGO_PERGUNTA'\t,'NR_VOTAVEL',\t'QT_VOTOS']] \\\r\n",
        "    .sort_values(['NR_ZONA','NR_SECAO','NR_VOTAVEL'])\r\n",
        "df_resultados_vereador.columns = ['eleicao',\t'zona',\t'secao', 'local',\t'cargo',\t'numero',\t'votos']    \r\n",
        "df_resultados_vereador"
      ],
      "execution_count": 112,
      "outputs": [
        {
          "output_type": "execute_result",
          "data": {
            "text/html": [
              "<div>\n",
              "<style scoped>\n",
              "    .dataframe tbody tr th:only-of-type {\n",
              "        vertical-align: middle;\n",
              "    }\n",
              "\n",
              "    .dataframe tbody tr th {\n",
              "        vertical-align: top;\n",
              "    }\n",
              "\n",
              "    .dataframe thead th {\n",
              "        text-align: right;\n",
              "    }\n",
              "</style>\n",
              "<table border=\"1\" class=\"dataframe\">\n",
              "  <thead>\n",
              "    <tr style=\"text-align: right;\">\n",
              "      <th></th>\n",
              "      <th>eleicao</th>\n",
              "      <th>zona</th>\n",
              "      <th>secao</th>\n",
              "      <th>local</th>\n",
              "      <th>cargo</th>\n",
              "      <th>numero</th>\n",
              "      <th>votos</th>\n",
              "    </tr>\n",
              "  </thead>\n",
              "  <tbody>\n",
              "    <tr>\n",
              "      <th>200</th>\n",
              "      <td>426</td>\n",
              "      <td>1</td>\n",
              "      <td>640</td>\n",
              "      <td>2429</td>\n",
              "      <td>Vereador</td>\n",
              "      <td>11</td>\n",
              "      <td>1</td>\n",
              "    </tr>\n",
              "    <tr>\n",
              "      <th>104</th>\n",
              "      <td>426</td>\n",
              "      <td>1</td>\n",
              "      <td>640</td>\n",
              "      <td>2429</td>\n",
              "      <td>Vereador</td>\n",
              "      <td>13</td>\n",
              "      <td>2</td>\n",
              "    </tr>\n",
              "    <tr>\n",
              "      <th>185</th>\n",
              "      <td>426</td>\n",
              "      <td>1</td>\n",
              "      <td>640</td>\n",
              "      <td>2429</td>\n",
              "      <td>Vereador</td>\n",
              "      <td>18</td>\n",
              "      <td>1</td>\n",
              "    </tr>\n",
              "    <tr>\n",
              "      <th>25</th>\n",
              "      <td>426</td>\n",
              "      <td>1</td>\n",
              "      <td>640</td>\n",
              "      <td>2429</td>\n",
              "      <td>Vereador</td>\n",
              "      <td>19</td>\n",
              "      <td>2</td>\n",
              "    </tr>\n",
              "    <tr>\n",
              "      <th>54</th>\n",
              "      <td>426</td>\n",
              "      <td>1</td>\n",
              "      <td>640</td>\n",
              "      <td>2429</td>\n",
              "      <td>Vereador</td>\n",
              "      <td>50</td>\n",
              "      <td>1</td>\n",
              "    </tr>\n",
              "    <tr>\n",
              "      <th>...</th>\n",
              "      <td>...</td>\n",
              "      <td>...</td>\n",
              "      <td>...</td>\n",
              "      <td>...</td>\n",
              "      <td>...</td>\n",
              "      <td>...</td>\n",
              "      <td>...</td>\n",
              "    </tr>\n",
              "    <tr>\n",
              "      <th>848823</th>\n",
              "      <td>426</td>\n",
              "      <td>70</td>\n",
              "      <td>808</td>\n",
              "      <td>1848</td>\n",
              "      <td>Vereador</td>\n",
              "      <td>77888</td>\n",
              "      <td>4</td>\n",
              "    </tr>\n",
              "    <tr>\n",
              "      <th>848898</th>\n",
              "      <td>426</td>\n",
              "      <td>70</td>\n",
              "      <td>808</td>\n",
              "      <td>1848</td>\n",
              "      <td>Vereador</td>\n",
              "      <td>90177</td>\n",
              "      <td>2</td>\n",
              "    </tr>\n",
              "    <tr>\n",
              "      <th>848832</th>\n",
              "      <td>426</td>\n",
              "      <td>70</td>\n",
              "      <td>808</td>\n",
              "      <td>1848</td>\n",
              "      <td>Vereador</td>\n",
              "      <td>90321</td>\n",
              "      <td>1</td>\n",
              "    </tr>\n",
              "    <tr>\n",
              "      <th>848830</th>\n",
              "      <td>426</td>\n",
              "      <td>70</td>\n",
              "      <td>808</td>\n",
              "      <td>1848</td>\n",
              "      <td>Vereador</td>\n",
              "      <td>90523</td>\n",
              "      <td>1</td>\n",
              "    </tr>\n",
              "    <tr>\n",
              "      <th>848887</th>\n",
              "      <td>426</td>\n",
              "      <td>70</td>\n",
              "      <td>808</td>\n",
              "      <td>1848</td>\n",
              "      <td>Vereador</td>\n",
              "      <td>90789</td>\n",
              "      <td>2</td>\n",
              "    </tr>\n",
              "  </tbody>\n",
              "</table>\n",
              "<p>551544 rows × 7 columns</p>\n",
              "</div>"
            ],
            "text/plain": [
              "        eleicao  zona  secao  local     cargo  numero  votos\n",
              "200         426     1    640   2429  Vereador      11      1\n",
              "104         426     1    640   2429  Vereador      13      2\n",
              "185         426     1    640   2429  Vereador      18      1\n",
              "25          426     1    640   2429  Vereador      19      2\n",
              "54          426     1    640   2429  Vereador      50      1\n",
              "...         ...   ...    ...    ...       ...     ...    ...\n",
              "848823      426    70    808   1848  Vereador   77888      4\n",
              "848898      426    70    808   1848  Vereador   90177      2\n",
              "848832      426    70    808   1848  Vereador   90321      1\n",
              "848830      426    70    808   1848  Vereador   90523      1\n",
              "848887      426    70    808   1848  Vereador   90789      2\n",
              "\n",
              "[551544 rows x 7 columns]"
            ]
          },
          "metadata": {
            "tags": []
          },
          "execution_count": 112
        }
      ]
    },
    {
      "cell_type": "code",
      "metadata": {
        "colab": {
          "base_uri": "https://localhost:8080/"
        },
        "id": "hKfcnkGrRp6S",
        "outputId": "80460fc4-64df-438d-b90c-2a381ca0787f"
      },
      "source": [
        "filename = '/content/datasets/resultados_vereador.csv'\r\n",
        "df_resultados_vereador.to_csv(filename)\r\n",
        "print(f'Resultado da votação para Vereador no 1o turno gravada em \\'{filename}\\'')"
      ],
      "execution_count": 113,
      "outputs": [
        {
          "output_type": "stream",
          "text": [
            "Resultado da votação para Vereador no 1o turno gravada em '/content/datasets/resultados_vereador.csv'\n"
          ],
          "name": "stdout"
        }
      ]
    },
    {
      "cell_type": "markdown",
      "metadata": {
        "id": "CH6Yp4z5V4-o"
      },
      "source": [
        "### Candidatos a Prefeito (2o turno)"
      ]
    },
    {
      "cell_type": "code",
      "metadata": {
        "colab": {
          "base_uri": "https://localhost:8080/"
        },
        "id": "cOq_rmX_Ykmj",
        "outputId": "3fa38738-84c2-409d-9f7e-c77fd75121dc"
      },
      "source": [
        "# boletins de urna do 2o turno\r\n",
        "!unzip -u bweb_2t_AM_301120201245.zip -d /content/work"
      ],
      "execution_count": 114,
      "outputs": [
        {
          "output_type": "stream",
          "text": [
            "Archive:  bweb_2t_AM_301120201245.zip\n",
            "  inflating: /content/work/bweb_2t_AM_301120201245.csv  \n"
          ],
          "name": "stdout"
        }
      ]
    },
    {
      "cell_type": "code",
      "metadata": {
        "colab": {
          "base_uri": "https://localhost:8080/",
          "height": 394
        },
        "id": "ng4YS5zhDdTV",
        "outputId": "993260d4-d71d-46d3-e48b-aff5f4c2ce77"
      },
      "source": [
        "df_bu_2t = pd.read_csv('/content/work/bweb_2t_AM_301120201245.csv', encoding=\"ISO-8859-1\", delimiter=';')\r\n",
        "df_bu_2t.sample(5)"
      ],
      "execution_count": 115,
      "outputs": [
        {
          "output_type": "execute_result",
          "data": {
            "text/html": [
              "<div>\n",
              "<style scoped>\n",
              "    .dataframe tbody tr th:only-of-type {\n",
              "        vertical-align: middle;\n",
              "    }\n",
              "\n",
              "    .dataframe tbody tr th {\n",
              "        vertical-align: top;\n",
              "    }\n",
              "\n",
              "    .dataframe thead th {\n",
              "        text-align: right;\n",
              "    }\n",
              "</style>\n",
              "<table border=\"1\" class=\"dataframe\">\n",
              "  <thead>\n",
              "    <tr style=\"text-align: right;\">\n",
              "      <th></th>\n",
              "      <th>DT_GERACAO</th>\n",
              "      <th>HH_GERACAO</th>\n",
              "      <th>ANO_ELEICAO</th>\n",
              "      <th>CD_TIPO_ELEICAO</th>\n",
              "      <th>NM_TIPO_ELEICAO</th>\n",
              "      <th>CD_PLEITO</th>\n",
              "      <th>DT_PLEITO</th>\n",
              "      <th>NR_TURNO</th>\n",
              "      <th>CD_ELEICAO</th>\n",
              "      <th>DS_ELEICAO</th>\n",
              "      <th>SG_UF</th>\n",
              "      <th>CD_MUNICIPIO</th>\n",
              "      <th>NM_MUNICIPIO</th>\n",
              "      <th>NR_ZONA</th>\n",
              "      <th>NR_SECAO</th>\n",
              "      <th>NR_LOCAL_VOTACAO</th>\n",
              "      <th>CD_CARGO_PERGUNTA</th>\n",
              "      <th>DS_CARGO_PERGUNTA</th>\n",
              "      <th>NR_PARTIDO</th>\n",
              "      <th>SG_PARTIDO</th>\n",
              "      <th>NM_PARTIDO</th>\n",
              "      <th>DT_BU_RECEBIDO</th>\n",
              "      <th>QT_APTOS</th>\n",
              "      <th>QT_COMPARECIMENTO</th>\n",
              "      <th>QT_ABSTENCOES</th>\n",
              "      <th>CD_TIPO_URNA</th>\n",
              "      <th>DS_TIPO_URNA</th>\n",
              "      <th>CD_TIPO_VOTAVEL</th>\n",
              "      <th>DS_TIPO_VOTAVEL</th>\n",
              "      <th>NR_VOTAVEL</th>\n",
              "      <th>NM_VOTAVEL</th>\n",
              "      <th>QT_VOTOS</th>\n",
              "      <th>NR_URNA_EFETIVADA</th>\n",
              "      <th>CD_CARGA_1_URNA_EFETIVADA</th>\n",
              "      <th>CD_CARGA_2_URNA_EFETIVADA</th>\n",
              "      <th>CD_FLASHCARD_URNA_EFETIVADA</th>\n",
              "      <th>DT_CARGA_URNA_EFETIVADA</th>\n",
              "      <th>DS_CARGO_PERGUNTA_SECAO</th>\n",
              "      <th>DS_AGREGADAS</th>\n",
              "      <th>DT_ABERTURA</th>\n",
              "      <th>DT_ENCERRAMENTO</th>\n",
              "      <th>QT_ELEITORES_BIOMETRIA_NH</th>\n",
              "      <th>DT_EMISSAO_BU</th>\n",
              "      <th>NR_JUNTA_APURADORA</th>\n",
              "      <th>NR_TURMA_APURADORA</th>\n",
              "    </tr>\n",
              "  </thead>\n",
              "  <tbody>\n",
              "    <tr>\n",
              "      <th>280</th>\n",
              "      <td>30/11/2020</td>\n",
              "      <td>12:37:06</td>\n",
              "      <td>2020</td>\n",
              "      <td>0</td>\n",
              "      <td>Eleição Ordinária</td>\n",
              "      <td>305</td>\n",
              "      <td>29/11/2020</td>\n",
              "      <td>2</td>\n",
              "      <td>427</td>\n",
              "      <td>Eleições Municipais 2020</td>\n",
              "      <td>AM</td>\n",
              "      <td>2550</td>\n",
              "      <td>MANAUS</td>\n",
              "      <td>1</td>\n",
              "      <td>716</td>\n",
              "      <td>2089</td>\n",
              "      <td>11</td>\n",
              "      <td>Prefeito</td>\n",
              "      <td>19</td>\n",
              "      <td>PODE</td>\n",
              "      <td>Podemos</td>\n",
              "      <td>29/11/2020 18:21:31</td>\n",
              "      <td>392</td>\n",
              "      <td>322</td>\n",
              "      <td>70</td>\n",
              "      <td>1</td>\n",
              "      <td>APURADA</td>\n",
              "      <td>1</td>\n",
              "      <td>Nominal</td>\n",
              "      <td>19</td>\n",
              "      <td>AMAZONINO MENDES</td>\n",
              "      <td>155</td>\n",
              "      <td>1787989</td>\n",
              "      <td>344.245.707.533.489.803.</td>\n",
              "      <td>358.558</td>\n",
              "      <td>22E484E7</td>\n",
              "      <td>10/11/2020 08:43:00</td>\n",
              "      <td>11 - 716</td>\n",
              "      <td>#NULO#</td>\n",
              "      <td>29/11/2020 07:00:00</td>\n",
              "      <td>29/11/2020 17:01:32</td>\n",
              "      <td>0</td>\n",
              "      <td>29/11/2020 17:03:22</td>\n",
              "      <td>-1</td>\n",
              "      <td>-1</td>\n",
              "    </tr>\n",
              "    <tr>\n",
              "      <th>12430</th>\n",
              "      <td>30/11/2020</td>\n",
              "      <td>12:37:06</td>\n",
              "      <td>2020</td>\n",
              "      <td>0</td>\n",
              "      <td>Eleição Ordinária</td>\n",
              "      <td>305</td>\n",
              "      <td>29/11/2020</td>\n",
              "      <td>2</td>\n",
              "      <td>427</td>\n",
              "      <td>Eleições Municipais 2020</td>\n",
              "      <td>AM</td>\n",
              "      <td>2550</td>\n",
              "      <td>MANAUS</td>\n",
              "      <td>70</td>\n",
              "      <td>445</td>\n",
              "      <td>1970</td>\n",
              "      <td>11</td>\n",
              "      <td>Prefeito</td>\n",
              "      <td>19</td>\n",
              "      <td>PODE</td>\n",
              "      <td>Podemos</td>\n",
              "      <td>29/11/2020 18:18:45</td>\n",
              "      <td>374</td>\n",
              "      <td>268</td>\n",
              "      <td>106</td>\n",
              "      <td>1</td>\n",
              "      <td>APURADA</td>\n",
              "      <td>1</td>\n",
              "      <td>Nominal</td>\n",
              "      <td>19</td>\n",
              "      <td>AMAZONINO MENDES</td>\n",
              "      <td>121</td>\n",
              "      <td>1774803</td>\n",
              "      <td>182.667.377.241.149.483.</td>\n",
              "      <td>809.126</td>\n",
              "      <td>A6A50266</td>\n",
              "      <td>10/11/2020 14:37:00</td>\n",
              "      <td>11 - 445</td>\n",
              "      <td>#NULO#</td>\n",
              "      <td>29/11/2020 07:00:00</td>\n",
              "      <td>29/11/2020 17:02:31</td>\n",
              "      <td>0</td>\n",
              "      <td>29/11/2020 17:05:01</td>\n",
              "      <td>-1</td>\n",
              "      <td>-1</td>\n",
              "    </tr>\n",
              "    <tr>\n",
              "      <th>3177</th>\n",
              "      <td>30/11/2020</td>\n",
              "      <td>12:37:06</td>\n",
              "      <td>2020</td>\n",
              "      <td>0</td>\n",
              "      <td>Eleição Ordinária</td>\n",
              "      <td>305</td>\n",
              "      <td>29/11/2020</td>\n",
              "      <td>2</td>\n",
              "      <td>427</td>\n",
              "      <td>Eleições Municipais 2020</td>\n",
              "      <td>AM</td>\n",
              "      <td>2550</td>\n",
              "      <td>MANAUS</td>\n",
              "      <td>32</td>\n",
              "      <td>754</td>\n",
              "      <td>2089</td>\n",
              "      <td>11</td>\n",
              "      <td>Prefeito</td>\n",
              "      <td>-1</td>\n",
              "      <td>#NULO#</td>\n",
              "      <td>#NULO#</td>\n",
              "      <td>29/11/2020 18:24:17</td>\n",
              "      <td>391</td>\n",
              "      <td>311</td>\n",
              "      <td>80</td>\n",
              "      <td>1</td>\n",
              "      <td>APURADA</td>\n",
              "      <td>3</td>\n",
              "      <td>Nulo</td>\n",
              "      <td>96</td>\n",
              "      <td>Nulo</td>\n",
              "      <td>22</td>\n",
              "      <td>1789740</td>\n",
              "      <td>829.025.240.284.322.504.</td>\n",
              "      <td>998.230</td>\n",
              "      <td>08144FBD</td>\n",
              "      <td>09/11/2020 15:07:00</td>\n",
              "      <td>11 - 754</td>\n",
              "      <td>#NULO#</td>\n",
              "      <td>29/11/2020 07:00:00</td>\n",
              "      <td>29/11/2020 17:04:52</td>\n",
              "      <td>0</td>\n",
              "      <td>29/11/2020 17:06:06</td>\n",
              "      <td>-1</td>\n",
              "      <td>-1</td>\n",
              "    </tr>\n",
              "    <tr>\n",
              "      <th>1586</th>\n",
              "      <td>30/11/2020</td>\n",
              "      <td>12:37:06</td>\n",
              "      <td>2020</td>\n",
              "      <td>0</td>\n",
              "      <td>Eleição Ordinária</td>\n",
              "      <td>305</td>\n",
              "      <td>29/11/2020</td>\n",
              "      <td>2</td>\n",
              "      <td>427</td>\n",
              "      <td>Eleições Municipais 2020</td>\n",
              "      <td>AM</td>\n",
              "      <td>2550</td>\n",
              "      <td>MANAUS</td>\n",
              "      <td>2</td>\n",
              "      <td>705</td>\n",
              "      <td>1953</td>\n",
              "      <td>11</td>\n",
              "      <td>Prefeito</td>\n",
              "      <td>70</td>\n",
              "      <td>AVANTE</td>\n",
              "      <td>AVANTE</td>\n",
              "      <td>29/11/2020 18:10:36</td>\n",
              "      <td>366</td>\n",
              "      <td>263</td>\n",
              "      <td>103</td>\n",
              "      <td>1</td>\n",
              "      <td>APURADA</td>\n",
              "      <td>1</td>\n",
              "      <td>Nominal</td>\n",
              "      <td>70</td>\n",
              "      <td>DAVID ALMEIDA</td>\n",
              "      <td>124</td>\n",
              "      <td>1179945</td>\n",
              "      <td>465.468.647.204.336.736.</td>\n",
              "      <td>820.992</td>\n",
              "      <td>12AEB082</td>\n",
              "      <td>06/11/2020 09:37:00</td>\n",
              "      <td>11 - 705</td>\n",
              "      <td>#NULO#</td>\n",
              "      <td>29/11/2020 07:00:18</td>\n",
              "      <td>29/11/2020 17:02:40</td>\n",
              "      <td>0</td>\n",
              "      <td>29/11/2020 17:03:59</td>\n",
              "      <td>-1</td>\n",
              "      <td>-1</td>\n",
              "    </tr>\n",
              "    <tr>\n",
              "      <th>13225</th>\n",
              "      <td>30/11/2020</td>\n",
              "      <td>12:37:06</td>\n",
              "      <td>2020</td>\n",
              "      <td>0</td>\n",
              "      <td>Eleição Ordinária</td>\n",
              "      <td>305</td>\n",
              "      <td>29/11/2020</td>\n",
              "      <td>2</td>\n",
              "      <td>427</td>\n",
              "      <td>Eleições Municipais 2020</td>\n",
              "      <td>AM</td>\n",
              "      <td>2550</td>\n",
              "      <td>MANAUS</td>\n",
              "      <td>70</td>\n",
              "      <td>740</td>\n",
              "      <td>1880</td>\n",
              "      <td>11</td>\n",
              "      <td>Prefeito</td>\n",
              "      <td>-1</td>\n",
              "      <td>#NULO#</td>\n",
              "      <td>#NULO#</td>\n",
              "      <td>29/11/2020 18:17:15</td>\n",
              "      <td>378</td>\n",
              "      <td>292</td>\n",
              "      <td>86</td>\n",
              "      <td>1</td>\n",
              "      <td>APURADA</td>\n",
              "      <td>3</td>\n",
              "      <td>Nulo</td>\n",
              "      <td>96</td>\n",
              "      <td>Nulo</td>\n",
              "      <td>9</td>\n",
              "      <td>1789545</td>\n",
              "      <td>960.445.874.771.647.018.</td>\n",
              "      <td>162.165</td>\n",
              "      <td>6103342A</td>\n",
              "      <td>10/11/2020 15:14:00</td>\n",
              "      <td>11 - 740</td>\n",
              "      <td>#NULO#</td>\n",
              "      <td>29/11/2020 07:00:00</td>\n",
              "      <td>29/11/2020 17:02:07</td>\n",
              "      <td>0</td>\n",
              "      <td>29/11/2020 17:02:56</td>\n",
              "      <td>-1</td>\n",
              "      <td>-1</td>\n",
              "    </tr>\n",
              "  </tbody>\n",
              "</table>\n",
              "</div>"
            ],
            "text/plain": [
              "       DT_GERACAO HH_GERACAO  ...  NR_JUNTA_APURADORA  NR_TURMA_APURADORA\n",
              "280    30/11/2020   12:37:06  ...                  -1                  -1\n",
              "12430  30/11/2020   12:37:06  ...                  -1                  -1\n",
              "3177   30/11/2020   12:37:06  ...                  -1                  -1\n",
              "1586   30/11/2020   12:37:06  ...                  -1                  -1\n",
              "13225  30/11/2020   12:37:06  ...                  -1                  -1\n",
              "\n",
              "[5 rows x 45 columns]"
            ]
          },
          "metadata": {
            "tags": []
          },
          "execution_count": 115
        }
      ]
    },
    {
      "cell_type": "code",
      "metadata": {
        "colab": {
          "base_uri": "https://localhost:8080/",
          "height": 111
        },
        "id": "pfvn_E40NwAJ",
        "outputId": "deca349f-fe89-43d9-cac7-c0a3ad9234e9"
      },
      "source": [
        "df_prefeitos_2t = df_bu_2t[df_bu_2t.DS_CARGO_PERGUNTA.eq('Prefeito') & df_bu_2t.DS_TIPO_VOTAVEL.eq('Nominal')] \\\r\n",
        "                       [['CD_ELEICAO','DS_CARGO_PERGUNTA','SG_PARTIDO','NR_VOTAVEL','NM_VOTAVEL']] \\\r\n",
        "                         .drop_duplicates() \\\r\n",
        "                         .sort_values(['NR_VOTAVEL'])\r\n",
        "df_prefeitos_2t.columns = ['eleicao',\t'cargo',\t'numero', 'partido', 'candidato']\r\n",
        "df_prefeitos_2t"
      ],
      "execution_count": 116,
      "outputs": [
        {
          "output_type": "execute_result",
          "data": {
            "text/html": [
              "<div>\n",
              "<style scoped>\n",
              "    .dataframe tbody tr th:only-of-type {\n",
              "        vertical-align: middle;\n",
              "    }\n",
              "\n",
              "    .dataframe tbody tr th {\n",
              "        vertical-align: top;\n",
              "    }\n",
              "\n",
              "    .dataframe thead th {\n",
              "        text-align: right;\n",
              "    }\n",
              "</style>\n",
              "<table border=\"1\" class=\"dataframe\">\n",
              "  <thead>\n",
              "    <tr style=\"text-align: right;\">\n",
              "      <th></th>\n",
              "      <th>eleicao</th>\n",
              "      <th>cargo</th>\n",
              "      <th>numero</th>\n",
              "      <th>partido</th>\n",
              "      <th>candidato</th>\n",
              "    </tr>\n",
              "  </thead>\n",
              "  <tbody>\n",
              "    <tr>\n",
              "      <th>1</th>\n",
              "      <td>427</td>\n",
              "      <td>Prefeito</td>\n",
              "      <td>PODE</td>\n",
              "      <td>19</td>\n",
              "      <td>AMAZONINO MENDES</td>\n",
              "    </tr>\n",
              "    <tr>\n",
              "      <th>0</th>\n",
              "      <td>427</td>\n",
              "      <td>Prefeito</td>\n",
              "      <td>AVANTE</td>\n",
              "      <td>70</td>\n",
              "      <td>DAVID ALMEIDA</td>\n",
              "    </tr>\n",
              "  </tbody>\n",
              "</table>\n",
              "</div>"
            ],
            "text/plain": [
              "   eleicao     cargo  numero  partido         candidato\n",
              "1      427  Prefeito    PODE       19  AMAZONINO MENDES\n",
              "0      427  Prefeito  AVANTE       70     DAVID ALMEIDA"
            ]
          },
          "metadata": {
            "tags": []
          },
          "execution_count": 116
        }
      ]
    },
    {
      "cell_type": "code",
      "metadata": {
        "id": "BPWAoSRiNwAM",
        "colab": {
          "base_uri": "https://localhost:8080/"
        },
        "outputId": "886ef217-d75e-4b34-d5fc-6a2459fc8c4c"
      },
      "source": [
        "filename = '/content/datasets/prefeitos_2t.csv'\r\n",
        "df_prefeitos_2t.to_csv(filename)\r\n",
        "print(f'Candidatos a Prefeito (2o turno) gravados em \\'{filename}\\'')"
      ],
      "execution_count": 117,
      "outputs": [
        {
          "output_type": "stream",
          "text": [
            "Candidatos a Prefeito (2o turno) gravados em '/content/datasets/prefeitos_2t.csv'\n"
          ],
          "name": "stdout"
        }
      ]
    },
    {
      "cell_type": "markdown",
      "metadata": {
        "id": "oxgLlZtYV8kA"
      },
      "source": [
        "### Resultados para Prefeito (2o turno)"
      ]
    },
    {
      "cell_type": "code",
      "metadata": {
        "colab": {
          "base_uri": "https://localhost:8080/",
          "height": 419
        },
        "id": "RtKduUtlQ1np",
        "outputId": "ee7affce-0614-440e-f6f8-6aa7d01d692b"
      },
      "source": [
        "df_resultado_prefeito = df_bu_2t[df_bu_2t.DS_CARGO_PERGUNTA.eq('Prefeito')] \\\r\n",
        "    [['CD_ELEICAO',\t'NR_ZONA'\t,'NR_SECAO', 'NR_LOCAL_VOTACAO', 'DS_CARGO_PERGUNTA'\t,'NR_VOTAVEL',\t'QT_VOTOS']] \\\r\n",
        "    .sort_values(['NR_ZONA','NR_SECAO','NR_VOTAVEL'])\r\n",
        "df_resultado_prefeito.columns = ['eleicao',\t'zona',\t'secao', 'local',\t'cargo',\t'numero',\t'votos']    \r\n",
        "df_resultado_prefeito"
      ],
      "execution_count": 118,
      "outputs": [
        {
          "output_type": "execute_result",
          "data": {
            "text/html": [
              "<div>\n",
              "<style scoped>\n",
              "    .dataframe tbody tr th:only-of-type {\n",
              "        vertical-align: middle;\n",
              "    }\n",
              "\n",
              "    .dataframe tbody tr th {\n",
              "        vertical-align: top;\n",
              "    }\n",
              "\n",
              "    .dataframe thead th {\n",
              "        text-align: right;\n",
              "    }\n",
              "</style>\n",
              "<table border=\"1\" class=\"dataframe\">\n",
              "  <thead>\n",
              "    <tr style=\"text-align: right;\">\n",
              "      <th></th>\n",
              "      <th>eleicao</th>\n",
              "      <th>zona</th>\n",
              "      <th>secao</th>\n",
              "      <th>local</th>\n",
              "      <th>cargo</th>\n",
              "      <th>numero</th>\n",
              "      <th>votos</th>\n",
              "    </tr>\n",
              "  </thead>\n",
              "  <tbody>\n",
              "    <tr>\n",
              "      <th>1</th>\n",
              "      <td>427</td>\n",
              "      <td>1</td>\n",
              "      <td>640</td>\n",
              "      <td>2429</td>\n",
              "      <td>Prefeito</td>\n",
              "      <td>19</td>\n",
              "      <td>156</td>\n",
              "    </tr>\n",
              "    <tr>\n",
              "      <th>0</th>\n",
              "      <td>427</td>\n",
              "      <td>1</td>\n",
              "      <td>640</td>\n",
              "      <td>2429</td>\n",
              "      <td>Prefeito</td>\n",
              "      <td>70</td>\n",
              "      <td>135</td>\n",
              "    </tr>\n",
              "    <tr>\n",
              "      <th>3</th>\n",
              "      <td>427</td>\n",
              "      <td>1</td>\n",
              "      <td>640</td>\n",
              "      <td>2429</td>\n",
              "      <td>Prefeito</td>\n",
              "      <td>95</td>\n",
              "      <td>10</td>\n",
              "    </tr>\n",
              "    <tr>\n",
              "      <th>2</th>\n",
              "      <td>427</td>\n",
              "      <td>1</td>\n",
              "      <td>640</td>\n",
              "      <td>2429</td>\n",
              "      <td>Prefeito</td>\n",
              "      <td>96</td>\n",
              "      <td>29</td>\n",
              "    </tr>\n",
              "    <tr>\n",
              "      <th>4</th>\n",
              "      <td>427</td>\n",
              "      <td>1</td>\n",
              "      <td>641</td>\n",
              "      <td>2089</td>\n",
              "      <td>Prefeito</td>\n",
              "      <td>19</td>\n",
              "      <td>153</td>\n",
              "    </tr>\n",
              "    <tr>\n",
              "      <th>...</th>\n",
              "      <td>...</td>\n",
              "      <td>...</td>\n",
              "      <td>...</td>\n",
              "      <td>...</td>\n",
              "      <td>...</td>\n",
              "      <td>...</td>\n",
              "      <td>...</td>\n",
              "    </tr>\n",
              "    <tr>\n",
              "      <th>13471</th>\n",
              "      <td>427</td>\n",
              "      <td>70</td>\n",
              "      <td>806</td>\n",
              "      <td>2089</td>\n",
              "      <td>Prefeito</td>\n",
              "      <td>96</td>\n",
              "      <td>16</td>\n",
              "    </tr>\n",
              "    <tr>\n",
              "      <th>13476</th>\n",
              "      <td>427</td>\n",
              "      <td>70</td>\n",
              "      <td>808</td>\n",
              "      <td>1848</td>\n",
              "      <td>Prefeito</td>\n",
              "      <td>19</td>\n",
              "      <td>68</td>\n",
              "    </tr>\n",
              "    <tr>\n",
              "      <th>13473</th>\n",
              "      <td>427</td>\n",
              "      <td>70</td>\n",
              "      <td>808</td>\n",
              "      <td>1848</td>\n",
              "      <td>Prefeito</td>\n",
              "      <td>70</td>\n",
              "      <td>122</td>\n",
              "    </tr>\n",
              "    <tr>\n",
              "      <th>13475</th>\n",
              "      <td>427</td>\n",
              "      <td>70</td>\n",
              "      <td>808</td>\n",
              "      <td>1848</td>\n",
              "      <td>Prefeito</td>\n",
              "      <td>95</td>\n",
              "      <td>11</td>\n",
              "    </tr>\n",
              "    <tr>\n",
              "      <th>13474</th>\n",
              "      <td>427</td>\n",
              "      <td>70</td>\n",
              "      <td>808</td>\n",
              "      <td>1848</td>\n",
              "      <td>Prefeito</td>\n",
              "      <td>96</td>\n",
              "      <td>14</td>\n",
              "    </tr>\n",
              "  </tbody>\n",
              "</table>\n",
              "<p>13477 rows × 7 columns</p>\n",
              "</div>"
            ],
            "text/plain": [
              "       eleicao  zona  secao  local     cargo  numero  votos\n",
              "1          427     1    640   2429  Prefeito      19    156\n",
              "0          427     1    640   2429  Prefeito      70    135\n",
              "3          427     1    640   2429  Prefeito      95     10\n",
              "2          427     1    640   2429  Prefeito      96     29\n",
              "4          427     1    641   2089  Prefeito      19    153\n",
              "...        ...   ...    ...    ...       ...     ...    ...\n",
              "13471      427    70    806   2089  Prefeito      96     16\n",
              "13476      427    70    808   1848  Prefeito      19     68\n",
              "13473      427    70    808   1848  Prefeito      70    122\n",
              "13475      427    70    808   1848  Prefeito      95     11\n",
              "13474      427    70    808   1848  Prefeito      96     14\n",
              "\n",
              "[13477 rows x 7 columns]"
            ]
          },
          "metadata": {
            "tags": []
          },
          "execution_count": 118
        }
      ]
    },
    {
      "cell_type": "code",
      "metadata": {
        "colab": {
          "base_uri": "https://localhost:8080/"
        },
        "id": "hcoOVtBcQ1nr",
        "outputId": "eb4475a4-1564-48e7-a92d-63f2b54c9f9c"
      },
      "source": [
        "filename = '/content/datasets/resultados_prefeito_2t.csv'\r\n",
        "df_resultado_prefeito.to_csv(filename)\r\n",
        "print(f'Resultado da votação para Prefeito (2o turno) gravado em \\'{filename}\\'')"
      ],
      "execution_count": 119,
      "outputs": [
        {
          "output_type": "stream",
          "text": [
            "Resultado da votação para Prefeito (2o turno) gravado em '/content/datasets/resultados_prefeito_2t.csv'\n"
          ],
          "name": "stdout"
        }
      ]
    },
    {
      "cell_type": "markdown",
      "metadata": {
        "id": "Qn_l17w9Uueg"
      },
      "source": [
        "### Eleições"
      ]
    },
    {
      "cell_type": "code",
      "metadata": {
        "colab": {
          "base_uri": "https://localhost:8080/",
          "height": 111
        },
        "id": "gKa542xoDyH3",
        "outputId": "6724f6bf-45f3-41f5-95c7-eaf459646041"
      },
      "source": [
        "df1 = df_bu_1t[['ANO_ELEICAO',\t'NM_TIPO_ELEICAO',\t'CD_PLEITO',\t'DT_PLEITO', 'NR_TURNO',\t'CD_ELEICAO',\t'DS_ELEICAO']] \\\r\n",
        "               .drop_duplicates()\r\n",
        "df2 = df_bu_2t[['ANO_ELEICAO',\t'NM_TIPO_ELEICAO',\t'CD_PLEITO',\t'DT_PLEITO', 'NR_TURNO',\t'CD_ELEICAO',\t'DS_ELEICAO']] \\\r\n",
        "               .drop_duplicates()\r\n",
        "df_eleicao = df1.append(df2)\r\n",
        "df_eleicao.columns = ['ano', 'tipo', 'pleito', 'data', 'turno', 'eleicao', 'descricao']\r\n",
        "df_eleicao"
      ],
      "execution_count": 120,
      "outputs": [
        {
          "output_type": "execute_result",
          "data": {
            "text/html": [
              "<div>\n",
              "<style scoped>\n",
              "    .dataframe tbody tr th:only-of-type {\n",
              "        vertical-align: middle;\n",
              "    }\n",
              "\n",
              "    .dataframe tbody tr th {\n",
              "        vertical-align: top;\n",
              "    }\n",
              "\n",
              "    .dataframe thead th {\n",
              "        text-align: right;\n",
              "    }\n",
              "</style>\n",
              "<table border=\"1\" class=\"dataframe\">\n",
              "  <thead>\n",
              "    <tr style=\"text-align: right;\">\n",
              "      <th></th>\n",
              "      <th>ano</th>\n",
              "      <th>tipo</th>\n",
              "      <th>pleito</th>\n",
              "      <th>data</th>\n",
              "      <th>turno</th>\n",
              "      <th>eleicao</th>\n",
              "      <th>descricao</th>\n",
              "    </tr>\n",
              "  </thead>\n",
              "  <tbody>\n",
              "    <tr>\n",
              "      <th>0</th>\n",
              "      <td>2020</td>\n",
              "      <td>Eleição Ordinária</td>\n",
              "      <td>304</td>\n",
              "      <td>15/11/2020</td>\n",
              "      <td>1</td>\n",
              "      <td>426</td>\n",
              "      <td>Eleições Municipais 2020</td>\n",
              "    </tr>\n",
              "    <tr>\n",
              "      <th>0</th>\n",
              "      <td>2020</td>\n",
              "      <td>Eleição Ordinária</td>\n",
              "      <td>305</td>\n",
              "      <td>29/11/2020</td>\n",
              "      <td>2</td>\n",
              "      <td>427</td>\n",
              "      <td>Eleições Municipais 2020</td>\n",
              "    </tr>\n",
              "  </tbody>\n",
              "</table>\n",
              "</div>"
            ],
            "text/plain": [
              "    ano               tipo  pleito  ... turno  eleicao                 descricao\n",
              "0  2020  Eleição Ordinária     304  ...     1      426  Eleições Municipais 2020\n",
              "0  2020  Eleição Ordinária     305  ...     2      427  Eleições Municipais 2020\n",
              "\n",
              "[2 rows x 7 columns]"
            ]
          },
          "metadata": {
            "tags": []
          },
          "execution_count": 120
        }
      ]
    },
    {
      "cell_type": "code",
      "metadata": {
        "id": "P3n-XGLJH3o1",
        "colab": {
          "base_uri": "https://localhost:8080/"
        },
        "outputId": "312a939a-07b8-4f54-b726-d2e798e425b1"
      },
      "source": [
        "filename = '/content/datasets/eleicoes.csv'\r\n",
        "df_resultado_prefeito.to_csv(filename)\r\n",
        "print(f'Eleições gravadas em \\'{filename}\\'')"
      ],
      "execution_count": 121,
      "outputs": [
        {
          "output_type": "stream",
          "text": [
            "Eleições gravadas em '/content/datasets/eleicoes.csv'\n"
          ],
          "name": "stdout"
        }
      ]
    },
    {
      "cell_type": "markdown",
      "metadata": {
        "id": "Ade6pKH4YNl7"
      },
      "source": [
        "### Limpeza do diretório de trabalho"
      ]
    },
    {
      "cell_type": "code",
      "metadata": {
        "id": "y5GrxzsF_PmK"
      },
      "source": [
        "# Limpeza do diretório temporário de trabalho\r\n",
        "!rm -rf /content/work/*"
      ],
      "execution_count": 122,
      "outputs": []
    },
    {
      "cell_type": "markdown",
      "metadata": {
        "id": "XdgrWdy0dNpV"
      },
      "source": [
        "## Locais de votação"
      ]
    },
    {
      "cell_type": "code",
      "metadata": {
        "colab": {
          "base_uri": "https://localhost:8080/"
        },
        "id": "8T-47YHTdKhA",
        "outputId": "0df59c69-407e-47a4-f695-da029cec36cd"
      },
      "source": [
        "# detalhes das seções\r\n",
        "!unzip -u detalhe_votacao_secao_2020.zip -d /content/work"
      ],
      "execution_count": 123,
      "outputs": [
        {
          "output_type": "stream",
          "text": [
            "Archive:  detalhe_votacao_secao_2020.zip\n",
            "  inflating: /content/work/detalhe_votacao_secao_2020_AC.csv  \n",
            "  inflating: /content/work/detalhe_votacao_secao_2020_AL.csv  \n",
            "  inflating: /content/work/detalhe_votacao_secao_2020_AM.csv  \n",
            "  inflating: /content/work/detalhe_votacao_secao_2020_AP.csv  \n",
            "  inflating: /content/work/detalhe_votacao_secao_2020_BA.csv  \n",
            "  inflating: /content/work/detalhe_votacao_secao_2020_BRASIL.csv  \n",
            "  inflating: /content/work/detalhe_votacao_secao_2020_CE.csv  \n",
            "  inflating: /content/work/detalhe_votacao_secao_2020_ES.csv  \n",
            "  inflating: /content/work/detalhe_votacao_secao_2020_GO.csv  \n",
            "  inflating: /content/work/detalhe_votacao_secao_2020_MA.csv  \n",
            "  inflating: /content/work/detalhe_votacao_secao_2020_MG.csv  \n",
            "  inflating: /content/work/detalhe_votacao_secao_2020_MS.csv  \n",
            "  inflating: /content/work/detalhe_votacao_secao_2020_MT.csv  \n",
            "  inflating: /content/work/detalhe_votacao_secao_2020_PA.csv  \n",
            "  inflating: /content/work/detalhe_votacao_secao_2020_PB.csv  \n",
            "  inflating: /content/work/detalhe_votacao_secao_2020_PE.csv  \n",
            "  inflating: /content/work/detalhe_votacao_secao_2020_PI.csv  \n",
            "  inflating: /content/work/detalhe_votacao_secao_2020_PR.csv  \n",
            "  inflating: /content/work/detalhe_votacao_secao_2020_RJ.csv  \n",
            "  inflating: /content/work/detalhe_votacao_secao_2020_RN.csv  \n",
            "  inflating: /content/work/detalhe_votacao_secao_2020_RO.csv  \n",
            "  inflating: /content/work/detalhe_votacao_secao_2020_RR.csv  \n",
            "  inflating: /content/work/detalhe_votacao_secao_2020_RS.csv  \n",
            "  inflating: /content/work/detalhe_votacao_secao_2020_SC.csv  \n",
            "  inflating: /content/work/detalhe_votacao_secao_2020_SE.csv  \n",
            "  inflating: /content/work/detalhe_votacao_secao_2020_SP.csv  \n",
            "  inflating: /content/work/detalhe_votacao_secao_2020_TO.csv  \n",
            "  inflating: /content/work/leiame.pdf  \n"
          ],
          "name": "stdout"
        }
      ]
    },
    {
      "cell_type": "code",
      "metadata": {
        "colab": {
          "base_uri": "https://localhost:8080/",
          "height": 394
        },
        "id": "rG37vVrud518",
        "outputId": "23505651-bd05-41f5-d2e7-852bc61975f6"
      },
      "source": [
        "df_dvs = pd.read_csv('/content/work/detalhe_votacao_secao_2020_BRASIL.csv', encoding=\"ISO-8859-1\", delimiter=';')\r\n",
        "df_dvs.sample(5)"
      ],
      "execution_count": 124,
      "outputs": [
        {
          "output_type": "execute_result",
          "data": {
            "text/html": [
              "<div>\n",
              "<style scoped>\n",
              "    .dataframe tbody tr th:only-of-type {\n",
              "        vertical-align: middle;\n",
              "    }\n",
              "\n",
              "    .dataframe tbody tr th {\n",
              "        vertical-align: top;\n",
              "    }\n",
              "\n",
              "    .dataframe thead th {\n",
              "        text-align: right;\n",
              "    }\n",
              "</style>\n",
              "<table border=\"1\" class=\"dataframe\">\n",
              "  <thead>\n",
              "    <tr style=\"text-align: right;\">\n",
              "      <th></th>\n",
              "      <th>DT_GERACAO</th>\n",
              "      <th>HH_GERACAO</th>\n",
              "      <th>ANO_ELEICAO</th>\n",
              "      <th>CD_TIPO_ELEICAO</th>\n",
              "      <th>NM_TIPO_ELEICAO</th>\n",
              "      <th>NR_TURNO</th>\n",
              "      <th>CD_ELEICAO</th>\n",
              "      <th>DS_ELEICAO</th>\n",
              "      <th>DT_ELEICAO</th>\n",
              "      <th>TP_ABRANGENCIA</th>\n",
              "      <th>SG_UF</th>\n",
              "      <th>SG_UE</th>\n",
              "      <th>NM_UE</th>\n",
              "      <th>CD_MUNICIPIO</th>\n",
              "      <th>NM_MUNICIPIO</th>\n",
              "      <th>NR_ZONA</th>\n",
              "      <th>NR_SECAO</th>\n",
              "      <th>CD_CARGO</th>\n",
              "      <th>DS_CARGO</th>\n",
              "      <th>QT_APTOS</th>\n",
              "      <th>QT_COMPARECIMENTO</th>\n",
              "      <th>QT_ABSTENCOES</th>\n",
              "      <th>QT_VOTOS_NOMINAIS</th>\n",
              "      <th>QT_VOTOS_BRANCOS</th>\n",
              "      <th>QT_VOTOS_NULOS</th>\n",
              "      <th>QT_VOTOS_LEGENDA</th>\n",
              "      <th>QT_VOTOS_ANULADOS_APU_SEP</th>\n",
              "      <th>NR_LOCAL_VOTACAO</th>\n",
              "    </tr>\n",
              "  </thead>\n",
              "  <tbody>\n",
              "    <tr>\n",
              "      <th>889620</th>\n",
              "      <td>09/12/2020</td>\n",
              "      <td>15:29:43</td>\n",
              "      <td>2020</td>\n",
              "      <td>2</td>\n",
              "      <td>ELEIÇÃO ORDINÁRIA</td>\n",
              "      <td>2</td>\n",
              "      <td>427</td>\n",
              "      <td>ELEIÇÕES MUNICIPAIS 2020</td>\n",
              "      <td>29/11/2020</td>\n",
              "      <td>M</td>\n",
              "      <td>SP</td>\n",
              "      <td>71072</td>\n",
              "      <td>SÃO PAULO</td>\n",
              "      <td>71072</td>\n",
              "      <td>SÃO PAULO</td>\n",
              "      <td>260</td>\n",
              "      <td>360</td>\n",
              "      <td>11</td>\n",
              "      <td>PREFEITO</td>\n",
              "      <td>428</td>\n",
              "      <td>290</td>\n",
              "      <td>138</td>\n",
              "      <td>243</td>\n",
              "      <td>17</td>\n",
              "      <td>30</td>\n",
              "      <td>0</td>\n",
              "      <td>0</td>\n",
              "      <td>1295</td>\n",
              "    </tr>\n",
              "    <tr>\n",
              "      <th>804369</th>\n",
              "      <td>09/12/2020</td>\n",
              "      <td>15:29:43</td>\n",
              "      <td>2020</td>\n",
              "      <td>2</td>\n",
              "      <td>ELEIÇÃO ORDINÁRIA</td>\n",
              "      <td>1</td>\n",
              "      <td>426</td>\n",
              "      <td>ELEIÇÕES MUNICIPAIS 2020</td>\n",
              "      <td>15/11/2020</td>\n",
              "      <td>M</td>\n",
              "      <td>SP</td>\n",
              "      <td>70998</td>\n",
              "      <td>SÃO JOSÉ DOS CAMPOS</td>\n",
              "      <td>70998</td>\n",
              "      <td>SÃO JOSÉ DOS CAMPOS</td>\n",
              "      <td>412</td>\n",
              "      <td>264</td>\n",
              "      <td>13</td>\n",
              "      <td>VEREADOR</td>\n",
              "      <td>369</td>\n",
              "      <td>261</td>\n",
              "      <td>108</td>\n",
              "      <td>206</td>\n",
              "      <td>21</td>\n",
              "      <td>18</td>\n",
              "      <td>16</td>\n",
              "      <td>0</td>\n",
              "      <td>1520</td>\n",
              "    </tr>\n",
              "    <tr>\n",
              "      <th>732578</th>\n",
              "      <td>09/12/2020</td>\n",
              "      <td>15:29:43</td>\n",
              "      <td>2020</td>\n",
              "      <td>2</td>\n",
              "      <td>ELEIÇÃO ORDINÁRIA</td>\n",
              "      <td>1</td>\n",
              "      <td>426</td>\n",
              "      <td>ELEIÇÕES MUNICIPAIS 2020</td>\n",
              "      <td>15/11/2020</td>\n",
              "      <td>M</td>\n",
              "      <td>PR</td>\n",
              "      <td>78239</td>\n",
              "      <td>RIO NEGRO</td>\n",
              "      <td>78239</td>\n",
              "      <td>RIO NEGRO</td>\n",
              "      <td>11</td>\n",
              "      <td>95</td>\n",
              "      <td>13</td>\n",
              "      <td>VEREADOR</td>\n",
              "      <td>600</td>\n",
              "      <td>495</td>\n",
              "      <td>105</td>\n",
              "      <td>441</td>\n",
              "      <td>21</td>\n",
              "      <td>15</td>\n",
              "      <td>18</td>\n",
              "      <td>0</td>\n",
              "      <td>1066</td>\n",
              "    </tr>\n",
              "    <tr>\n",
              "      <th>760428</th>\n",
              "      <td>09/12/2020</td>\n",
              "      <td>15:29:43</td>\n",
              "      <td>2020</td>\n",
              "      <td>2</td>\n",
              "      <td>ELEIÇÃO ORDINÁRIA</td>\n",
              "      <td>1</td>\n",
              "      <td>426</td>\n",
              "      <td>ELEIÇÕES MUNICIPAIS 2020</td>\n",
              "      <td>15/11/2020</td>\n",
              "      <td>M</td>\n",
              "      <td>RJ</td>\n",
              "      <td>60011</td>\n",
              "      <td>RIO DE JANEIRO</td>\n",
              "      <td>60011</td>\n",
              "      <td>RIO DE JANEIRO</td>\n",
              "      <td>214</td>\n",
              "      <td>104</td>\n",
              "      <td>13</td>\n",
              "      <td>VEREADOR</td>\n",
              "      <td>391</td>\n",
              "      <td>241</td>\n",
              "      <td>150</td>\n",
              "      <td>177</td>\n",
              "      <td>23</td>\n",
              "      <td>22</td>\n",
              "      <td>19</td>\n",
              "      <td>0</td>\n",
              "      <td>1210</td>\n",
              "    </tr>\n",
              "    <tr>\n",
              "      <th>179937</th>\n",
              "      <td>09/12/2020</td>\n",
              "      <td>15:29:43</td>\n",
              "      <td>2020</td>\n",
              "      <td>2</td>\n",
              "      <td>ELEIÇÃO ORDINÁRIA</td>\n",
              "      <td>1</td>\n",
              "      <td>426</td>\n",
              "      <td>ELEIÇÕES MUNICIPAIS 2020</td>\n",
              "      <td>15/11/2020</td>\n",
              "      <td>M</td>\n",
              "      <td>BA</td>\n",
              "      <td>38830</td>\n",
              "      <td>SÃO FRANCISCO DO CONDE</td>\n",
              "      <td>38830</td>\n",
              "      <td>SÃO FRANCISCO DO CONDE</td>\n",
              "      <td>162</td>\n",
              "      <td>9</td>\n",
              "      <td>13</td>\n",
              "      <td>VEREADOR</td>\n",
              "      <td>369</td>\n",
              "      <td>336</td>\n",
              "      <td>33</td>\n",
              "      <td>320</td>\n",
              "      <td>2</td>\n",
              "      <td>7</td>\n",
              "      <td>7</td>\n",
              "      <td>0</td>\n",
              "      <td>1031</td>\n",
              "    </tr>\n",
              "  </tbody>\n",
              "</table>\n",
              "</div>"
            ],
            "text/plain": [
              "        DT_GERACAO HH_GERACAO  ...  QT_VOTOS_ANULADOS_APU_SEP  NR_LOCAL_VOTACAO\n",
              "889620  09/12/2020   15:29:43  ...                          0              1295\n",
              "804369  09/12/2020   15:29:43  ...                          0              1520\n",
              "732578  09/12/2020   15:29:43  ...                          0              1066\n",
              "760428  09/12/2020   15:29:43  ...                          0              1210\n",
              "179937  09/12/2020   15:29:43  ...                          0              1031\n",
              "\n",
              "[5 rows x 28 columns]"
            ]
          },
          "metadata": {
            "tags": []
          },
          "execution_count": 124
        }
      ]
    },
    {
      "cell_type": "code",
      "metadata": {
        "colab": {
          "base_uri": "https://localhost:8080/"
        },
        "id": "uBoVGaK-Yts4",
        "outputId": "8182516c-83e5-4708-801a-8f5b0cf2dda3"
      },
      "source": [
        "df_dvs.info()"
      ],
      "execution_count": 125,
      "outputs": [
        {
          "output_type": "stream",
          "text": [
            "<class 'pandas.core.frame.DataFrame'>\n",
            "RangeIndex: 897536 entries, 0 to 897535\n",
            "Data columns (total 28 columns):\n",
            " #   Column                     Non-Null Count   Dtype \n",
            "---  ------                     --------------   ----- \n",
            " 0   DT_GERACAO                 897536 non-null  object\n",
            " 1   HH_GERACAO                 897536 non-null  object\n",
            " 2   ANO_ELEICAO                897536 non-null  int64 \n",
            " 3   CD_TIPO_ELEICAO            897536 non-null  int64 \n",
            " 4   NM_TIPO_ELEICAO            897536 non-null  object\n",
            " 5   NR_TURNO                   897536 non-null  int64 \n",
            " 6   CD_ELEICAO                 897536 non-null  int64 \n",
            " 7   DS_ELEICAO                 897536 non-null  object\n",
            " 8   DT_ELEICAO                 897536 non-null  object\n",
            " 9   TP_ABRANGENCIA             897536 non-null  object\n",
            " 10  SG_UF                      897536 non-null  object\n",
            " 11  SG_UE                      897536 non-null  int64 \n",
            " 12  NM_UE                      897536 non-null  object\n",
            " 13  CD_MUNICIPIO               897536 non-null  int64 \n",
            " 14  NM_MUNICIPIO               897536 non-null  object\n",
            " 15  NR_ZONA                    897536 non-null  int64 \n",
            " 16  NR_SECAO                   897536 non-null  int64 \n",
            " 17  CD_CARGO                   897536 non-null  int64 \n",
            " 18  DS_CARGO                   897536 non-null  object\n",
            " 19  QT_APTOS                   897536 non-null  int64 \n",
            " 20  QT_COMPARECIMENTO          897536 non-null  int64 \n",
            " 21  QT_ABSTENCOES              897536 non-null  int64 \n",
            " 22  QT_VOTOS_NOMINAIS          897536 non-null  int64 \n",
            " 23  QT_VOTOS_BRANCOS           897536 non-null  int64 \n",
            " 24  QT_VOTOS_NULOS             897536 non-null  int64 \n",
            " 25  QT_VOTOS_LEGENDA           897536 non-null  int64 \n",
            " 26  QT_VOTOS_ANULADOS_APU_SEP  897536 non-null  int64 \n",
            " 27  NR_LOCAL_VOTACAO           897536 non-null  int64 \n",
            "dtypes: int64(18), object(10)\n",
            "memory usage: 191.7+ MB\n"
          ],
          "name": "stdout"
        }
      ]
    },
    {
      "cell_type": "markdown",
      "metadata": {
        "id": "JQAcWz_cW3CO"
      },
      "source": [
        "### Seções"
      ]
    },
    {
      "cell_type": "code",
      "metadata": {
        "colab": {
          "base_uri": "https://localhost:8080/",
          "height": 419
        },
        "id": "CunamIDBW2ve",
        "outputId": "a94c4de9-069a-4bfd-880f-725f680b24f5"
      },
      "source": [
        "df_secoes = df_dvs[df_dvs.NM_MUNICIPIO.eq('MANAUS')] \\\r\n",
        "                  [['CD_ELEICAO', 'NR_ZONA', 'NR_SECAO', 'NR_LOCAL_VOTACAO',\r\n",
        "                    'QT_APTOS',\t'QT_COMPARECIMENTO',\t'QT_ABSTENCOES']] \\\r\n",
        "                    .sort_values(['NR_ZONA', 'NR_SECAO', 'CD_ELEICAO']) \\\r\n",
        "                    .drop_duplicates()\r\n",
        "df_secoes.columns = ['eleicao', 'zona', 'secao', 'local','aptos','votos','absencoes']\r\n",
        "df_secoes"
      ],
      "execution_count": 126,
      "outputs": [
        {
          "output_type": "execute_result",
          "data": {
            "text/html": [
              "<div>\n",
              "<style scoped>\n",
              "    .dataframe tbody tr th:only-of-type {\n",
              "        vertical-align: middle;\n",
              "    }\n",
              "\n",
              "    .dataframe tbody tr th {\n",
              "        vertical-align: top;\n",
              "    }\n",
              "\n",
              "    .dataframe thead th {\n",
              "        text-align: right;\n",
              "    }\n",
              "</style>\n",
              "<table border=\"1\" class=\"dataframe\">\n",
              "  <thead>\n",
              "    <tr style=\"text-align: right;\">\n",
              "      <th></th>\n",
              "      <th>eleicao</th>\n",
              "      <th>zona</th>\n",
              "      <th>secao</th>\n",
              "      <th>local</th>\n",
              "      <th>aptos</th>\n",
              "      <th>votos</th>\n",
              "      <th>absencoes</th>\n",
              "    </tr>\n",
              "  </thead>\n",
              "  <tbody>\n",
              "    <tr>\n",
              "      <th>41373</th>\n",
              "      <td>426</td>\n",
              "      <td>1</td>\n",
              "      <td>640</td>\n",
              "      <td>2429</td>\n",
              "      <td>411</td>\n",
              "      <td>348</td>\n",
              "      <td>63</td>\n",
              "    </tr>\n",
              "    <tr>\n",
              "      <th>725917</th>\n",
              "      <td>427</td>\n",
              "      <td>1</td>\n",
              "      <td>640</td>\n",
              "      <td>2429</td>\n",
              "      <td>411</td>\n",
              "      <td>330</td>\n",
              "      <td>81</td>\n",
              "    </tr>\n",
              "    <tr>\n",
              "      <th>325496</th>\n",
              "      <td>426</td>\n",
              "      <td>1</td>\n",
              "      <td>641</td>\n",
              "      <td>2089</td>\n",
              "      <td>393</td>\n",
              "      <td>326</td>\n",
              "      <td>67</td>\n",
              "    </tr>\n",
              "    <tr>\n",
              "      <th>328669</th>\n",
              "      <td>427</td>\n",
              "      <td>1</td>\n",
              "      <td>641</td>\n",
              "      <td>2089</td>\n",
              "      <td>393</td>\n",
              "      <td>308</td>\n",
              "      <td>85</td>\n",
              "    </tr>\n",
              "    <tr>\n",
              "      <th>138660</th>\n",
              "      <td>426</td>\n",
              "      <td>1</td>\n",
              "      <td>642</td>\n",
              "      <td>2321</td>\n",
              "      <td>397</td>\n",
              "      <td>341</td>\n",
              "      <td>56</td>\n",
              "    </tr>\n",
              "    <tr>\n",
              "      <th>...</th>\n",
              "      <td>...</td>\n",
              "      <td>...</td>\n",
              "      <td>...</td>\n",
              "      <td>...</td>\n",
              "      <td>...</td>\n",
              "      <td>...</td>\n",
              "      <td>...</td>\n",
              "    </tr>\n",
              "    <tr>\n",
              "      <th>431441</th>\n",
              "      <td>427</td>\n",
              "      <td>70</td>\n",
              "      <td>805</td>\n",
              "      <td>2046</td>\n",
              "      <td>366</td>\n",
              "      <td>245</td>\n",
              "      <td>121</td>\n",
              "    </tr>\n",
              "    <tr>\n",
              "      <th>291560</th>\n",
              "      <td>426</td>\n",
              "      <td>70</td>\n",
              "      <td>806</td>\n",
              "      <td>2089</td>\n",
              "      <td>399</td>\n",
              "      <td>280</td>\n",
              "      <td>119</td>\n",
              "    </tr>\n",
              "    <tr>\n",
              "      <th>604720</th>\n",
              "      <td>427</td>\n",
              "      <td>70</td>\n",
              "      <td>806</td>\n",
              "      <td>2089</td>\n",
              "      <td>399</td>\n",
              "      <td>277</td>\n",
              "      <td>122</td>\n",
              "    </tr>\n",
              "    <tr>\n",
              "      <th>374725</th>\n",
              "      <td>426</td>\n",
              "      <td>70</td>\n",
              "      <td>808</td>\n",
              "      <td>1848</td>\n",
              "      <td>284</td>\n",
              "      <td>224</td>\n",
              "      <td>60</td>\n",
              "    </tr>\n",
              "    <tr>\n",
              "      <th>946</th>\n",
              "      <td>427</td>\n",
              "      <td>70</td>\n",
              "      <td>808</td>\n",
              "      <td>1848</td>\n",
              "      <td>284</td>\n",
              "      <td>215</td>\n",
              "      <td>69</td>\n",
              "    </tr>\n",
              "  </tbody>\n",
              "</table>\n",
              "<p>6742 rows × 7 columns</p>\n",
              "</div>"
            ],
            "text/plain": [
              "        eleicao  zona  secao  local  aptos  votos  absencoes\n",
              "41373       426     1    640   2429    411    348         63\n",
              "725917      427     1    640   2429    411    330         81\n",
              "325496      426     1    641   2089    393    326         67\n",
              "328669      427     1    641   2089    393    308         85\n",
              "138660      426     1    642   2321    397    341         56\n",
              "...         ...   ...    ...    ...    ...    ...        ...\n",
              "431441      427    70    805   2046    366    245        121\n",
              "291560      426    70    806   2089    399    280        119\n",
              "604720      427    70    806   2089    399    277        122\n",
              "374725      426    70    808   1848    284    224         60\n",
              "946         427    70    808   1848    284    215         69\n",
              "\n",
              "[6742 rows x 7 columns]"
            ]
          },
          "metadata": {
            "tags": []
          },
          "execution_count": 126
        }
      ]
    },
    {
      "cell_type": "code",
      "metadata": {
        "colab": {
          "base_uri": "https://localhost:8080/"
        },
        "id": "vSgK47leeJ7s",
        "outputId": "cf867d0e-558b-4e19-9d6b-b00ae7ef94fc"
      },
      "source": [
        "filename = '/content/datasets/secoes.csv'\r\n",
        "df_secoes.to_csv(filename)\r\n",
        "print(f'Seções eleitorais gravadas em \\'{filename}\\'')"
      ],
      "execution_count": 127,
      "outputs": [
        {
          "output_type": "stream",
          "text": [
            "Seções eleitorais gravadas em '/content/datasets/secoes.csv'\n"
          ],
          "name": "stdout"
        }
      ]
    },
    {
      "cell_type": "code",
      "metadata": {
        "colab": {
          "base_uri": "https://localhost:8080/",
          "height": 439
        },
        "id": "7Bp11RgUecYo",
        "outputId": "79f418f7-2212-46cd-c80c-c42662d9164e"
      },
      "source": [
        "dft_dvs = df_dvs[df_dvs.NM_MUNICIPIO.eq('MANAUS')] \\\r\n",
        "               [['CD_ELEICAO', 'NR_ZONA', 'NR_SECAO', 'NR_LOCAL_VOTACAO', 'DS_CARGO',\r\n",
        "                 'QT_APTOS', 'QT_COMPARECIMENTO', 'QT_ABSTENCOES',\r\n",
        "                 'QT_VOTOS_NOMINAIS',\t'QT_VOTOS_BRANCOS',\t'QT_VOTOS_NULOS', 'QT_VOTOS_LEGENDA']] \\\r\n",
        "                .sort_values(['CD_ELEICAO','NR_ZONA', 'NR_SECAO'])\r\n",
        "dft_dvs"
      ],
      "execution_count": 128,
      "outputs": [
        {
          "output_type": "execute_result",
          "data": {
            "text/html": [
              "<div>\n",
              "<style scoped>\n",
              "    .dataframe tbody tr th:only-of-type {\n",
              "        vertical-align: middle;\n",
              "    }\n",
              "\n",
              "    .dataframe tbody tr th {\n",
              "        vertical-align: top;\n",
              "    }\n",
              "\n",
              "    .dataframe thead th {\n",
              "        text-align: right;\n",
              "    }\n",
              "</style>\n",
              "<table border=\"1\" class=\"dataframe\">\n",
              "  <thead>\n",
              "    <tr style=\"text-align: right;\">\n",
              "      <th></th>\n",
              "      <th>CD_ELEICAO</th>\n",
              "      <th>NR_ZONA</th>\n",
              "      <th>NR_SECAO</th>\n",
              "      <th>NR_LOCAL_VOTACAO</th>\n",
              "      <th>DS_CARGO</th>\n",
              "      <th>QT_APTOS</th>\n",
              "      <th>QT_COMPARECIMENTO</th>\n",
              "      <th>QT_ABSTENCOES</th>\n",
              "      <th>QT_VOTOS_NOMINAIS</th>\n",
              "      <th>QT_VOTOS_BRANCOS</th>\n",
              "      <th>QT_VOTOS_NULOS</th>\n",
              "      <th>QT_VOTOS_LEGENDA</th>\n",
              "    </tr>\n",
              "  </thead>\n",
              "  <tbody>\n",
              "    <tr>\n",
              "      <th>41373</th>\n",
              "      <td>426</td>\n",
              "      <td>1</td>\n",
              "      <td>640</td>\n",
              "      <td>2429</td>\n",
              "      <td>PREFEITO</td>\n",
              "      <td>411</td>\n",
              "      <td>348</td>\n",
              "      <td>63</td>\n",
              "      <td>314</td>\n",
              "      <td>15</td>\n",
              "      <td>19</td>\n",
              "      <td>0</td>\n",
              "    </tr>\n",
              "    <tr>\n",
              "      <th>205055</th>\n",
              "      <td>426</td>\n",
              "      <td>1</td>\n",
              "      <td>640</td>\n",
              "      <td>2429</td>\n",
              "      <td>VEREADOR</td>\n",
              "      <td>411</td>\n",
              "      <td>348</td>\n",
              "      <td>63</td>\n",
              "      <td>302</td>\n",
              "      <td>19</td>\n",
              "      <td>16</td>\n",
              "      <td>11</td>\n",
              "    </tr>\n",
              "    <tr>\n",
              "      <th>325496</th>\n",
              "      <td>426</td>\n",
              "      <td>1</td>\n",
              "      <td>641</td>\n",
              "      <td>2089</td>\n",
              "      <td>PREFEITO</td>\n",
              "      <td>393</td>\n",
              "      <td>326</td>\n",
              "      <td>67</td>\n",
              "      <td>293</td>\n",
              "      <td>10</td>\n",
              "      <td>23</td>\n",
              "      <td>0</td>\n",
              "    </tr>\n",
              "    <tr>\n",
              "      <th>340194</th>\n",
              "      <td>426</td>\n",
              "      <td>1</td>\n",
              "      <td>641</td>\n",
              "      <td>2089</td>\n",
              "      <td>VEREADOR</td>\n",
              "      <td>393</td>\n",
              "      <td>326</td>\n",
              "      <td>67</td>\n",
              "      <td>292</td>\n",
              "      <td>11</td>\n",
              "      <td>13</td>\n",
              "      <td>10</td>\n",
              "    </tr>\n",
              "    <tr>\n",
              "      <th>138660</th>\n",
              "      <td>426</td>\n",
              "      <td>1</td>\n",
              "      <td>642</td>\n",
              "      <td>2321</td>\n",
              "      <td>VEREADOR</td>\n",
              "      <td>397</td>\n",
              "      <td>341</td>\n",
              "      <td>56</td>\n",
              "      <td>306</td>\n",
              "      <td>12</td>\n",
              "      <td>17</td>\n",
              "      <td>6</td>\n",
              "    </tr>\n",
              "    <tr>\n",
              "      <th>...</th>\n",
              "      <td>...</td>\n",
              "      <td>...</td>\n",
              "      <td>...</td>\n",
              "      <td>...</td>\n",
              "      <td>...</td>\n",
              "      <td>...</td>\n",
              "      <td>...</td>\n",
              "      <td>...</td>\n",
              "      <td>...</td>\n",
              "      <td>...</td>\n",
              "      <td>...</td>\n",
              "      <td>...</td>\n",
              "    </tr>\n",
              "    <tr>\n",
              "      <th>891487</th>\n",
              "      <td>427</td>\n",
              "      <td>70</td>\n",
              "      <td>803</td>\n",
              "      <td>2003</td>\n",
              "      <td>PREFEITO</td>\n",
              "      <td>275</td>\n",
              "      <td>188</td>\n",
              "      <td>87</td>\n",
              "      <td>170</td>\n",
              "      <td>12</td>\n",
              "      <td>6</td>\n",
              "      <td>0</td>\n",
              "    </tr>\n",
              "    <tr>\n",
              "      <th>624649</th>\n",
              "      <td>427</td>\n",
              "      <td>70</td>\n",
              "      <td>804</td>\n",
              "      <td>2038</td>\n",
              "      <td>PREFEITO</td>\n",
              "      <td>332</td>\n",
              "      <td>210</td>\n",
              "      <td>122</td>\n",
              "      <td>183</td>\n",
              "      <td>12</td>\n",
              "      <td>15</td>\n",
              "      <td>0</td>\n",
              "    </tr>\n",
              "    <tr>\n",
              "      <th>431441</th>\n",
              "      <td>427</td>\n",
              "      <td>70</td>\n",
              "      <td>805</td>\n",
              "      <td>2046</td>\n",
              "      <td>PREFEITO</td>\n",
              "      <td>366</td>\n",
              "      <td>245</td>\n",
              "      <td>121</td>\n",
              "      <td>216</td>\n",
              "      <td>13</td>\n",
              "      <td>16</td>\n",
              "      <td>0</td>\n",
              "    </tr>\n",
              "    <tr>\n",
              "      <th>604720</th>\n",
              "      <td>427</td>\n",
              "      <td>70</td>\n",
              "      <td>806</td>\n",
              "      <td>2089</td>\n",
              "      <td>PREFEITO</td>\n",
              "      <td>399</td>\n",
              "      <td>277</td>\n",
              "      <td>122</td>\n",
              "      <td>242</td>\n",
              "      <td>19</td>\n",
              "      <td>16</td>\n",
              "      <td>0</td>\n",
              "    </tr>\n",
              "    <tr>\n",
              "      <th>946</th>\n",
              "      <td>427</td>\n",
              "      <td>70</td>\n",
              "      <td>808</td>\n",
              "      <td>1848</td>\n",
              "      <td>PREFEITO</td>\n",
              "      <td>284</td>\n",
              "      <td>215</td>\n",
              "      <td>69</td>\n",
              "      <td>190</td>\n",
              "      <td>11</td>\n",
              "      <td>14</td>\n",
              "      <td>0</td>\n",
              "    </tr>\n",
              "  </tbody>\n",
              "</table>\n",
              "<p>10113 rows × 12 columns</p>\n",
              "</div>"
            ],
            "text/plain": [
              "        CD_ELEICAO  NR_ZONA  ...  QT_VOTOS_NULOS  QT_VOTOS_LEGENDA\n",
              "41373          426        1  ...              19                 0\n",
              "205055         426        1  ...              16                11\n",
              "325496         426        1  ...              23                 0\n",
              "340194         426        1  ...              13                10\n",
              "138660         426        1  ...              17                 6\n",
              "...            ...      ...  ...             ...               ...\n",
              "891487         427       70  ...               6                 0\n",
              "624649         427       70  ...              15                 0\n",
              "431441         427       70  ...              16                 0\n",
              "604720         427       70  ...              16                 0\n",
              "946            427       70  ...              14                 0\n",
              "\n",
              "[10113 rows x 12 columns]"
            ]
          },
          "metadata": {
            "tags": []
          },
          "execution_count": 128
        }
      ]
    },
    {
      "cell_type": "markdown",
      "metadata": {
        "id": "r9gUks6PLzlh"
      },
      "source": [
        "### Escolas"
      ]
    },
    {
      "cell_type": "code",
      "metadata": {
        "colab": {
          "base_uri": "https://localhost:8080/"
        },
        "id": "EUeQ-vN_L-9y",
        "outputId": "52e84e26-58e6-4393-fa0d-a90aa8b58cc5"
      },
      "source": [
        "# detalhes das seções\r\n",
        "!unzip -u eleitorado_local_votacao_2020.zip -d /content/work"
      ],
      "execution_count": 129,
      "outputs": [
        {
          "output_type": "stream",
          "text": [
            "Archive:  eleitorado_local_votacao_2020.zip\n",
            "  inflating: /content/work/LEIAME.pdf  \n",
            "  inflating: /content/work/eleitorado_local_votacao_2020.csv  \n"
          ],
          "name": "stdout"
        }
      ]
    },
    {
      "cell_type": "code",
      "metadata": {
        "colab": {
          "base_uri": "https://localhost:8080/"
        },
        "id": "kkLdMF1ZL-9z",
        "outputId": "36c8c797-6048-4ae1-f2fe-1ad33c055cca"
      },
      "source": [
        "df = pd.read_csv('/content/work/eleitorado_local_votacao_2020.csv', encoding=\"ISO-8859-1\", delimiter=';')\r\n",
        "df.info()"
      ],
      "execution_count": 130,
      "outputs": [
        {
          "output_type": "stream",
          "text": [
            "<class 'pandas.core.frame.DataFrame'>\n",
            "RangeIndex: 597429 entries, 0 to 597428\n",
            "Data columns (total 32 columns):\n",
            " #   Column                  Non-Null Count   Dtype  \n",
            "---  ------                  --------------   -----  \n",
            " 0   DT_GERACAO              597429 non-null  object \n",
            " 1   HH_GERACAO              597429 non-null  object \n",
            " 2   AA_ELEICAO              597429 non-null  int64  \n",
            " 3   DT_ELEICAO              597429 non-null  object \n",
            " 4   DS_ELEICAO              597429 non-null  object \n",
            " 5   SG_UF                   597429 non-null  object \n",
            " 6   CD_MUNICIPIO            597429 non-null  int64  \n",
            " 7   NM_MUNICIPIO            597429 non-null  object \n",
            " 8   NR_ZONA                 597429 non-null  int64  \n",
            " 9   NR_SECAO                597429 non-null  int64  \n",
            " 10  CD_TIPO_SECAO_AGREGADA  597429 non-null  int64  \n",
            " 11  DS_TIPO_SECAO_AGREGADA  597429 non-null  object \n",
            " 12  NR_LOCAL_VOTACAO        597429 non-null  int64  \n",
            " 13  NM_LOCAL_VOTACAO        597429 non-null  object \n",
            " 14  CD_TIPO_LOCAL           597429 non-null  int64  \n",
            " 15  DS_TIPO_LOCAL           597429 non-null  object \n",
            " 16  DS_ENDERECO             597429 non-null  object \n",
            " 17  NM_BAIRRO               597429 non-null  object \n",
            " 18  NR_CEP                  597429 non-null  int64  \n",
            " 19  NR_TELEFONE_LOCAL       597429 non-null  object \n",
            " 20  NR_LATITUDE             597429 non-null  float64\n",
            " 21  NR_LONGITUDE            597429 non-null  float64\n",
            " 22  CD_SITU_LOCAL_VOTACAO   597429 non-null  int64  \n",
            " 23  DS_SITU_LOCAL_VOTACAO   597429 non-null  object \n",
            " 24  CD_SITU_ZONA            597429 non-null  int64  \n",
            " 25  DS_SITU_ZONA            597429 non-null  object \n",
            " 26  CD_SITU_SECAO           597429 non-null  int64  \n",
            " 27  DS_SITU_SECAO           597429 non-null  object \n",
            " 28  CD_SITU_LOCALIDADE      597429 non-null  int64  \n",
            " 29  DS_SITU_LOCALIDADE      597429 non-null  object \n",
            " 30  QT_ELEITOR              597429 non-null  int64  \n",
            " 31  QT_ELEITOR_ELEICAO      597429 non-null  int64  \n",
            "dtypes: float64(2), int64(14), object(16)\n",
            "memory usage: 145.9+ MB\n"
          ],
          "name": "stdout"
        }
      ]
    },
    {
      "cell_type": "code",
      "metadata": {
        "colab": {
          "base_uri": "https://localhost:8080/",
          "height": 419
        },
        "id": "GGvv1A4SMkx3",
        "outputId": "5ae2969e-edb0-4b08-955c-df64ec2fcbe6"
      },
      "source": [
        "df_escolas = df[df.NM_MUNICIPIO.eq('MANAUS')] \\\r\n",
        "                  [['NR_ZONA', 'NR_SECAO', 'NR_LOCAL_VOTACAO', 'NM_LOCAL_VOTACAO',\r\n",
        "                    'NM_BAIRRO','NR_LATITUDE',\t'NR_LONGITUDE']] \\\r\n",
        "                    .sort_values(['NR_ZONA', 'NR_SECAO']) \\\r\n",
        "                    .drop_duplicates()\r\n",
        "df_escolas.columns = ['zona', 'secao', 'local', 'nome', 'bairro', 'lat','long']\r\n",
        "df_escolas"
      ],
      "execution_count": 131,
      "outputs": [
        {
          "output_type": "execute_result",
          "data": {
            "text/html": [
              "<div>\n",
              "<style scoped>\n",
              "    .dataframe tbody tr th:only-of-type {\n",
              "        vertical-align: middle;\n",
              "    }\n",
              "\n",
              "    .dataframe tbody tr th {\n",
              "        vertical-align: top;\n",
              "    }\n",
              "\n",
              "    .dataframe thead th {\n",
              "        text-align: right;\n",
              "    }\n",
              "</style>\n",
              "<table border=\"1\" class=\"dataframe\">\n",
              "  <thead>\n",
              "    <tr style=\"text-align: right;\">\n",
              "      <th></th>\n",
              "      <th>zona</th>\n",
              "      <th>secao</th>\n",
              "      <th>local</th>\n",
              "      <th>nome</th>\n",
              "      <th>bairro</th>\n",
              "      <th>lat</th>\n",
              "      <th>long</th>\n",
              "    </tr>\n",
              "  </thead>\n",
              "  <tbody>\n",
              "    <tr>\n",
              "      <th>3355</th>\n",
              "      <td>1</td>\n",
              "      <td>550</td>\n",
              "      <td>2291</td>\n",
              "      <td>E. M. PROF. WALDIR GARCIA</td>\n",
              "      <td>SAO GERALDO</td>\n",
              "      <td>-3.112827</td>\n",
              "      <td>-60.030421</td>\n",
              "    </tr>\n",
              "    <tr>\n",
              "      <th>366142</th>\n",
              "      <td>1</td>\n",
              "      <td>616</td>\n",
              "      <td>2399</td>\n",
              "      <td>E. E. RIBEIRO DA CUNHA</td>\n",
              "      <td>CENTRO</td>\n",
              "      <td>-3.123427</td>\n",
              "      <td>-60.023611</td>\n",
              "    </tr>\n",
              "    <tr>\n",
              "      <th>90957</th>\n",
              "      <td>1</td>\n",
              "      <td>640</td>\n",
              "      <td>2429</td>\n",
              "      <td>ESCOLA ESTADUAL CARVALHO LEAL (RECEBEU AS SEÇÕ...</td>\n",
              "      <td>CACHOEIRINHA</td>\n",
              "      <td>-1.000000</td>\n",
              "      <td>-1.000000</td>\n",
              "    </tr>\n",
              "    <tr>\n",
              "      <th>70444</th>\n",
              "      <td>1</td>\n",
              "      <td>641</td>\n",
              "      <td>2089</td>\n",
              "      <td>ESCOLA SUPERIOR DE CIENCIAS DA SAUDE - UEA</td>\n",
              "      <td>CACHOEIRINHA</td>\n",
              "      <td>-3.119252</td>\n",
              "      <td>-60.006131</td>\n",
              "    </tr>\n",
              "    <tr>\n",
              "      <th>179658</th>\n",
              "      <td>1</td>\n",
              "      <td>642</td>\n",
              "      <td>2321</td>\n",
              "      <td>E. E. MILBURGES BEZERRA DE ARAUJO</td>\n",
              "      <td>RAIZ</td>\n",
              "      <td>-3.123326</td>\n",
              "      <td>-59.995204</td>\n",
              "    </tr>\n",
              "    <tr>\n",
              "      <th>...</th>\n",
              "      <td>...</td>\n",
              "      <td>...</td>\n",
              "      <td>...</td>\n",
              "      <td>...</td>\n",
              "      <td>...</td>\n",
              "      <td>...</td>\n",
              "      <td>...</td>\n",
              "    </tr>\n",
              "    <tr>\n",
              "      <th>285905</th>\n",
              "      <td>70</td>\n",
              "      <td>816</td>\n",
              "      <td>2208</td>\n",
              "      <td>E. M. SOCIÓLOGO HERBERT JOSÉ SOUZA</td>\n",
              "      <td>NOVO ALEIXO</td>\n",
              "      <td>-1.000000</td>\n",
              "      <td>-1.000000</td>\n",
              "    </tr>\n",
              "    <tr>\n",
              "      <th>269250</th>\n",
              "      <td>70</td>\n",
              "      <td>817</td>\n",
              "      <td>2160</td>\n",
              "      <td>CMEI CALISTO PEREIRA CAVALCANTE</td>\n",
              "      <td>CIDADE DE DEUS</td>\n",
              "      <td>-1.000000</td>\n",
              "      <td>-1.000000</td>\n",
              "    </tr>\n",
              "    <tr>\n",
              "      <th>79432</th>\n",
              "      <td>70</td>\n",
              "      <td>819</td>\n",
              "      <td>2186</td>\n",
              "      <td>E. M. DR. ADERSON PEREIRA DUTRA</td>\n",
              "      <td>NOVO ALEIXO</td>\n",
              "      <td>-1.000000</td>\n",
              "      <td>-1.000000</td>\n",
              "    </tr>\n",
              "    <tr>\n",
              "      <th>74929</th>\n",
              "      <td>70</td>\n",
              "      <td>820</td>\n",
              "      <td>2216</td>\n",
              "      <td>CMEI SANTINA CASTRO PEREIRA</td>\n",
              "      <td>NOVO ALEIXO</td>\n",
              "      <td>-1.000000</td>\n",
              "      <td>-1.000000</td>\n",
              "    </tr>\n",
              "    <tr>\n",
              "      <th>271110</th>\n",
              "      <td>70</td>\n",
              "      <td>821</td>\n",
              "      <td>2100</td>\n",
              "      <td>CMEI - PROFª RITA FONSECA VELOSO</td>\n",
              "      <td>CIDADE DE DEUS</td>\n",
              "      <td>-1.000000</td>\n",
              "      <td>-1.000000</td>\n",
              "    </tr>\n",
              "  </tbody>\n",
              "</table>\n",
              "<p>3709 rows × 7 columns</p>\n",
              "</div>"
            ],
            "text/plain": [
              "        zona  secao  local  ...          bairro       lat       long\n",
              "3355       1    550   2291  ...     SAO GERALDO -3.112827 -60.030421\n",
              "366142     1    616   2399  ...          CENTRO -3.123427 -60.023611\n",
              "90957      1    640   2429  ...    CACHOEIRINHA -1.000000  -1.000000\n",
              "70444      1    641   2089  ...    CACHOEIRINHA -3.119252 -60.006131\n",
              "179658     1    642   2321  ...            RAIZ -3.123326 -59.995204\n",
              "...      ...    ...    ...  ...             ...       ...        ...\n",
              "285905    70    816   2208  ...     NOVO ALEIXO -1.000000  -1.000000\n",
              "269250    70    817   2160  ...  CIDADE DE DEUS -1.000000  -1.000000\n",
              "79432     70    819   2186  ...     NOVO ALEIXO -1.000000  -1.000000\n",
              "74929     70    820   2216  ...     NOVO ALEIXO -1.000000  -1.000000\n",
              "271110    70    821   2100  ...  CIDADE DE DEUS -1.000000  -1.000000\n",
              "\n",
              "[3709 rows x 7 columns]"
            ]
          },
          "metadata": {
            "tags": []
          },
          "execution_count": 131
        }
      ]
    },
    {
      "cell_type": "code",
      "metadata": {
        "colab": {
          "base_uri": "https://localhost:8080/"
        },
        "id": "1yUv9PNLN6wr",
        "outputId": "b8cad658-27bd-4f1d-c973-5fd9ee532712"
      },
      "source": [
        "filename = '/content/datasets/escolas.csv'\r\n",
        "df_escolas.to_csv(filename)\r\n",
        "print(f'Escolas gravadas em \\'{filename}\\'')"
      ],
      "execution_count": 132,
      "outputs": [
        {
          "output_type": "stream",
          "text": [
            "Escolas gravadas em '/content/datasets/escolas.csv'\n"
          ],
          "name": "stdout"
        }
      ]
    },
    {
      "cell_type": "code",
      "metadata": {
        "id": "3qRJ5A-9dfSr"
      },
      "source": [
        "# Limpeza do diretório temporário de trabalho\r\n",
        "!rm -rf /content/work/*"
      ],
      "execution_count": 133,
      "outputs": []
    },
    {
      "cell_type": "markdown",
      "metadata": {
        "id": "UGPE_eP6J9M_"
      },
      "source": [
        "## Perfil do Eleitorado\r\n",
        "perfil_eleitor_secao_2020_AM.zip"
      ]
    },
    {
      "cell_type": "code",
      "metadata": {
        "id": "Sy4Gt-mMKjBg"
      },
      "source": [
        "# perfil do eleitorado\r\n",
        "!unzip -u perfil_eleitor_secao_2020_AM.zip -d /content/work"
      ],
      "execution_count": null,
      "outputs": []
    },
    {
      "cell_type": "code",
      "metadata": {
        "id": "W9HTTyWxKjBz"
      },
      "source": [
        "df_perfil = pd.read_csv('/content/work/perfil_eleitor_secao_2020_AM.csv', encoding=\"ISO-8859-1\", delimiter=';')\r\n",
        "df_perfil.info()"
      ],
      "execution_count": null,
      "outputs": []
    },
    {
      "cell_type": "code",
      "metadata": {
        "colab": {
          "base_uri": "https://localhost:8080/",
          "height": 292
        },
        "id": "QfNAmbodLB8x",
        "outputId": "43be1dca-24dc-417c-e4b1-978f7a4ad424"
      },
      "source": [
        "df_perfil = df_perfil[df_perfil.NM_MUNICIPIO.eq('MANAUS')]\r\n",
        "df_perfil.head(5)"
      ],
      "execution_count": 9,
      "outputs": [
        {
          "output_type": "execute_result",
          "data": {
            "text/html": [
              "<div>\n",
              "<style scoped>\n",
              "    .dataframe tbody tr th:only-of-type {\n",
              "        vertical-align: middle;\n",
              "    }\n",
              "\n",
              "    .dataframe tbody tr th {\n",
              "        vertical-align: top;\n",
              "    }\n",
              "\n",
              "    .dataframe thead th {\n",
              "        text-align: right;\n",
              "    }\n",
              "</style>\n",
              "<table border=\"1\" class=\"dataframe\">\n",
              "  <thead>\n",
              "    <tr style=\"text-align: right;\">\n",
              "      <th></th>\n",
              "      <th>DT_GERACAO</th>\n",
              "      <th>HH_GERACAO</th>\n",
              "      <th>ANO_ELEICAO</th>\n",
              "      <th>SG_UF</th>\n",
              "      <th>CD_MUNICIPIO</th>\n",
              "      <th>NM_MUNICIPIO</th>\n",
              "      <th>CD_MUN_SIT_BIOMETRIA</th>\n",
              "      <th>DS_MUN_SIT_BIOMETRIA</th>\n",
              "      <th>NR_ZONA</th>\n",
              "      <th>NR_SECAO</th>\n",
              "      <th>CD_LOCAL_VOTACAO</th>\n",
              "      <th>CD_GENERO</th>\n",
              "      <th>DS_GENERO</th>\n",
              "      <th>CD_ESTADO_CIVIL</th>\n",
              "      <th>DS_ESTADO_CIVIL</th>\n",
              "      <th>CD_FAIXA_ETARIA</th>\n",
              "      <th>DS_FAIXA_ETARIA</th>\n",
              "      <th>CD_GRAU_ESCOLARIDADE</th>\n",
              "      <th>DS_GRAU_ESCOLARIDADE</th>\n",
              "      <th>QT_ELEITORES_PERFIL</th>\n",
              "      <th>QT_ELEITORES_BIOMETRIA</th>\n",
              "      <th>QT_ELEITORES_DEFICIENCIA</th>\n",
              "      <th>QT_ELEITORES_INC_NM_SOCIAL</th>\n",
              "    </tr>\n",
              "  </thead>\n",
              "  <tbody>\n",
              "    <tr>\n",
              "      <th>4039</th>\n",
              "      <td>01/08/2020</td>\n",
              "      <td>09:34:32</td>\n",
              "      <td>2020</td>\n",
              "      <td>AM</td>\n",
              "      <td>2550</td>\n",
              "      <td>MANAUS</td>\n",
              "      <td>0</td>\n",
              "      <td>Sem biometria</td>\n",
              "      <td>2</td>\n",
              "      <td>617</td>\n",
              "      <td>Ebc015012917371261</td>\n",
              "      <td>4</td>\n",
              "      <td>FEMININO</td>\n",
              "      <td>9</td>\n",
              "      <td>DIVORCIADO</td>\n",
              "      <td>5054</td>\n",
              "      <td>50 a 54 anos</td>\n",
              "      <td>8</td>\n",
              "      <td>SUPERIOR COMPLETO</td>\n",
              "      <td>1</td>\n",
              "      <td>1</td>\n",
              "      <td>0</td>\n",
              "      <td>0</td>\n",
              "    </tr>\n",
              "    <tr>\n",
              "      <th>4040</th>\n",
              "      <td>01/08/2020</td>\n",
              "      <td>09:34:32</td>\n",
              "      <td>2020</td>\n",
              "      <td>AM</td>\n",
              "      <td>2550</td>\n",
              "      <td>MANAUS</td>\n",
              "      <td>0</td>\n",
              "      <td>Sem biometria</td>\n",
              "      <td>2</td>\n",
              "      <td>617</td>\n",
              "      <td>Ebc015012917371261</td>\n",
              "      <td>4</td>\n",
              "      <td>FEMININO</td>\n",
              "      <td>9</td>\n",
              "      <td>DIVORCIADO</td>\n",
              "      <td>5559</td>\n",
              "      <td>55 a 59 anos</td>\n",
              "      <td>5</td>\n",
              "      <td>ENSINO MÉDIO INCOMPLETO</td>\n",
              "      <td>1</td>\n",
              "      <td>1</td>\n",
              "      <td>0</td>\n",
              "      <td>0</td>\n",
              "    </tr>\n",
              "    <tr>\n",
              "      <th>4041</th>\n",
              "      <td>01/08/2020</td>\n",
              "      <td>09:34:32</td>\n",
              "      <td>2020</td>\n",
              "      <td>AM</td>\n",
              "      <td>2550</td>\n",
              "      <td>MANAUS</td>\n",
              "      <td>0</td>\n",
              "      <td>Sem biometria</td>\n",
              "      <td>2</td>\n",
              "      <td>617</td>\n",
              "      <td>Ebc015012917371261</td>\n",
              "      <td>4</td>\n",
              "      <td>FEMININO</td>\n",
              "      <td>9</td>\n",
              "      <td>DIVORCIADO</td>\n",
              "      <td>5559</td>\n",
              "      <td>55 a 59 anos</td>\n",
              "      <td>8</td>\n",
              "      <td>SUPERIOR COMPLETO</td>\n",
              "      <td>1</td>\n",
              "      <td>1</td>\n",
              "      <td>0</td>\n",
              "      <td>0</td>\n",
              "    </tr>\n",
              "    <tr>\n",
              "      <th>4042</th>\n",
              "      <td>01/08/2020</td>\n",
              "      <td>09:34:32</td>\n",
              "      <td>2020</td>\n",
              "      <td>AM</td>\n",
              "      <td>2550</td>\n",
              "      <td>MANAUS</td>\n",
              "      <td>0</td>\n",
              "      <td>Sem biometria</td>\n",
              "      <td>2</td>\n",
              "      <td>617</td>\n",
              "      <td>Ebc015012917371261</td>\n",
              "      <td>4</td>\n",
              "      <td>FEMININO</td>\n",
              "      <td>9</td>\n",
              "      <td>DIVORCIADO</td>\n",
              "      <td>6569</td>\n",
              "      <td>65 a 69 anos</td>\n",
              "      <td>2</td>\n",
              "      <td>LÊ E ESCREVE</td>\n",
              "      <td>1</td>\n",
              "      <td>1</td>\n",
              "      <td>0</td>\n",
              "      <td>0</td>\n",
              "    </tr>\n",
              "    <tr>\n",
              "      <th>4043</th>\n",
              "      <td>01/08/2020</td>\n",
              "      <td>09:34:32</td>\n",
              "      <td>2020</td>\n",
              "      <td>AM</td>\n",
              "      <td>2550</td>\n",
              "      <td>MANAUS</td>\n",
              "      <td>0</td>\n",
              "      <td>Sem biometria</td>\n",
              "      <td>2</td>\n",
              "      <td>617</td>\n",
              "      <td>Ebc015012917371261</td>\n",
              "      <td>4</td>\n",
              "      <td>FEMININO</td>\n",
              "      <td>9</td>\n",
              "      <td>DIVORCIADO</td>\n",
              "      <td>6569</td>\n",
              "      <td>65 a 69 anos</td>\n",
              "      <td>8</td>\n",
              "      <td>SUPERIOR COMPLETO</td>\n",
              "      <td>1</td>\n",
              "      <td>1</td>\n",
              "      <td>0</td>\n",
              "      <td>0</td>\n",
              "    </tr>\n",
              "  </tbody>\n",
              "</table>\n",
              "</div>"
            ],
            "text/plain": [
              "      DT_GERACAO  ... QT_ELEITORES_INC_NM_SOCIAL\n",
              "4039  01/08/2020  ...                          0\n",
              "4040  01/08/2020  ...                          0\n",
              "4041  01/08/2020  ...                          0\n",
              "4042  01/08/2020  ...                          0\n",
              "4043  01/08/2020  ...                          0\n",
              "\n",
              "[5 rows x 23 columns]"
            ]
          },
          "metadata": {
            "tags": []
          },
          "execution_count": 9
        }
      ]
    },
    {
      "cell_type": "markdown",
      "metadata": {
        "id": "rP0PKraojnAO"
      },
      "source": [
        "# Carga"
      ]
    },
    {
      "cell_type": "code",
      "metadata": {
        "colab": {
          "base_uri": "https://localhost:8080/"
        },
        "id": "j5Q0aZ3tjsut",
        "outputId": "2a3b6687-4221-473d-b4f0-7a2199379ecd"
      },
      "source": [
        "%cd /content\r\n",
        "!tar -czvf eleicoes2020.tar.gz datasets/*"
      ],
      "execution_count": 134,
      "outputs": [
        {
          "output_type": "stream",
          "text": [
            "/content\n",
            "datasets/eleicoes.csv\n",
            "datasets/escolas.csv\n",
            "datasets/leiame-boletim_urna.pdf\n",
            "datasets/prefeitos_2t.csv\n",
            "datasets/prefeitos.csv\n",
            "datasets/resultados_prefeito_2t.csv\n",
            "datasets/resultados_prefeito.csv\n",
            "datasets/resultados_vereador.csv\n",
            "datasets/secoes.csv\n",
            "datasets/vereadores.csv\n"
          ],
          "name": "stdout"
        }
      ]
    },
    {
      "cell_type": "code",
      "metadata": {
        "id": "W7kH_5QklrbG"
      },
      "source": [
        "# sobrescreve o arquivo compartilhado: 1-1v_7xBem5VdYwFFaaNl2EKPLYaDadPa\r\n",
        "!cp eleicoes2020.tar.gz /content/gdrive/MyDrive/uea-data-science/04-data-processing/trabalho-final"
      ],
      "execution_count": 135,
      "outputs": []
    },
    {
      "cell_type": "code",
      "metadata": {
        "id": "FNDT_V1Ak8-e"
      },
      "source": [
        "# remove o diretório\r\n",
        "!rm -rf datasets"
      ],
      "execution_count": 136,
      "outputs": []
    },
    {
      "cell_type": "code",
      "metadata": {
        "colab": {
          "base_uri": "https://localhost:8080/"
        },
        "id": "4tZLXnkzleU6",
        "outputId": "5914a26d-fb1d-4737-f696-5f893aaf22d5"
      },
      "source": [
        "!tar -zxvf eleicoes2020.tar.gz"
      ],
      "execution_count": 137,
      "outputs": [
        {
          "output_type": "stream",
          "text": [
            "datasets/eleicoes.csv\n",
            "datasets/escolas.csv\n",
            "datasets/leiame-boletim_urna.pdf\n",
            "datasets/prefeitos_2t.csv\n",
            "datasets/prefeitos.csv\n",
            "datasets/resultados_prefeito_2t.csv\n",
            "datasets/resultados_prefeito.csv\n",
            "datasets/resultados_vereador.csv\n",
            "datasets/secoes.csv\n",
            "datasets/vereadores.csv\n"
          ],
          "name": "stdout"
        }
      ]
    }
  ]
}